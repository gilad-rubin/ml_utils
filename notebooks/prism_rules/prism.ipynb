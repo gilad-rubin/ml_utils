{
 "cells": [
  {
   "cell_type": "code",
   "execution_count": 18,
   "metadata": {},
   "outputs": [
    {
     "name": "stdout",
     "output_type": "stream",
     "text": [
      "The autoreload extension is already loaded. To reload it, use:\n",
      "  %reload_ext autoreload\n"
     ]
    }
   ],
   "source": [
    "%load_ext autoreload\n",
    "%autoreload 2"
   ]
  },
  {
   "cell_type": "code",
   "execution_count": 19,
   "metadata": {},
   "outputs": [],
   "source": [
    "import numpy as np\n",
    "import pandas as pd\n"
   ]
  },
  {
   "cell_type": "markdown",
   "metadata": {},
   "source": [
    "# Load Data"
   ]
  },
  {
   "cell_type": "code",
   "execution_count": 20,
   "metadata": {},
   "outputs": [],
   "source": [
    "df = pd.read_csv(\"../../data/AmesHousing.csv\")\n"
   ]
  },
  {
   "cell_type": "code",
   "execution_count": 21,
   "metadata": {},
   "outputs": [],
   "source": [
    "cat_cols = df.select_dtypes(include=[\"object\", \"category\"]).columns.tolist()\n"
   ]
  },
  {
   "cell_type": "code",
   "execution_count": 22,
   "metadata": {},
   "outputs": [],
   "source": [
    "k = 10000"
   ]
  },
  {
   "cell_type": "code",
   "execution_count": 23,
   "metadata": {},
   "outputs": [],
   "source": [
    "raw_y = df[\"SalePrice\"].copy()\n",
    "X = df.drop(\"SalePrice\", axis=1).copy()"
   ]
  },
  {
   "cell_type": "code",
   "execution_count": 24,
   "metadata": {},
   "outputs": [],
   "source": [
    "X = X.head(k)\n",
    "raw_y = raw_y.loc[X.index].copy()"
   ]
  },
  {
   "cell_type": "code",
   "execution_count": 25,
   "metadata": {},
   "outputs": [],
   "source": [
    "cat_cols = X.select_dtypes(include=[\"object\", \"category\"]).columns.tolist()"
   ]
  },
  {
   "cell_type": "code",
   "execution_count": 26,
   "metadata": {},
   "outputs": [],
   "source": [
    "y = (raw_y >= raw_y.quantile(0.5)).astype(int).copy()"
   ]
  },
  {
   "cell_type": "code",
   "execution_count": 27,
   "metadata": {},
   "outputs": [],
   "source": [
    "X[cat_cols] = X[cat_cols].astype(\"category\")"
   ]
  },
  {
   "cell_type": "markdown",
   "metadata": {},
   "source": [
    "# PRISM"
   ]
  },
  {
   "cell_type": "code",
   "execution_count": 28,
   "metadata": {},
   "outputs": [],
   "source": [
    "from prism import *"
   ]
  },
  {
   "cell_type": "code",
   "execution_count": 29,
   "metadata": {},
   "outputs": [],
   "source": [
    "%autoreload 2"
   ]
  },
  {
   "cell_type": "code",
   "execution_count": 30,
   "metadata": {},
   "outputs": [
    {
     "ename": "AttributeError",
     "evalue": "'PrismRules' object has no attribute 'create_rule_based_sparse_matrix'",
     "output_type": "error",
     "traceback": [
      "\u001b[1;31m---------------------------------------------------------------------------\u001b[0m",
      "\u001b[1;31mAttributeError\u001b[0m                            Traceback (most recent call last)",
      "File \u001b[1;32m<timed exec>:8\u001b[0m\n",
      "File \u001b[1;32mc:\\python_workspace\\ml_utils\\notebooks\\prism_rules\\prism.py:586\u001b[0m, in \u001b[0;36mPrismRules.find_rules\u001b[1;34m(self, X, y, rule_filter, max_depth, cat_cols)\u001b[0m\n\u001b[0;32m    582\u001b[0m informative_cols \u001b[38;5;241m=\u001b[39m [col \u001b[38;5;28;01mfor\u001b[39;00m col \u001b[38;5;129;01min\u001b[39;00m X\u001b[38;5;241m.\u001b[39mcolumns \u001b[38;5;28;01mif\u001b[39;00m \u001b[38;5;28mlen\u001b[39m(pd\u001b[38;5;241m.\u001b[39munique(X[col])) \u001b[38;5;241m>\u001b[39m \u001b[38;5;241m1\u001b[39m]\n\u001b[0;32m    584\u001b[0m X_encoded \u001b[38;5;241m=\u001b[39m \u001b[38;5;28mself\u001b[39m\u001b[38;5;241m.\u001b[39mencoder\u001b[38;5;241m.\u001b[39mfit_transform(X[informative_cols], y)\n\u001b[1;32m--> 586\u001b[0m \u001b[38;5;28mself\u001b[39m\u001b[38;5;241m.\u001b[39mX_sparse \u001b[38;5;241m=\u001b[39m \u001b[38;5;28;43mself\u001b[39;49m\u001b[38;5;241;43m.\u001b[39;49m\u001b[43mcreate_rule_based_sparse_matrix\u001b[49m(X_encoded, n_bins\u001b[38;5;241m=\u001b[39m\u001b[38;5;241m20\u001b[39m, encode\u001b[38;5;241m=\u001b[39m\u001b[38;5;124m'\u001b[39m\u001b[38;5;124monehot\u001b[39m\u001b[38;5;124m'\u001b[39m, strategy\u001b[38;5;241m=\u001b[39m\u001b[38;5;124m'\u001b[39m\u001b[38;5;124mquantile\u001b[39m\u001b[38;5;124m'\u001b[39m)\n\u001b[0;32m    587\u001b[0m \u001b[38;5;28mself\u001b[39m\u001b[38;5;241m.\u001b[39my \u001b[38;5;241m=\u001b[39m y\n",
      "\u001b[1;31mAttributeError\u001b[0m: 'PrismRules' object has no attribute 'create_rule_based_sparse_matrix'"
     ]
    }
   ],
   "source": [
    "%%time\n",
    "sorter = CategoricalSorter(scoring_function=woe_scoring_func)\n",
    "encoder = SortedOrdinalEncoder(sorter)\n",
    "bin_calculator = NBinsCalculator(strategy=FreedmanDiaconisStrategy(), max_bins=20)\n",
    "discretizer = PandasQCutDiscretizer(bin_calculator=bin_calculator)\n",
    "evaluator = BinaryRuleEvaluator(score_strategies=[WoEScore(), RecallScore(), PrecisionScore()])\n",
    "rule_filter = BinaryRuleFilter(min_recall=0.1)\n",
    "prism = PrismRules(encoder, discretizer, evaluator)\n",
    "rules = prism.find_rules(X, y, rule_filter, max_depth=3)"
   ]
  },
  {
   "cell_type": "code",
   "execution_count": 31,
   "metadata": {},
   "outputs": [
    {
     "data": {
      "text/plain": [
       "[(`Neighborhood` in ['StoneBr', 'NridgHt', 'GrnHill', 'NoRidge']),\n",
       " (`Neighborhood` in ['StoneBr', 'NridgHt', 'GrnHill', 'NoRidge']) and (`Lot Area` > 4800.0),\n",
       " (`Neighborhood` not in ['StoneBr', 'NridgHt', 'GrnHill', 'NoRidge']) and (`Overall Qual` > 7.0),\n",
       " (`Neighborhood` not in ['StoneBr', 'NridgHt', 'GrnHill', 'NoRidge']) and (`Overall Qual` > 7.0) and (`Exterior 2nd` not in ['Brk Cmn', 'AsbShng', 'AsphShn', 'Wd Sdng', 'MetalSd']),\n",
       " (`Neighborhood` not in ['StoneBr', 'NridgHt', 'GrnHill', 'NoRidge']) and (`Overall Qual` > 7.0) and (`Exterior 2nd` not in ['Brk Cmn', 'AsbShng', 'AsphShn', 'Wd Sdng', 'MetalSd']) and (`Mo Sold` > 2.0),\n",
       " (`Neighborhood` not in ['StoneBr', 'NridgHt', 'GrnHill', 'NoRidge']) and (`Overall Qual` <= 7.0) and (`Neighborhood` in ['Blmngtn', 'Gilbert', 'Veenker', 'Timber', 'StoneBr', 'NridgHt', 'GrnHill', 'NoRidge']),\n",
       " (`Neighborhood` not in ['StoneBr', 'NridgHt', 'GrnHill', 'NoRidge']) and (`Overall Qual` <= 7.0) and (`Neighborhood` in ['Blmngtn', 'Gilbert', 'Veenker', 'Timber', 'StoneBr', 'NridgHt', 'GrnHill', 'NoRidge']) and (`Open Porch SF` > 16.0),\n",
       " (`Neighborhood` not in ['StoneBr', 'NridgHt', 'GrnHill', 'NoRidge']) and (`Overall Qual` <= 7.0) and (`Neighborhood` in ['Blmngtn', 'Gilbert', 'Veenker', 'Timber', 'StoneBr', 'NridgHt', 'GrnHill', 'NoRidge']) and (`Open Porch SF` > 16.0) and (`Garage Yr Blt` > 1964.0),\n",
       " (`Neighborhood` not in ['StoneBr', 'NridgHt', 'GrnHill', 'NoRidge']) and (`Overall Qual` <= 7.0) and (`Neighborhood` not in ['Blmngtn', 'Gilbert', 'Veenker', 'Timber', 'StoneBr', 'NridgHt', 'GrnHill', 'NoRidge']) and (`Overall Qual` > 6.0),\n",
       " (`Neighborhood` not in ['StoneBr', 'NridgHt', 'GrnHill', 'NoRidge']) and (`Overall Qual` <= 7.0) and (`Neighborhood` not in ['Blmngtn', 'Gilbert', 'Veenker', 'Timber', 'StoneBr', 'NridgHt', 'GrnHill', 'NoRidge']) and (`Overall Qual` > 6.0) and (`Total Bsmt SF` > 1216.6000000000004),\n",
       " (`Neighborhood` not in ['StoneBr', 'NridgHt', 'GrnHill', 'NoRidge']) and (`Overall Qual` <= 7.0) and (`Neighborhood` not in ['Blmngtn', 'Gilbert', 'Veenker', 'Timber', 'StoneBr', 'NridgHt', 'GrnHill', 'NoRidge']) and (`Overall Qual` > 6.0) and (`Total Bsmt SF` > 1216.6000000000004) and (`Garage Type` not in ['CarPort', 'Detchd']),\n",
       " (`Neighborhood` not in ['StoneBr', 'NridgHt', 'GrnHill', 'NoRidge']) and (`Overall Qual` <= 7.0) and (`Neighborhood` not in ['Blmngtn', 'Gilbert', 'Veenker', 'Timber', 'StoneBr', 'NridgHt', 'GrnHill', 'NoRidge']) and (`Overall Qual` > 6.0) and (`Total Bsmt SF` <= 1216.6000000000004) and (`Lot Area` > 7936.7),\n",
       " (`Neighborhood` not in ['StoneBr', 'NridgHt', 'GrnHill', 'NoRidge']) and (`Overall Qual` <= 7.0) and (`Neighborhood` not in ['Blmngtn', 'Gilbert', 'Veenker', 'Timber', 'StoneBr', 'NridgHt', 'GrnHill', 'NoRidge']) and (`Overall Qual` > 6.0) and (`Total Bsmt SF` <= 1216.6000000000004) and (`Lot Area` > 7936.7) and (`Full Bath` > 1.0),\n",
       " (`Neighborhood` not in ['StoneBr', 'NridgHt', 'GrnHill', 'NoRidge']) and (`Overall Qual` <= 7.0) and (`Neighborhood` not in ['Blmngtn', 'Gilbert', 'Veenker', 'Timber', 'StoneBr', 'NridgHt', 'GrnHill', 'NoRidge']) and (`Overall Qual` <= 6.0) and (`Gr Liv Area` > 1680.0),\n",
       " (`Neighborhood` not in ['StoneBr', 'NridgHt', 'GrnHill', 'NoRidge']) and (`Overall Qual` <= 7.0) and (`Neighborhood` not in ['Blmngtn', 'Gilbert', 'Veenker', 'Timber', 'StoneBr', 'NridgHt', 'GrnHill', 'NoRidge']) and (`Overall Qual` <= 6.0) and (`Gr Liv Area` > 1680.0) and (`Lot Area` > 7000.0),\n",
       " (`Neighborhood` not in ['StoneBr', 'NridgHt', 'GrnHill', 'NoRidge']) and (`Overall Qual` <= 7.0) and (`Neighborhood` not in ['Blmngtn', 'Gilbert', 'Veenker', 'Timber', 'StoneBr', 'NridgHt', 'GrnHill', 'NoRidge']) and (`Overall Qual` <= 6.0) and (`Gr Liv Area` > 1680.0) and (`Lot Area` > 7000.0) and (`Bsmt Unf SF` <= 1473.6000000000004),\n",
       " (`Neighborhood` not in ['StoneBr', 'NridgHt', 'GrnHill', 'NoRidge']) and (`Overall Qual` <= 7.0) and (`Neighborhood` not in ['Blmngtn', 'Gilbert', 'Veenker', 'Timber', 'StoneBr', 'NridgHt', 'GrnHill', 'NoRidge']) and (`Overall Qual` <= 6.0) and (`Gr Liv Area` <= 1680.0) and (`Gr Liv Area` > 1327.6000000000001),\n",
       " (`Neighborhood` not in ['StoneBr', 'NridgHt', 'GrnHill', 'NoRidge']) and (`Overall Qual` <= 7.0) and (`Neighborhood` not in ['Blmngtn', 'Gilbert', 'Veenker', 'Timber', 'StoneBr', 'NridgHt', 'GrnHill', 'NoRidge']) and (`Overall Qual` <= 6.0) and (`Gr Liv Area` <= 1680.0) and (`Gr Liv Area` > 1327.6000000000001) and (`Central Air` in ['Y']),\n",
       " (`Neighborhood` not in ['StoneBr', 'NridgHt', 'GrnHill', 'NoRidge']) and (`Overall Qual` <= 7.0) and (`Neighborhood` not in ['Blmngtn', 'Gilbert', 'Veenker', 'Timber', 'StoneBr', 'NridgHt', 'GrnHill', 'NoRidge']) and (`Overall Qual` <= 6.0) and (`Gr Liv Area` <= 1680.0) and (`Gr Liv Area` > 1327.6000000000001) and (`Central Air` in ['Y']) and (`Total Bsmt SF` > 453.0)]"
      ]
     },
     "execution_count": 31,
     "metadata": {},
     "output_type": "execute_result"
    }
   ],
   "source": [
    "rules"
   ]
  },
  {
   "cell_type": "code",
   "execution_count": 32,
   "metadata": {},
   "outputs": [],
   "source": [
    "#remove redudant rules(`Overall Qual` <= 7.0) and (`Overall Qual` <= 6.0)\n",
    "#convert (`Overall Qual` <= 7.0) and (`Overall Qual` > 6.0) to (`Overall Qual` == 7.0)\n",
    "#convert a < 6 and a >= 3 to 3 <= a < 6"
   ]
  },
  {
   "cell_type": "code",
   "execution_count": 33,
   "metadata": {},
   "outputs": [],
   "source": [
    "#display chains - start with root\n",
    "# on the next one - the root should be the main rule with stats"
   ]
  },
  {
   "cell_type": "code",
   "execution_count": 34,
   "metadata": {},
   "outputs": [],
   "source": [
    "# add stats to the rules\n",
    "# add nice prints to rules"
   ]
  }
 ],
 "metadata": {
  "kernelspec": {
   "display_name": "ml-env",
   "language": "python",
   "name": "python3"
  },
  "language_info": {
   "codemirror_mode": {
    "name": "ipython",
    "version": 3
   },
   "file_extension": ".py",
   "mimetype": "text/x-python",
   "name": "python",
   "nbconvert_exporter": "python",
   "pygments_lexer": "ipython3",
   "version": "3.10.14"
  },
  "orig_nbformat": 4
 },
 "nbformat": 4,
 "nbformat_minor": 2
}
