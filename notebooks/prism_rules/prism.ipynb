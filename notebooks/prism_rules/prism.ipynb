{
 "cells": [
  {
   "cell_type": "code",
   "execution_count": 1,
   "metadata": {},
   "outputs": [],
   "source": [
    "%load_ext autoreload\n",
    "%autoreload 2"
   ]
  },
  {
   "cell_type": "code",
   "execution_count": 2,
   "metadata": {},
   "outputs": [],
   "source": [
    "import numpy as np\n",
    "import pandas as pd\n"
   ]
  },
  {
   "cell_type": "markdown",
   "metadata": {},
   "source": [
    "# Load Data"
   ]
  },
  {
   "cell_type": "code",
   "execution_count": 3,
   "metadata": {},
   "outputs": [],
   "source": [
    "df = pd.read_csv(\"../../data/AmesHousing.csv\")\n"
   ]
  },
  {
   "cell_type": "code",
   "execution_count": 4,
   "metadata": {},
   "outputs": [],
   "source": [
    "cat_cols = df.select_dtypes(include=[\"object\", \"category\"]).columns.tolist()\n"
   ]
  },
  {
   "cell_type": "code",
   "execution_count": 5,
   "metadata": {},
   "outputs": [],
   "source": [
    "k = 10000"
   ]
  },
  {
   "cell_type": "code",
   "execution_count": 6,
   "metadata": {},
   "outputs": [],
   "source": [
    "raw_y = df[\"SalePrice\"].copy()\n",
    "X = df.drop(\"SalePrice\", axis=1).copy()"
   ]
  },
  {
   "cell_type": "code",
   "execution_count": 7,
   "metadata": {},
   "outputs": [],
   "source": [
    "X = X.head(k)\n",
    "raw_y = raw_y.loc[X.index].copy()"
   ]
  },
  {
   "cell_type": "code",
   "execution_count": 8,
   "metadata": {},
   "outputs": [],
   "source": [
    "cat_cols = X.select_dtypes(include=[\"object\", \"category\"]).columns.tolist()"
   ]
  },
  {
   "cell_type": "code",
   "execution_count": 9,
   "metadata": {},
   "outputs": [],
   "source": [
    "y = (raw_y >= raw_y.quantile(0.5)).astype(int).copy()"
   ]
  },
  {
   "cell_type": "code",
   "execution_count": 10,
   "metadata": {},
   "outputs": [],
   "source": [
    "X[cat_cols] = X[cat_cols].astype(\"category\")"
   ]
  },
  {
   "cell_type": "markdown",
   "metadata": {},
   "source": [
    "# PRISM"
   ]
  },
  {
   "cell_type": "code",
   "execution_count": 11,
   "metadata": {},
   "outputs": [],
   "source": [
    "from prism import *"
   ]
  },
  {
   "cell_type": "code",
   "execution_count": 12,
   "metadata": {},
   "outputs": [],
   "source": [
    "%autoreload 2"
   ]
  },
  {
   "cell_type": "code",
   "execution_count": 13,
   "metadata": {},
   "outputs": [
    {
     "name": "stdout",
     "output_type": "stream",
     "text": [
      "Starting to find rules...\n",
      "Path: (`Neighborhood` > 23.0) with score: 4.532199021266578 0.19313593539703902 0.9896551724137931\n",
      "Path: (`Neighborhood` > 23.0) and (`Lot Area` > 4800.0) with score: 28.613951121782094 0.18506056527590847 1.0\n",
      "Path: (`Neighborhood` <= 23.0) and (`Overall Qual` > 7.0) with score: 3.8753199279059487 0.16689098250336473 0.9802371541501976\n",
      "Path: (`Neighborhood` <= 23.0) and (`Overall Qual` > 7.0) and (`Exterior 2nd` > 4.0) with score: 5.382975146030107 0.15074024226110364 0.9955555555555555\n",
      "Path: (`Neighborhood` <= 23.0) and (`Overall Qual` > 7.0) and (`Exterior 2nd` > 4.0) and (`Mo Sold` > 2.0) with score: 28.265038183178852 0.13055181695827725 1.0\n",
      "Path: (`Neighborhood` <= 23.0) and (`Overall Qual` <= 7.0) and (`Neighborhood` > 19.0) with score: 2.8709175071761557 0.14670255720053835 0.9478260869565217\n",
      "Path: (`Neighborhood` <= 23.0) and (`Overall Qual` <= 7.0) and (`Neighborhood` > 19.0) and (`Open Porch SF` > 16.0) with score: 3.9603131407393413 0.10901749663526245 0.9818181818181818\n",
      "Path: (`Neighborhood` <= 23.0) and (`Overall Qual` <= 7.0) and (`Neighborhood` > 19.0) and (`Open Porch SF` > 16.0) and (`Garage Yr Blt` > 1964.0) with score: 5.046502909408894 0.10767160161507403 0.9937888198757764\n",
      "Path: (`Neighborhood` <= 23.0) and (`Overall Qual` <= 7.0) and (`Neighborhood` <= 19.0) and (`Overall Qual` > 6.0) with score: 1.5890658094238626 0.24427994616419918 0.8344827586206897\n",
      "Path: (`Neighborhood` <= 23.0) and (`Overall Qual` <= 7.0) and (`Neighborhood` <= 19.0) and (`Overall Qual` > 6.0) and (`Total Bsmt SF` > 1216.6000000000004) with score: 3.6726310682875605 0.10901749663526245 0.9759036144578314\n",
      "Path: (`Neighborhood` <= 23.0) and (`Overall Qual` <= 7.0) and (`Neighborhood` <= 19.0) and (`Overall Qual` > 6.0) and (`Total Bsmt SF` > 1216.6000000000004) and (`Garage Type` > 1.0) with score: 4.33442771896343 0.10565275908479138 0.9874213836477987\n"
     ]
    }
   ],
   "source": [
    "%%time\n",
    "sorter = CategoricalSorter(scoring_function=woe_scoring_func)\n",
    "encoder = SortedOrdinalEncoder(sorter)\n",
    "bin_calculator = NBinsCalculator(strategy=FreedmanDiaconisStrategy(), max_bins=20)\n",
    "discretizer = PandasQCutDiscretizer(bin_calculator=bin_calculator)\n",
    "evaluator = BinaryRuleEvaluator(score_strategies=[WoEScore(), RecallScore(), PrecisionScore()])\n",
    "rule_filter = BinaryRuleFilter(min_recall=0.1)\n",
    "prism = PrismRules(encoder, discretizer, evaluator)\n",
    "rules = prism.find_rules(X, y, rule_filter, max_depth=3)"
   ]
  },
  {
   "cell_type": "code",
   "execution_count": null,
   "metadata": {},
   "outputs": [],
   "source": [
    "rules"
   ]
  },
  {
   "cell_type": "code",
   "execution_count": null,
   "metadata": {},
   "outputs": [],
   "source": [
    "#remove redudant rules(`Overall Qual` <= 7.0) and (`Overall Qual` <= 6.0)\n",
    "#convert (`Overall Qual` <= 7.0) and (`Overall Qual` > 6.0) to (`Overall Qual` == 7.0)\n",
    "#convert a < 6 and a >= 3 to 3 <= a < 6"
   ]
  },
  {
   "cell_type": "code",
   "execution_count": null,
   "metadata": {},
   "outputs": [],
   "source": [
    "#display chains - start with root\n",
    "# on the next one - the root should be the main rule with stats"
   ]
  },
  {
   "cell_type": "code",
   "execution_count": null,
   "metadata": {},
   "outputs": [],
   "source": [
    "# add stats to the rules\n",
    "# add nice prints to rules"
   ]
  }
 ],
 "metadata": {
  "kernelspec": {
   "display_name": "ml-env",
   "language": "python",
   "name": "python3"
  },
  "language_info": {
   "codemirror_mode": {
    "name": "ipython",
    "version": 3
   },
   "file_extension": ".py",
   "mimetype": "text/x-python",
   "name": "python",
   "nbconvert_exporter": "python",
   "pygments_lexer": "ipython3",
   "version": "3.10.14"
  },
  "orig_nbformat": 4
 },
 "nbformat": 4,
 "nbformat_minor": 2
}
