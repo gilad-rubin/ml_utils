{
 "cells": [
  {
   "cell_type": "code",
   "execution_count": 1,
   "metadata": {},
   "outputs": [],
   "source": [
    "%load_ext autoreload\n",
    "%autoreload 2"
   ]
  },
  {
   "cell_type": "code",
   "execution_count": 2,
   "metadata": {},
   "outputs": [],
   "source": [
    "import numpy as np\n",
    "import pandas as pd\n"
   ]
  },
  {
   "cell_type": "markdown",
   "metadata": {},
   "source": [
    "# Load Data"
   ]
  },
  {
   "cell_type": "code",
   "execution_count": 3,
   "metadata": {},
   "outputs": [],
   "source": [
    "df = pd.read_csv(\"../../data/AmesHousing.csv\")\n"
   ]
  },
  {
   "cell_type": "code",
   "execution_count": 4,
   "metadata": {},
   "outputs": [],
   "source": [
    "cat_cols = df.select_dtypes(include=[\"object\", \"category\"]).columns.tolist()\n"
   ]
  },
  {
   "cell_type": "code",
   "execution_count": 5,
   "metadata": {},
   "outputs": [],
   "source": [
    "k = 10000"
   ]
  },
  {
   "cell_type": "code",
   "execution_count": 6,
   "metadata": {},
   "outputs": [],
   "source": [
    "raw_y = df[\"SalePrice\"].copy()\n",
    "X = df.drop(\"SalePrice\", axis=1).copy()"
   ]
  },
  {
   "cell_type": "code",
   "execution_count": 7,
   "metadata": {},
   "outputs": [],
   "source": [
    "X = X.head(k)\n",
    "raw_y = raw_y.loc[X.index].copy()"
   ]
  },
  {
   "cell_type": "code",
   "execution_count": 8,
   "metadata": {},
   "outputs": [],
   "source": [
    "cat_cols = X.select_dtypes(include=[\"object\", \"category\"]).columns.tolist()"
   ]
  },
  {
   "cell_type": "code",
   "execution_count": 9,
   "metadata": {},
   "outputs": [],
   "source": [
    "y = (raw_y >= raw_y.quantile(0.5)).astype(int).copy()"
   ]
  },
  {
   "cell_type": "code",
   "execution_count": 10,
   "metadata": {},
   "outputs": [],
   "source": [
    "X[cat_cols] = X[cat_cols].astype(\"category\")"
   ]
  },
  {
   "cell_type": "markdown",
   "metadata": {},
   "source": [
    "# PRISM"
   ]
  },
  {
   "cell_type": "code",
   "execution_count": 11,
   "metadata": {},
   "outputs": [],
   "source": [
    "from prism import *"
   ]
  },
  {
   "cell_type": "code",
   "execution_count": null,
   "metadata": {},
   "outputs": [],
   "source": [
    "%autoreload 2"
   ]
  },
  {
   "cell_type": "code",
   "execution_count": 12,
   "metadata": {},
   "outputs": [
    {
     "name": "stdout",
     "output_type": "stream",
     "text": [
      "Starting to find rules...\n",
      "Evaluated 778 paths in 0.3189992904663086 seconds\n",
      "Path: (`Neighborhood` > 23.0) with score: 4.532199021266578 0.19313593539703902 0.9896551724137931\n",
      "Evaluated 498 paths in 0.47700023651123047 seconds\n",
      "Path: (`Neighborhood` > 23.0) and (`Lot Area` > 4800.0) with score: 28.613951121782094 0.18506056527590847 1.0\n",
      "Evaluated 485 paths in 0.6059997081756592 seconds\n",
      "Evaluated 0 paths in 0.581012487411499 seconds\n",
      "Evaluated 755 paths in 0.4620499610900879 seconds\n",
      "Path: (`Neighborhood` <= 23.0) and (`Overall Qual` > 7.0) with score: 3.8753199279059487 0.16689098250336473 0.9802371541501976\n",
      "Evaluated 440 paths in 0.6099941730499268 seconds\n",
      "Path: (`Neighborhood` <= 23.0) and (`Overall Qual` > 7.0) and (`Exterior 2nd` > 4.0) with score: 5.382975146030107 0.15074024226110364 0.9955555555555555\n",
      "Evaluated 404 paths in 0.8420026302337646 seconds\n",
      "Path: (`Neighborhood` <= 23.0) and (`Overall Qual` > 7.0) and (`Exterior 2nd` > 4.0) and (`Mo Sold` > 2.0) with score: 28.265038183178852 0.13055181695827725 1.0\n",
      "Evaluated 348 paths in 0.9830284118652344 seconds\n",
      "Evaluated 0 paths in 0.9185996055603027 seconds\n",
      "Evaluated 0 paths in 0.6779146194458008 seconds\n",
      "Evaluated 725 paths in 0.6199951171875 seconds\n",
      "Path: (`Neighborhood` <= 23.0) and (`Overall Qual` <= 7.0) and (`Neighborhood` > 19.0) with score: 2.8709175071761557 0.14670255720053835 0.9478260869565217\n",
      "Evaluated 401 paths in 0.7731525897979736 seconds\n",
      "Path: (`Neighborhood` <= 23.0) and (`Overall Qual` <= 7.0) and (`Neighborhood` > 19.0) and (`Open Porch SF` > 16.0) with score: 3.9603131407393413 0.10901749663526245 0.9818181818181818\n",
      "Evaluated 264 paths in 0.767092227935791 seconds\n",
      "Path: (`Neighborhood` <= 23.0) and (`Overall Qual` <= 7.0) and (`Neighborhood` > 19.0) and (`Open Porch SF` > 16.0) and (`Garage Yr Blt` > 1964.0) with score: 5.046502909408894 0.10767160161507403 0.9937888198757764\n",
      "Evaluated 254 paths in 1.0269081592559814 seconds\n",
      "Path: (`Neighborhood` <= 23.0) and (`Overall Qual` <= 7.0) and (`Neighborhood` > 19.0) and (`Open Porch SF` > 16.0) and (`Garage Yr Blt` > 1964.0) and (`1st Flr SF` > 665.45) with score: 28.053425829463833 0.10565275908479138 1.0\n",
      "Evaluated 241 paths in 1.4389982223510742 seconds\n",
      "Evaluated 0 paths in 1.2956151962280273 seconds\n",
      "Evaluated 0 paths in 1.2740199565887451 seconds\n",
      "Evaluated 0 paths in 0.950000524520874 seconds\n",
      "Evaluated 698 paths in 0.6620004177093506 seconds\n",
      "Path: (`Neighborhood` <= 23.0) and (`Overall Qual` <= 7.0) and (`Neighborhood` <= 19.0) and (`Overall Qual` > 6.0) with score: 1.5890658094238626 0.24427994616419918 0.8344827586206897\n",
      "Evaluated 558 paths in 0.9229083061218262 seconds\n",
      "Path: (`Neighborhood` <= 23.0) and (`Overall Qual` <= 7.0) and (`Neighborhood` <= 19.0) and (`Overall Qual` > 6.0) and (`Total Bsmt SF` > 1216.6000000000004) with score: 3.6726310682875605 0.10901749663526245 0.9759036144578314\n",
      "Evaluated 247 paths in 1.196054458618164 seconds\n",
      "Path: (`Neighborhood` <= 23.0) and (`Overall Qual` <= 7.0) and (`Neighborhood` <= 19.0) and (`Overall Qual` > 6.0) and (`Total Bsmt SF` > 1216.6000000000004) and (`Garage Type` > 1.0) with score: 4.33442771896343 0.10565275908479138 0.9874213836477987\n",
      "Evaluated 220 paths in 1.1083898544311523 seconds\n",
      "Path: (`Neighborhood` <= 23.0) and (`Overall Qual` <= 7.0) and (`Neighborhood` <= 19.0) and (`Overall Qual` > 6.0) and (`Total Bsmt SF` > 1216.6000000000004) and (`Garage Type` > 1.0) and (`Sale Type` > 0.0) with score: 5.027574899523375 0.10565275908479138 0.9936708860759493\n",
      "Evaluated 219 paths in 1.1729607582092285 seconds\n",
      "Evaluated 0 paths in 1.1310522556304932 seconds\n",
      "Evaluated 0 paths in 1.0491023063659668 seconds\n",
      "Evaluated 367 paths in 1.0040185451507568 seconds\n",
      "Path: (`Neighborhood` <= 23.0) and (`Overall Qual` <= 7.0) and (`Neighborhood` <= 19.0) and (`Overall Qual` > 6.0) and (`Total Bsmt SF` <= 1216.6000000000004) and (`Lot Area` > 7936.7) with score: 2.381272705489612 0.11238223418573351 0.9175824175824175\n",
      "Evaluated 273 paths in 1.2146992683410645 seconds\n",
      "Path: (`Neighborhood` <= 23.0) and (`Overall Qual` <= 7.0) and (`Neighborhood` <= 19.0) and (`Overall Qual` > 6.0) and (`Total Bsmt SF` <= 1216.6000000000004) and (`Lot Area` > 7936.7) and (`Full Bath` > 1.0) with score: 3.183515930892471 0.10026917900403769 0.9612903225806452\n",
      "Evaluated 141 paths in 1.4831187725067139 seconds\n",
      "Path: (`Neighborhood` <= 23.0) and (`Overall Qual` <= 7.0) and (`Neighborhood` <= 19.0) and (`Overall Qual` > 6.0) and (`Total Bsmt SF` <= 1216.6000000000004) and (`Lot Area` > 7936.7) and (`Full Bath` > 1.0) and (`Condition 2` > 0.0) with score: 3.365837487686426 0.10026917900403769 0.9675324675324676\n",
      "Evaluated 140 paths in 1.680753469467163 seconds\n",
      "Path: (`Neighborhood` <= 23.0) and (`Overall Qual` <= 7.0) and (`Neighborhood` <= 19.0) and (`Overall Qual` > 6.0) and (`Total Bsmt SF` <= 1216.6000000000004) and (`Lot Area` > 7936.7) and (`Full Bath` > 1.0) and (`Condition 2` > 0.0) and (`Foundation` > 0.0) with score: 3.5889810390006356 0.10026917900403769 0.9738562091503268\n",
      "Evaluated 0 paths in 1.5882782936096191 seconds\n",
      "Evaluated 0 paths in 2.142517328262329 seconds\n",
      "Evaluated 0 paths in 2.2209982872009277 seconds\n",
      "Evaluated 0 paths in 1.8431932926177979 seconds\n",
      "Evaluated 562 paths in 1.383002758026123 seconds\n",
      "Path: (`Neighborhood` <= 23.0) and (`Overall Qual` <= 7.0) and (`Neighborhood` <= 19.0) and (`Overall Qual` <= 6.0) and (`Gr Liv Area` > 1680.0) with score: 0.2947292492289272 0.10228802153432032 0.5801526717557252\n",
      "Evaluated 140 paths in 1.4786100387573242 seconds\n",
      "Path: (`Neighborhood` <= 23.0) and (`Overall Qual` <= 7.0) and (`Neighborhood` <= 19.0) and (`Overall Qual` <= 6.0) and (`Gr Liv Area` > 1680.0) and (`Lot Area` > 7000.0) with score: 0.4242607395221551 0.1016150740242261 0.611336032388664\n",
      "Evaluated 125 paths in 1.18638014793396 seconds\n",
      "Path: (`Neighborhood` <= 23.0) and (`Overall Qual` <= 7.0) and (`Neighborhood` <= 19.0) and (`Overall Qual` <= 6.0) and (`Gr Liv Area` > 1680.0) and (`Lot Area` > 7000.0) and (`Bsmt Unf SF` <= 1473.6000000000004) with score: 0.5209281038670184 0.10026917900403769 0.6340425531914894\n",
      "Evaluated 106 paths in 1.2711765766143799 seconds\n",
      "Path: (`Neighborhood` <= 23.0) and (`Overall Qual` <= 7.0) and (`Neighborhood` <= 19.0) and (`Overall Qual` <= 6.0) and (`Gr Liv Area` > 1680.0) and (`Lot Area` > 7000.0) and (`Bsmt Unf SF` <= 1473.6000000000004) and (`Electrical` > 0.0) with score: 0.568556152856273 0.10026917900403769 0.645021645021645\n",
      "Evaluated 105 paths in 1.2643437385559082 seconds\n",
      "Path: (`Neighborhood` <= 23.0) and (`Overall Qual` <= 7.0) and (`Neighborhood` <= 19.0) and (`Overall Qual` <= 6.0) and (`Gr Liv Area` > 1680.0) and (`Lot Area` > 7000.0) and (`Bsmt Unf SF` <= 1473.6000000000004) and (`Electrical` > 0.0) and (`Overall Cond` > 1.0) with score: 0.5808262454480875 0.10026917900403769 0.6478260869565218\n",
      "Evaluated 0 paths in 1.3612537384033203 seconds\n",
      "Evaluated 0 paths in 1.4169986248016357 seconds\n",
      "Evaluated 0 paths in 1.267028570175171 seconds\n",
      "Evaluated 0 paths in 0.9651288986206055 seconds\n",
      "Evaluated 375 paths in 0.8850774765014648 seconds\n",
      "Path: (`Neighborhood` <= 23.0) and (`Overall Qual` <= 7.0) and (`Neighborhood` <= 19.0) and (`Overall Qual` <= 6.0) and (`Gr Liv Area` <= 1680.0) and (`Gr Liv Area` > 1327.6000000000001) with score: -0.6946055228599934 0.10026917900403769 0.33940774487471526\n",
      "Evaluated 120 paths in 1.0281269550323486 seconds\n",
      "Path: (`Neighborhood` <= 23.0) and (`Overall Qual` <= 7.0) and (`Neighborhood` <= 19.0) and (`Overall Qual` <= 6.0) and (`Gr Liv Area` <= 1680.0) and (`Gr Liv Area` > 1327.6000000000001) and (`Central Air` > 0.0) with score: -0.5815526615790116 0.10026917900403769 0.36519607843137253\n",
      "Evaluated 119 paths in 1.180161476135254 seconds\n",
      "Path: (`Neighborhood` <= 23.0) and (`Overall Qual` <= 7.0) and (`Neighborhood` <= 19.0) and (`Overall Qual` <= 6.0) and (`Gr Liv Area` <= 1680.0) and (`Gr Liv Area` > 1327.6000000000001) and (`Central Air` > 0.0) and (`Total Bsmt SF` > 453.0) with score: -0.505363523221465 0.10026917900403769 0.38303341902313626\n",
      "Evaluated 118 paths in 1.900686264038086 seconds\n",
      "Path: (`Neighborhood` <= 23.0) and (`Overall Qual` <= 7.0) and (`Neighborhood` <= 19.0) and (`Overall Qual` <= 6.0) and (`Gr Liv Area` <= 1680.0) and (`Gr Liv Area` > 1327.6000000000001) and (`Central Air` > 0.0) and (`Total Bsmt SF` > 453.0) and (`Neighborhood` > 0.0) with score: -0.4363706517345136 0.10026917900403769 0.39946380697050937\n",
      "Evaluated 117 paths in 1.4021391868591309 seconds\n",
      "Path: (`Neighborhood` <= 23.0) and (`Overall Qual` <= 7.0) and (`Neighborhood` <= 19.0) and (`Overall Qual` <= 6.0) and (`Gr Liv Area` <= 1680.0) and (`Gr Liv Area` > 1327.6000000000001) and (`Central Air` > 0.0) and (`Total Bsmt SF` > 453.0) and (`Neighborhood` > 0.0) and (`Exterior 2nd` > 0.0) with score: -0.38601676558889897 0.10026917900403769 0.4116022099447514\n",
      "Evaluated 0 paths in 2.553947925567627 seconds\n",
      "Evaluated 0 paths in 2.0469155311584473 seconds\n",
      "Evaluated 0 paths in 2.7395145893096924 seconds\n",
      "Evaluated 0 paths in 1.5530436038970947 seconds\n",
      "Evaluated 0 paths in 1.6880378723144531 seconds\n",
      "Found 27 rules in 63.66789436340332 seconds\n"
     ]
    }
   ],
   "source": [
    "%%time\n",
    "sorter = CategoricalSorter(scoring_function=woe_scoring_func)\n",
    "encoder = SortedOrdinalEncoder(sorter)\n",
    "bin_calculator = NBinsCalculator(strategy=FreedmanDiaconisStrategy())\n",
    "discretizer = PandasQCutDiscretizer(bin_calculator=bin_calculator)\n",
    "evaluator = BinaryRuleEvaluator(score_strategies=[WoEScore(), RecallScore(), PrecisionScore()])\n",
    "rule_filter = BinaryRuleFilter(min_recall=0.1)\n",
    "prism = PrismRules(encoder, discretizer, evaluator)\n",
    "rules = prism.find_rules(X, y, rule_filter, max_depth=3)"
   ]
  },
  {
   "cell_type": "code",
   "execution_count": 15,
   "metadata": {},
   "outputs": [],
   "source": [
    "rules"
   ]
  },
  {
   "cell_type": "code",
   "execution_count": null,
   "metadata": {},
   "outputs": [],
   "source": [
    "#remove redudant rules(`Overall Qual` <= 7.0) and (`Overall Qual` <= 6.0)\n",
    "#convert (`Overall Qual` <= 7.0) and (`Overall Qual` > 6.0) to (`Overall Qual` == 7.0)\n",
    "#convert a < 6 and a >= 3 to 3 <= a < 6"
   ]
  },
  {
   "cell_type": "code",
   "execution_count": null,
   "metadata": {},
   "outputs": [],
   "source": [
    "#display chains - start with root\n",
    "# on the next one - the root should be the main rule with stats"
   ]
  },
  {
   "cell_type": "code",
   "execution_count": null,
   "metadata": {},
   "outputs": [],
   "source": [
    "# add stats to the rules\n",
    "# add nice prints to rules"
   ]
  }
 ],
 "metadata": {
  "kernelspec": {
   "display_name": "ml-env",
   "language": "python",
   "name": "python3"
  },
  "language_info": {
   "codemirror_mode": {
    "name": "ipython",
    "version": 3
   },
   "file_extension": ".py",
   "mimetype": "text/x-python",
   "name": "python",
   "nbconvert_exporter": "python",
   "pygments_lexer": "ipython3",
   "version": "3.10.14"
  },
  "orig_nbformat": 4
 },
 "nbformat": 4,
 "nbformat_minor": 2
}
