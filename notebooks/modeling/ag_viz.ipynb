{
 "cells": [
  {
   "cell_type": "code",
   "execution_count": 4,
   "metadata": {},
   "outputs": [],
   "source": [
    "from autogluon.tabular import TabularDataset, TabularPredictor\n",
    "from sklearn.model_selection import train_test_split\n",
    "import pandas as pd\n",
    "\n",
    "df = pd.read_csv(\"../../data/AmesHousing.csv\")\n",
    "# df = df.select_dtypes(include=\"number\")\n",
    "# df.dropna(inplace=True)\n",
    "# df[\"random_feature\"] = np.random.random(df.shape[0])\n",
    "# df[\"Overall Qual Noise\"] = df[\"Overall Qual\"] + (df[\"random_feature\"] * 0.0001)\n",
    "# Split the data\n",
    "test_size = 0.3\n",
    "label = \"SalePrice\"\n",
    "\n",
    "X_train, X_test, y_train, y_test = train_test_split(\n",
    "    df.drop(label, axis=1), df[label], test_size=test_size, random_state=42\n",
    ")"
   ]
  },
  {
   "cell_type": "code",
   "execution_count": 5,
   "metadata": {},
   "outputs": [],
   "source": [
    "import autogluon"
   ]
  },
  {
   "cell_type": "code",
   "execution_count": 6,
   "metadata": {},
   "outputs": [],
   "source": [
    "train_data = TabularDataset(X_train)\n",
    "train_data[label] = y_train\n",
    "test_data = TabularDataset(X_test)\n",
    "test_data[label] = y_test"
   ]
  },
  {
   "cell_type": "code",
   "execution_count": 108,
   "metadata": {},
   "outputs": [],
   "source": [
    "from autogluon.common import space\n",
    "import numpy as np\n",
    "\n",
    "nn_options = {  # specifies non-default hyperparameter values for neural network models\n",
    "    \"y_range\": (0, np.inf),\n",
    "    \"num_layers\": space.Categorical(3, 4), # 3, 4),\n",
    "    \"learning_rate\": space.Categorical(1e-2), #1e-2, 1e-3, 3e-3),\n",
    "    \"hidden_size\": space.Categorical(128, 256, 512),#, 64, 256, 512), #64, 128, 256, \n",
    "    \"max_batch_size\" : space.Categorical(128, 256, 512), #512\n",
    "    \"proc.embed_min_categories\" : 4,\n",
    "    \"dropout_prob\" : space.Categorical(0.01),\n",
    "    #'activation': space.Categorical('relu', 'softrelu', 'tanh'),  # activation function used in NN (categorical hyperparameter, default = first entry)\n",
    "    'use_batchnorm' : space.Categorical(False), #, True),  # activation function used in NN (categorical hyperparameter, default = first entry)\n",
    "    #'dropout_prob': space.Real(0.0, 0.5, default=0.1),  # dropout probability (real-valued hyperparameter)\n",
    "    \n",
    "    # ## Hyperparameters for neural net architecture:\n",
    "    \"activation\": \"relu\",  # Activation function\n",
    "    # Options: ['relu', 'softrelu', 'tanh', 'softsign'], options for pytorch: ['relu', 'elu', 'tanh']\n",
    "    \"embedding_size_factor\": 1.0,  # scaling factor to adjust size of embedding layers (float > 0)\n",
    "    # Options: range[0.01 - 100] on log-scale\n",
    "    \"embed_exponent\": 0.56,  # exponent used to determine size of embedding layers based on # categories.\n",
    "    \"max_embedding_dim\": 100,  # maximum size of embedding layer for a single categorical feature (int > 0).\n",
    "    ## Regression-specific hyperparameters:\n",
    "    #\"y_range\": None,  # Tuple specifying whether Y is constrained to (min_y, max_y). Can be = (-np.inf, np.inf).\n",
    "    # If None, inferred based on training labels. Note: MUST be None for classification tasks!\n",
    "    \"y_range_extend\": 0.05,  # Only used to extend size of inferred y_range when y_range = None.\n",
    "    ## Hyperparameters for neural net training:\n",
    "    #\"dropout_prob\": 0.1,  # dropout probability, = 0 turns off Dropout.\n",
    "    # # Options: range(0.0, 0.5)\n",
    "    \"optimizer\": \"adam\",  # Which optimizer to use for training\n",
    "    # Options include: ['adam','sgd']\n",
    "    #\"learning_rate\": 3e-4,  # learning rate used for NN training (float > 0)\n",
    "    \"weight_decay\": 1e-6,  # weight decay regularizer (float > 0)\n",
    "    ## Hyperparameters for data processing:\n",
    "    \"proc.embed_min_categories\": 4,  # apply embedding layer to categorical features with at least this many levels. Features with fewer levels are one-hot encoded. Choose big value to avoid use of Embedding layers\n",
    "    # Options: [3,4,10, 100, 1000]\n",
    "    \"proc.impute_strategy\": \"median\",  # strategy argument of sklearn.SimpleImputer() used to impute missing numeric values\n",
    "    # Options: ['median', 'mean', 'most_frequent']\n",
    "    \"proc.max_category_levels\": 100,  # maximum number of allowed levels per categorical feature\n",
    "    # Options: [10, 100, 200, 300, 400, 500, 1000, 10000]\n",
    "    \"proc.skew_threshold\": 0.99,  # numerical features whose absolute skewness is greater than this receive special power-transform preprocessing. Choose big value to avoid using power-transforms\n",
    "    # Options: [0.2, 0.3, 0.5, 0.8, 0.9, 0.99, 0.999, 1.0, 10.0, 100.0]\n",
    "    \"use_ngram_features\": False,  # If False, will drop automatically generated ngram features from language features. This results in worse model quality but far faster inference and training times.\n",
    "    # Options: [True, False]\n",
    "    \n",
    "    # #\"num_layers\": 4,  # number of layers\n",
    "    # # Options: [2, 3, 4, 5]\n",
    "    # #\"hidden_size\": 128,  # number of hidden units in each layer\n",
    "    # # Options: [128, 256, 512]\n",
    "    # #\"max_batch_size\": 512,  # maximum batch-size, actual batch size may be slightly smaller.\n",
    "    # \"use_batchnorm\": False,  # whether or not to utilize batch normalization\n",
    "    # # Options: [True, False]\n",
    "    # \"loss_function\": \"auto\",  # Pytorch loss function minimized during training\n",
    "    # # Example options for regression: nn.MSELoss(), nn.L1Loss()\n",
    "    \n",
    "}"
   ]
  },
  {
   "cell_type": "code",
   "execution_count": 134,
   "metadata": {},
   "outputs": [],
   "source": [
    "time_limit = 2 * 60  # train various models for ~2 min\n",
    "num_trials = 2*3*3\n",
    "\n",
    "hyperparameter_tune_kwargs = {  # HPO is not performed unless hyperparameter_tune_kwargs is specified\n",
    "    \"num_trials\": num_trials,\n",
    "    \"scheduler\": \"local\",\n",
    "    \"searcher\": \"random\",\n",
    "}"
   ]
  },
  {
   "cell_type": "code",
   "execution_count": 135,
   "metadata": {},
   "outputs": [
    {
     "name": "stderr",
     "output_type": "stream",
     "text": [
      "No path specified. Models will be saved in: \"AutogluonModels/ag-20240427_192908\"\n",
      "No presets specified! To achieve strong results with AutoGluon, it is recommended to use the available presets.\n",
      "\tRecommended Presets (For more details refer to https://auto.gluon.ai/stable/tutorials/tabular/tabular-essentials.html#presets):\n",
      "\tpresets='best_quality'   : Maximize accuracy. Default time_limit=3600.\n",
      "\tpresets='high_quality'   : Strong accuracy with fast inference speed. Default time_limit=3600.\n",
      "\tpresets='good_quality'   : Good accuracy with very fast inference speed. Default time_limit=3600.\n",
      "\tpresets='medium_quality' : Fast training time, ideal for initial prototyping.\n",
      "Warning: hyperparameter tuning is currently experimental and may cause the process to hang.\n",
      "Beginning AutoGluon training ...\n",
      "AutoGluon will save models to \"AutogluonModels/ag-20240427_192908\"\n",
      "=================== System Info ===================\n",
      "AutoGluon Version:  1.1.0\n",
      "Python Version:     3.10.14\n",
      "Operating System:   Darwin\n",
      "Platform Machine:   arm64\n",
      "Platform Version:   Darwin Kernel Version 23.0.0: Fri Sep 15 14:41:43 PDT 2023; root:xnu-10002.1.13~1/RELEASE_ARM64_T6000\n",
      "CPU Count:          10\n",
      "Memory Avail:       2.85 GB / 16.00 GB (17.8%)\n",
      "Disk Space Avail:   688.17 GB / 926.35 GB (74.3%)\n",
      "===================================================\n",
      "Train Data Rows:    1000\n",
      "Train Data Columns: 81\n",
      "Label Column:       SalePrice\n",
      "AutoGluon infers your prediction problem is: 'regression' (because dtype of label-column == int and many unique label-values observed).\n",
      "\tLabel info (max, min, mean, stddev): (755000, 12789, 177384.773, 80453.31559)\n",
      "\tIf 'regression' is not the correct problem_type, please manually specify the problem_type parameter during predictor init (You may specify problem_type as one of: ['binary', 'multiclass', 'regression'])\n",
      "Problem Type:       regression\n",
      "Preprocessing data ...\n",
      "Using Feature Generators to preprocess the data ...\n",
      "Fitting AutoMLPipelineFeatureGenerator...\n",
      "\tAvailable Memory:                    2922.73 MB\n",
      "\tTrain Data (Original)  Memory Usage: 2.64 MB (0.1% of available memory)\n",
      "\tInferring data type of each feature based on column values. Set feature_metadata_in to manually specify special dtypes of the features.\n"
     ]
    },
    {
     "name": "stderr",
     "output_type": "stream",
     "text": [
      "\tStage 1 Generators:\n",
      "\t\tFitting AsTypeFeatureGenerator...\n",
      "\t\t\tNote: Converting 3 features to boolean dtype as they only contain 2 unique values.\n",
      "\tStage 2 Generators:\n",
      "\t\tFitting FillNaFeatureGenerator...\n",
      "\tStage 3 Generators:\n",
      "\t\tFitting IdentityFeatureGenerator...\n",
      "\t\tFitting CategoryFeatureGenerator...\n",
      "\t\t\tFitting CategoryMemoryMinimizeFeatureGenerator...\n",
      "\tStage 4 Generators:\n",
      "\t\tFitting DropUniqueFeatureGenerator...\n",
      "\tStage 5 Generators:\n",
      "\t\tFitting DropDuplicatesFeatureGenerator...\n",
      "\tTypes of features in original data (raw dtype, special dtypes):\n",
      "\t\t('float', [])  : 11 | ['Lot Frontage', 'Mas Vnr Area', 'BsmtFin SF 1', 'BsmtFin SF 2', 'Bsmt Unf SF', ...]\n",
      "\t\t('int', [])    : 27 | ['Order', 'PID', 'MS SubClass', 'Lot Area', 'Overall Qual', ...]\n",
      "\t\t('object', []) : 43 | ['MS Zoning', 'Street', 'Alley', 'Lot Shape', 'Land Contour', ...]\n",
      "\tTypes of features in processed data (raw dtype, special dtypes):\n",
      "\t\t('category', [])  : 40 | ['MS Zoning', 'Alley', 'Lot Shape', 'Land Contour', 'Lot Config', ...]\n",
      "\t\t('float', [])     : 11 | ['Lot Frontage', 'Mas Vnr Area', 'BsmtFin SF 1', 'BsmtFin SF 2', 'Bsmt Unf SF', ...]\n",
      "\t\t('int', [])       : 27 | ['Order', 'PID', 'MS SubClass', 'Lot Area', 'Overall Qual', ...]\n",
      "\t\t('int', ['bool']) :  3 | ['Street', 'Utilities', 'Central Air']\n",
      "\t0.2s = Fit runtime\n",
      "\t81 features in original data used to generate 81 features in processed data.\n",
      "\tTrain Data (Processed) Memory Usage: 0.35 MB (0.0% of available memory)\n",
      "Data preprocessing and feature engineering runtime = 0.17s ...\n",
      "AutoGluon will gauge predictive performance using evaluation metric: 'mean_absolute_percentage_error'\n",
      "\tThis metric's sign has been flipped to adhere to being higher_is_better. The metric score can be multiplied by -1 to get the metric value.\n",
      "\tTo change this, specify the eval_metric parameter of Predictor()\n",
      "Automatically generating train/validation split with holdout_frac=0.2, Train Rows: 800, Val Rows: 200\n",
      "User-specified model hyperparameters to be fit:\n",
      "{\n",
      "\t'NN_TORCH': {'y_range': (0, inf), 'num_layers': Categorical[2, 3], 'learning_rate': Categorical[0.1, 0.01], 'hidden_size': Categorical[32, 64, 128], 'max_batch_size': Categorical[512, 1024], 'proc.embed_min_categories': 4, 'dropout_prob': Categorical[0.01], 'use_batchnorm': Categorical[False], 'activation': 'relu', 'embedding_size_factor': 1.0, 'embed_exponent': 0.56, 'max_embedding_dim': 100, 'y_range_extend': 0.05, 'optimizer': 'adam', 'weight_decay': 1e-06, 'proc.impute_strategy': 'median', 'proc.max_category_levels': 100, 'proc.skew_threshold': 0.99, 'use_ngram_features': False},\n",
      "}\n",
      "Included models: ['NN_TORCH'] (Specified by `included_model_types`, all other model types will be skipped)\n",
      "Fitting 1 L1 models ...\n",
      "Hyperparameter tuning model: NeuralNetTorch ...\n"
     ]
    },
    {
     "data": {
      "application/vnd.jupyter.widget-view+json": {
       "model_id": "d39f8c2492704f99a432c04a4de468ab",
       "version_major": 2,
       "version_minor": 0
      },
      "text/plain": [
       "  0%|          | 0/18 [00:00<?, ?it/s]"
      ]
     },
     "metadata": {},
     "output_type": "display_data"
    }
   ],
   "source": [
    "%%time\n",
    "predictor = TabularPredictor(label=label, eval_metric=\"mean_absolute_percentage_error\")\n",
    "predictor.fit(train_data=train_data.head(1000), verbosity=2, \n",
    "              hyperparameters = {\"NN_TORCH\" : nn_options},\n",
    "              hyperparameter_tune_kwargs = hyperparameter_tune_kwargs,\n",
    "              included_model_types=[\"NN_TORCH\"]\n",
    "              )"
   ]
  },
  {
   "cell_type": "code",
   "execution_count": null,
   "metadata": {},
   "outputs": [],
   "source": [
    "predictions = predictor.predict(test_data)"
   ]
  },
  {
   "cell_type": "code",
   "execution_count": null,
   "metadata": {},
   "outputs": [],
   "source": [
    "from sklearn.metrics import mean_absolute_percentage_error"
   ]
  },
  {
   "cell_type": "code",
   "execution_count": null,
   "metadata": {},
   "outputs": [
    {
     "data": {
      "text/plain": [
       "0.08516899829912311"
      ]
     },
     "execution_count": 124,
     "metadata": {},
     "output_type": "execute_result"
    }
   ],
   "source": [
    "mean_absolute_percentage_error(y_test, predictions)"
   ]
  },
  {
   "cell_type": "code",
   "execution_count": null,
   "metadata": {},
   "outputs": [
    {
     "name": "stdout",
     "output_type": "stream",
     "text": [
      "*** Summary of fit() ***\n",
      "Estimated performance of each model:\n",
      "                  model  score_val                     eval_metric  pred_time_val   fit_time  pred_time_val_marginal  fit_time_marginal  stack_level  can_infer  fit_order\n",
      "0   WeightedEnsemble_L2  -0.092838  mean_absolute_percentage_error       0.046738  12.100504                0.000280           0.015348            2       True         25\n",
      "1     NeuralNetTorch/T5  -0.097181  mean_absolute_percentage_error       0.014749   6.563594                0.014749           6.563594            1       True          5\n",
      "2     NeuralNetTorch/T4  -0.097181  mean_absolute_percentage_error       0.015342   6.620213                0.015342           6.620213            1       True          4\n",
      "3     NeuralNetTorch/T3  -0.097726  mean_absolute_percentage_error       0.014119   2.632468                0.014119           2.632468            1       True          3\n",
      "4    NeuralNetTorch/T15  -0.097726  mean_absolute_percentage_error       0.015022   2.655270                0.015022           2.655270            1       True         15\n",
      "5    NeuralNetTorch/T18  -0.098543  mean_absolute_percentage_error       0.014116   2.921350                0.014116           2.921350            1       True         18\n",
      "6     NeuralNetTorch/T2  -0.098543  mean_absolute_percentage_error       0.016094   2.809673                0.016094           2.809673            1       True          2\n",
      "7    NeuralNetTorch/T12  -0.099949  mean_absolute_percentage_error       0.014675   3.057423                0.014675           3.057423            1       True         12\n",
      "8    NeuralNetTorch/T23  -0.099949  mean_absolute_percentage_error       0.014940   3.020573                0.014940           3.020573            1       True         23\n",
      "9    NeuralNetTorch/T22  -0.100581  mean_absolute_percentage_error       0.014345   3.415975                0.014345           3.415975            1       True         22\n",
      "10   NeuralNetTorch/T14  -0.100581  mean_absolute_percentage_error       0.015415   3.317788                0.015415           3.317788            1       True         14\n",
      "11   NeuralNetTorch/T16  -0.100814  mean_absolute_percentage_error       0.014935   6.747899                0.014935           6.747899            1       True         16\n",
      "12    NeuralNetTorch/T7  -0.100814  mean_absolute_percentage_error       0.016987   6.794891                0.016987           6.794891            1       True          7\n",
      "13   NeuralNetTorch/T17  -0.101275  mean_absolute_percentage_error       0.014309   5.708689                0.014309           5.708689            1       True         17\n",
      "14   NeuralNetTorch/T24  -0.101275  mean_absolute_percentage_error       0.014785   5.772013                0.014785           5.772013            1       True         24\n",
      "15    NeuralNetTorch/T9  -0.101854  mean_absolute_percentage_error       0.014833   9.720787                0.014833           9.720787            1       True          9\n",
      "16    NeuralNetTorch/T6  -0.101854  mean_absolute_percentage_error       0.015030   9.848424                0.015030           9.848424            1       True          6\n",
      "17   NeuralNetTorch/T13  -0.104716  mean_absolute_percentage_error       0.014195   2.456372                0.014195           2.456372            1       True         13\n",
      "18   NeuralNetTorch/T20  -0.104716  mean_absolute_percentage_error       0.014677   2.433492                0.014677           2.433492            1       True         20\n",
      "19   NeuralNetTorch/T19  -0.110261  mean_absolute_percentage_error       0.014418   3.484975                0.014418           3.484975            1       True         19\n",
      "20    NeuralNetTorch/T8  -0.110261  mean_absolute_percentage_error       0.014429   3.617314                0.014429           3.617314            1       True          8\n",
      "21   NeuralNetTorch/T21  -0.118513  mean_absolute_percentage_error       0.014052   1.395739                0.014052           1.395739            1       True         21\n",
      "22    NeuralNetTorch/T1  -0.118513  mean_absolute_percentage_error       0.015374   1.461118                0.015374           1.461118            1       True          1\n",
      "23   NeuralNetTorch/T11  -0.120923  mean_absolute_percentage_error       0.013889   2.874695                0.013889           2.874695            1       True         11\n",
      "24   NeuralNetTorch/T10  -0.120923  mean_absolute_percentage_error       0.013971   2.884353                0.013971           2.884353            1       True         10\n",
      "Number of models trained: 25\n",
      "Types of models trained:\n",
      "{'WeightedEnsembleModel', 'TabularNeuralNetTorchModel'}\n",
      "Bagging used: False \n",
      "Multi-layer stack-ensembling used: False \n",
      "Feature Metadata (Processed):\n",
      "(raw dtype, special dtypes):\n",
      "('category', [])  : 40 | ['MS Zoning', 'Alley', 'Lot Shape', 'Land Contour', 'Lot Config', ...]\n",
      "('float', [])     : 11 | ['Lot Frontage', 'Mas Vnr Area', 'BsmtFin SF 1', 'BsmtFin SF 2', 'Bsmt Unf SF', ...]\n",
      "('int', [])       : 27 | ['Order', 'PID', 'MS SubClass', 'Lot Area', 'Overall Qual', ...]\n",
      "('int', ['bool']) :  3 | ['Street', 'Utilities', 'Central Air']\n",
      "*** End of fit() summary ***\n"
     ]
    },
    {
     "name": "stderr",
     "output_type": "stream",
     "text": [
      "/Users/giladrubin/mambaforge/envs/ml-env/lib/python3.10/site-packages/autogluon/core/utils/plots.py:169: UserWarning:\n",
      "\n",
      "AutoGluon summary plots cannot be created because bokeh is not installed. To see plots, please do: \"pip install bokeh==2.0.1\"\n",
      "\n"
     ]
    }
   ],
   "source": [
    "results = predictor.fit_summary(verbosity=10, show_plot=True)"
   ]
  },
  {
   "cell_type": "code",
   "execution_count": null,
   "metadata": {},
   "outputs": [],
   "source": [
    "df_hyperparams = pd.DataFrame.from_dict(results[\"model_hyperparams\"], orient='index')\n",
    "consistent_hyperparams = df_hyperparams.nunique()[df_hyperparams.nunique() == 1].index\n",
    "df_hyperparams = df_hyperparams.drop(columns=consistent_hyperparams)\n",
    "df_hyperparams = df_hyperparams.reset_index().rename({\"index\" : \"model\"}, axis=1).copy()"
   ]
  },
  {
   "cell_type": "code",
   "execution_count": null,
   "metadata": {},
   "outputs": [],
   "source": [
    "leaderboard = results[\"leaderboard\"]\n",
    "df = leaderboard.merge(df_hyperparams, on=\"model\")"
   ]
  },
  {
   "cell_type": "code",
   "execution_count": null,
   "metadata": {},
   "outputs": [],
   "source": [
    "import plotly.express as px"
   ]
  },
  {
   "cell_type": "code",
   "execution_count": null,
   "metadata": {},
   "outputs": [
    {
     "data": {
      "application/vnd.plotly.v1+json": {
       "config": {
        "plotlyServerURL": "https://plot.ly"
       },
       "data": [
        {
         "hovertemplate": "model=%{text}<br>fit_time=%{x}<br>score_val=%{y}<extra></extra>",
         "legendgroup": "WeightedEnsemble_L2",
         "marker": {
          "color": "#636efa",
          "symbol": "circle"
         },
         "mode": "markers+text",
         "name": "WeightedEnsemble_L2",
         "orientation": "v",
         "showlegend": true,
         "text": [
          "WeightedEnsemble_L2"
         ],
         "type": "scatter",
         "x": [
          12.100504159927368
         ],
         "xaxis": "x",
         "y": [
          -0.09283762531040665
         ],
         "yaxis": "y"
        },
        {
         "hovertemplate": "model=%{text}<br>fit_time=%{x}<br>score_val=%{y}<extra></extra>",
         "legendgroup": "NeuralNetTorch/T5",
         "marker": {
          "color": "#EF553B",
          "symbol": "circle"
         },
         "mode": "markers+text",
         "name": "NeuralNetTorch/T5",
         "orientation": "v",
         "showlegend": true,
         "text": [
          "NeuralNetTorch/T5"
         ],
         "type": "scatter",
         "x": [
          6.563594102859497
         ],
         "xaxis": "x",
         "y": [
          -0.09718056049551435
         ],
         "yaxis": "y"
        },
        {
         "hovertemplate": "model=%{text}<br>fit_time=%{x}<br>score_val=%{y}<extra></extra>",
         "legendgroup": "NeuralNetTorch/T4",
         "marker": {
          "color": "#00cc96",
          "symbol": "circle"
         },
         "mode": "markers+text",
         "name": "NeuralNetTorch/T4",
         "orientation": "v",
         "showlegend": true,
         "text": [
          "NeuralNetTorch/T4"
         ],
         "type": "scatter",
         "x": [
          6.620213031768799
         ],
         "xaxis": "x",
         "y": [
          -0.09718056049551435
         ],
         "yaxis": "y"
        },
        {
         "hovertemplate": "model=%{text}<br>fit_time=%{x}<br>score_val=%{y}<extra></extra>",
         "legendgroup": "NeuralNetTorch/T3",
         "marker": {
          "color": "#ab63fa",
          "symbol": "circle"
         },
         "mode": "markers+text",
         "name": "NeuralNetTorch/T3",
         "orientation": "v",
         "showlegend": true,
         "text": [
          "NeuralNetTorch/T3"
         ],
         "type": "scatter",
         "x": [
          2.6324679851531982
         ],
         "xaxis": "x",
         "y": [
          -0.09772584164848322
         ],
         "yaxis": "y"
        },
        {
         "hovertemplate": "model=%{text}<br>fit_time=%{x}<br>score_val=%{y}<extra></extra>",
         "legendgroup": "NeuralNetTorch/T15",
         "marker": {
          "color": "#FFA15A",
          "symbol": "circle"
         },
         "mode": "markers+text",
         "name": "NeuralNetTorch/T15",
         "orientation": "v",
         "showlegend": true,
         "text": [
          "NeuralNetTorch/T15"
         ],
         "type": "scatter",
         "x": [
          2.6552698612213135
         ],
         "xaxis": "x",
         "y": [
          -0.09772584164848322
         ],
         "yaxis": "y"
        },
        {
         "hovertemplate": "model=%{text}<br>fit_time=%{x}<br>score_val=%{y}<extra></extra>",
         "legendgroup": "NeuralNetTorch/T18",
         "marker": {
          "color": "#19d3f3",
          "symbol": "circle"
         },
         "mode": "markers+text",
         "name": "NeuralNetTorch/T18",
         "orientation": "v",
         "showlegend": true,
         "text": [
          "NeuralNetTorch/T18"
         ],
         "type": "scatter",
         "x": [
          2.9213502407073975
         ],
         "xaxis": "x",
         "y": [
          -0.09854319484382841
         ],
         "yaxis": "y"
        },
        {
         "hovertemplate": "model=%{text}<br>fit_time=%{x}<br>score_val=%{y}<extra></extra>",
         "legendgroup": "NeuralNetTorch/T2",
         "marker": {
          "color": "#FF6692",
          "symbol": "circle"
         },
         "mode": "markers+text",
         "name": "NeuralNetTorch/T2",
         "orientation": "v",
         "showlegend": true,
         "text": [
          "NeuralNetTorch/T2"
         ],
         "type": "scatter",
         "x": [
          2.8096730709075928
         ],
         "xaxis": "x",
         "y": [
          -0.09854319484382841
         ],
         "yaxis": "y"
        },
        {
         "hovertemplate": "model=%{text}<br>fit_time=%{x}<br>score_val=%{y}<extra></extra>",
         "legendgroup": "NeuralNetTorch/T12",
         "marker": {
          "color": "#B6E880",
          "symbol": "circle"
         },
         "mode": "markers+text",
         "name": "NeuralNetTorch/T12",
         "orientation": "v",
         "showlegend": true,
         "text": [
          "NeuralNetTorch/T12"
         ],
         "type": "scatter",
         "x": [
          3.0574231147766113
         ],
         "xaxis": "x",
         "y": [
          -0.09994911260448675
         ],
         "yaxis": "y"
        },
        {
         "hovertemplate": "model=%{text}<br>fit_time=%{x}<br>score_val=%{y}<extra></extra>",
         "legendgroup": "NeuralNetTorch/T23",
         "marker": {
          "color": "#FF97FF",
          "symbol": "circle"
         },
         "mode": "markers+text",
         "name": "NeuralNetTorch/T23",
         "orientation": "v",
         "showlegend": true,
         "text": [
          "NeuralNetTorch/T23"
         ],
         "type": "scatter",
         "x": [
          3.0205729007720947
         ],
         "xaxis": "x",
         "y": [
          -0.09994911260448675
         ],
         "yaxis": "y"
        },
        {
         "hovertemplate": "model=%{text}<br>fit_time=%{x}<br>score_val=%{y}<extra></extra>",
         "legendgroup": "NeuralNetTorch/T22",
         "marker": {
          "color": "#FECB52",
          "symbol": "circle"
         },
         "mode": "markers+text",
         "name": "NeuralNetTorch/T22",
         "orientation": "v",
         "showlegend": true,
         "text": [
          "NeuralNetTorch/T22"
         ],
         "type": "scatter",
         "x": [
          3.4159748554229736
         ],
         "xaxis": "x",
         "y": [
          -0.1005814922850195
         ],
         "yaxis": "y"
        },
        {
         "hovertemplate": "model=%{text}<br>fit_time=%{x}<br>score_val=%{y}<extra></extra>",
         "legendgroup": "NeuralNetTorch/T14",
         "marker": {
          "color": "#636efa",
          "symbol": "circle"
         },
         "mode": "markers+text",
         "name": "NeuralNetTorch/T14",
         "orientation": "v",
         "showlegend": true,
         "text": [
          "NeuralNetTorch/T14"
         ],
         "type": "scatter",
         "x": [
          3.3177878856658936
         ],
         "xaxis": "x",
         "y": [
          -0.1005814922850195
         ],
         "yaxis": "y"
        },
        {
         "hovertemplate": "model=%{text}<br>fit_time=%{x}<br>score_val=%{y}<extra></extra>",
         "legendgroup": "NeuralNetTorch/T16",
         "marker": {
          "color": "#EF553B",
          "symbol": "circle"
         },
         "mode": "markers+text",
         "name": "NeuralNetTorch/T16",
         "orientation": "v",
         "showlegend": true,
         "text": [
          "NeuralNetTorch/T16"
         ],
         "type": "scatter",
         "x": [
          6.747899055480957
         ],
         "xaxis": "x",
         "y": [
          -0.10081385598733485
         ],
         "yaxis": "y"
        },
        {
         "hovertemplate": "model=%{text}<br>fit_time=%{x}<br>score_val=%{y}<extra></extra>",
         "legendgroup": "NeuralNetTorch/T7",
         "marker": {
          "color": "#00cc96",
          "symbol": "circle"
         },
         "mode": "markers+text",
         "name": "NeuralNetTorch/T7",
         "orientation": "v",
         "showlegend": true,
         "text": [
          "NeuralNetTorch/T7"
         ],
         "type": "scatter",
         "x": [
          6.794891119003296
         ],
         "xaxis": "x",
         "y": [
          -0.10081385598733485
         ],
         "yaxis": "y"
        },
        {
         "hovertemplate": "model=%{text}<br>fit_time=%{x}<br>score_val=%{y}<extra></extra>",
         "legendgroup": "NeuralNetTorch/T17",
         "marker": {
          "color": "#ab63fa",
          "symbol": "circle"
         },
         "mode": "markers+text",
         "name": "NeuralNetTorch/T17",
         "orientation": "v",
         "showlegend": true,
         "text": [
          "NeuralNetTorch/T17"
         ],
         "type": "scatter",
         "x": [
          5.708688974380493
         ],
         "xaxis": "x",
         "y": [
          -0.10127511893734274
         ],
         "yaxis": "y"
        },
        {
         "hovertemplate": "model=%{text}<br>fit_time=%{x}<br>score_val=%{y}<extra></extra>",
         "legendgroup": "NeuralNetTorch/T24",
         "marker": {
          "color": "#FFA15A",
          "symbol": "circle"
         },
         "mode": "markers+text",
         "name": "NeuralNetTorch/T24",
         "orientation": "v",
         "showlegend": true,
         "text": [
          "NeuralNetTorch/T24"
         ],
         "type": "scatter",
         "x": [
          5.772013187408447
         ],
         "xaxis": "x",
         "y": [
          -0.10127511893734274
         ],
         "yaxis": "y"
        },
        {
         "hovertemplate": "model=%{text}<br>fit_time=%{x}<br>score_val=%{y}<extra></extra>",
         "legendgroup": "NeuralNetTorch/T9",
         "marker": {
          "color": "#19d3f3",
          "symbol": "circle"
         },
         "mode": "markers+text",
         "name": "NeuralNetTorch/T9",
         "orientation": "v",
         "showlegend": true,
         "text": [
          "NeuralNetTorch/T9"
         ],
         "type": "scatter",
         "x": [
          9.720787048339844
         ],
         "xaxis": "x",
         "y": [
          -0.10185399698220117
         ],
         "yaxis": "y"
        },
        {
         "hovertemplate": "model=%{text}<br>fit_time=%{x}<br>score_val=%{y}<extra></extra>",
         "legendgroup": "NeuralNetTorch/T6",
         "marker": {
          "color": "#FF6692",
          "symbol": "circle"
         },
         "mode": "markers+text",
         "name": "NeuralNetTorch/T6",
         "orientation": "v",
         "showlegend": true,
         "text": [
          "NeuralNetTorch/T6"
         ],
         "type": "scatter",
         "x": [
          9.848424196243286
         ],
         "xaxis": "x",
         "y": [
          -0.10185399698220117
         ],
         "yaxis": "y"
        },
        {
         "hovertemplate": "model=%{text}<br>fit_time=%{x}<br>score_val=%{y}<extra></extra>",
         "legendgroup": "NeuralNetTorch/T13",
         "marker": {
          "color": "#B6E880",
          "symbol": "circle"
         },
         "mode": "markers+text",
         "name": "NeuralNetTorch/T13",
         "orientation": "v",
         "showlegend": true,
         "text": [
          "NeuralNetTorch/T13"
         ],
         "type": "scatter",
         "x": [
          2.456372022628784
         ],
         "xaxis": "x",
         "y": [
          -0.10471635375983233
         ],
         "yaxis": "y"
        },
        {
         "hovertemplate": "model=%{text}<br>fit_time=%{x}<br>score_val=%{y}<extra></extra>",
         "legendgroup": "NeuralNetTorch/T20",
         "marker": {
          "color": "#FF97FF",
          "symbol": "circle"
         },
         "mode": "markers+text",
         "name": "NeuralNetTorch/T20",
         "orientation": "v",
         "showlegend": true,
         "text": [
          "NeuralNetTorch/T20"
         ],
         "type": "scatter",
         "x": [
          2.4334919452667236
         ],
         "xaxis": "x",
         "y": [
          -0.10471635375983233
         ],
         "yaxis": "y"
        },
        {
         "hovertemplate": "model=%{text}<br>fit_time=%{x}<br>score_val=%{y}<extra></extra>",
         "legendgroup": "NeuralNetTorch/T19",
         "marker": {
          "color": "#FECB52",
          "symbol": "circle"
         },
         "mode": "markers+text",
         "name": "NeuralNetTorch/T19",
         "orientation": "v",
         "showlegend": true,
         "text": [
          "NeuralNetTorch/T19"
         ],
         "type": "scatter",
         "x": [
          3.4849750995635986
         ],
         "xaxis": "x",
         "y": [
          -0.11026117149158733
         ],
         "yaxis": "y"
        },
        {
         "hovertemplate": "model=%{text}<br>fit_time=%{x}<br>score_val=%{y}<extra></extra>",
         "legendgroup": "NeuralNetTorch/T8",
         "marker": {
          "color": "#636efa",
          "symbol": "circle"
         },
         "mode": "markers+text",
         "name": "NeuralNetTorch/T8",
         "orientation": "v",
         "showlegend": true,
         "text": [
          "NeuralNetTorch/T8"
         ],
         "type": "scatter",
         "x": [
          3.617314100265503
         ],
         "xaxis": "x",
         "y": [
          -0.11026117149158733
         ],
         "yaxis": "y"
        },
        {
         "hovertemplate": "model=%{text}<br>fit_time=%{x}<br>score_val=%{y}<extra></extra>",
         "legendgroup": "NeuralNetTorch/T21",
         "marker": {
          "color": "#EF553B",
          "symbol": "circle"
         },
         "mode": "markers+text",
         "name": "NeuralNetTorch/T21",
         "orientation": "v",
         "showlegend": true,
         "text": [
          "NeuralNetTorch/T21"
         ],
         "type": "scatter",
         "x": [
          1.3957393169403076
         ],
         "xaxis": "x",
         "y": [
          -0.11851347339614503
         ],
         "yaxis": "y"
        },
        {
         "hovertemplate": "model=%{text}<br>fit_time=%{x}<br>score_val=%{y}<extra></extra>",
         "legendgroup": "NeuralNetTorch/T1",
         "marker": {
          "color": "#00cc96",
          "symbol": "circle"
         },
         "mode": "markers+text",
         "name": "NeuralNetTorch/T1",
         "orientation": "v",
         "showlegend": true,
         "text": [
          "NeuralNetTorch/T1"
         ],
         "type": "scatter",
         "x": [
          1.4611179828643799
         ],
         "xaxis": "x",
         "y": [
          -0.11851347339614503
         ],
         "yaxis": "y"
        },
        {
         "hovertemplate": "model=%{text}<br>fit_time=%{x}<br>score_val=%{y}<extra></extra>",
         "legendgroup": "NeuralNetTorch/T11",
         "marker": {
          "color": "#ab63fa",
          "symbol": "circle"
         },
         "mode": "markers+text",
         "name": "NeuralNetTorch/T11",
         "orientation": "v",
         "showlegend": true,
         "text": [
          "NeuralNetTorch/T11"
         ],
         "type": "scatter",
         "x": [
          2.874695062637329
         ],
         "xaxis": "x",
         "y": [
          -0.12092273679396805
         ],
         "yaxis": "y"
        },
        {
         "hovertemplate": "model=%{text}<br>fit_time=%{x}<br>score_val=%{y}<extra></extra>",
         "legendgroup": "NeuralNetTorch/T10",
         "marker": {
          "color": "#FFA15A",
          "symbol": "circle"
         },
         "mode": "markers+text",
         "name": "NeuralNetTorch/T10",
         "orientation": "v",
         "showlegend": true,
         "text": [
          "NeuralNetTorch/T10"
         ],
         "type": "scatter",
         "x": [
          2.8843531608581543
         ],
         "xaxis": "x",
         "y": [
          -0.12092273679396805
         ],
         "yaxis": "y"
        }
       ],
       "layout": {
        "legend": {
         "title": {
          "text": "model"
         },
         "tracegroupgap": 0
        },
        "margin": {
         "t": 60
        },
        "template": {
         "data": {
          "bar": [
           {
            "error_x": {
             "color": "#2a3f5f"
            },
            "error_y": {
             "color": "#2a3f5f"
            },
            "marker": {
             "line": {
              "color": "#E5ECF6",
              "width": 0.5
             },
             "pattern": {
              "fillmode": "overlay",
              "size": 10,
              "solidity": 0.2
             }
            },
            "type": "bar"
           }
          ],
          "barpolar": [
           {
            "marker": {
             "line": {
              "color": "#E5ECF6",
              "width": 0.5
             },
             "pattern": {
              "fillmode": "overlay",
              "size": 10,
              "solidity": 0.2
             }
            },
            "type": "barpolar"
           }
          ],
          "carpet": [
           {
            "aaxis": {
             "endlinecolor": "#2a3f5f",
             "gridcolor": "white",
             "linecolor": "white",
             "minorgridcolor": "white",
             "startlinecolor": "#2a3f5f"
            },
            "baxis": {
             "endlinecolor": "#2a3f5f",
             "gridcolor": "white",
             "linecolor": "white",
             "minorgridcolor": "white",
             "startlinecolor": "#2a3f5f"
            },
            "type": "carpet"
           }
          ],
          "choropleth": [
           {
            "colorbar": {
             "outlinewidth": 0,
             "ticks": ""
            },
            "type": "choropleth"
           }
          ],
          "contour": [
           {
            "colorbar": {
             "outlinewidth": 0,
             "ticks": ""
            },
            "colorscale": [
             [
              0,
              "#0d0887"
             ],
             [
              0.1111111111111111,
              "#46039f"
             ],
             [
              0.2222222222222222,
              "#7201a8"
             ],
             [
              0.3333333333333333,
              "#9c179e"
             ],
             [
              0.4444444444444444,
              "#bd3786"
             ],
             [
              0.5555555555555556,
              "#d8576b"
             ],
             [
              0.6666666666666666,
              "#ed7953"
             ],
             [
              0.7777777777777778,
              "#fb9f3a"
             ],
             [
              0.8888888888888888,
              "#fdca26"
             ],
             [
              1,
              "#f0f921"
             ]
            ],
            "type": "contour"
           }
          ],
          "contourcarpet": [
           {
            "colorbar": {
             "outlinewidth": 0,
             "ticks": ""
            },
            "type": "contourcarpet"
           }
          ],
          "heatmap": [
           {
            "colorbar": {
             "outlinewidth": 0,
             "ticks": ""
            },
            "colorscale": [
             [
              0,
              "#0d0887"
             ],
             [
              0.1111111111111111,
              "#46039f"
             ],
             [
              0.2222222222222222,
              "#7201a8"
             ],
             [
              0.3333333333333333,
              "#9c179e"
             ],
             [
              0.4444444444444444,
              "#bd3786"
             ],
             [
              0.5555555555555556,
              "#d8576b"
             ],
             [
              0.6666666666666666,
              "#ed7953"
             ],
             [
              0.7777777777777778,
              "#fb9f3a"
             ],
             [
              0.8888888888888888,
              "#fdca26"
             ],
             [
              1,
              "#f0f921"
             ]
            ],
            "type": "heatmap"
           }
          ],
          "heatmapgl": [
           {
            "colorbar": {
             "outlinewidth": 0,
             "ticks": ""
            },
            "colorscale": [
             [
              0,
              "#0d0887"
             ],
             [
              0.1111111111111111,
              "#46039f"
             ],
             [
              0.2222222222222222,
              "#7201a8"
             ],
             [
              0.3333333333333333,
              "#9c179e"
             ],
             [
              0.4444444444444444,
              "#bd3786"
             ],
             [
              0.5555555555555556,
              "#d8576b"
             ],
             [
              0.6666666666666666,
              "#ed7953"
             ],
             [
              0.7777777777777778,
              "#fb9f3a"
             ],
             [
              0.8888888888888888,
              "#fdca26"
             ],
             [
              1,
              "#f0f921"
             ]
            ],
            "type": "heatmapgl"
           }
          ],
          "histogram": [
           {
            "marker": {
             "pattern": {
              "fillmode": "overlay",
              "size": 10,
              "solidity": 0.2
             }
            },
            "type": "histogram"
           }
          ],
          "histogram2d": [
           {
            "colorbar": {
             "outlinewidth": 0,
             "ticks": ""
            },
            "colorscale": [
             [
              0,
              "#0d0887"
             ],
             [
              0.1111111111111111,
              "#46039f"
             ],
             [
              0.2222222222222222,
              "#7201a8"
             ],
             [
              0.3333333333333333,
              "#9c179e"
             ],
             [
              0.4444444444444444,
              "#bd3786"
             ],
             [
              0.5555555555555556,
              "#d8576b"
             ],
             [
              0.6666666666666666,
              "#ed7953"
             ],
             [
              0.7777777777777778,
              "#fb9f3a"
             ],
             [
              0.8888888888888888,
              "#fdca26"
             ],
             [
              1,
              "#f0f921"
             ]
            ],
            "type": "histogram2d"
           }
          ],
          "histogram2dcontour": [
           {
            "colorbar": {
             "outlinewidth": 0,
             "ticks": ""
            },
            "colorscale": [
             [
              0,
              "#0d0887"
             ],
             [
              0.1111111111111111,
              "#46039f"
             ],
             [
              0.2222222222222222,
              "#7201a8"
             ],
             [
              0.3333333333333333,
              "#9c179e"
             ],
             [
              0.4444444444444444,
              "#bd3786"
             ],
             [
              0.5555555555555556,
              "#d8576b"
             ],
             [
              0.6666666666666666,
              "#ed7953"
             ],
             [
              0.7777777777777778,
              "#fb9f3a"
             ],
             [
              0.8888888888888888,
              "#fdca26"
             ],
             [
              1,
              "#f0f921"
             ]
            ],
            "type": "histogram2dcontour"
           }
          ],
          "mesh3d": [
           {
            "colorbar": {
             "outlinewidth": 0,
             "ticks": ""
            },
            "type": "mesh3d"
           }
          ],
          "parcoords": [
           {
            "line": {
             "colorbar": {
              "outlinewidth": 0,
              "ticks": ""
             }
            },
            "type": "parcoords"
           }
          ],
          "pie": [
           {
            "automargin": true,
            "type": "pie"
           }
          ],
          "scatter": [
           {
            "fillpattern": {
             "fillmode": "overlay",
             "size": 10,
             "solidity": 0.2
            },
            "type": "scatter"
           }
          ],
          "scatter3d": [
           {
            "line": {
             "colorbar": {
              "outlinewidth": 0,
              "ticks": ""
             }
            },
            "marker": {
             "colorbar": {
              "outlinewidth": 0,
              "ticks": ""
             }
            },
            "type": "scatter3d"
           }
          ],
          "scattercarpet": [
           {
            "marker": {
             "colorbar": {
              "outlinewidth": 0,
              "ticks": ""
             }
            },
            "type": "scattercarpet"
           }
          ],
          "scattergeo": [
           {
            "marker": {
             "colorbar": {
              "outlinewidth": 0,
              "ticks": ""
             }
            },
            "type": "scattergeo"
           }
          ],
          "scattergl": [
           {
            "marker": {
             "colorbar": {
              "outlinewidth": 0,
              "ticks": ""
             }
            },
            "type": "scattergl"
           }
          ],
          "scattermapbox": [
           {
            "marker": {
             "colorbar": {
              "outlinewidth": 0,
              "ticks": ""
             }
            },
            "type": "scattermapbox"
           }
          ],
          "scatterpolar": [
           {
            "marker": {
             "colorbar": {
              "outlinewidth": 0,
              "ticks": ""
             }
            },
            "type": "scatterpolar"
           }
          ],
          "scatterpolargl": [
           {
            "marker": {
             "colorbar": {
              "outlinewidth": 0,
              "ticks": ""
             }
            },
            "type": "scatterpolargl"
           }
          ],
          "scatterternary": [
           {
            "marker": {
             "colorbar": {
              "outlinewidth": 0,
              "ticks": ""
             }
            },
            "type": "scatterternary"
           }
          ],
          "surface": [
           {
            "colorbar": {
             "outlinewidth": 0,
             "ticks": ""
            },
            "colorscale": [
             [
              0,
              "#0d0887"
             ],
             [
              0.1111111111111111,
              "#46039f"
             ],
             [
              0.2222222222222222,
              "#7201a8"
             ],
             [
              0.3333333333333333,
              "#9c179e"
             ],
             [
              0.4444444444444444,
              "#bd3786"
             ],
             [
              0.5555555555555556,
              "#d8576b"
             ],
             [
              0.6666666666666666,
              "#ed7953"
             ],
             [
              0.7777777777777778,
              "#fb9f3a"
             ],
             [
              0.8888888888888888,
              "#fdca26"
             ],
             [
              1,
              "#f0f921"
             ]
            ],
            "type": "surface"
           }
          ],
          "table": [
           {
            "cells": {
             "fill": {
              "color": "#EBF0F8"
             },
             "line": {
              "color": "white"
             }
            },
            "header": {
             "fill": {
              "color": "#C8D4E3"
             },
             "line": {
              "color": "white"
             }
            },
            "type": "table"
           }
          ]
         },
         "layout": {
          "annotationdefaults": {
           "arrowcolor": "#2a3f5f",
           "arrowhead": 0,
           "arrowwidth": 1
          },
          "autotypenumbers": "strict",
          "coloraxis": {
           "colorbar": {
            "outlinewidth": 0,
            "ticks": ""
           }
          },
          "colorscale": {
           "diverging": [
            [
             0,
             "#8e0152"
            ],
            [
             0.1,
             "#c51b7d"
            ],
            [
             0.2,
             "#de77ae"
            ],
            [
             0.3,
             "#f1b6da"
            ],
            [
             0.4,
             "#fde0ef"
            ],
            [
             0.5,
             "#f7f7f7"
            ],
            [
             0.6,
             "#e6f5d0"
            ],
            [
             0.7,
             "#b8e186"
            ],
            [
             0.8,
             "#7fbc41"
            ],
            [
             0.9,
             "#4d9221"
            ],
            [
             1,
             "#276419"
            ]
           ],
           "sequential": [
            [
             0,
             "#0d0887"
            ],
            [
             0.1111111111111111,
             "#46039f"
            ],
            [
             0.2222222222222222,
             "#7201a8"
            ],
            [
             0.3333333333333333,
             "#9c179e"
            ],
            [
             0.4444444444444444,
             "#bd3786"
            ],
            [
             0.5555555555555556,
             "#d8576b"
            ],
            [
             0.6666666666666666,
             "#ed7953"
            ],
            [
             0.7777777777777778,
             "#fb9f3a"
            ],
            [
             0.8888888888888888,
             "#fdca26"
            ],
            [
             1,
             "#f0f921"
            ]
           ],
           "sequentialminus": [
            [
             0,
             "#0d0887"
            ],
            [
             0.1111111111111111,
             "#46039f"
            ],
            [
             0.2222222222222222,
             "#7201a8"
            ],
            [
             0.3333333333333333,
             "#9c179e"
            ],
            [
             0.4444444444444444,
             "#bd3786"
            ],
            [
             0.5555555555555556,
             "#d8576b"
            ],
            [
             0.6666666666666666,
             "#ed7953"
            ],
            [
             0.7777777777777778,
             "#fb9f3a"
            ],
            [
             0.8888888888888888,
             "#fdca26"
            ],
            [
             1,
             "#f0f921"
            ]
           ]
          },
          "colorway": [
           "#636efa",
           "#EF553B",
           "#00cc96",
           "#ab63fa",
           "#FFA15A",
           "#19d3f3",
           "#FF6692",
           "#B6E880",
           "#FF97FF",
           "#FECB52"
          ],
          "font": {
           "color": "#2a3f5f"
          },
          "geo": {
           "bgcolor": "white",
           "lakecolor": "white",
           "landcolor": "#E5ECF6",
           "showlakes": true,
           "showland": true,
           "subunitcolor": "white"
          },
          "hoverlabel": {
           "align": "left"
          },
          "hovermode": "closest",
          "mapbox": {
           "style": "light"
          },
          "paper_bgcolor": "white",
          "plot_bgcolor": "#E5ECF6",
          "polar": {
           "angularaxis": {
            "gridcolor": "white",
            "linecolor": "white",
            "ticks": ""
           },
           "bgcolor": "#E5ECF6",
           "radialaxis": {
            "gridcolor": "white",
            "linecolor": "white",
            "ticks": ""
           }
          },
          "scene": {
           "xaxis": {
            "backgroundcolor": "#E5ECF6",
            "gridcolor": "white",
            "gridwidth": 2,
            "linecolor": "white",
            "showbackground": true,
            "ticks": "",
            "zerolinecolor": "white"
           },
           "yaxis": {
            "backgroundcolor": "#E5ECF6",
            "gridcolor": "white",
            "gridwidth": 2,
            "linecolor": "white",
            "showbackground": true,
            "ticks": "",
            "zerolinecolor": "white"
           },
           "zaxis": {
            "backgroundcolor": "#E5ECF6",
            "gridcolor": "white",
            "gridwidth": 2,
            "linecolor": "white",
            "showbackground": true,
            "ticks": "",
            "zerolinecolor": "white"
           }
          },
          "shapedefaults": {
           "line": {
            "color": "#2a3f5f"
           }
          },
          "ternary": {
           "aaxis": {
            "gridcolor": "white",
            "linecolor": "white",
            "ticks": ""
           },
           "baxis": {
            "gridcolor": "white",
            "linecolor": "white",
            "ticks": ""
           },
           "bgcolor": "#E5ECF6",
           "caxis": {
            "gridcolor": "white",
            "linecolor": "white",
            "ticks": ""
           }
          },
          "title": {
           "x": 0.05
          },
          "xaxis": {
           "automargin": true,
           "gridcolor": "white",
           "linecolor": "white",
           "ticks": "",
           "title": {
            "standoff": 15
           },
           "zerolinecolor": "white",
           "zerolinewidth": 2
          },
          "yaxis": {
           "automargin": true,
           "gridcolor": "white",
           "linecolor": "white",
           "ticks": "",
           "title": {
            "standoff": 15
           },
           "zerolinecolor": "white",
           "zerolinewidth": 2
          }
         }
        },
        "xaxis": {
         "anchor": "y",
         "domain": [
          0,
          1
         ],
         "title": {
          "text": "fit_time"
         }
        },
        "yaxis": {
         "anchor": "x",
         "domain": [
          0,
          1
         ],
         "title": {
          "text": "score_val"
         }
        }
       }
      }
     },
     "metadata": {},
     "output_type": "display_data"
    }
   ],
   "source": [
    "px.scatter(df, x=\"fit_time\", y=\"score_val\", color='model', text=\"model\")"
   ]
  },
  {
   "cell_type": "code",
   "execution_count": null,
   "metadata": {},
   "outputs": [
    {
     "data": {
      "application/vnd.plotly.v1+json": {
       "config": {
        "plotlyServerURL": "https://plot.ly"
       },
       "data": [
        {
         "hovertemplate": "model=WeightedEnsemble_L2<br>learning_rate=%{x}<br>score_val=%{y}<extra></extra>",
         "legendgroup": "WeightedEnsemble_L2",
         "marker": {
          "color": "#636efa",
          "symbol": "circle"
         },
         "mode": "markers",
         "name": "WeightedEnsemble_L2",
         "orientation": "v",
         "showlegend": true,
         "type": "scatter",
         "x": [
          null
         ],
         "xaxis": "x",
         "y": [
          -0.09283762531040665
         ],
         "yaxis": "y"
        },
        {
         "hovertemplate": "model=NeuralNetTorch/T5<br>learning_rate=%{x}<br>score_val=%{y}<extra></extra>",
         "legendgroup": "NeuralNetTorch/T5",
         "marker": {
          "color": "#EF553B",
          "symbol": "circle"
         },
         "mode": "markers",
         "name": "NeuralNetTorch/T5",
         "orientation": "v",
         "showlegend": true,
         "type": "scatter",
         "x": [
          0.01
         ],
         "xaxis": "x",
         "y": [
          -0.09718056049551435
         ],
         "yaxis": "y"
        },
        {
         "hovertemplate": "model=NeuralNetTorch/T4<br>learning_rate=%{x}<br>score_val=%{y}<extra></extra>",
         "legendgroup": "NeuralNetTorch/T4",
         "marker": {
          "color": "#00cc96",
          "symbol": "circle"
         },
         "mode": "markers",
         "name": "NeuralNetTorch/T4",
         "orientation": "v",
         "showlegend": true,
         "type": "scatter",
         "x": [
          0.01
         ],
         "xaxis": "x",
         "y": [
          -0.09718056049551435
         ],
         "yaxis": "y"
        },
        {
         "hovertemplate": "model=NeuralNetTorch/T3<br>learning_rate=%{x}<br>score_val=%{y}<extra></extra>",
         "legendgroup": "NeuralNetTorch/T3",
         "marker": {
          "color": "#ab63fa",
          "symbol": "circle"
         },
         "mode": "markers",
         "name": "NeuralNetTorch/T3",
         "orientation": "v",
         "showlegend": true,
         "type": "scatter",
         "x": [
          0.1
         ],
         "xaxis": "x",
         "y": [
          -0.09772584164848322
         ],
         "yaxis": "y"
        },
        {
         "hovertemplate": "model=NeuralNetTorch/T15<br>learning_rate=%{x}<br>score_val=%{y}<extra></extra>",
         "legendgroup": "NeuralNetTorch/T15",
         "marker": {
          "color": "#FFA15A",
          "symbol": "circle"
         },
         "mode": "markers",
         "name": "NeuralNetTorch/T15",
         "orientation": "v",
         "showlegend": true,
         "type": "scatter",
         "x": [
          0.1
         ],
         "xaxis": "x",
         "y": [
          -0.09772584164848322
         ],
         "yaxis": "y"
        },
        {
         "hovertemplate": "model=NeuralNetTorch/T18<br>learning_rate=%{x}<br>score_val=%{y}<extra></extra>",
         "legendgroup": "NeuralNetTorch/T18",
         "marker": {
          "color": "#19d3f3",
          "symbol": "circle"
         },
         "mode": "markers",
         "name": "NeuralNetTorch/T18",
         "orientation": "v",
         "showlegend": true,
         "type": "scatter",
         "x": [
          0.1
         ],
         "xaxis": "x",
         "y": [
          -0.09854319484382841
         ],
         "yaxis": "y"
        },
        {
         "hovertemplate": "model=NeuralNetTorch/T2<br>learning_rate=%{x}<br>score_val=%{y}<extra></extra>",
         "legendgroup": "NeuralNetTorch/T2",
         "marker": {
          "color": "#FF6692",
          "symbol": "circle"
         },
         "mode": "markers",
         "name": "NeuralNetTorch/T2",
         "orientation": "v",
         "showlegend": true,
         "type": "scatter",
         "x": [
          0.1
         ],
         "xaxis": "x",
         "y": [
          -0.09854319484382841
         ],
         "yaxis": "y"
        },
        {
         "hovertemplate": "model=NeuralNetTorch/T12<br>learning_rate=%{x}<br>score_val=%{y}<extra></extra>",
         "legendgroup": "NeuralNetTorch/T12",
         "marker": {
          "color": "#B6E880",
          "symbol": "circle"
         },
         "mode": "markers",
         "name": "NeuralNetTorch/T12",
         "orientation": "v",
         "showlegend": true,
         "type": "scatter",
         "x": [
          0.1
         ],
         "xaxis": "x",
         "y": [
          -0.09994911260448675
         ],
         "yaxis": "y"
        },
        {
         "hovertemplate": "model=NeuralNetTorch/T23<br>learning_rate=%{x}<br>score_val=%{y}<extra></extra>",
         "legendgroup": "NeuralNetTorch/T23",
         "marker": {
          "color": "#FF97FF",
          "symbol": "circle"
         },
         "mode": "markers",
         "name": "NeuralNetTorch/T23",
         "orientation": "v",
         "showlegend": true,
         "type": "scatter",
         "x": [
          0.1
         ],
         "xaxis": "x",
         "y": [
          -0.09994911260448675
         ],
         "yaxis": "y"
        },
        {
         "hovertemplate": "model=NeuralNetTorch/T22<br>learning_rate=%{x}<br>score_val=%{y}<extra></extra>",
         "legendgroup": "NeuralNetTorch/T22",
         "marker": {
          "color": "#FECB52",
          "symbol": "circle"
         },
         "mode": "markers",
         "name": "NeuralNetTorch/T22",
         "orientation": "v",
         "showlegend": true,
         "type": "scatter",
         "x": [
          0.1
         ],
         "xaxis": "x",
         "y": [
          -0.1005814922850195
         ],
         "yaxis": "y"
        },
        {
         "hovertemplate": "model=NeuralNetTorch/T14<br>learning_rate=%{x}<br>score_val=%{y}<extra></extra>",
         "legendgroup": "NeuralNetTorch/T14",
         "marker": {
          "color": "#636efa",
          "symbol": "circle"
         },
         "mode": "markers",
         "name": "NeuralNetTorch/T14",
         "orientation": "v",
         "showlegend": true,
         "type": "scatter",
         "x": [
          0.1
         ],
         "xaxis": "x",
         "y": [
          -0.1005814922850195
         ],
         "yaxis": "y"
        },
        {
         "hovertemplate": "model=NeuralNetTorch/T16<br>learning_rate=%{x}<br>score_val=%{y}<extra></extra>",
         "legendgroup": "NeuralNetTorch/T16",
         "marker": {
          "color": "#EF553B",
          "symbol": "circle"
         },
         "mode": "markers",
         "name": "NeuralNetTorch/T16",
         "orientation": "v",
         "showlegend": true,
         "type": "scatter",
         "x": [
          0.01
         ],
         "xaxis": "x",
         "y": [
          -0.10081385598733485
         ],
         "yaxis": "y"
        },
        {
         "hovertemplate": "model=NeuralNetTorch/T7<br>learning_rate=%{x}<br>score_val=%{y}<extra></extra>",
         "legendgroup": "NeuralNetTorch/T7",
         "marker": {
          "color": "#00cc96",
          "symbol": "circle"
         },
         "mode": "markers",
         "name": "NeuralNetTorch/T7",
         "orientation": "v",
         "showlegend": true,
         "type": "scatter",
         "x": [
          0.01
         ],
         "xaxis": "x",
         "y": [
          -0.10081385598733485
         ],
         "yaxis": "y"
        },
        {
         "hovertemplate": "model=NeuralNetTorch/T17<br>learning_rate=%{x}<br>score_val=%{y}<extra></extra>",
         "legendgroup": "NeuralNetTorch/T17",
         "marker": {
          "color": "#ab63fa",
          "symbol": "circle"
         },
         "mode": "markers",
         "name": "NeuralNetTorch/T17",
         "orientation": "v",
         "showlegend": true,
         "type": "scatter",
         "x": [
          0.01
         ],
         "xaxis": "x",
         "y": [
          -0.10127511893734274
         ],
         "yaxis": "y"
        },
        {
         "hovertemplate": "model=NeuralNetTorch/T24<br>learning_rate=%{x}<br>score_val=%{y}<extra></extra>",
         "legendgroup": "NeuralNetTorch/T24",
         "marker": {
          "color": "#FFA15A",
          "symbol": "circle"
         },
         "mode": "markers",
         "name": "NeuralNetTorch/T24",
         "orientation": "v",
         "showlegend": true,
         "type": "scatter",
         "x": [
          0.01
         ],
         "xaxis": "x",
         "y": [
          -0.10127511893734274
         ],
         "yaxis": "y"
        },
        {
         "hovertemplate": "model=NeuralNetTorch/T9<br>learning_rate=%{x}<br>score_val=%{y}<extra></extra>",
         "legendgroup": "NeuralNetTorch/T9",
         "marker": {
          "color": "#19d3f3",
          "symbol": "circle"
         },
         "mode": "markers",
         "name": "NeuralNetTorch/T9",
         "orientation": "v",
         "showlegend": true,
         "type": "scatter",
         "x": [
          0.01
         ],
         "xaxis": "x",
         "y": [
          -0.10185399698220117
         ],
         "yaxis": "y"
        },
        {
         "hovertemplate": "model=NeuralNetTorch/T6<br>learning_rate=%{x}<br>score_val=%{y}<extra></extra>",
         "legendgroup": "NeuralNetTorch/T6",
         "marker": {
          "color": "#FF6692",
          "symbol": "circle"
         },
         "mode": "markers",
         "name": "NeuralNetTorch/T6",
         "orientation": "v",
         "showlegend": true,
         "type": "scatter",
         "x": [
          0.01
         ],
         "xaxis": "x",
         "y": [
          -0.10185399698220117
         ],
         "yaxis": "y"
        },
        {
         "hovertemplate": "model=NeuralNetTorch/T13<br>learning_rate=%{x}<br>score_val=%{y}<extra></extra>",
         "legendgroup": "NeuralNetTorch/T13",
         "marker": {
          "color": "#B6E880",
          "symbol": "circle"
         },
         "mode": "markers",
         "name": "NeuralNetTorch/T13",
         "orientation": "v",
         "showlegend": true,
         "type": "scatter",
         "x": [
          0.01
         ],
         "xaxis": "x",
         "y": [
          -0.10471635375983233
         ],
         "yaxis": "y"
        },
        {
         "hovertemplate": "model=NeuralNetTorch/T20<br>learning_rate=%{x}<br>score_val=%{y}<extra></extra>",
         "legendgroup": "NeuralNetTorch/T20",
         "marker": {
          "color": "#FF97FF",
          "symbol": "circle"
         },
         "mode": "markers",
         "name": "NeuralNetTorch/T20",
         "orientation": "v",
         "showlegend": true,
         "type": "scatter",
         "x": [
          0.01
         ],
         "xaxis": "x",
         "y": [
          -0.10471635375983233
         ],
         "yaxis": "y"
        },
        {
         "hovertemplate": "model=NeuralNetTorch/T19<br>learning_rate=%{x}<br>score_val=%{y}<extra></extra>",
         "legendgroup": "NeuralNetTorch/T19",
         "marker": {
          "color": "#FECB52",
          "symbol": "circle"
         },
         "mode": "markers",
         "name": "NeuralNetTorch/T19",
         "orientation": "v",
         "showlegend": true,
         "type": "scatter",
         "x": [
          0.1
         ],
         "xaxis": "x",
         "y": [
          -0.11026117149158733
         ],
         "yaxis": "y"
        },
        {
         "hovertemplate": "model=NeuralNetTorch/T8<br>learning_rate=%{x}<br>score_val=%{y}<extra></extra>",
         "legendgroup": "NeuralNetTorch/T8",
         "marker": {
          "color": "#636efa",
          "symbol": "circle"
         },
         "mode": "markers",
         "name": "NeuralNetTorch/T8",
         "orientation": "v",
         "showlegend": true,
         "type": "scatter",
         "x": [
          0.1
         ],
         "xaxis": "x",
         "y": [
          -0.11026117149158733
         ],
         "yaxis": "y"
        },
        {
         "hovertemplate": "model=NeuralNetTorch/T21<br>learning_rate=%{x}<br>score_val=%{y}<extra></extra>",
         "legendgroup": "NeuralNetTorch/T21",
         "marker": {
          "color": "#EF553B",
          "symbol": "circle"
         },
         "mode": "markers",
         "name": "NeuralNetTorch/T21",
         "orientation": "v",
         "showlegend": true,
         "type": "scatter",
         "x": [
          0.1
         ],
         "xaxis": "x",
         "y": [
          -0.11851347339614503
         ],
         "yaxis": "y"
        },
        {
         "hovertemplate": "model=NeuralNetTorch/T1<br>learning_rate=%{x}<br>score_val=%{y}<extra></extra>",
         "legendgroup": "NeuralNetTorch/T1",
         "marker": {
          "color": "#00cc96",
          "symbol": "circle"
         },
         "mode": "markers",
         "name": "NeuralNetTorch/T1",
         "orientation": "v",
         "showlegend": true,
         "type": "scatter",
         "x": [
          0.1
         ],
         "xaxis": "x",
         "y": [
          -0.11851347339614503
         ],
         "yaxis": "y"
        },
        {
         "hovertemplate": "model=NeuralNetTorch/T11<br>learning_rate=%{x}<br>score_val=%{y}<extra></extra>",
         "legendgroup": "NeuralNetTorch/T11",
         "marker": {
          "color": "#ab63fa",
          "symbol": "circle"
         },
         "mode": "markers",
         "name": "NeuralNetTorch/T11",
         "orientation": "v",
         "showlegend": true,
         "type": "scatter",
         "x": [
          0.01
         ],
         "xaxis": "x",
         "y": [
          -0.12092273679396805
         ],
         "yaxis": "y"
        },
        {
         "hovertemplate": "model=NeuralNetTorch/T10<br>learning_rate=%{x}<br>score_val=%{y}<extra></extra>",
         "legendgroup": "NeuralNetTorch/T10",
         "marker": {
          "color": "#FFA15A",
          "symbol": "circle"
         },
         "mode": "markers",
         "name": "NeuralNetTorch/T10",
         "orientation": "v",
         "showlegend": true,
         "type": "scatter",
         "x": [
          0.01
         ],
         "xaxis": "x",
         "y": [
          -0.12092273679396805
         ],
         "yaxis": "y"
        }
       ],
       "layout": {
        "legend": {
         "title": {
          "text": "model"
         },
         "tracegroupgap": 0
        },
        "template": {
         "data": {
          "bar": [
           {
            "error_x": {
             "color": "#2a3f5f"
            },
            "error_y": {
             "color": "#2a3f5f"
            },
            "marker": {
             "line": {
              "color": "#E5ECF6",
              "width": 0.5
             },
             "pattern": {
              "fillmode": "overlay",
              "size": 10,
              "solidity": 0.2
             }
            },
            "type": "bar"
           }
          ],
          "barpolar": [
           {
            "marker": {
             "line": {
              "color": "#E5ECF6",
              "width": 0.5
             },
             "pattern": {
              "fillmode": "overlay",
              "size": 10,
              "solidity": 0.2
             }
            },
            "type": "barpolar"
           }
          ],
          "carpet": [
           {
            "aaxis": {
             "endlinecolor": "#2a3f5f",
             "gridcolor": "white",
             "linecolor": "white",
             "minorgridcolor": "white",
             "startlinecolor": "#2a3f5f"
            },
            "baxis": {
             "endlinecolor": "#2a3f5f",
             "gridcolor": "white",
             "linecolor": "white",
             "minorgridcolor": "white",
             "startlinecolor": "#2a3f5f"
            },
            "type": "carpet"
           }
          ],
          "choropleth": [
           {
            "colorbar": {
             "outlinewidth": 0,
             "ticks": ""
            },
            "type": "choropleth"
           }
          ],
          "contour": [
           {
            "colorbar": {
             "outlinewidth": 0,
             "ticks": ""
            },
            "colorscale": [
             [
              0,
              "#0d0887"
             ],
             [
              0.1111111111111111,
              "#46039f"
             ],
             [
              0.2222222222222222,
              "#7201a8"
             ],
             [
              0.3333333333333333,
              "#9c179e"
             ],
             [
              0.4444444444444444,
              "#bd3786"
             ],
             [
              0.5555555555555556,
              "#d8576b"
             ],
             [
              0.6666666666666666,
              "#ed7953"
             ],
             [
              0.7777777777777778,
              "#fb9f3a"
             ],
             [
              0.8888888888888888,
              "#fdca26"
             ],
             [
              1,
              "#f0f921"
             ]
            ],
            "type": "contour"
           }
          ],
          "contourcarpet": [
           {
            "colorbar": {
             "outlinewidth": 0,
             "ticks": ""
            },
            "type": "contourcarpet"
           }
          ],
          "heatmap": [
           {
            "colorbar": {
             "outlinewidth": 0,
             "ticks": ""
            },
            "colorscale": [
             [
              0,
              "#0d0887"
             ],
             [
              0.1111111111111111,
              "#46039f"
             ],
             [
              0.2222222222222222,
              "#7201a8"
             ],
             [
              0.3333333333333333,
              "#9c179e"
             ],
             [
              0.4444444444444444,
              "#bd3786"
             ],
             [
              0.5555555555555556,
              "#d8576b"
             ],
             [
              0.6666666666666666,
              "#ed7953"
             ],
             [
              0.7777777777777778,
              "#fb9f3a"
             ],
             [
              0.8888888888888888,
              "#fdca26"
             ],
             [
              1,
              "#f0f921"
             ]
            ],
            "type": "heatmap"
           }
          ],
          "heatmapgl": [
           {
            "colorbar": {
             "outlinewidth": 0,
             "ticks": ""
            },
            "colorscale": [
             [
              0,
              "#0d0887"
             ],
             [
              0.1111111111111111,
              "#46039f"
             ],
             [
              0.2222222222222222,
              "#7201a8"
             ],
             [
              0.3333333333333333,
              "#9c179e"
             ],
             [
              0.4444444444444444,
              "#bd3786"
             ],
             [
              0.5555555555555556,
              "#d8576b"
             ],
             [
              0.6666666666666666,
              "#ed7953"
             ],
             [
              0.7777777777777778,
              "#fb9f3a"
             ],
             [
              0.8888888888888888,
              "#fdca26"
             ],
             [
              1,
              "#f0f921"
             ]
            ],
            "type": "heatmapgl"
           }
          ],
          "histogram": [
           {
            "marker": {
             "pattern": {
              "fillmode": "overlay",
              "size": 10,
              "solidity": 0.2
             }
            },
            "type": "histogram"
           }
          ],
          "histogram2d": [
           {
            "colorbar": {
             "outlinewidth": 0,
             "ticks": ""
            },
            "colorscale": [
             [
              0,
              "#0d0887"
             ],
             [
              0.1111111111111111,
              "#46039f"
             ],
             [
              0.2222222222222222,
              "#7201a8"
             ],
             [
              0.3333333333333333,
              "#9c179e"
             ],
             [
              0.4444444444444444,
              "#bd3786"
             ],
             [
              0.5555555555555556,
              "#d8576b"
             ],
             [
              0.6666666666666666,
              "#ed7953"
             ],
             [
              0.7777777777777778,
              "#fb9f3a"
             ],
             [
              0.8888888888888888,
              "#fdca26"
             ],
             [
              1,
              "#f0f921"
             ]
            ],
            "type": "histogram2d"
           }
          ],
          "histogram2dcontour": [
           {
            "colorbar": {
             "outlinewidth": 0,
             "ticks": ""
            },
            "colorscale": [
             [
              0,
              "#0d0887"
             ],
             [
              0.1111111111111111,
              "#46039f"
             ],
             [
              0.2222222222222222,
              "#7201a8"
             ],
             [
              0.3333333333333333,
              "#9c179e"
             ],
             [
              0.4444444444444444,
              "#bd3786"
             ],
             [
              0.5555555555555556,
              "#d8576b"
             ],
             [
              0.6666666666666666,
              "#ed7953"
             ],
             [
              0.7777777777777778,
              "#fb9f3a"
             ],
             [
              0.8888888888888888,
              "#fdca26"
             ],
             [
              1,
              "#f0f921"
             ]
            ],
            "type": "histogram2dcontour"
           }
          ],
          "mesh3d": [
           {
            "colorbar": {
             "outlinewidth": 0,
             "ticks": ""
            },
            "type": "mesh3d"
           }
          ],
          "parcoords": [
           {
            "line": {
             "colorbar": {
              "outlinewidth": 0,
              "ticks": ""
             }
            },
            "type": "parcoords"
           }
          ],
          "pie": [
           {
            "automargin": true,
            "type": "pie"
           }
          ],
          "scatter": [
           {
            "fillpattern": {
             "fillmode": "overlay",
             "size": 10,
             "solidity": 0.2
            },
            "type": "scatter"
           }
          ],
          "scatter3d": [
           {
            "line": {
             "colorbar": {
              "outlinewidth": 0,
              "ticks": ""
             }
            },
            "marker": {
             "colorbar": {
              "outlinewidth": 0,
              "ticks": ""
             }
            },
            "type": "scatter3d"
           }
          ],
          "scattercarpet": [
           {
            "marker": {
             "colorbar": {
              "outlinewidth": 0,
              "ticks": ""
             }
            },
            "type": "scattercarpet"
           }
          ],
          "scattergeo": [
           {
            "marker": {
             "colorbar": {
              "outlinewidth": 0,
              "ticks": ""
             }
            },
            "type": "scattergeo"
           }
          ],
          "scattergl": [
           {
            "marker": {
             "colorbar": {
              "outlinewidth": 0,
              "ticks": ""
             }
            },
            "type": "scattergl"
           }
          ],
          "scattermapbox": [
           {
            "marker": {
             "colorbar": {
              "outlinewidth": 0,
              "ticks": ""
             }
            },
            "type": "scattermapbox"
           }
          ],
          "scatterpolar": [
           {
            "marker": {
             "colorbar": {
              "outlinewidth": 0,
              "ticks": ""
             }
            },
            "type": "scatterpolar"
           }
          ],
          "scatterpolargl": [
           {
            "marker": {
             "colorbar": {
              "outlinewidth": 0,
              "ticks": ""
             }
            },
            "type": "scatterpolargl"
           }
          ],
          "scatterternary": [
           {
            "marker": {
             "colorbar": {
              "outlinewidth": 0,
              "ticks": ""
             }
            },
            "type": "scatterternary"
           }
          ],
          "surface": [
           {
            "colorbar": {
             "outlinewidth": 0,
             "ticks": ""
            },
            "colorscale": [
             [
              0,
              "#0d0887"
             ],
             [
              0.1111111111111111,
              "#46039f"
             ],
             [
              0.2222222222222222,
              "#7201a8"
             ],
             [
              0.3333333333333333,
              "#9c179e"
             ],
             [
              0.4444444444444444,
              "#bd3786"
             ],
             [
              0.5555555555555556,
              "#d8576b"
             ],
             [
              0.6666666666666666,
              "#ed7953"
             ],
             [
              0.7777777777777778,
              "#fb9f3a"
             ],
             [
              0.8888888888888888,
              "#fdca26"
             ],
             [
              1,
              "#f0f921"
             ]
            ],
            "type": "surface"
           }
          ],
          "table": [
           {
            "cells": {
             "fill": {
              "color": "#EBF0F8"
             },
             "line": {
              "color": "white"
             }
            },
            "header": {
             "fill": {
              "color": "#C8D4E3"
             },
             "line": {
              "color": "white"
             }
            },
            "type": "table"
           }
          ]
         },
         "layout": {
          "annotationdefaults": {
           "arrowcolor": "#2a3f5f",
           "arrowhead": 0,
           "arrowwidth": 1
          },
          "autotypenumbers": "strict",
          "coloraxis": {
           "colorbar": {
            "outlinewidth": 0,
            "ticks": ""
           }
          },
          "colorscale": {
           "diverging": [
            [
             0,
             "#8e0152"
            ],
            [
             0.1,
             "#c51b7d"
            ],
            [
             0.2,
             "#de77ae"
            ],
            [
             0.3,
             "#f1b6da"
            ],
            [
             0.4,
             "#fde0ef"
            ],
            [
             0.5,
             "#f7f7f7"
            ],
            [
             0.6,
             "#e6f5d0"
            ],
            [
             0.7,
             "#b8e186"
            ],
            [
             0.8,
             "#7fbc41"
            ],
            [
             0.9,
             "#4d9221"
            ],
            [
             1,
             "#276419"
            ]
           ],
           "sequential": [
            [
             0,
             "#0d0887"
            ],
            [
             0.1111111111111111,
             "#46039f"
            ],
            [
             0.2222222222222222,
             "#7201a8"
            ],
            [
             0.3333333333333333,
             "#9c179e"
            ],
            [
             0.4444444444444444,
             "#bd3786"
            ],
            [
             0.5555555555555556,
             "#d8576b"
            ],
            [
             0.6666666666666666,
             "#ed7953"
            ],
            [
             0.7777777777777778,
             "#fb9f3a"
            ],
            [
             0.8888888888888888,
             "#fdca26"
            ],
            [
             1,
             "#f0f921"
            ]
           ],
           "sequentialminus": [
            [
             0,
             "#0d0887"
            ],
            [
             0.1111111111111111,
             "#46039f"
            ],
            [
             0.2222222222222222,
             "#7201a8"
            ],
            [
             0.3333333333333333,
             "#9c179e"
            ],
            [
             0.4444444444444444,
             "#bd3786"
            ],
            [
             0.5555555555555556,
             "#d8576b"
            ],
            [
             0.6666666666666666,
             "#ed7953"
            ],
            [
             0.7777777777777778,
             "#fb9f3a"
            ],
            [
             0.8888888888888888,
             "#fdca26"
            ],
            [
             1,
             "#f0f921"
            ]
           ]
          },
          "colorway": [
           "#636efa",
           "#EF553B",
           "#00cc96",
           "#ab63fa",
           "#FFA15A",
           "#19d3f3",
           "#FF6692",
           "#B6E880",
           "#FF97FF",
           "#FECB52"
          ],
          "font": {
           "color": "#2a3f5f"
          },
          "geo": {
           "bgcolor": "white",
           "lakecolor": "white",
           "landcolor": "#E5ECF6",
           "showlakes": true,
           "showland": true,
           "subunitcolor": "white"
          },
          "hoverlabel": {
           "align": "left"
          },
          "hovermode": "closest",
          "mapbox": {
           "style": "light"
          },
          "paper_bgcolor": "white",
          "plot_bgcolor": "#E5ECF6",
          "polar": {
           "angularaxis": {
            "gridcolor": "white",
            "linecolor": "white",
            "ticks": ""
           },
           "bgcolor": "#E5ECF6",
           "radialaxis": {
            "gridcolor": "white",
            "linecolor": "white",
            "ticks": ""
           }
          },
          "scene": {
           "xaxis": {
            "backgroundcolor": "#E5ECF6",
            "gridcolor": "white",
            "gridwidth": 2,
            "linecolor": "white",
            "showbackground": true,
            "ticks": "",
            "zerolinecolor": "white"
           },
           "yaxis": {
            "backgroundcolor": "#E5ECF6",
            "gridcolor": "white",
            "gridwidth": 2,
            "linecolor": "white",
            "showbackground": true,
            "ticks": "",
            "zerolinecolor": "white"
           },
           "zaxis": {
            "backgroundcolor": "#E5ECF6",
            "gridcolor": "white",
            "gridwidth": 2,
            "linecolor": "white",
            "showbackground": true,
            "ticks": "",
            "zerolinecolor": "white"
           }
          },
          "shapedefaults": {
           "line": {
            "color": "#2a3f5f"
           }
          },
          "ternary": {
           "aaxis": {
            "gridcolor": "white",
            "linecolor": "white",
            "ticks": ""
           },
           "baxis": {
            "gridcolor": "white",
            "linecolor": "white",
            "ticks": ""
           },
           "bgcolor": "#E5ECF6",
           "caxis": {
            "gridcolor": "white",
            "linecolor": "white",
            "ticks": ""
           }
          },
          "title": {
           "x": 0.05
          },
          "xaxis": {
           "automargin": true,
           "gridcolor": "white",
           "linecolor": "white",
           "ticks": "",
           "title": {
            "standoff": 15
           },
           "zerolinecolor": "white",
           "zerolinewidth": 2
          },
          "yaxis": {
           "automargin": true,
           "gridcolor": "white",
           "linecolor": "white",
           "ticks": "",
           "title": {
            "standoff": 15
           },
           "zerolinecolor": "white",
           "zerolinewidth": 2
          }
         }
        },
        "title": {
         "text": "Effect of learning_rate on Score Validation"
        },
        "xaxis": {
         "anchor": "y",
         "domain": [
          0,
          1
         ],
         "title": {
          "text": "learning_rate"
         }
        },
        "yaxis": {
         "anchor": "x",
         "domain": [
          0,
          1
         ],
         "title": {
          "text": "score_val"
         }
        }
       }
      }
     },
     "metadata": {},
     "output_type": "display_data"
    },
    {
     "data": {
      "application/vnd.plotly.v1+json": {
       "config": {
        "plotlyServerURL": "https://plot.ly"
       },
       "data": [
        {
         "hovertemplate": "model=WeightedEnsemble_L2<br>learning_rate=%{x}<br>fit_time=%{y}<extra></extra>",
         "legendgroup": "WeightedEnsemble_L2",
         "marker": {
          "color": "#636efa",
          "symbol": "circle"
         },
         "mode": "markers",
         "name": "WeightedEnsemble_L2",
         "orientation": "v",
         "showlegend": true,
         "type": "scatter",
         "x": [
          null
         ],
         "xaxis": "x",
         "y": [
          12.100504159927368
         ],
         "yaxis": "y"
        },
        {
         "hovertemplate": "model=NeuralNetTorch/T5<br>learning_rate=%{x}<br>fit_time=%{y}<extra></extra>",
         "legendgroup": "NeuralNetTorch/T5",
         "marker": {
          "color": "#EF553B",
          "symbol": "circle"
         },
         "mode": "markers",
         "name": "NeuralNetTorch/T5",
         "orientation": "v",
         "showlegend": true,
         "type": "scatter",
         "x": [
          0.01
         ],
         "xaxis": "x",
         "y": [
          6.563594102859497
         ],
         "yaxis": "y"
        },
        {
         "hovertemplate": "model=NeuralNetTorch/T4<br>learning_rate=%{x}<br>fit_time=%{y}<extra></extra>",
         "legendgroup": "NeuralNetTorch/T4",
         "marker": {
          "color": "#00cc96",
          "symbol": "circle"
         },
         "mode": "markers",
         "name": "NeuralNetTorch/T4",
         "orientation": "v",
         "showlegend": true,
         "type": "scatter",
         "x": [
          0.01
         ],
         "xaxis": "x",
         "y": [
          6.620213031768799
         ],
         "yaxis": "y"
        },
        {
         "hovertemplate": "model=NeuralNetTorch/T3<br>learning_rate=%{x}<br>fit_time=%{y}<extra></extra>",
         "legendgroup": "NeuralNetTorch/T3",
         "marker": {
          "color": "#ab63fa",
          "symbol": "circle"
         },
         "mode": "markers",
         "name": "NeuralNetTorch/T3",
         "orientation": "v",
         "showlegend": true,
         "type": "scatter",
         "x": [
          0.1
         ],
         "xaxis": "x",
         "y": [
          2.6324679851531982
         ],
         "yaxis": "y"
        },
        {
         "hovertemplate": "model=NeuralNetTorch/T15<br>learning_rate=%{x}<br>fit_time=%{y}<extra></extra>",
         "legendgroup": "NeuralNetTorch/T15",
         "marker": {
          "color": "#FFA15A",
          "symbol": "circle"
         },
         "mode": "markers",
         "name": "NeuralNetTorch/T15",
         "orientation": "v",
         "showlegend": true,
         "type": "scatter",
         "x": [
          0.1
         ],
         "xaxis": "x",
         "y": [
          2.6552698612213135
         ],
         "yaxis": "y"
        },
        {
         "hovertemplate": "model=NeuralNetTorch/T18<br>learning_rate=%{x}<br>fit_time=%{y}<extra></extra>",
         "legendgroup": "NeuralNetTorch/T18",
         "marker": {
          "color": "#19d3f3",
          "symbol": "circle"
         },
         "mode": "markers",
         "name": "NeuralNetTorch/T18",
         "orientation": "v",
         "showlegend": true,
         "type": "scatter",
         "x": [
          0.1
         ],
         "xaxis": "x",
         "y": [
          2.9213502407073975
         ],
         "yaxis": "y"
        },
        {
         "hovertemplate": "model=NeuralNetTorch/T2<br>learning_rate=%{x}<br>fit_time=%{y}<extra></extra>",
         "legendgroup": "NeuralNetTorch/T2",
         "marker": {
          "color": "#FF6692",
          "symbol": "circle"
         },
         "mode": "markers",
         "name": "NeuralNetTorch/T2",
         "orientation": "v",
         "showlegend": true,
         "type": "scatter",
         "x": [
          0.1
         ],
         "xaxis": "x",
         "y": [
          2.8096730709075928
         ],
         "yaxis": "y"
        },
        {
         "hovertemplate": "model=NeuralNetTorch/T12<br>learning_rate=%{x}<br>fit_time=%{y}<extra></extra>",
         "legendgroup": "NeuralNetTorch/T12",
         "marker": {
          "color": "#B6E880",
          "symbol": "circle"
         },
         "mode": "markers",
         "name": "NeuralNetTorch/T12",
         "orientation": "v",
         "showlegend": true,
         "type": "scatter",
         "x": [
          0.1
         ],
         "xaxis": "x",
         "y": [
          3.0574231147766113
         ],
         "yaxis": "y"
        },
        {
         "hovertemplate": "model=NeuralNetTorch/T23<br>learning_rate=%{x}<br>fit_time=%{y}<extra></extra>",
         "legendgroup": "NeuralNetTorch/T23",
         "marker": {
          "color": "#FF97FF",
          "symbol": "circle"
         },
         "mode": "markers",
         "name": "NeuralNetTorch/T23",
         "orientation": "v",
         "showlegend": true,
         "type": "scatter",
         "x": [
          0.1
         ],
         "xaxis": "x",
         "y": [
          3.0205729007720947
         ],
         "yaxis": "y"
        },
        {
         "hovertemplate": "model=NeuralNetTorch/T22<br>learning_rate=%{x}<br>fit_time=%{y}<extra></extra>",
         "legendgroup": "NeuralNetTorch/T22",
         "marker": {
          "color": "#FECB52",
          "symbol": "circle"
         },
         "mode": "markers",
         "name": "NeuralNetTorch/T22",
         "orientation": "v",
         "showlegend": true,
         "type": "scatter",
         "x": [
          0.1
         ],
         "xaxis": "x",
         "y": [
          3.4159748554229736
         ],
         "yaxis": "y"
        },
        {
         "hovertemplate": "model=NeuralNetTorch/T14<br>learning_rate=%{x}<br>fit_time=%{y}<extra></extra>",
         "legendgroup": "NeuralNetTorch/T14",
         "marker": {
          "color": "#636efa",
          "symbol": "circle"
         },
         "mode": "markers",
         "name": "NeuralNetTorch/T14",
         "orientation": "v",
         "showlegend": true,
         "type": "scatter",
         "x": [
          0.1
         ],
         "xaxis": "x",
         "y": [
          3.3177878856658936
         ],
         "yaxis": "y"
        },
        {
         "hovertemplate": "model=NeuralNetTorch/T16<br>learning_rate=%{x}<br>fit_time=%{y}<extra></extra>",
         "legendgroup": "NeuralNetTorch/T16",
         "marker": {
          "color": "#EF553B",
          "symbol": "circle"
         },
         "mode": "markers",
         "name": "NeuralNetTorch/T16",
         "orientation": "v",
         "showlegend": true,
         "type": "scatter",
         "x": [
          0.01
         ],
         "xaxis": "x",
         "y": [
          6.747899055480957
         ],
         "yaxis": "y"
        },
        {
         "hovertemplate": "model=NeuralNetTorch/T7<br>learning_rate=%{x}<br>fit_time=%{y}<extra></extra>",
         "legendgroup": "NeuralNetTorch/T7",
         "marker": {
          "color": "#00cc96",
          "symbol": "circle"
         },
         "mode": "markers",
         "name": "NeuralNetTorch/T7",
         "orientation": "v",
         "showlegend": true,
         "type": "scatter",
         "x": [
          0.01
         ],
         "xaxis": "x",
         "y": [
          6.794891119003296
         ],
         "yaxis": "y"
        },
        {
         "hovertemplate": "model=NeuralNetTorch/T17<br>learning_rate=%{x}<br>fit_time=%{y}<extra></extra>",
         "legendgroup": "NeuralNetTorch/T17",
         "marker": {
          "color": "#ab63fa",
          "symbol": "circle"
         },
         "mode": "markers",
         "name": "NeuralNetTorch/T17",
         "orientation": "v",
         "showlegend": true,
         "type": "scatter",
         "x": [
          0.01
         ],
         "xaxis": "x",
         "y": [
          5.708688974380493
         ],
         "yaxis": "y"
        },
        {
         "hovertemplate": "model=NeuralNetTorch/T24<br>learning_rate=%{x}<br>fit_time=%{y}<extra></extra>",
         "legendgroup": "NeuralNetTorch/T24",
         "marker": {
          "color": "#FFA15A",
          "symbol": "circle"
         },
         "mode": "markers",
         "name": "NeuralNetTorch/T24",
         "orientation": "v",
         "showlegend": true,
         "type": "scatter",
         "x": [
          0.01
         ],
         "xaxis": "x",
         "y": [
          5.772013187408447
         ],
         "yaxis": "y"
        },
        {
         "hovertemplate": "model=NeuralNetTorch/T9<br>learning_rate=%{x}<br>fit_time=%{y}<extra></extra>",
         "legendgroup": "NeuralNetTorch/T9",
         "marker": {
          "color": "#19d3f3",
          "symbol": "circle"
         },
         "mode": "markers",
         "name": "NeuralNetTorch/T9",
         "orientation": "v",
         "showlegend": true,
         "type": "scatter",
         "x": [
          0.01
         ],
         "xaxis": "x",
         "y": [
          9.720787048339844
         ],
         "yaxis": "y"
        },
        {
         "hovertemplate": "model=NeuralNetTorch/T6<br>learning_rate=%{x}<br>fit_time=%{y}<extra></extra>",
         "legendgroup": "NeuralNetTorch/T6",
         "marker": {
          "color": "#FF6692",
          "symbol": "circle"
         },
         "mode": "markers",
         "name": "NeuralNetTorch/T6",
         "orientation": "v",
         "showlegend": true,
         "type": "scatter",
         "x": [
          0.01
         ],
         "xaxis": "x",
         "y": [
          9.848424196243286
         ],
         "yaxis": "y"
        },
        {
         "hovertemplate": "model=NeuralNetTorch/T13<br>learning_rate=%{x}<br>fit_time=%{y}<extra></extra>",
         "legendgroup": "NeuralNetTorch/T13",
         "marker": {
          "color": "#B6E880",
          "symbol": "circle"
         },
         "mode": "markers",
         "name": "NeuralNetTorch/T13",
         "orientation": "v",
         "showlegend": true,
         "type": "scatter",
         "x": [
          0.01
         ],
         "xaxis": "x",
         "y": [
          2.456372022628784
         ],
         "yaxis": "y"
        },
        {
         "hovertemplate": "model=NeuralNetTorch/T20<br>learning_rate=%{x}<br>fit_time=%{y}<extra></extra>",
         "legendgroup": "NeuralNetTorch/T20",
         "marker": {
          "color": "#FF97FF",
          "symbol": "circle"
         },
         "mode": "markers",
         "name": "NeuralNetTorch/T20",
         "orientation": "v",
         "showlegend": true,
         "type": "scatter",
         "x": [
          0.01
         ],
         "xaxis": "x",
         "y": [
          2.4334919452667236
         ],
         "yaxis": "y"
        },
        {
         "hovertemplate": "model=NeuralNetTorch/T19<br>learning_rate=%{x}<br>fit_time=%{y}<extra></extra>",
         "legendgroup": "NeuralNetTorch/T19",
         "marker": {
          "color": "#FECB52",
          "symbol": "circle"
         },
         "mode": "markers",
         "name": "NeuralNetTorch/T19",
         "orientation": "v",
         "showlegend": true,
         "type": "scatter",
         "x": [
          0.1
         ],
         "xaxis": "x",
         "y": [
          3.4849750995635986
         ],
         "yaxis": "y"
        },
        {
         "hovertemplate": "model=NeuralNetTorch/T8<br>learning_rate=%{x}<br>fit_time=%{y}<extra></extra>",
         "legendgroup": "NeuralNetTorch/T8",
         "marker": {
          "color": "#636efa",
          "symbol": "circle"
         },
         "mode": "markers",
         "name": "NeuralNetTorch/T8",
         "orientation": "v",
         "showlegend": true,
         "type": "scatter",
         "x": [
          0.1
         ],
         "xaxis": "x",
         "y": [
          3.617314100265503
         ],
         "yaxis": "y"
        },
        {
         "hovertemplate": "model=NeuralNetTorch/T21<br>learning_rate=%{x}<br>fit_time=%{y}<extra></extra>",
         "legendgroup": "NeuralNetTorch/T21",
         "marker": {
          "color": "#EF553B",
          "symbol": "circle"
         },
         "mode": "markers",
         "name": "NeuralNetTorch/T21",
         "orientation": "v",
         "showlegend": true,
         "type": "scatter",
         "x": [
          0.1
         ],
         "xaxis": "x",
         "y": [
          1.3957393169403076
         ],
         "yaxis": "y"
        },
        {
         "hovertemplate": "model=NeuralNetTorch/T1<br>learning_rate=%{x}<br>fit_time=%{y}<extra></extra>",
         "legendgroup": "NeuralNetTorch/T1",
         "marker": {
          "color": "#00cc96",
          "symbol": "circle"
         },
         "mode": "markers",
         "name": "NeuralNetTorch/T1",
         "orientation": "v",
         "showlegend": true,
         "type": "scatter",
         "x": [
          0.1
         ],
         "xaxis": "x",
         "y": [
          1.4611179828643799
         ],
         "yaxis": "y"
        },
        {
         "hovertemplate": "model=NeuralNetTorch/T11<br>learning_rate=%{x}<br>fit_time=%{y}<extra></extra>",
         "legendgroup": "NeuralNetTorch/T11",
         "marker": {
          "color": "#ab63fa",
          "symbol": "circle"
         },
         "mode": "markers",
         "name": "NeuralNetTorch/T11",
         "orientation": "v",
         "showlegend": true,
         "type": "scatter",
         "x": [
          0.01
         ],
         "xaxis": "x",
         "y": [
          2.874695062637329
         ],
         "yaxis": "y"
        },
        {
         "hovertemplate": "model=NeuralNetTorch/T10<br>learning_rate=%{x}<br>fit_time=%{y}<extra></extra>",
         "legendgroup": "NeuralNetTorch/T10",
         "marker": {
          "color": "#FFA15A",
          "symbol": "circle"
         },
         "mode": "markers",
         "name": "NeuralNetTorch/T10",
         "orientation": "v",
         "showlegend": true,
         "type": "scatter",
         "x": [
          0.01
         ],
         "xaxis": "x",
         "y": [
          2.8843531608581543
         ],
         "yaxis": "y"
        }
       ],
       "layout": {
        "legend": {
         "title": {
          "text": "model"
         },
         "tracegroupgap": 0
        },
        "template": {
         "data": {
          "bar": [
           {
            "error_x": {
             "color": "#2a3f5f"
            },
            "error_y": {
             "color": "#2a3f5f"
            },
            "marker": {
             "line": {
              "color": "#E5ECF6",
              "width": 0.5
             },
             "pattern": {
              "fillmode": "overlay",
              "size": 10,
              "solidity": 0.2
             }
            },
            "type": "bar"
           }
          ],
          "barpolar": [
           {
            "marker": {
             "line": {
              "color": "#E5ECF6",
              "width": 0.5
             },
             "pattern": {
              "fillmode": "overlay",
              "size": 10,
              "solidity": 0.2
             }
            },
            "type": "barpolar"
           }
          ],
          "carpet": [
           {
            "aaxis": {
             "endlinecolor": "#2a3f5f",
             "gridcolor": "white",
             "linecolor": "white",
             "minorgridcolor": "white",
             "startlinecolor": "#2a3f5f"
            },
            "baxis": {
             "endlinecolor": "#2a3f5f",
             "gridcolor": "white",
             "linecolor": "white",
             "minorgridcolor": "white",
             "startlinecolor": "#2a3f5f"
            },
            "type": "carpet"
           }
          ],
          "choropleth": [
           {
            "colorbar": {
             "outlinewidth": 0,
             "ticks": ""
            },
            "type": "choropleth"
           }
          ],
          "contour": [
           {
            "colorbar": {
             "outlinewidth": 0,
             "ticks": ""
            },
            "colorscale": [
             [
              0,
              "#0d0887"
             ],
             [
              0.1111111111111111,
              "#46039f"
             ],
             [
              0.2222222222222222,
              "#7201a8"
             ],
             [
              0.3333333333333333,
              "#9c179e"
             ],
             [
              0.4444444444444444,
              "#bd3786"
             ],
             [
              0.5555555555555556,
              "#d8576b"
             ],
             [
              0.6666666666666666,
              "#ed7953"
             ],
             [
              0.7777777777777778,
              "#fb9f3a"
             ],
             [
              0.8888888888888888,
              "#fdca26"
             ],
             [
              1,
              "#f0f921"
             ]
            ],
            "type": "contour"
           }
          ],
          "contourcarpet": [
           {
            "colorbar": {
             "outlinewidth": 0,
             "ticks": ""
            },
            "type": "contourcarpet"
           }
          ],
          "heatmap": [
           {
            "colorbar": {
             "outlinewidth": 0,
             "ticks": ""
            },
            "colorscale": [
             [
              0,
              "#0d0887"
             ],
             [
              0.1111111111111111,
              "#46039f"
             ],
             [
              0.2222222222222222,
              "#7201a8"
             ],
             [
              0.3333333333333333,
              "#9c179e"
             ],
             [
              0.4444444444444444,
              "#bd3786"
             ],
             [
              0.5555555555555556,
              "#d8576b"
             ],
             [
              0.6666666666666666,
              "#ed7953"
             ],
             [
              0.7777777777777778,
              "#fb9f3a"
             ],
             [
              0.8888888888888888,
              "#fdca26"
             ],
             [
              1,
              "#f0f921"
             ]
            ],
            "type": "heatmap"
           }
          ],
          "heatmapgl": [
           {
            "colorbar": {
             "outlinewidth": 0,
             "ticks": ""
            },
            "colorscale": [
             [
              0,
              "#0d0887"
             ],
             [
              0.1111111111111111,
              "#46039f"
             ],
             [
              0.2222222222222222,
              "#7201a8"
             ],
             [
              0.3333333333333333,
              "#9c179e"
             ],
             [
              0.4444444444444444,
              "#bd3786"
             ],
             [
              0.5555555555555556,
              "#d8576b"
             ],
             [
              0.6666666666666666,
              "#ed7953"
             ],
             [
              0.7777777777777778,
              "#fb9f3a"
             ],
             [
              0.8888888888888888,
              "#fdca26"
             ],
             [
              1,
              "#f0f921"
             ]
            ],
            "type": "heatmapgl"
           }
          ],
          "histogram": [
           {
            "marker": {
             "pattern": {
              "fillmode": "overlay",
              "size": 10,
              "solidity": 0.2
             }
            },
            "type": "histogram"
           }
          ],
          "histogram2d": [
           {
            "colorbar": {
             "outlinewidth": 0,
             "ticks": ""
            },
            "colorscale": [
             [
              0,
              "#0d0887"
             ],
             [
              0.1111111111111111,
              "#46039f"
             ],
             [
              0.2222222222222222,
              "#7201a8"
             ],
             [
              0.3333333333333333,
              "#9c179e"
             ],
             [
              0.4444444444444444,
              "#bd3786"
             ],
             [
              0.5555555555555556,
              "#d8576b"
             ],
             [
              0.6666666666666666,
              "#ed7953"
             ],
             [
              0.7777777777777778,
              "#fb9f3a"
             ],
             [
              0.8888888888888888,
              "#fdca26"
             ],
             [
              1,
              "#f0f921"
             ]
            ],
            "type": "histogram2d"
           }
          ],
          "histogram2dcontour": [
           {
            "colorbar": {
             "outlinewidth": 0,
             "ticks": ""
            },
            "colorscale": [
             [
              0,
              "#0d0887"
             ],
             [
              0.1111111111111111,
              "#46039f"
             ],
             [
              0.2222222222222222,
              "#7201a8"
             ],
             [
              0.3333333333333333,
              "#9c179e"
             ],
             [
              0.4444444444444444,
              "#bd3786"
             ],
             [
              0.5555555555555556,
              "#d8576b"
             ],
             [
              0.6666666666666666,
              "#ed7953"
             ],
             [
              0.7777777777777778,
              "#fb9f3a"
             ],
             [
              0.8888888888888888,
              "#fdca26"
             ],
             [
              1,
              "#f0f921"
             ]
            ],
            "type": "histogram2dcontour"
           }
          ],
          "mesh3d": [
           {
            "colorbar": {
             "outlinewidth": 0,
             "ticks": ""
            },
            "type": "mesh3d"
           }
          ],
          "parcoords": [
           {
            "line": {
             "colorbar": {
              "outlinewidth": 0,
              "ticks": ""
             }
            },
            "type": "parcoords"
           }
          ],
          "pie": [
           {
            "automargin": true,
            "type": "pie"
           }
          ],
          "scatter": [
           {
            "fillpattern": {
             "fillmode": "overlay",
             "size": 10,
             "solidity": 0.2
            },
            "type": "scatter"
           }
          ],
          "scatter3d": [
           {
            "line": {
             "colorbar": {
              "outlinewidth": 0,
              "ticks": ""
             }
            },
            "marker": {
             "colorbar": {
              "outlinewidth": 0,
              "ticks": ""
             }
            },
            "type": "scatter3d"
           }
          ],
          "scattercarpet": [
           {
            "marker": {
             "colorbar": {
              "outlinewidth": 0,
              "ticks": ""
             }
            },
            "type": "scattercarpet"
           }
          ],
          "scattergeo": [
           {
            "marker": {
             "colorbar": {
              "outlinewidth": 0,
              "ticks": ""
             }
            },
            "type": "scattergeo"
           }
          ],
          "scattergl": [
           {
            "marker": {
             "colorbar": {
              "outlinewidth": 0,
              "ticks": ""
             }
            },
            "type": "scattergl"
           }
          ],
          "scattermapbox": [
           {
            "marker": {
             "colorbar": {
              "outlinewidth": 0,
              "ticks": ""
             }
            },
            "type": "scattermapbox"
           }
          ],
          "scatterpolar": [
           {
            "marker": {
             "colorbar": {
              "outlinewidth": 0,
              "ticks": ""
             }
            },
            "type": "scatterpolar"
           }
          ],
          "scatterpolargl": [
           {
            "marker": {
             "colorbar": {
              "outlinewidth": 0,
              "ticks": ""
             }
            },
            "type": "scatterpolargl"
           }
          ],
          "scatterternary": [
           {
            "marker": {
             "colorbar": {
              "outlinewidth": 0,
              "ticks": ""
             }
            },
            "type": "scatterternary"
           }
          ],
          "surface": [
           {
            "colorbar": {
             "outlinewidth": 0,
             "ticks": ""
            },
            "colorscale": [
             [
              0,
              "#0d0887"
             ],
             [
              0.1111111111111111,
              "#46039f"
             ],
             [
              0.2222222222222222,
              "#7201a8"
             ],
             [
              0.3333333333333333,
              "#9c179e"
             ],
             [
              0.4444444444444444,
              "#bd3786"
             ],
             [
              0.5555555555555556,
              "#d8576b"
             ],
             [
              0.6666666666666666,
              "#ed7953"
             ],
             [
              0.7777777777777778,
              "#fb9f3a"
             ],
             [
              0.8888888888888888,
              "#fdca26"
             ],
             [
              1,
              "#f0f921"
             ]
            ],
            "type": "surface"
           }
          ],
          "table": [
           {
            "cells": {
             "fill": {
              "color": "#EBF0F8"
             },
             "line": {
              "color": "white"
             }
            },
            "header": {
             "fill": {
              "color": "#C8D4E3"
             },
             "line": {
              "color": "white"
             }
            },
            "type": "table"
           }
          ]
         },
         "layout": {
          "annotationdefaults": {
           "arrowcolor": "#2a3f5f",
           "arrowhead": 0,
           "arrowwidth": 1
          },
          "autotypenumbers": "strict",
          "coloraxis": {
           "colorbar": {
            "outlinewidth": 0,
            "ticks": ""
           }
          },
          "colorscale": {
           "diverging": [
            [
             0,
             "#8e0152"
            ],
            [
             0.1,
             "#c51b7d"
            ],
            [
             0.2,
             "#de77ae"
            ],
            [
             0.3,
             "#f1b6da"
            ],
            [
             0.4,
             "#fde0ef"
            ],
            [
             0.5,
             "#f7f7f7"
            ],
            [
             0.6,
             "#e6f5d0"
            ],
            [
             0.7,
             "#b8e186"
            ],
            [
             0.8,
             "#7fbc41"
            ],
            [
             0.9,
             "#4d9221"
            ],
            [
             1,
             "#276419"
            ]
           ],
           "sequential": [
            [
             0,
             "#0d0887"
            ],
            [
             0.1111111111111111,
             "#46039f"
            ],
            [
             0.2222222222222222,
             "#7201a8"
            ],
            [
             0.3333333333333333,
             "#9c179e"
            ],
            [
             0.4444444444444444,
             "#bd3786"
            ],
            [
             0.5555555555555556,
             "#d8576b"
            ],
            [
             0.6666666666666666,
             "#ed7953"
            ],
            [
             0.7777777777777778,
             "#fb9f3a"
            ],
            [
             0.8888888888888888,
             "#fdca26"
            ],
            [
             1,
             "#f0f921"
            ]
           ],
           "sequentialminus": [
            [
             0,
             "#0d0887"
            ],
            [
             0.1111111111111111,
             "#46039f"
            ],
            [
             0.2222222222222222,
             "#7201a8"
            ],
            [
             0.3333333333333333,
             "#9c179e"
            ],
            [
             0.4444444444444444,
             "#bd3786"
            ],
            [
             0.5555555555555556,
             "#d8576b"
            ],
            [
             0.6666666666666666,
             "#ed7953"
            ],
            [
             0.7777777777777778,
             "#fb9f3a"
            ],
            [
             0.8888888888888888,
             "#fdca26"
            ],
            [
             1,
             "#f0f921"
            ]
           ]
          },
          "colorway": [
           "#636efa",
           "#EF553B",
           "#00cc96",
           "#ab63fa",
           "#FFA15A",
           "#19d3f3",
           "#FF6692",
           "#B6E880",
           "#FF97FF",
           "#FECB52"
          ],
          "font": {
           "color": "#2a3f5f"
          },
          "geo": {
           "bgcolor": "white",
           "lakecolor": "white",
           "landcolor": "#E5ECF6",
           "showlakes": true,
           "showland": true,
           "subunitcolor": "white"
          },
          "hoverlabel": {
           "align": "left"
          },
          "hovermode": "closest",
          "mapbox": {
           "style": "light"
          },
          "paper_bgcolor": "white",
          "plot_bgcolor": "#E5ECF6",
          "polar": {
           "angularaxis": {
            "gridcolor": "white",
            "linecolor": "white",
            "ticks": ""
           },
           "bgcolor": "#E5ECF6",
           "radialaxis": {
            "gridcolor": "white",
            "linecolor": "white",
            "ticks": ""
           }
          },
          "scene": {
           "xaxis": {
            "backgroundcolor": "#E5ECF6",
            "gridcolor": "white",
            "gridwidth": 2,
            "linecolor": "white",
            "showbackground": true,
            "ticks": "",
            "zerolinecolor": "white"
           },
           "yaxis": {
            "backgroundcolor": "#E5ECF6",
            "gridcolor": "white",
            "gridwidth": 2,
            "linecolor": "white",
            "showbackground": true,
            "ticks": "",
            "zerolinecolor": "white"
           },
           "zaxis": {
            "backgroundcolor": "#E5ECF6",
            "gridcolor": "white",
            "gridwidth": 2,
            "linecolor": "white",
            "showbackground": true,
            "ticks": "",
            "zerolinecolor": "white"
           }
          },
          "shapedefaults": {
           "line": {
            "color": "#2a3f5f"
           }
          },
          "ternary": {
           "aaxis": {
            "gridcolor": "white",
            "linecolor": "white",
            "ticks": ""
           },
           "baxis": {
            "gridcolor": "white",
            "linecolor": "white",
            "ticks": ""
           },
           "bgcolor": "#E5ECF6",
           "caxis": {
            "gridcolor": "white",
            "linecolor": "white",
            "ticks": ""
           }
          },
          "title": {
           "x": 0.05
          },
          "xaxis": {
           "automargin": true,
           "gridcolor": "white",
           "linecolor": "white",
           "ticks": "",
           "title": {
            "standoff": 15
           },
           "zerolinecolor": "white",
           "zerolinewidth": 2
          },
          "yaxis": {
           "automargin": true,
           "gridcolor": "white",
           "linecolor": "white",
           "ticks": "",
           "title": {
            "standoff": 15
           },
           "zerolinecolor": "white",
           "zerolinewidth": 2
          }
         }
        },
        "title": {
         "text": "Effect of learning_rate on Fit Time"
        },
        "xaxis": {
         "anchor": "y",
         "domain": [
          0,
          1
         ],
         "title": {
          "text": "learning_rate"
         }
        },
        "yaxis": {
         "anchor": "x",
         "domain": [
          0,
          1
         ],
         "title": {
          "text": "fit_time"
         }
        }
       }
      }
     },
     "metadata": {},
     "output_type": "display_data"
    },
    {
     "data": {
      "application/vnd.plotly.v1+json": {
       "config": {
        "plotlyServerURL": "https://plot.ly"
       },
       "data": [
        {
         "hovertemplate": "model=WeightedEnsemble_L2<br>max_batch_size=%{x}<br>score_val=%{y}<extra></extra>",
         "legendgroup": "WeightedEnsemble_L2",
         "marker": {
          "color": "#636efa",
          "symbol": "circle"
         },
         "mode": "markers",
         "name": "WeightedEnsemble_L2",
         "orientation": "v",
         "showlegend": true,
         "type": "scatter",
         "x": [
          null
         ],
         "xaxis": "x",
         "y": [
          -0.09283762531040665
         ],
         "yaxis": "y"
        },
        {
         "hovertemplate": "model=NeuralNetTorch/T5<br>max_batch_size=%{x}<br>score_val=%{y}<extra></extra>",
         "legendgroup": "NeuralNetTorch/T5",
         "marker": {
          "color": "#EF553B",
          "symbol": "circle"
         },
         "mode": "markers",
         "name": "NeuralNetTorch/T5",
         "orientation": "v",
         "showlegend": true,
         "type": "scatter",
         "x": [
          1024
         ],
         "xaxis": "x",
         "y": [
          -0.09718056049551435
         ],
         "yaxis": "y"
        },
        {
         "hovertemplate": "model=NeuralNetTorch/T4<br>max_batch_size=%{x}<br>score_val=%{y}<extra></extra>",
         "legendgroup": "NeuralNetTorch/T4",
         "marker": {
          "color": "#00cc96",
          "symbol": "circle"
         },
         "mode": "markers",
         "name": "NeuralNetTorch/T4",
         "orientation": "v",
         "showlegend": true,
         "type": "scatter",
         "x": [
          512
         ],
         "xaxis": "x",
         "y": [
          -0.09718056049551435
         ],
         "yaxis": "y"
        },
        {
         "hovertemplate": "model=NeuralNetTorch/T3<br>max_batch_size=%{x}<br>score_val=%{y}<extra></extra>",
         "legendgroup": "NeuralNetTorch/T3",
         "marker": {
          "color": "#ab63fa",
          "symbol": "circle"
         },
         "mode": "markers",
         "name": "NeuralNetTorch/T3",
         "orientation": "v",
         "showlegend": true,
         "type": "scatter",
         "x": [
          512
         ],
         "xaxis": "x",
         "y": [
          -0.09772584164848322
         ],
         "yaxis": "y"
        },
        {
         "hovertemplate": "model=NeuralNetTorch/T15<br>max_batch_size=%{x}<br>score_val=%{y}<extra></extra>",
         "legendgroup": "NeuralNetTorch/T15",
         "marker": {
          "color": "#FFA15A",
          "symbol": "circle"
         },
         "mode": "markers",
         "name": "NeuralNetTorch/T15",
         "orientation": "v",
         "showlegend": true,
         "type": "scatter",
         "x": [
          1024
         ],
         "xaxis": "x",
         "y": [
          -0.09772584164848322
         ],
         "yaxis": "y"
        },
        {
         "hovertemplate": "model=NeuralNetTorch/T18<br>max_batch_size=%{x}<br>score_val=%{y}<extra></extra>",
         "legendgroup": "NeuralNetTorch/T18",
         "marker": {
          "color": "#19d3f3",
          "symbol": "circle"
         },
         "mode": "markers",
         "name": "NeuralNetTorch/T18",
         "orientation": "v",
         "showlegend": true,
         "type": "scatter",
         "x": [
          512
         ],
         "xaxis": "x",
         "y": [
          -0.09854319484382841
         ],
         "yaxis": "y"
        },
        {
         "hovertemplate": "model=NeuralNetTorch/T2<br>max_batch_size=%{x}<br>score_val=%{y}<extra></extra>",
         "legendgroup": "NeuralNetTorch/T2",
         "marker": {
          "color": "#FF6692",
          "symbol": "circle"
         },
         "mode": "markers",
         "name": "NeuralNetTorch/T2",
         "orientation": "v",
         "showlegend": true,
         "type": "scatter",
         "x": [
          1024
         ],
         "xaxis": "x",
         "y": [
          -0.09854319484382841
         ],
         "yaxis": "y"
        },
        {
         "hovertemplate": "model=NeuralNetTorch/T12<br>max_batch_size=%{x}<br>score_val=%{y}<extra></extra>",
         "legendgroup": "NeuralNetTorch/T12",
         "marker": {
          "color": "#B6E880",
          "symbol": "circle"
         },
         "mode": "markers",
         "name": "NeuralNetTorch/T12",
         "orientation": "v",
         "showlegend": true,
         "type": "scatter",
         "x": [
          512
         ],
         "xaxis": "x",
         "y": [
          -0.09994911260448675
         ],
         "yaxis": "y"
        },
        {
         "hovertemplate": "model=NeuralNetTorch/T23<br>max_batch_size=%{x}<br>score_val=%{y}<extra></extra>",
         "legendgroup": "NeuralNetTorch/T23",
         "marker": {
          "color": "#FF97FF",
          "symbol": "circle"
         },
         "mode": "markers",
         "name": "NeuralNetTorch/T23",
         "orientation": "v",
         "showlegend": true,
         "type": "scatter",
         "x": [
          1024
         ],
         "xaxis": "x",
         "y": [
          -0.09994911260448675
         ],
         "yaxis": "y"
        },
        {
         "hovertemplate": "model=NeuralNetTorch/T22<br>max_batch_size=%{x}<br>score_val=%{y}<extra></extra>",
         "legendgroup": "NeuralNetTorch/T22",
         "marker": {
          "color": "#FECB52",
          "symbol": "circle"
         },
         "mode": "markers",
         "name": "NeuralNetTorch/T22",
         "orientation": "v",
         "showlegend": true,
         "type": "scatter",
         "x": [
          512
         ],
         "xaxis": "x",
         "y": [
          -0.1005814922850195
         ],
         "yaxis": "y"
        },
        {
         "hovertemplate": "model=NeuralNetTorch/T14<br>max_batch_size=%{x}<br>score_val=%{y}<extra></extra>",
         "legendgroup": "NeuralNetTorch/T14",
         "marker": {
          "color": "#636efa",
          "symbol": "circle"
         },
         "mode": "markers",
         "name": "NeuralNetTorch/T14",
         "orientation": "v",
         "showlegend": true,
         "type": "scatter",
         "x": [
          1024
         ],
         "xaxis": "x",
         "y": [
          -0.1005814922850195
         ],
         "yaxis": "y"
        },
        {
         "hovertemplate": "model=NeuralNetTorch/T16<br>max_batch_size=%{x}<br>score_val=%{y}<extra></extra>",
         "legendgroup": "NeuralNetTorch/T16",
         "marker": {
          "color": "#EF553B",
          "symbol": "circle"
         },
         "mode": "markers",
         "name": "NeuralNetTorch/T16",
         "orientation": "v",
         "showlegend": true,
         "type": "scatter",
         "x": [
          1024
         ],
         "xaxis": "x",
         "y": [
          -0.10081385598733485
         ],
         "yaxis": "y"
        },
        {
         "hovertemplate": "model=NeuralNetTorch/T7<br>max_batch_size=%{x}<br>score_val=%{y}<extra></extra>",
         "legendgroup": "NeuralNetTorch/T7",
         "marker": {
          "color": "#00cc96",
          "symbol": "circle"
         },
         "mode": "markers",
         "name": "NeuralNetTorch/T7",
         "orientation": "v",
         "showlegend": true,
         "type": "scatter",
         "x": [
          512
         ],
         "xaxis": "x",
         "y": [
          -0.10081385598733485
         ],
         "yaxis": "y"
        },
        {
         "hovertemplate": "model=NeuralNetTorch/T17<br>max_batch_size=%{x}<br>score_val=%{y}<extra></extra>",
         "legendgroup": "NeuralNetTorch/T17",
         "marker": {
          "color": "#ab63fa",
          "symbol": "circle"
         },
         "mode": "markers",
         "name": "NeuralNetTorch/T17",
         "orientation": "v",
         "showlegend": true,
         "type": "scatter",
         "x": [
          1024
         ],
         "xaxis": "x",
         "y": [
          -0.10127511893734274
         ],
         "yaxis": "y"
        },
        {
         "hovertemplate": "model=NeuralNetTorch/T24<br>max_batch_size=%{x}<br>score_val=%{y}<extra></extra>",
         "legendgroup": "NeuralNetTorch/T24",
         "marker": {
          "color": "#FFA15A",
          "symbol": "circle"
         },
         "mode": "markers",
         "name": "NeuralNetTorch/T24",
         "orientation": "v",
         "showlegend": true,
         "type": "scatter",
         "x": [
          512
         ],
         "xaxis": "x",
         "y": [
          -0.10127511893734274
         ],
         "yaxis": "y"
        },
        {
         "hovertemplate": "model=NeuralNetTorch/T9<br>max_batch_size=%{x}<br>score_val=%{y}<extra></extra>",
         "legendgroup": "NeuralNetTorch/T9",
         "marker": {
          "color": "#19d3f3",
          "symbol": "circle"
         },
         "mode": "markers",
         "name": "NeuralNetTorch/T9",
         "orientation": "v",
         "showlegend": true,
         "type": "scatter",
         "x": [
          1024
         ],
         "xaxis": "x",
         "y": [
          -0.10185399698220117
         ],
         "yaxis": "y"
        },
        {
         "hovertemplate": "model=NeuralNetTorch/T6<br>max_batch_size=%{x}<br>score_val=%{y}<extra></extra>",
         "legendgroup": "NeuralNetTorch/T6",
         "marker": {
          "color": "#FF6692",
          "symbol": "circle"
         },
         "mode": "markers",
         "name": "NeuralNetTorch/T6",
         "orientation": "v",
         "showlegend": true,
         "type": "scatter",
         "x": [
          512
         ],
         "xaxis": "x",
         "y": [
          -0.10185399698220117
         ],
         "yaxis": "y"
        },
        {
         "hovertemplate": "model=NeuralNetTorch/T13<br>max_batch_size=%{x}<br>score_val=%{y}<extra></extra>",
         "legendgroup": "NeuralNetTorch/T13",
         "marker": {
          "color": "#B6E880",
          "symbol": "circle"
         },
         "mode": "markers",
         "name": "NeuralNetTorch/T13",
         "orientation": "v",
         "showlegend": true,
         "type": "scatter",
         "x": [
          1024
         ],
         "xaxis": "x",
         "y": [
          -0.10471635375983233
         ],
         "yaxis": "y"
        },
        {
         "hovertemplate": "model=NeuralNetTorch/T20<br>max_batch_size=%{x}<br>score_val=%{y}<extra></extra>",
         "legendgroup": "NeuralNetTorch/T20",
         "marker": {
          "color": "#FF97FF",
          "symbol": "circle"
         },
         "mode": "markers",
         "name": "NeuralNetTorch/T20",
         "orientation": "v",
         "showlegend": true,
         "type": "scatter",
         "x": [
          512
         ],
         "xaxis": "x",
         "y": [
          -0.10471635375983233
         ],
         "yaxis": "y"
        },
        {
         "hovertemplate": "model=NeuralNetTorch/T19<br>max_batch_size=%{x}<br>score_val=%{y}<extra></extra>",
         "legendgroup": "NeuralNetTorch/T19",
         "marker": {
          "color": "#FECB52",
          "symbol": "circle"
         },
         "mode": "markers",
         "name": "NeuralNetTorch/T19",
         "orientation": "v",
         "showlegend": true,
         "type": "scatter",
         "x": [
          1024
         ],
         "xaxis": "x",
         "y": [
          -0.11026117149158733
         ],
         "yaxis": "y"
        },
        {
         "hovertemplate": "model=NeuralNetTorch/T8<br>max_batch_size=%{x}<br>score_val=%{y}<extra></extra>",
         "legendgroup": "NeuralNetTorch/T8",
         "marker": {
          "color": "#636efa",
          "symbol": "circle"
         },
         "mode": "markers",
         "name": "NeuralNetTorch/T8",
         "orientation": "v",
         "showlegend": true,
         "type": "scatter",
         "x": [
          512
         ],
         "xaxis": "x",
         "y": [
          -0.11026117149158733
         ],
         "yaxis": "y"
        },
        {
         "hovertemplate": "model=NeuralNetTorch/T21<br>max_batch_size=%{x}<br>score_val=%{y}<extra></extra>",
         "legendgroup": "NeuralNetTorch/T21",
         "marker": {
          "color": "#EF553B",
          "symbol": "circle"
         },
         "mode": "markers",
         "name": "NeuralNetTorch/T21",
         "orientation": "v",
         "showlegend": true,
         "type": "scatter",
         "x": [
          1024
         ],
         "xaxis": "x",
         "y": [
          -0.11851347339614503
         ],
         "yaxis": "y"
        },
        {
         "hovertemplate": "model=NeuralNetTorch/T1<br>max_batch_size=%{x}<br>score_val=%{y}<extra></extra>",
         "legendgroup": "NeuralNetTorch/T1",
         "marker": {
          "color": "#00cc96",
          "symbol": "circle"
         },
         "mode": "markers",
         "name": "NeuralNetTorch/T1",
         "orientation": "v",
         "showlegend": true,
         "type": "scatter",
         "x": [
          512
         ],
         "xaxis": "x",
         "y": [
          -0.11851347339614503
         ],
         "yaxis": "y"
        },
        {
         "hovertemplate": "model=NeuralNetTorch/T11<br>max_batch_size=%{x}<br>score_val=%{y}<extra></extra>",
         "legendgroup": "NeuralNetTorch/T11",
         "marker": {
          "color": "#ab63fa",
          "symbol": "circle"
         },
         "mode": "markers",
         "name": "NeuralNetTorch/T11",
         "orientation": "v",
         "showlegend": true,
         "type": "scatter",
         "x": [
          1024
         ],
         "xaxis": "x",
         "y": [
          -0.12092273679396805
         ],
         "yaxis": "y"
        },
        {
         "hovertemplate": "model=NeuralNetTorch/T10<br>max_batch_size=%{x}<br>score_val=%{y}<extra></extra>",
         "legendgroup": "NeuralNetTorch/T10",
         "marker": {
          "color": "#FFA15A",
          "symbol": "circle"
         },
         "mode": "markers",
         "name": "NeuralNetTorch/T10",
         "orientation": "v",
         "showlegend": true,
         "type": "scatter",
         "x": [
          512
         ],
         "xaxis": "x",
         "y": [
          -0.12092273679396805
         ],
         "yaxis": "y"
        }
       ],
       "layout": {
        "legend": {
         "title": {
          "text": "model"
         },
         "tracegroupgap": 0
        },
        "template": {
         "data": {
          "bar": [
           {
            "error_x": {
             "color": "#2a3f5f"
            },
            "error_y": {
             "color": "#2a3f5f"
            },
            "marker": {
             "line": {
              "color": "#E5ECF6",
              "width": 0.5
             },
             "pattern": {
              "fillmode": "overlay",
              "size": 10,
              "solidity": 0.2
             }
            },
            "type": "bar"
           }
          ],
          "barpolar": [
           {
            "marker": {
             "line": {
              "color": "#E5ECF6",
              "width": 0.5
             },
             "pattern": {
              "fillmode": "overlay",
              "size": 10,
              "solidity": 0.2
             }
            },
            "type": "barpolar"
           }
          ],
          "carpet": [
           {
            "aaxis": {
             "endlinecolor": "#2a3f5f",
             "gridcolor": "white",
             "linecolor": "white",
             "minorgridcolor": "white",
             "startlinecolor": "#2a3f5f"
            },
            "baxis": {
             "endlinecolor": "#2a3f5f",
             "gridcolor": "white",
             "linecolor": "white",
             "minorgridcolor": "white",
             "startlinecolor": "#2a3f5f"
            },
            "type": "carpet"
           }
          ],
          "choropleth": [
           {
            "colorbar": {
             "outlinewidth": 0,
             "ticks": ""
            },
            "type": "choropleth"
           }
          ],
          "contour": [
           {
            "colorbar": {
             "outlinewidth": 0,
             "ticks": ""
            },
            "colorscale": [
             [
              0,
              "#0d0887"
             ],
             [
              0.1111111111111111,
              "#46039f"
             ],
             [
              0.2222222222222222,
              "#7201a8"
             ],
             [
              0.3333333333333333,
              "#9c179e"
             ],
             [
              0.4444444444444444,
              "#bd3786"
             ],
             [
              0.5555555555555556,
              "#d8576b"
             ],
             [
              0.6666666666666666,
              "#ed7953"
             ],
             [
              0.7777777777777778,
              "#fb9f3a"
             ],
             [
              0.8888888888888888,
              "#fdca26"
             ],
             [
              1,
              "#f0f921"
             ]
            ],
            "type": "contour"
           }
          ],
          "contourcarpet": [
           {
            "colorbar": {
             "outlinewidth": 0,
             "ticks": ""
            },
            "type": "contourcarpet"
           }
          ],
          "heatmap": [
           {
            "colorbar": {
             "outlinewidth": 0,
             "ticks": ""
            },
            "colorscale": [
             [
              0,
              "#0d0887"
             ],
             [
              0.1111111111111111,
              "#46039f"
             ],
             [
              0.2222222222222222,
              "#7201a8"
             ],
             [
              0.3333333333333333,
              "#9c179e"
             ],
             [
              0.4444444444444444,
              "#bd3786"
             ],
             [
              0.5555555555555556,
              "#d8576b"
             ],
             [
              0.6666666666666666,
              "#ed7953"
             ],
             [
              0.7777777777777778,
              "#fb9f3a"
             ],
             [
              0.8888888888888888,
              "#fdca26"
             ],
             [
              1,
              "#f0f921"
             ]
            ],
            "type": "heatmap"
           }
          ],
          "heatmapgl": [
           {
            "colorbar": {
             "outlinewidth": 0,
             "ticks": ""
            },
            "colorscale": [
             [
              0,
              "#0d0887"
             ],
             [
              0.1111111111111111,
              "#46039f"
             ],
             [
              0.2222222222222222,
              "#7201a8"
             ],
             [
              0.3333333333333333,
              "#9c179e"
             ],
             [
              0.4444444444444444,
              "#bd3786"
             ],
             [
              0.5555555555555556,
              "#d8576b"
             ],
             [
              0.6666666666666666,
              "#ed7953"
             ],
             [
              0.7777777777777778,
              "#fb9f3a"
             ],
             [
              0.8888888888888888,
              "#fdca26"
             ],
             [
              1,
              "#f0f921"
             ]
            ],
            "type": "heatmapgl"
           }
          ],
          "histogram": [
           {
            "marker": {
             "pattern": {
              "fillmode": "overlay",
              "size": 10,
              "solidity": 0.2
             }
            },
            "type": "histogram"
           }
          ],
          "histogram2d": [
           {
            "colorbar": {
             "outlinewidth": 0,
             "ticks": ""
            },
            "colorscale": [
             [
              0,
              "#0d0887"
             ],
             [
              0.1111111111111111,
              "#46039f"
             ],
             [
              0.2222222222222222,
              "#7201a8"
             ],
             [
              0.3333333333333333,
              "#9c179e"
             ],
             [
              0.4444444444444444,
              "#bd3786"
             ],
             [
              0.5555555555555556,
              "#d8576b"
             ],
             [
              0.6666666666666666,
              "#ed7953"
             ],
             [
              0.7777777777777778,
              "#fb9f3a"
             ],
             [
              0.8888888888888888,
              "#fdca26"
             ],
             [
              1,
              "#f0f921"
             ]
            ],
            "type": "histogram2d"
           }
          ],
          "histogram2dcontour": [
           {
            "colorbar": {
             "outlinewidth": 0,
             "ticks": ""
            },
            "colorscale": [
             [
              0,
              "#0d0887"
             ],
             [
              0.1111111111111111,
              "#46039f"
             ],
             [
              0.2222222222222222,
              "#7201a8"
             ],
             [
              0.3333333333333333,
              "#9c179e"
             ],
             [
              0.4444444444444444,
              "#bd3786"
             ],
             [
              0.5555555555555556,
              "#d8576b"
             ],
             [
              0.6666666666666666,
              "#ed7953"
             ],
             [
              0.7777777777777778,
              "#fb9f3a"
             ],
             [
              0.8888888888888888,
              "#fdca26"
             ],
             [
              1,
              "#f0f921"
             ]
            ],
            "type": "histogram2dcontour"
           }
          ],
          "mesh3d": [
           {
            "colorbar": {
             "outlinewidth": 0,
             "ticks": ""
            },
            "type": "mesh3d"
           }
          ],
          "parcoords": [
           {
            "line": {
             "colorbar": {
              "outlinewidth": 0,
              "ticks": ""
             }
            },
            "type": "parcoords"
           }
          ],
          "pie": [
           {
            "automargin": true,
            "type": "pie"
           }
          ],
          "scatter": [
           {
            "fillpattern": {
             "fillmode": "overlay",
             "size": 10,
             "solidity": 0.2
            },
            "type": "scatter"
           }
          ],
          "scatter3d": [
           {
            "line": {
             "colorbar": {
              "outlinewidth": 0,
              "ticks": ""
             }
            },
            "marker": {
             "colorbar": {
              "outlinewidth": 0,
              "ticks": ""
             }
            },
            "type": "scatter3d"
           }
          ],
          "scattercarpet": [
           {
            "marker": {
             "colorbar": {
              "outlinewidth": 0,
              "ticks": ""
             }
            },
            "type": "scattercarpet"
           }
          ],
          "scattergeo": [
           {
            "marker": {
             "colorbar": {
              "outlinewidth": 0,
              "ticks": ""
             }
            },
            "type": "scattergeo"
           }
          ],
          "scattergl": [
           {
            "marker": {
             "colorbar": {
              "outlinewidth": 0,
              "ticks": ""
             }
            },
            "type": "scattergl"
           }
          ],
          "scattermapbox": [
           {
            "marker": {
             "colorbar": {
              "outlinewidth": 0,
              "ticks": ""
             }
            },
            "type": "scattermapbox"
           }
          ],
          "scatterpolar": [
           {
            "marker": {
             "colorbar": {
              "outlinewidth": 0,
              "ticks": ""
             }
            },
            "type": "scatterpolar"
           }
          ],
          "scatterpolargl": [
           {
            "marker": {
             "colorbar": {
              "outlinewidth": 0,
              "ticks": ""
             }
            },
            "type": "scatterpolargl"
           }
          ],
          "scatterternary": [
           {
            "marker": {
             "colorbar": {
              "outlinewidth": 0,
              "ticks": ""
             }
            },
            "type": "scatterternary"
           }
          ],
          "surface": [
           {
            "colorbar": {
             "outlinewidth": 0,
             "ticks": ""
            },
            "colorscale": [
             [
              0,
              "#0d0887"
             ],
             [
              0.1111111111111111,
              "#46039f"
             ],
             [
              0.2222222222222222,
              "#7201a8"
             ],
             [
              0.3333333333333333,
              "#9c179e"
             ],
             [
              0.4444444444444444,
              "#bd3786"
             ],
             [
              0.5555555555555556,
              "#d8576b"
             ],
             [
              0.6666666666666666,
              "#ed7953"
             ],
             [
              0.7777777777777778,
              "#fb9f3a"
             ],
             [
              0.8888888888888888,
              "#fdca26"
             ],
             [
              1,
              "#f0f921"
             ]
            ],
            "type": "surface"
           }
          ],
          "table": [
           {
            "cells": {
             "fill": {
              "color": "#EBF0F8"
             },
             "line": {
              "color": "white"
             }
            },
            "header": {
             "fill": {
              "color": "#C8D4E3"
             },
             "line": {
              "color": "white"
             }
            },
            "type": "table"
           }
          ]
         },
         "layout": {
          "annotationdefaults": {
           "arrowcolor": "#2a3f5f",
           "arrowhead": 0,
           "arrowwidth": 1
          },
          "autotypenumbers": "strict",
          "coloraxis": {
           "colorbar": {
            "outlinewidth": 0,
            "ticks": ""
           }
          },
          "colorscale": {
           "diverging": [
            [
             0,
             "#8e0152"
            ],
            [
             0.1,
             "#c51b7d"
            ],
            [
             0.2,
             "#de77ae"
            ],
            [
             0.3,
             "#f1b6da"
            ],
            [
             0.4,
             "#fde0ef"
            ],
            [
             0.5,
             "#f7f7f7"
            ],
            [
             0.6,
             "#e6f5d0"
            ],
            [
             0.7,
             "#b8e186"
            ],
            [
             0.8,
             "#7fbc41"
            ],
            [
             0.9,
             "#4d9221"
            ],
            [
             1,
             "#276419"
            ]
           ],
           "sequential": [
            [
             0,
             "#0d0887"
            ],
            [
             0.1111111111111111,
             "#46039f"
            ],
            [
             0.2222222222222222,
             "#7201a8"
            ],
            [
             0.3333333333333333,
             "#9c179e"
            ],
            [
             0.4444444444444444,
             "#bd3786"
            ],
            [
             0.5555555555555556,
             "#d8576b"
            ],
            [
             0.6666666666666666,
             "#ed7953"
            ],
            [
             0.7777777777777778,
             "#fb9f3a"
            ],
            [
             0.8888888888888888,
             "#fdca26"
            ],
            [
             1,
             "#f0f921"
            ]
           ],
           "sequentialminus": [
            [
             0,
             "#0d0887"
            ],
            [
             0.1111111111111111,
             "#46039f"
            ],
            [
             0.2222222222222222,
             "#7201a8"
            ],
            [
             0.3333333333333333,
             "#9c179e"
            ],
            [
             0.4444444444444444,
             "#bd3786"
            ],
            [
             0.5555555555555556,
             "#d8576b"
            ],
            [
             0.6666666666666666,
             "#ed7953"
            ],
            [
             0.7777777777777778,
             "#fb9f3a"
            ],
            [
             0.8888888888888888,
             "#fdca26"
            ],
            [
             1,
             "#f0f921"
            ]
           ]
          },
          "colorway": [
           "#636efa",
           "#EF553B",
           "#00cc96",
           "#ab63fa",
           "#FFA15A",
           "#19d3f3",
           "#FF6692",
           "#B6E880",
           "#FF97FF",
           "#FECB52"
          ],
          "font": {
           "color": "#2a3f5f"
          },
          "geo": {
           "bgcolor": "white",
           "lakecolor": "white",
           "landcolor": "#E5ECF6",
           "showlakes": true,
           "showland": true,
           "subunitcolor": "white"
          },
          "hoverlabel": {
           "align": "left"
          },
          "hovermode": "closest",
          "mapbox": {
           "style": "light"
          },
          "paper_bgcolor": "white",
          "plot_bgcolor": "#E5ECF6",
          "polar": {
           "angularaxis": {
            "gridcolor": "white",
            "linecolor": "white",
            "ticks": ""
           },
           "bgcolor": "#E5ECF6",
           "radialaxis": {
            "gridcolor": "white",
            "linecolor": "white",
            "ticks": ""
           }
          },
          "scene": {
           "xaxis": {
            "backgroundcolor": "#E5ECF6",
            "gridcolor": "white",
            "gridwidth": 2,
            "linecolor": "white",
            "showbackground": true,
            "ticks": "",
            "zerolinecolor": "white"
           },
           "yaxis": {
            "backgroundcolor": "#E5ECF6",
            "gridcolor": "white",
            "gridwidth": 2,
            "linecolor": "white",
            "showbackground": true,
            "ticks": "",
            "zerolinecolor": "white"
           },
           "zaxis": {
            "backgroundcolor": "#E5ECF6",
            "gridcolor": "white",
            "gridwidth": 2,
            "linecolor": "white",
            "showbackground": true,
            "ticks": "",
            "zerolinecolor": "white"
           }
          },
          "shapedefaults": {
           "line": {
            "color": "#2a3f5f"
           }
          },
          "ternary": {
           "aaxis": {
            "gridcolor": "white",
            "linecolor": "white",
            "ticks": ""
           },
           "baxis": {
            "gridcolor": "white",
            "linecolor": "white",
            "ticks": ""
           },
           "bgcolor": "#E5ECF6",
           "caxis": {
            "gridcolor": "white",
            "linecolor": "white",
            "ticks": ""
           }
          },
          "title": {
           "x": 0.05
          },
          "xaxis": {
           "automargin": true,
           "gridcolor": "white",
           "linecolor": "white",
           "ticks": "",
           "title": {
            "standoff": 15
           },
           "zerolinecolor": "white",
           "zerolinewidth": 2
          },
          "yaxis": {
           "automargin": true,
           "gridcolor": "white",
           "linecolor": "white",
           "ticks": "",
           "title": {
            "standoff": 15
           },
           "zerolinecolor": "white",
           "zerolinewidth": 2
          }
         }
        },
        "title": {
         "text": "Effect of max_batch_size on Score Validation"
        },
        "xaxis": {
         "anchor": "y",
         "domain": [
          0,
          1
         ],
         "title": {
          "text": "max_batch_size"
         }
        },
        "yaxis": {
         "anchor": "x",
         "domain": [
          0,
          1
         ],
         "title": {
          "text": "score_val"
         }
        }
       }
      }
     },
     "metadata": {},
     "output_type": "display_data"
    },
    {
     "data": {
      "application/vnd.plotly.v1+json": {
       "config": {
        "plotlyServerURL": "https://plot.ly"
       },
       "data": [
        {
         "hovertemplate": "model=WeightedEnsemble_L2<br>max_batch_size=%{x}<br>fit_time=%{y}<extra></extra>",
         "legendgroup": "WeightedEnsemble_L2",
         "marker": {
          "color": "#636efa",
          "symbol": "circle"
         },
         "mode": "markers",
         "name": "WeightedEnsemble_L2",
         "orientation": "v",
         "showlegend": true,
         "type": "scatter",
         "x": [
          null
         ],
         "xaxis": "x",
         "y": [
          12.100504159927368
         ],
         "yaxis": "y"
        },
        {
         "hovertemplate": "model=NeuralNetTorch/T5<br>max_batch_size=%{x}<br>fit_time=%{y}<extra></extra>",
         "legendgroup": "NeuralNetTorch/T5",
         "marker": {
          "color": "#EF553B",
          "symbol": "circle"
         },
         "mode": "markers",
         "name": "NeuralNetTorch/T5",
         "orientation": "v",
         "showlegend": true,
         "type": "scatter",
         "x": [
          1024
         ],
         "xaxis": "x",
         "y": [
          6.563594102859497
         ],
         "yaxis": "y"
        },
        {
         "hovertemplate": "model=NeuralNetTorch/T4<br>max_batch_size=%{x}<br>fit_time=%{y}<extra></extra>",
         "legendgroup": "NeuralNetTorch/T4",
         "marker": {
          "color": "#00cc96",
          "symbol": "circle"
         },
         "mode": "markers",
         "name": "NeuralNetTorch/T4",
         "orientation": "v",
         "showlegend": true,
         "type": "scatter",
         "x": [
          512
         ],
         "xaxis": "x",
         "y": [
          6.620213031768799
         ],
         "yaxis": "y"
        },
        {
         "hovertemplate": "model=NeuralNetTorch/T3<br>max_batch_size=%{x}<br>fit_time=%{y}<extra></extra>",
         "legendgroup": "NeuralNetTorch/T3",
         "marker": {
          "color": "#ab63fa",
          "symbol": "circle"
         },
         "mode": "markers",
         "name": "NeuralNetTorch/T3",
         "orientation": "v",
         "showlegend": true,
         "type": "scatter",
         "x": [
          512
         ],
         "xaxis": "x",
         "y": [
          2.6324679851531982
         ],
         "yaxis": "y"
        },
        {
         "hovertemplate": "model=NeuralNetTorch/T15<br>max_batch_size=%{x}<br>fit_time=%{y}<extra></extra>",
         "legendgroup": "NeuralNetTorch/T15",
         "marker": {
          "color": "#FFA15A",
          "symbol": "circle"
         },
         "mode": "markers",
         "name": "NeuralNetTorch/T15",
         "orientation": "v",
         "showlegend": true,
         "type": "scatter",
         "x": [
          1024
         ],
         "xaxis": "x",
         "y": [
          2.6552698612213135
         ],
         "yaxis": "y"
        },
        {
         "hovertemplate": "model=NeuralNetTorch/T18<br>max_batch_size=%{x}<br>fit_time=%{y}<extra></extra>",
         "legendgroup": "NeuralNetTorch/T18",
         "marker": {
          "color": "#19d3f3",
          "symbol": "circle"
         },
         "mode": "markers",
         "name": "NeuralNetTorch/T18",
         "orientation": "v",
         "showlegend": true,
         "type": "scatter",
         "x": [
          512
         ],
         "xaxis": "x",
         "y": [
          2.9213502407073975
         ],
         "yaxis": "y"
        },
        {
         "hovertemplate": "model=NeuralNetTorch/T2<br>max_batch_size=%{x}<br>fit_time=%{y}<extra></extra>",
         "legendgroup": "NeuralNetTorch/T2",
         "marker": {
          "color": "#FF6692",
          "symbol": "circle"
         },
         "mode": "markers",
         "name": "NeuralNetTorch/T2",
         "orientation": "v",
         "showlegend": true,
         "type": "scatter",
         "x": [
          1024
         ],
         "xaxis": "x",
         "y": [
          2.8096730709075928
         ],
         "yaxis": "y"
        },
        {
         "hovertemplate": "model=NeuralNetTorch/T12<br>max_batch_size=%{x}<br>fit_time=%{y}<extra></extra>",
         "legendgroup": "NeuralNetTorch/T12",
         "marker": {
          "color": "#B6E880",
          "symbol": "circle"
         },
         "mode": "markers",
         "name": "NeuralNetTorch/T12",
         "orientation": "v",
         "showlegend": true,
         "type": "scatter",
         "x": [
          512
         ],
         "xaxis": "x",
         "y": [
          3.0574231147766113
         ],
         "yaxis": "y"
        },
        {
         "hovertemplate": "model=NeuralNetTorch/T23<br>max_batch_size=%{x}<br>fit_time=%{y}<extra></extra>",
         "legendgroup": "NeuralNetTorch/T23",
         "marker": {
          "color": "#FF97FF",
          "symbol": "circle"
         },
         "mode": "markers",
         "name": "NeuralNetTorch/T23",
         "orientation": "v",
         "showlegend": true,
         "type": "scatter",
         "x": [
          1024
         ],
         "xaxis": "x",
         "y": [
          3.0205729007720947
         ],
         "yaxis": "y"
        },
        {
         "hovertemplate": "model=NeuralNetTorch/T22<br>max_batch_size=%{x}<br>fit_time=%{y}<extra></extra>",
         "legendgroup": "NeuralNetTorch/T22",
         "marker": {
          "color": "#FECB52",
          "symbol": "circle"
         },
         "mode": "markers",
         "name": "NeuralNetTorch/T22",
         "orientation": "v",
         "showlegend": true,
         "type": "scatter",
         "x": [
          512
         ],
         "xaxis": "x",
         "y": [
          3.4159748554229736
         ],
         "yaxis": "y"
        },
        {
         "hovertemplate": "model=NeuralNetTorch/T14<br>max_batch_size=%{x}<br>fit_time=%{y}<extra></extra>",
         "legendgroup": "NeuralNetTorch/T14",
         "marker": {
          "color": "#636efa",
          "symbol": "circle"
         },
         "mode": "markers",
         "name": "NeuralNetTorch/T14",
         "orientation": "v",
         "showlegend": true,
         "type": "scatter",
         "x": [
          1024
         ],
         "xaxis": "x",
         "y": [
          3.3177878856658936
         ],
         "yaxis": "y"
        },
        {
         "hovertemplate": "model=NeuralNetTorch/T16<br>max_batch_size=%{x}<br>fit_time=%{y}<extra></extra>",
         "legendgroup": "NeuralNetTorch/T16",
         "marker": {
          "color": "#EF553B",
          "symbol": "circle"
         },
         "mode": "markers",
         "name": "NeuralNetTorch/T16",
         "orientation": "v",
         "showlegend": true,
         "type": "scatter",
         "x": [
          1024
         ],
         "xaxis": "x",
         "y": [
          6.747899055480957
         ],
         "yaxis": "y"
        },
        {
         "hovertemplate": "model=NeuralNetTorch/T7<br>max_batch_size=%{x}<br>fit_time=%{y}<extra></extra>",
         "legendgroup": "NeuralNetTorch/T7",
         "marker": {
          "color": "#00cc96",
          "symbol": "circle"
         },
         "mode": "markers",
         "name": "NeuralNetTorch/T7",
         "orientation": "v",
         "showlegend": true,
         "type": "scatter",
         "x": [
          512
         ],
         "xaxis": "x",
         "y": [
          6.794891119003296
         ],
         "yaxis": "y"
        },
        {
         "hovertemplate": "model=NeuralNetTorch/T17<br>max_batch_size=%{x}<br>fit_time=%{y}<extra></extra>",
         "legendgroup": "NeuralNetTorch/T17",
         "marker": {
          "color": "#ab63fa",
          "symbol": "circle"
         },
         "mode": "markers",
         "name": "NeuralNetTorch/T17",
         "orientation": "v",
         "showlegend": true,
         "type": "scatter",
         "x": [
          1024
         ],
         "xaxis": "x",
         "y": [
          5.708688974380493
         ],
         "yaxis": "y"
        },
        {
         "hovertemplate": "model=NeuralNetTorch/T24<br>max_batch_size=%{x}<br>fit_time=%{y}<extra></extra>",
         "legendgroup": "NeuralNetTorch/T24",
         "marker": {
          "color": "#FFA15A",
          "symbol": "circle"
         },
         "mode": "markers",
         "name": "NeuralNetTorch/T24",
         "orientation": "v",
         "showlegend": true,
         "type": "scatter",
         "x": [
          512
         ],
         "xaxis": "x",
         "y": [
          5.772013187408447
         ],
         "yaxis": "y"
        },
        {
         "hovertemplate": "model=NeuralNetTorch/T9<br>max_batch_size=%{x}<br>fit_time=%{y}<extra></extra>",
         "legendgroup": "NeuralNetTorch/T9",
         "marker": {
          "color": "#19d3f3",
          "symbol": "circle"
         },
         "mode": "markers",
         "name": "NeuralNetTorch/T9",
         "orientation": "v",
         "showlegend": true,
         "type": "scatter",
         "x": [
          1024
         ],
         "xaxis": "x",
         "y": [
          9.720787048339844
         ],
         "yaxis": "y"
        },
        {
         "hovertemplate": "model=NeuralNetTorch/T6<br>max_batch_size=%{x}<br>fit_time=%{y}<extra></extra>",
         "legendgroup": "NeuralNetTorch/T6",
         "marker": {
          "color": "#FF6692",
          "symbol": "circle"
         },
         "mode": "markers",
         "name": "NeuralNetTorch/T6",
         "orientation": "v",
         "showlegend": true,
         "type": "scatter",
         "x": [
          512
         ],
         "xaxis": "x",
         "y": [
          9.848424196243286
         ],
         "yaxis": "y"
        },
        {
         "hovertemplate": "model=NeuralNetTorch/T13<br>max_batch_size=%{x}<br>fit_time=%{y}<extra></extra>",
         "legendgroup": "NeuralNetTorch/T13",
         "marker": {
          "color": "#B6E880",
          "symbol": "circle"
         },
         "mode": "markers",
         "name": "NeuralNetTorch/T13",
         "orientation": "v",
         "showlegend": true,
         "type": "scatter",
         "x": [
          1024
         ],
         "xaxis": "x",
         "y": [
          2.456372022628784
         ],
         "yaxis": "y"
        },
        {
         "hovertemplate": "model=NeuralNetTorch/T20<br>max_batch_size=%{x}<br>fit_time=%{y}<extra></extra>",
         "legendgroup": "NeuralNetTorch/T20",
         "marker": {
          "color": "#FF97FF",
          "symbol": "circle"
         },
         "mode": "markers",
         "name": "NeuralNetTorch/T20",
         "orientation": "v",
         "showlegend": true,
         "type": "scatter",
         "x": [
          512
         ],
         "xaxis": "x",
         "y": [
          2.4334919452667236
         ],
         "yaxis": "y"
        },
        {
         "hovertemplate": "model=NeuralNetTorch/T19<br>max_batch_size=%{x}<br>fit_time=%{y}<extra></extra>",
         "legendgroup": "NeuralNetTorch/T19",
         "marker": {
          "color": "#FECB52",
          "symbol": "circle"
         },
         "mode": "markers",
         "name": "NeuralNetTorch/T19",
         "orientation": "v",
         "showlegend": true,
         "type": "scatter",
         "x": [
          1024
         ],
         "xaxis": "x",
         "y": [
          3.4849750995635986
         ],
         "yaxis": "y"
        },
        {
         "hovertemplate": "model=NeuralNetTorch/T8<br>max_batch_size=%{x}<br>fit_time=%{y}<extra></extra>",
         "legendgroup": "NeuralNetTorch/T8",
         "marker": {
          "color": "#636efa",
          "symbol": "circle"
         },
         "mode": "markers",
         "name": "NeuralNetTorch/T8",
         "orientation": "v",
         "showlegend": true,
         "type": "scatter",
         "x": [
          512
         ],
         "xaxis": "x",
         "y": [
          3.617314100265503
         ],
         "yaxis": "y"
        },
        {
         "hovertemplate": "model=NeuralNetTorch/T21<br>max_batch_size=%{x}<br>fit_time=%{y}<extra></extra>",
         "legendgroup": "NeuralNetTorch/T21",
         "marker": {
          "color": "#EF553B",
          "symbol": "circle"
         },
         "mode": "markers",
         "name": "NeuralNetTorch/T21",
         "orientation": "v",
         "showlegend": true,
         "type": "scatter",
         "x": [
          1024
         ],
         "xaxis": "x",
         "y": [
          1.3957393169403076
         ],
         "yaxis": "y"
        },
        {
         "hovertemplate": "model=NeuralNetTorch/T1<br>max_batch_size=%{x}<br>fit_time=%{y}<extra></extra>",
         "legendgroup": "NeuralNetTorch/T1",
         "marker": {
          "color": "#00cc96",
          "symbol": "circle"
         },
         "mode": "markers",
         "name": "NeuralNetTorch/T1",
         "orientation": "v",
         "showlegend": true,
         "type": "scatter",
         "x": [
          512
         ],
         "xaxis": "x",
         "y": [
          1.4611179828643799
         ],
         "yaxis": "y"
        },
        {
         "hovertemplate": "model=NeuralNetTorch/T11<br>max_batch_size=%{x}<br>fit_time=%{y}<extra></extra>",
         "legendgroup": "NeuralNetTorch/T11",
         "marker": {
          "color": "#ab63fa",
          "symbol": "circle"
         },
         "mode": "markers",
         "name": "NeuralNetTorch/T11",
         "orientation": "v",
         "showlegend": true,
         "type": "scatter",
         "x": [
          1024
         ],
         "xaxis": "x",
         "y": [
          2.874695062637329
         ],
         "yaxis": "y"
        },
        {
         "hovertemplate": "model=NeuralNetTorch/T10<br>max_batch_size=%{x}<br>fit_time=%{y}<extra></extra>",
         "legendgroup": "NeuralNetTorch/T10",
         "marker": {
          "color": "#FFA15A",
          "symbol": "circle"
         },
         "mode": "markers",
         "name": "NeuralNetTorch/T10",
         "orientation": "v",
         "showlegend": true,
         "type": "scatter",
         "x": [
          512
         ],
         "xaxis": "x",
         "y": [
          2.8843531608581543
         ],
         "yaxis": "y"
        }
       ],
       "layout": {
        "legend": {
         "title": {
          "text": "model"
         },
         "tracegroupgap": 0
        },
        "template": {
         "data": {
          "bar": [
           {
            "error_x": {
             "color": "#2a3f5f"
            },
            "error_y": {
             "color": "#2a3f5f"
            },
            "marker": {
             "line": {
              "color": "#E5ECF6",
              "width": 0.5
             },
             "pattern": {
              "fillmode": "overlay",
              "size": 10,
              "solidity": 0.2
             }
            },
            "type": "bar"
           }
          ],
          "barpolar": [
           {
            "marker": {
             "line": {
              "color": "#E5ECF6",
              "width": 0.5
             },
             "pattern": {
              "fillmode": "overlay",
              "size": 10,
              "solidity": 0.2
             }
            },
            "type": "barpolar"
           }
          ],
          "carpet": [
           {
            "aaxis": {
             "endlinecolor": "#2a3f5f",
             "gridcolor": "white",
             "linecolor": "white",
             "minorgridcolor": "white",
             "startlinecolor": "#2a3f5f"
            },
            "baxis": {
             "endlinecolor": "#2a3f5f",
             "gridcolor": "white",
             "linecolor": "white",
             "minorgridcolor": "white",
             "startlinecolor": "#2a3f5f"
            },
            "type": "carpet"
           }
          ],
          "choropleth": [
           {
            "colorbar": {
             "outlinewidth": 0,
             "ticks": ""
            },
            "type": "choropleth"
           }
          ],
          "contour": [
           {
            "colorbar": {
             "outlinewidth": 0,
             "ticks": ""
            },
            "colorscale": [
             [
              0,
              "#0d0887"
             ],
             [
              0.1111111111111111,
              "#46039f"
             ],
             [
              0.2222222222222222,
              "#7201a8"
             ],
             [
              0.3333333333333333,
              "#9c179e"
             ],
             [
              0.4444444444444444,
              "#bd3786"
             ],
             [
              0.5555555555555556,
              "#d8576b"
             ],
             [
              0.6666666666666666,
              "#ed7953"
             ],
             [
              0.7777777777777778,
              "#fb9f3a"
             ],
             [
              0.8888888888888888,
              "#fdca26"
             ],
             [
              1,
              "#f0f921"
             ]
            ],
            "type": "contour"
           }
          ],
          "contourcarpet": [
           {
            "colorbar": {
             "outlinewidth": 0,
             "ticks": ""
            },
            "type": "contourcarpet"
           }
          ],
          "heatmap": [
           {
            "colorbar": {
             "outlinewidth": 0,
             "ticks": ""
            },
            "colorscale": [
             [
              0,
              "#0d0887"
             ],
             [
              0.1111111111111111,
              "#46039f"
             ],
             [
              0.2222222222222222,
              "#7201a8"
             ],
             [
              0.3333333333333333,
              "#9c179e"
             ],
             [
              0.4444444444444444,
              "#bd3786"
             ],
             [
              0.5555555555555556,
              "#d8576b"
             ],
             [
              0.6666666666666666,
              "#ed7953"
             ],
             [
              0.7777777777777778,
              "#fb9f3a"
             ],
             [
              0.8888888888888888,
              "#fdca26"
             ],
             [
              1,
              "#f0f921"
             ]
            ],
            "type": "heatmap"
           }
          ],
          "heatmapgl": [
           {
            "colorbar": {
             "outlinewidth": 0,
             "ticks": ""
            },
            "colorscale": [
             [
              0,
              "#0d0887"
             ],
             [
              0.1111111111111111,
              "#46039f"
             ],
             [
              0.2222222222222222,
              "#7201a8"
             ],
             [
              0.3333333333333333,
              "#9c179e"
             ],
             [
              0.4444444444444444,
              "#bd3786"
             ],
             [
              0.5555555555555556,
              "#d8576b"
             ],
             [
              0.6666666666666666,
              "#ed7953"
             ],
             [
              0.7777777777777778,
              "#fb9f3a"
             ],
             [
              0.8888888888888888,
              "#fdca26"
             ],
             [
              1,
              "#f0f921"
             ]
            ],
            "type": "heatmapgl"
           }
          ],
          "histogram": [
           {
            "marker": {
             "pattern": {
              "fillmode": "overlay",
              "size": 10,
              "solidity": 0.2
             }
            },
            "type": "histogram"
           }
          ],
          "histogram2d": [
           {
            "colorbar": {
             "outlinewidth": 0,
             "ticks": ""
            },
            "colorscale": [
             [
              0,
              "#0d0887"
             ],
             [
              0.1111111111111111,
              "#46039f"
             ],
             [
              0.2222222222222222,
              "#7201a8"
             ],
             [
              0.3333333333333333,
              "#9c179e"
             ],
             [
              0.4444444444444444,
              "#bd3786"
             ],
             [
              0.5555555555555556,
              "#d8576b"
             ],
             [
              0.6666666666666666,
              "#ed7953"
             ],
             [
              0.7777777777777778,
              "#fb9f3a"
             ],
             [
              0.8888888888888888,
              "#fdca26"
             ],
             [
              1,
              "#f0f921"
             ]
            ],
            "type": "histogram2d"
           }
          ],
          "histogram2dcontour": [
           {
            "colorbar": {
             "outlinewidth": 0,
             "ticks": ""
            },
            "colorscale": [
             [
              0,
              "#0d0887"
             ],
             [
              0.1111111111111111,
              "#46039f"
             ],
             [
              0.2222222222222222,
              "#7201a8"
             ],
             [
              0.3333333333333333,
              "#9c179e"
             ],
             [
              0.4444444444444444,
              "#bd3786"
             ],
             [
              0.5555555555555556,
              "#d8576b"
             ],
             [
              0.6666666666666666,
              "#ed7953"
             ],
             [
              0.7777777777777778,
              "#fb9f3a"
             ],
             [
              0.8888888888888888,
              "#fdca26"
             ],
             [
              1,
              "#f0f921"
             ]
            ],
            "type": "histogram2dcontour"
           }
          ],
          "mesh3d": [
           {
            "colorbar": {
             "outlinewidth": 0,
             "ticks": ""
            },
            "type": "mesh3d"
           }
          ],
          "parcoords": [
           {
            "line": {
             "colorbar": {
              "outlinewidth": 0,
              "ticks": ""
             }
            },
            "type": "parcoords"
           }
          ],
          "pie": [
           {
            "automargin": true,
            "type": "pie"
           }
          ],
          "scatter": [
           {
            "fillpattern": {
             "fillmode": "overlay",
             "size": 10,
             "solidity": 0.2
            },
            "type": "scatter"
           }
          ],
          "scatter3d": [
           {
            "line": {
             "colorbar": {
              "outlinewidth": 0,
              "ticks": ""
             }
            },
            "marker": {
             "colorbar": {
              "outlinewidth": 0,
              "ticks": ""
             }
            },
            "type": "scatter3d"
           }
          ],
          "scattercarpet": [
           {
            "marker": {
             "colorbar": {
              "outlinewidth": 0,
              "ticks": ""
             }
            },
            "type": "scattercarpet"
           }
          ],
          "scattergeo": [
           {
            "marker": {
             "colorbar": {
              "outlinewidth": 0,
              "ticks": ""
             }
            },
            "type": "scattergeo"
           }
          ],
          "scattergl": [
           {
            "marker": {
             "colorbar": {
              "outlinewidth": 0,
              "ticks": ""
             }
            },
            "type": "scattergl"
           }
          ],
          "scattermapbox": [
           {
            "marker": {
             "colorbar": {
              "outlinewidth": 0,
              "ticks": ""
             }
            },
            "type": "scattermapbox"
           }
          ],
          "scatterpolar": [
           {
            "marker": {
             "colorbar": {
              "outlinewidth": 0,
              "ticks": ""
             }
            },
            "type": "scatterpolar"
           }
          ],
          "scatterpolargl": [
           {
            "marker": {
             "colorbar": {
              "outlinewidth": 0,
              "ticks": ""
             }
            },
            "type": "scatterpolargl"
           }
          ],
          "scatterternary": [
           {
            "marker": {
             "colorbar": {
              "outlinewidth": 0,
              "ticks": ""
             }
            },
            "type": "scatterternary"
           }
          ],
          "surface": [
           {
            "colorbar": {
             "outlinewidth": 0,
             "ticks": ""
            },
            "colorscale": [
             [
              0,
              "#0d0887"
             ],
             [
              0.1111111111111111,
              "#46039f"
             ],
             [
              0.2222222222222222,
              "#7201a8"
             ],
             [
              0.3333333333333333,
              "#9c179e"
             ],
             [
              0.4444444444444444,
              "#bd3786"
             ],
             [
              0.5555555555555556,
              "#d8576b"
             ],
             [
              0.6666666666666666,
              "#ed7953"
             ],
             [
              0.7777777777777778,
              "#fb9f3a"
             ],
             [
              0.8888888888888888,
              "#fdca26"
             ],
             [
              1,
              "#f0f921"
             ]
            ],
            "type": "surface"
           }
          ],
          "table": [
           {
            "cells": {
             "fill": {
              "color": "#EBF0F8"
             },
             "line": {
              "color": "white"
             }
            },
            "header": {
             "fill": {
              "color": "#C8D4E3"
             },
             "line": {
              "color": "white"
             }
            },
            "type": "table"
           }
          ]
         },
         "layout": {
          "annotationdefaults": {
           "arrowcolor": "#2a3f5f",
           "arrowhead": 0,
           "arrowwidth": 1
          },
          "autotypenumbers": "strict",
          "coloraxis": {
           "colorbar": {
            "outlinewidth": 0,
            "ticks": ""
           }
          },
          "colorscale": {
           "diverging": [
            [
             0,
             "#8e0152"
            ],
            [
             0.1,
             "#c51b7d"
            ],
            [
             0.2,
             "#de77ae"
            ],
            [
             0.3,
             "#f1b6da"
            ],
            [
             0.4,
             "#fde0ef"
            ],
            [
             0.5,
             "#f7f7f7"
            ],
            [
             0.6,
             "#e6f5d0"
            ],
            [
             0.7,
             "#b8e186"
            ],
            [
             0.8,
             "#7fbc41"
            ],
            [
             0.9,
             "#4d9221"
            ],
            [
             1,
             "#276419"
            ]
           ],
           "sequential": [
            [
             0,
             "#0d0887"
            ],
            [
             0.1111111111111111,
             "#46039f"
            ],
            [
             0.2222222222222222,
             "#7201a8"
            ],
            [
             0.3333333333333333,
             "#9c179e"
            ],
            [
             0.4444444444444444,
             "#bd3786"
            ],
            [
             0.5555555555555556,
             "#d8576b"
            ],
            [
             0.6666666666666666,
             "#ed7953"
            ],
            [
             0.7777777777777778,
             "#fb9f3a"
            ],
            [
             0.8888888888888888,
             "#fdca26"
            ],
            [
             1,
             "#f0f921"
            ]
           ],
           "sequentialminus": [
            [
             0,
             "#0d0887"
            ],
            [
             0.1111111111111111,
             "#46039f"
            ],
            [
             0.2222222222222222,
             "#7201a8"
            ],
            [
             0.3333333333333333,
             "#9c179e"
            ],
            [
             0.4444444444444444,
             "#bd3786"
            ],
            [
             0.5555555555555556,
             "#d8576b"
            ],
            [
             0.6666666666666666,
             "#ed7953"
            ],
            [
             0.7777777777777778,
             "#fb9f3a"
            ],
            [
             0.8888888888888888,
             "#fdca26"
            ],
            [
             1,
             "#f0f921"
            ]
           ]
          },
          "colorway": [
           "#636efa",
           "#EF553B",
           "#00cc96",
           "#ab63fa",
           "#FFA15A",
           "#19d3f3",
           "#FF6692",
           "#B6E880",
           "#FF97FF",
           "#FECB52"
          ],
          "font": {
           "color": "#2a3f5f"
          },
          "geo": {
           "bgcolor": "white",
           "lakecolor": "white",
           "landcolor": "#E5ECF6",
           "showlakes": true,
           "showland": true,
           "subunitcolor": "white"
          },
          "hoverlabel": {
           "align": "left"
          },
          "hovermode": "closest",
          "mapbox": {
           "style": "light"
          },
          "paper_bgcolor": "white",
          "plot_bgcolor": "#E5ECF6",
          "polar": {
           "angularaxis": {
            "gridcolor": "white",
            "linecolor": "white",
            "ticks": ""
           },
           "bgcolor": "#E5ECF6",
           "radialaxis": {
            "gridcolor": "white",
            "linecolor": "white",
            "ticks": ""
           }
          },
          "scene": {
           "xaxis": {
            "backgroundcolor": "#E5ECF6",
            "gridcolor": "white",
            "gridwidth": 2,
            "linecolor": "white",
            "showbackground": true,
            "ticks": "",
            "zerolinecolor": "white"
           },
           "yaxis": {
            "backgroundcolor": "#E5ECF6",
            "gridcolor": "white",
            "gridwidth": 2,
            "linecolor": "white",
            "showbackground": true,
            "ticks": "",
            "zerolinecolor": "white"
           },
           "zaxis": {
            "backgroundcolor": "#E5ECF6",
            "gridcolor": "white",
            "gridwidth": 2,
            "linecolor": "white",
            "showbackground": true,
            "ticks": "",
            "zerolinecolor": "white"
           }
          },
          "shapedefaults": {
           "line": {
            "color": "#2a3f5f"
           }
          },
          "ternary": {
           "aaxis": {
            "gridcolor": "white",
            "linecolor": "white",
            "ticks": ""
           },
           "baxis": {
            "gridcolor": "white",
            "linecolor": "white",
            "ticks": ""
           },
           "bgcolor": "#E5ECF6",
           "caxis": {
            "gridcolor": "white",
            "linecolor": "white",
            "ticks": ""
           }
          },
          "title": {
           "x": 0.05
          },
          "xaxis": {
           "automargin": true,
           "gridcolor": "white",
           "linecolor": "white",
           "ticks": "",
           "title": {
            "standoff": 15
           },
           "zerolinecolor": "white",
           "zerolinewidth": 2
          },
          "yaxis": {
           "automargin": true,
           "gridcolor": "white",
           "linecolor": "white",
           "ticks": "",
           "title": {
            "standoff": 15
           },
           "zerolinecolor": "white",
           "zerolinewidth": 2
          }
         }
        },
        "title": {
         "text": "Effect of max_batch_size on Fit Time"
        },
        "xaxis": {
         "anchor": "y",
         "domain": [
          0,
          1
         ],
         "title": {
          "text": "max_batch_size"
         }
        },
        "yaxis": {
         "anchor": "x",
         "domain": [
          0,
          1
         ],
         "title": {
          "text": "fit_time"
         }
        }
       }
      }
     },
     "metadata": {},
     "output_type": "display_data"
    },
    {
     "data": {
      "application/vnd.plotly.v1+json": {
       "config": {
        "plotlyServerURL": "https://plot.ly"
       },
       "data": [
        {
         "hovertemplate": "model=WeightedEnsemble_L2<br>hidden_size=%{x}<br>score_val=%{y}<extra></extra>",
         "legendgroup": "WeightedEnsemble_L2",
         "marker": {
          "color": "#636efa",
          "symbol": "circle"
         },
         "mode": "markers",
         "name": "WeightedEnsemble_L2",
         "orientation": "v",
         "showlegend": true,
         "type": "scatter",
         "x": [
          null
         ],
         "xaxis": "x",
         "y": [
          -0.09283762531040665
         ],
         "yaxis": "y"
        },
        {
         "hovertemplate": "model=NeuralNetTorch/T5<br>hidden_size=%{x}<br>score_val=%{y}<extra></extra>",
         "legendgroup": "NeuralNetTorch/T5",
         "marker": {
          "color": "#EF553B",
          "symbol": "circle"
         },
         "mode": "markers",
         "name": "NeuralNetTorch/T5",
         "orientation": "v",
         "showlegend": true,
         "type": "scatter",
         "x": [
          128
         ],
         "xaxis": "x",
         "y": [
          -0.09718056049551435
         ],
         "yaxis": "y"
        },
        {
         "hovertemplate": "model=NeuralNetTorch/T4<br>hidden_size=%{x}<br>score_val=%{y}<extra></extra>",
         "legendgroup": "NeuralNetTorch/T4",
         "marker": {
          "color": "#00cc96",
          "symbol": "circle"
         },
         "mode": "markers",
         "name": "NeuralNetTorch/T4",
         "orientation": "v",
         "showlegend": true,
         "type": "scatter",
         "x": [
          128
         ],
         "xaxis": "x",
         "y": [
          -0.09718056049551435
         ],
         "yaxis": "y"
        },
        {
         "hovertemplate": "model=NeuralNetTorch/T3<br>hidden_size=%{x}<br>score_val=%{y}<extra></extra>",
         "legendgroup": "NeuralNetTorch/T3",
         "marker": {
          "color": "#ab63fa",
          "symbol": "circle"
         },
         "mode": "markers",
         "name": "NeuralNetTorch/T3",
         "orientation": "v",
         "showlegend": true,
         "type": "scatter",
         "x": [
          128
         ],
         "xaxis": "x",
         "y": [
          -0.09772584164848322
         ],
         "yaxis": "y"
        },
        {
         "hovertemplate": "model=NeuralNetTorch/T15<br>hidden_size=%{x}<br>score_val=%{y}<extra></extra>",
         "legendgroup": "NeuralNetTorch/T15",
         "marker": {
          "color": "#FFA15A",
          "symbol": "circle"
         },
         "mode": "markers",
         "name": "NeuralNetTorch/T15",
         "orientation": "v",
         "showlegend": true,
         "type": "scatter",
         "x": [
          128
         ],
         "xaxis": "x",
         "y": [
          -0.09772584164848322
         ],
         "yaxis": "y"
        },
        {
         "hovertemplate": "model=NeuralNetTorch/T18<br>hidden_size=%{x}<br>score_val=%{y}<extra></extra>",
         "legendgroup": "NeuralNetTorch/T18",
         "marker": {
          "color": "#19d3f3",
          "symbol": "circle"
         },
         "mode": "markers",
         "name": "NeuralNetTorch/T18",
         "orientation": "v",
         "showlegend": true,
         "type": "scatter",
         "x": [
          64
         ],
         "xaxis": "x",
         "y": [
          -0.09854319484382841
         ],
         "yaxis": "y"
        },
        {
         "hovertemplate": "model=NeuralNetTorch/T2<br>hidden_size=%{x}<br>score_val=%{y}<extra></extra>",
         "legendgroup": "NeuralNetTorch/T2",
         "marker": {
          "color": "#FF6692",
          "symbol": "circle"
         },
         "mode": "markers",
         "name": "NeuralNetTorch/T2",
         "orientation": "v",
         "showlegend": true,
         "type": "scatter",
         "x": [
          64
         ],
         "xaxis": "x",
         "y": [
          -0.09854319484382841
         ],
         "yaxis": "y"
        },
        {
         "hovertemplate": "model=NeuralNetTorch/T12<br>hidden_size=%{x}<br>score_val=%{y}<extra></extra>",
         "legendgroup": "NeuralNetTorch/T12",
         "marker": {
          "color": "#B6E880",
          "symbol": "circle"
         },
         "mode": "markers",
         "name": "NeuralNetTorch/T12",
         "orientation": "v",
         "showlegend": true,
         "type": "scatter",
         "x": [
          128
         ],
         "xaxis": "x",
         "y": [
          -0.09994911260448675
         ],
         "yaxis": "y"
        },
        {
         "hovertemplate": "model=NeuralNetTorch/T23<br>hidden_size=%{x}<br>score_val=%{y}<extra></extra>",
         "legendgroup": "NeuralNetTorch/T23",
         "marker": {
          "color": "#FF97FF",
          "symbol": "circle"
         },
         "mode": "markers",
         "name": "NeuralNetTorch/T23",
         "orientation": "v",
         "showlegend": true,
         "type": "scatter",
         "x": [
          128
         ],
         "xaxis": "x",
         "y": [
          -0.09994911260448675
         ],
         "yaxis": "y"
        },
        {
         "hovertemplate": "model=NeuralNetTorch/T22<br>hidden_size=%{x}<br>score_val=%{y}<extra></extra>",
         "legendgroup": "NeuralNetTorch/T22",
         "marker": {
          "color": "#FECB52",
          "symbol": "circle"
         },
         "mode": "markers",
         "name": "NeuralNetTorch/T22",
         "orientation": "v",
         "showlegend": true,
         "type": "scatter",
         "x": [
          64
         ],
         "xaxis": "x",
         "y": [
          -0.1005814922850195
         ],
         "yaxis": "y"
        },
        {
         "hovertemplate": "model=NeuralNetTorch/T14<br>hidden_size=%{x}<br>score_val=%{y}<extra></extra>",
         "legendgroup": "NeuralNetTorch/T14",
         "marker": {
          "color": "#636efa",
          "symbol": "circle"
         },
         "mode": "markers",
         "name": "NeuralNetTorch/T14",
         "orientation": "v",
         "showlegend": true,
         "type": "scatter",
         "x": [
          64
         ],
         "xaxis": "x",
         "y": [
          -0.1005814922850195
         ],
         "yaxis": "y"
        },
        {
         "hovertemplate": "model=NeuralNetTorch/T16<br>hidden_size=%{x}<br>score_val=%{y}<extra></extra>",
         "legendgroup": "NeuralNetTorch/T16",
         "marker": {
          "color": "#EF553B",
          "symbol": "circle"
         },
         "mode": "markers",
         "name": "NeuralNetTorch/T16",
         "orientation": "v",
         "showlegend": true,
         "type": "scatter",
         "x": [
          32
         ],
         "xaxis": "x",
         "y": [
          -0.10081385598733485
         ],
         "yaxis": "y"
        },
        {
         "hovertemplate": "model=NeuralNetTorch/T7<br>hidden_size=%{x}<br>score_val=%{y}<extra></extra>",
         "legendgroup": "NeuralNetTorch/T7",
         "marker": {
          "color": "#00cc96",
          "symbol": "circle"
         },
         "mode": "markers",
         "name": "NeuralNetTorch/T7",
         "orientation": "v",
         "showlegend": true,
         "type": "scatter",
         "x": [
          32
         ],
         "xaxis": "x",
         "y": [
          -0.10081385598733485
         ],
         "yaxis": "y"
        },
        {
         "hovertemplate": "model=NeuralNetTorch/T17<br>hidden_size=%{x}<br>score_val=%{y}<extra></extra>",
         "legendgroup": "NeuralNetTorch/T17",
         "marker": {
          "color": "#ab63fa",
          "symbol": "circle"
         },
         "mode": "markers",
         "name": "NeuralNetTorch/T17",
         "orientation": "v",
         "showlegend": true,
         "type": "scatter",
         "x": [
          128
         ],
         "xaxis": "x",
         "y": [
          -0.10127511893734274
         ],
         "yaxis": "y"
        },
        {
         "hovertemplate": "model=NeuralNetTorch/T24<br>hidden_size=%{x}<br>score_val=%{y}<extra></extra>",
         "legendgroup": "NeuralNetTorch/T24",
         "marker": {
          "color": "#FFA15A",
          "symbol": "circle"
         },
         "mode": "markers",
         "name": "NeuralNetTorch/T24",
         "orientation": "v",
         "showlegend": true,
         "type": "scatter",
         "x": [
          128
         ],
         "xaxis": "x",
         "y": [
          -0.10127511893734274
         ],
         "yaxis": "y"
        },
        {
         "hovertemplate": "model=NeuralNetTorch/T9<br>hidden_size=%{x}<br>score_val=%{y}<extra></extra>",
         "legendgroup": "NeuralNetTorch/T9",
         "marker": {
          "color": "#19d3f3",
          "symbol": "circle"
         },
         "mode": "markers",
         "name": "NeuralNetTorch/T9",
         "orientation": "v",
         "showlegend": true,
         "type": "scatter",
         "x": [
          64
         ],
         "xaxis": "x",
         "y": [
          -0.10185399698220117
         ],
         "yaxis": "y"
        },
        {
         "hovertemplate": "model=NeuralNetTorch/T6<br>hidden_size=%{x}<br>score_val=%{y}<extra></extra>",
         "legendgroup": "NeuralNetTorch/T6",
         "marker": {
          "color": "#FF6692",
          "symbol": "circle"
         },
         "mode": "markers",
         "name": "NeuralNetTorch/T6",
         "orientation": "v",
         "showlegend": true,
         "type": "scatter",
         "x": [
          64
         ],
         "xaxis": "x",
         "y": [
          -0.10185399698220117
         ],
         "yaxis": "y"
        },
        {
         "hovertemplate": "model=NeuralNetTorch/T13<br>hidden_size=%{x}<br>score_val=%{y}<extra></extra>",
         "legendgroup": "NeuralNetTorch/T13",
         "marker": {
          "color": "#B6E880",
          "symbol": "circle"
         },
         "mode": "markers",
         "name": "NeuralNetTorch/T13",
         "orientation": "v",
         "showlegend": true,
         "type": "scatter",
         "x": [
          64
         ],
         "xaxis": "x",
         "y": [
          -0.10471635375983233
         ],
         "yaxis": "y"
        },
        {
         "hovertemplate": "model=NeuralNetTorch/T20<br>hidden_size=%{x}<br>score_val=%{y}<extra></extra>",
         "legendgroup": "NeuralNetTorch/T20",
         "marker": {
          "color": "#FF97FF",
          "symbol": "circle"
         },
         "mode": "markers",
         "name": "NeuralNetTorch/T20",
         "orientation": "v",
         "showlegend": true,
         "type": "scatter",
         "x": [
          64
         ],
         "xaxis": "x",
         "y": [
          -0.10471635375983233
         ],
         "yaxis": "y"
        },
        {
         "hovertemplate": "model=NeuralNetTorch/T19<br>hidden_size=%{x}<br>score_val=%{y}<extra></extra>",
         "legendgroup": "NeuralNetTorch/T19",
         "marker": {
          "color": "#FECB52",
          "symbol": "circle"
         },
         "mode": "markers",
         "name": "NeuralNetTorch/T19",
         "orientation": "v",
         "showlegend": true,
         "type": "scatter",
         "x": [
          32
         ],
         "xaxis": "x",
         "y": [
          -0.11026117149158733
         ],
         "yaxis": "y"
        },
        {
         "hovertemplate": "model=NeuralNetTorch/T8<br>hidden_size=%{x}<br>score_val=%{y}<extra></extra>",
         "legendgroup": "NeuralNetTorch/T8",
         "marker": {
          "color": "#636efa",
          "symbol": "circle"
         },
         "mode": "markers",
         "name": "NeuralNetTorch/T8",
         "orientation": "v",
         "showlegend": true,
         "type": "scatter",
         "x": [
          32
         ],
         "xaxis": "x",
         "y": [
          -0.11026117149158733
         ],
         "yaxis": "y"
        },
        {
         "hovertemplate": "model=NeuralNetTorch/T21<br>hidden_size=%{x}<br>score_val=%{y}<extra></extra>",
         "legendgroup": "NeuralNetTorch/T21",
         "marker": {
          "color": "#EF553B",
          "symbol": "circle"
         },
         "mode": "markers",
         "name": "NeuralNetTorch/T21",
         "orientation": "v",
         "showlegend": true,
         "type": "scatter",
         "x": [
          32
         ],
         "xaxis": "x",
         "y": [
          -0.11851347339614503
         ],
         "yaxis": "y"
        },
        {
         "hovertemplate": "model=NeuralNetTorch/T1<br>hidden_size=%{x}<br>score_val=%{y}<extra></extra>",
         "legendgroup": "NeuralNetTorch/T1",
         "marker": {
          "color": "#00cc96",
          "symbol": "circle"
         },
         "mode": "markers",
         "name": "NeuralNetTorch/T1",
         "orientation": "v",
         "showlegend": true,
         "type": "scatter",
         "x": [
          32
         ],
         "xaxis": "x",
         "y": [
          -0.11851347339614503
         ],
         "yaxis": "y"
        },
        {
         "hovertemplate": "model=NeuralNetTorch/T11<br>hidden_size=%{x}<br>score_val=%{y}<extra></extra>",
         "legendgroup": "NeuralNetTorch/T11",
         "marker": {
          "color": "#ab63fa",
          "symbol": "circle"
         },
         "mode": "markers",
         "name": "NeuralNetTorch/T11",
         "orientation": "v",
         "showlegend": true,
         "type": "scatter",
         "x": [
          32
         ],
         "xaxis": "x",
         "y": [
          -0.12092273679396805
         ],
         "yaxis": "y"
        },
        {
         "hovertemplate": "model=NeuralNetTorch/T10<br>hidden_size=%{x}<br>score_val=%{y}<extra></extra>",
         "legendgroup": "NeuralNetTorch/T10",
         "marker": {
          "color": "#FFA15A",
          "symbol": "circle"
         },
         "mode": "markers",
         "name": "NeuralNetTorch/T10",
         "orientation": "v",
         "showlegend": true,
         "type": "scatter",
         "x": [
          32
         ],
         "xaxis": "x",
         "y": [
          -0.12092273679396805
         ],
         "yaxis": "y"
        }
       ],
       "layout": {
        "legend": {
         "title": {
          "text": "model"
         },
         "tracegroupgap": 0
        },
        "template": {
         "data": {
          "bar": [
           {
            "error_x": {
             "color": "#2a3f5f"
            },
            "error_y": {
             "color": "#2a3f5f"
            },
            "marker": {
             "line": {
              "color": "#E5ECF6",
              "width": 0.5
             },
             "pattern": {
              "fillmode": "overlay",
              "size": 10,
              "solidity": 0.2
             }
            },
            "type": "bar"
           }
          ],
          "barpolar": [
           {
            "marker": {
             "line": {
              "color": "#E5ECF6",
              "width": 0.5
             },
             "pattern": {
              "fillmode": "overlay",
              "size": 10,
              "solidity": 0.2
             }
            },
            "type": "barpolar"
           }
          ],
          "carpet": [
           {
            "aaxis": {
             "endlinecolor": "#2a3f5f",
             "gridcolor": "white",
             "linecolor": "white",
             "minorgridcolor": "white",
             "startlinecolor": "#2a3f5f"
            },
            "baxis": {
             "endlinecolor": "#2a3f5f",
             "gridcolor": "white",
             "linecolor": "white",
             "minorgridcolor": "white",
             "startlinecolor": "#2a3f5f"
            },
            "type": "carpet"
           }
          ],
          "choropleth": [
           {
            "colorbar": {
             "outlinewidth": 0,
             "ticks": ""
            },
            "type": "choropleth"
           }
          ],
          "contour": [
           {
            "colorbar": {
             "outlinewidth": 0,
             "ticks": ""
            },
            "colorscale": [
             [
              0,
              "#0d0887"
             ],
             [
              0.1111111111111111,
              "#46039f"
             ],
             [
              0.2222222222222222,
              "#7201a8"
             ],
             [
              0.3333333333333333,
              "#9c179e"
             ],
             [
              0.4444444444444444,
              "#bd3786"
             ],
             [
              0.5555555555555556,
              "#d8576b"
             ],
             [
              0.6666666666666666,
              "#ed7953"
             ],
             [
              0.7777777777777778,
              "#fb9f3a"
             ],
             [
              0.8888888888888888,
              "#fdca26"
             ],
             [
              1,
              "#f0f921"
             ]
            ],
            "type": "contour"
           }
          ],
          "contourcarpet": [
           {
            "colorbar": {
             "outlinewidth": 0,
             "ticks": ""
            },
            "type": "contourcarpet"
           }
          ],
          "heatmap": [
           {
            "colorbar": {
             "outlinewidth": 0,
             "ticks": ""
            },
            "colorscale": [
             [
              0,
              "#0d0887"
             ],
             [
              0.1111111111111111,
              "#46039f"
             ],
             [
              0.2222222222222222,
              "#7201a8"
             ],
             [
              0.3333333333333333,
              "#9c179e"
             ],
             [
              0.4444444444444444,
              "#bd3786"
             ],
             [
              0.5555555555555556,
              "#d8576b"
             ],
             [
              0.6666666666666666,
              "#ed7953"
             ],
             [
              0.7777777777777778,
              "#fb9f3a"
             ],
             [
              0.8888888888888888,
              "#fdca26"
             ],
             [
              1,
              "#f0f921"
             ]
            ],
            "type": "heatmap"
           }
          ],
          "heatmapgl": [
           {
            "colorbar": {
             "outlinewidth": 0,
             "ticks": ""
            },
            "colorscale": [
             [
              0,
              "#0d0887"
             ],
             [
              0.1111111111111111,
              "#46039f"
             ],
             [
              0.2222222222222222,
              "#7201a8"
             ],
             [
              0.3333333333333333,
              "#9c179e"
             ],
             [
              0.4444444444444444,
              "#bd3786"
             ],
             [
              0.5555555555555556,
              "#d8576b"
             ],
             [
              0.6666666666666666,
              "#ed7953"
             ],
             [
              0.7777777777777778,
              "#fb9f3a"
             ],
             [
              0.8888888888888888,
              "#fdca26"
             ],
             [
              1,
              "#f0f921"
             ]
            ],
            "type": "heatmapgl"
           }
          ],
          "histogram": [
           {
            "marker": {
             "pattern": {
              "fillmode": "overlay",
              "size": 10,
              "solidity": 0.2
             }
            },
            "type": "histogram"
           }
          ],
          "histogram2d": [
           {
            "colorbar": {
             "outlinewidth": 0,
             "ticks": ""
            },
            "colorscale": [
             [
              0,
              "#0d0887"
             ],
             [
              0.1111111111111111,
              "#46039f"
             ],
             [
              0.2222222222222222,
              "#7201a8"
             ],
             [
              0.3333333333333333,
              "#9c179e"
             ],
             [
              0.4444444444444444,
              "#bd3786"
             ],
             [
              0.5555555555555556,
              "#d8576b"
             ],
             [
              0.6666666666666666,
              "#ed7953"
             ],
             [
              0.7777777777777778,
              "#fb9f3a"
             ],
             [
              0.8888888888888888,
              "#fdca26"
             ],
             [
              1,
              "#f0f921"
             ]
            ],
            "type": "histogram2d"
           }
          ],
          "histogram2dcontour": [
           {
            "colorbar": {
             "outlinewidth": 0,
             "ticks": ""
            },
            "colorscale": [
             [
              0,
              "#0d0887"
             ],
             [
              0.1111111111111111,
              "#46039f"
             ],
             [
              0.2222222222222222,
              "#7201a8"
             ],
             [
              0.3333333333333333,
              "#9c179e"
             ],
             [
              0.4444444444444444,
              "#bd3786"
             ],
             [
              0.5555555555555556,
              "#d8576b"
             ],
             [
              0.6666666666666666,
              "#ed7953"
             ],
             [
              0.7777777777777778,
              "#fb9f3a"
             ],
             [
              0.8888888888888888,
              "#fdca26"
             ],
             [
              1,
              "#f0f921"
             ]
            ],
            "type": "histogram2dcontour"
           }
          ],
          "mesh3d": [
           {
            "colorbar": {
             "outlinewidth": 0,
             "ticks": ""
            },
            "type": "mesh3d"
           }
          ],
          "parcoords": [
           {
            "line": {
             "colorbar": {
              "outlinewidth": 0,
              "ticks": ""
             }
            },
            "type": "parcoords"
           }
          ],
          "pie": [
           {
            "automargin": true,
            "type": "pie"
           }
          ],
          "scatter": [
           {
            "fillpattern": {
             "fillmode": "overlay",
             "size": 10,
             "solidity": 0.2
            },
            "type": "scatter"
           }
          ],
          "scatter3d": [
           {
            "line": {
             "colorbar": {
              "outlinewidth": 0,
              "ticks": ""
             }
            },
            "marker": {
             "colorbar": {
              "outlinewidth": 0,
              "ticks": ""
             }
            },
            "type": "scatter3d"
           }
          ],
          "scattercarpet": [
           {
            "marker": {
             "colorbar": {
              "outlinewidth": 0,
              "ticks": ""
             }
            },
            "type": "scattercarpet"
           }
          ],
          "scattergeo": [
           {
            "marker": {
             "colorbar": {
              "outlinewidth": 0,
              "ticks": ""
             }
            },
            "type": "scattergeo"
           }
          ],
          "scattergl": [
           {
            "marker": {
             "colorbar": {
              "outlinewidth": 0,
              "ticks": ""
             }
            },
            "type": "scattergl"
           }
          ],
          "scattermapbox": [
           {
            "marker": {
             "colorbar": {
              "outlinewidth": 0,
              "ticks": ""
             }
            },
            "type": "scattermapbox"
           }
          ],
          "scatterpolar": [
           {
            "marker": {
             "colorbar": {
              "outlinewidth": 0,
              "ticks": ""
             }
            },
            "type": "scatterpolar"
           }
          ],
          "scatterpolargl": [
           {
            "marker": {
             "colorbar": {
              "outlinewidth": 0,
              "ticks": ""
             }
            },
            "type": "scatterpolargl"
           }
          ],
          "scatterternary": [
           {
            "marker": {
             "colorbar": {
              "outlinewidth": 0,
              "ticks": ""
             }
            },
            "type": "scatterternary"
           }
          ],
          "surface": [
           {
            "colorbar": {
             "outlinewidth": 0,
             "ticks": ""
            },
            "colorscale": [
             [
              0,
              "#0d0887"
             ],
             [
              0.1111111111111111,
              "#46039f"
             ],
             [
              0.2222222222222222,
              "#7201a8"
             ],
             [
              0.3333333333333333,
              "#9c179e"
             ],
             [
              0.4444444444444444,
              "#bd3786"
             ],
             [
              0.5555555555555556,
              "#d8576b"
             ],
             [
              0.6666666666666666,
              "#ed7953"
             ],
             [
              0.7777777777777778,
              "#fb9f3a"
             ],
             [
              0.8888888888888888,
              "#fdca26"
             ],
             [
              1,
              "#f0f921"
             ]
            ],
            "type": "surface"
           }
          ],
          "table": [
           {
            "cells": {
             "fill": {
              "color": "#EBF0F8"
             },
             "line": {
              "color": "white"
             }
            },
            "header": {
             "fill": {
              "color": "#C8D4E3"
             },
             "line": {
              "color": "white"
             }
            },
            "type": "table"
           }
          ]
         },
         "layout": {
          "annotationdefaults": {
           "arrowcolor": "#2a3f5f",
           "arrowhead": 0,
           "arrowwidth": 1
          },
          "autotypenumbers": "strict",
          "coloraxis": {
           "colorbar": {
            "outlinewidth": 0,
            "ticks": ""
           }
          },
          "colorscale": {
           "diverging": [
            [
             0,
             "#8e0152"
            ],
            [
             0.1,
             "#c51b7d"
            ],
            [
             0.2,
             "#de77ae"
            ],
            [
             0.3,
             "#f1b6da"
            ],
            [
             0.4,
             "#fde0ef"
            ],
            [
             0.5,
             "#f7f7f7"
            ],
            [
             0.6,
             "#e6f5d0"
            ],
            [
             0.7,
             "#b8e186"
            ],
            [
             0.8,
             "#7fbc41"
            ],
            [
             0.9,
             "#4d9221"
            ],
            [
             1,
             "#276419"
            ]
           ],
           "sequential": [
            [
             0,
             "#0d0887"
            ],
            [
             0.1111111111111111,
             "#46039f"
            ],
            [
             0.2222222222222222,
             "#7201a8"
            ],
            [
             0.3333333333333333,
             "#9c179e"
            ],
            [
             0.4444444444444444,
             "#bd3786"
            ],
            [
             0.5555555555555556,
             "#d8576b"
            ],
            [
             0.6666666666666666,
             "#ed7953"
            ],
            [
             0.7777777777777778,
             "#fb9f3a"
            ],
            [
             0.8888888888888888,
             "#fdca26"
            ],
            [
             1,
             "#f0f921"
            ]
           ],
           "sequentialminus": [
            [
             0,
             "#0d0887"
            ],
            [
             0.1111111111111111,
             "#46039f"
            ],
            [
             0.2222222222222222,
             "#7201a8"
            ],
            [
             0.3333333333333333,
             "#9c179e"
            ],
            [
             0.4444444444444444,
             "#bd3786"
            ],
            [
             0.5555555555555556,
             "#d8576b"
            ],
            [
             0.6666666666666666,
             "#ed7953"
            ],
            [
             0.7777777777777778,
             "#fb9f3a"
            ],
            [
             0.8888888888888888,
             "#fdca26"
            ],
            [
             1,
             "#f0f921"
            ]
           ]
          },
          "colorway": [
           "#636efa",
           "#EF553B",
           "#00cc96",
           "#ab63fa",
           "#FFA15A",
           "#19d3f3",
           "#FF6692",
           "#B6E880",
           "#FF97FF",
           "#FECB52"
          ],
          "font": {
           "color": "#2a3f5f"
          },
          "geo": {
           "bgcolor": "white",
           "lakecolor": "white",
           "landcolor": "#E5ECF6",
           "showlakes": true,
           "showland": true,
           "subunitcolor": "white"
          },
          "hoverlabel": {
           "align": "left"
          },
          "hovermode": "closest",
          "mapbox": {
           "style": "light"
          },
          "paper_bgcolor": "white",
          "plot_bgcolor": "#E5ECF6",
          "polar": {
           "angularaxis": {
            "gridcolor": "white",
            "linecolor": "white",
            "ticks": ""
           },
           "bgcolor": "#E5ECF6",
           "radialaxis": {
            "gridcolor": "white",
            "linecolor": "white",
            "ticks": ""
           }
          },
          "scene": {
           "xaxis": {
            "backgroundcolor": "#E5ECF6",
            "gridcolor": "white",
            "gridwidth": 2,
            "linecolor": "white",
            "showbackground": true,
            "ticks": "",
            "zerolinecolor": "white"
           },
           "yaxis": {
            "backgroundcolor": "#E5ECF6",
            "gridcolor": "white",
            "gridwidth": 2,
            "linecolor": "white",
            "showbackground": true,
            "ticks": "",
            "zerolinecolor": "white"
           },
           "zaxis": {
            "backgroundcolor": "#E5ECF6",
            "gridcolor": "white",
            "gridwidth": 2,
            "linecolor": "white",
            "showbackground": true,
            "ticks": "",
            "zerolinecolor": "white"
           }
          },
          "shapedefaults": {
           "line": {
            "color": "#2a3f5f"
           }
          },
          "ternary": {
           "aaxis": {
            "gridcolor": "white",
            "linecolor": "white",
            "ticks": ""
           },
           "baxis": {
            "gridcolor": "white",
            "linecolor": "white",
            "ticks": ""
           },
           "bgcolor": "#E5ECF6",
           "caxis": {
            "gridcolor": "white",
            "linecolor": "white",
            "ticks": ""
           }
          },
          "title": {
           "x": 0.05
          },
          "xaxis": {
           "automargin": true,
           "gridcolor": "white",
           "linecolor": "white",
           "ticks": "",
           "title": {
            "standoff": 15
           },
           "zerolinecolor": "white",
           "zerolinewidth": 2
          },
          "yaxis": {
           "automargin": true,
           "gridcolor": "white",
           "linecolor": "white",
           "ticks": "",
           "title": {
            "standoff": 15
           },
           "zerolinecolor": "white",
           "zerolinewidth": 2
          }
         }
        },
        "title": {
         "text": "Effect of hidden_size on Score Validation"
        },
        "xaxis": {
         "anchor": "y",
         "domain": [
          0,
          1
         ],
         "title": {
          "text": "hidden_size"
         }
        },
        "yaxis": {
         "anchor": "x",
         "domain": [
          0,
          1
         ],
         "title": {
          "text": "score_val"
         }
        }
       }
      }
     },
     "metadata": {},
     "output_type": "display_data"
    },
    {
     "data": {
      "application/vnd.plotly.v1+json": {
       "config": {
        "plotlyServerURL": "https://plot.ly"
       },
       "data": [
        {
         "hovertemplate": "model=WeightedEnsemble_L2<br>hidden_size=%{x}<br>fit_time=%{y}<extra></extra>",
         "legendgroup": "WeightedEnsemble_L2",
         "marker": {
          "color": "#636efa",
          "symbol": "circle"
         },
         "mode": "markers",
         "name": "WeightedEnsemble_L2",
         "orientation": "v",
         "showlegend": true,
         "type": "scatter",
         "x": [
          null
         ],
         "xaxis": "x",
         "y": [
          12.100504159927368
         ],
         "yaxis": "y"
        },
        {
         "hovertemplate": "model=NeuralNetTorch/T5<br>hidden_size=%{x}<br>fit_time=%{y}<extra></extra>",
         "legendgroup": "NeuralNetTorch/T5",
         "marker": {
          "color": "#EF553B",
          "symbol": "circle"
         },
         "mode": "markers",
         "name": "NeuralNetTorch/T5",
         "orientation": "v",
         "showlegend": true,
         "type": "scatter",
         "x": [
          128
         ],
         "xaxis": "x",
         "y": [
          6.563594102859497
         ],
         "yaxis": "y"
        },
        {
         "hovertemplate": "model=NeuralNetTorch/T4<br>hidden_size=%{x}<br>fit_time=%{y}<extra></extra>",
         "legendgroup": "NeuralNetTorch/T4",
         "marker": {
          "color": "#00cc96",
          "symbol": "circle"
         },
         "mode": "markers",
         "name": "NeuralNetTorch/T4",
         "orientation": "v",
         "showlegend": true,
         "type": "scatter",
         "x": [
          128
         ],
         "xaxis": "x",
         "y": [
          6.620213031768799
         ],
         "yaxis": "y"
        },
        {
         "hovertemplate": "model=NeuralNetTorch/T3<br>hidden_size=%{x}<br>fit_time=%{y}<extra></extra>",
         "legendgroup": "NeuralNetTorch/T3",
         "marker": {
          "color": "#ab63fa",
          "symbol": "circle"
         },
         "mode": "markers",
         "name": "NeuralNetTorch/T3",
         "orientation": "v",
         "showlegend": true,
         "type": "scatter",
         "x": [
          128
         ],
         "xaxis": "x",
         "y": [
          2.6324679851531982
         ],
         "yaxis": "y"
        },
        {
         "hovertemplate": "model=NeuralNetTorch/T15<br>hidden_size=%{x}<br>fit_time=%{y}<extra></extra>",
         "legendgroup": "NeuralNetTorch/T15",
         "marker": {
          "color": "#FFA15A",
          "symbol": "circle"
         },
         "mode": "markers",
         "name": "NeuralNetTorch/T15",
         "orientation": "v",
         "showlegend": true,
         "type": "scatter",
         "x": [
          128
         ],
         "xaxis": "x",
         "y": [
          2.6552698612213135
         ],
         "yaxis": "y"
        },
        {
         "hovertemplate": "model=NeuralNetTorch/T18<br>hidden_size=%{x}<br>fit_time=%{y}<extra></extra>",
         "legendgroup": "NeuralNetTorch/T18",
         "marker": {
          "color": "#19d3f3",
          "symbol": "circle"
         },
         "mode": "markers",
         "name": "NeuralNetTorch/T18",
         "orientation": "v",
         "showlegend": true,
         "type": "scatter",
         "x": [
          64
         ],
         "xaxis": "x",
         "y": [
          2.9213502407073975
         ],
         "yaxis": "y"
        },
        {
         "hovertemplate": "model=NeuralNetTorch/T2<br>hidden_size=%{x}<br>fit_time=%{y}<extra></extra>",
         "legendgroup": "NeuralNetTorch/T2",
         "marker": {
          "color": "#FF6692",
          "symbol": "circle"
         },
         "mode": "markers",
         "name": "NeuralNetTorch/T2",
         "orientation": "v",
         "showlegend": true,
         "type": "scatter",
         "x": [
          64
         ],
         "xaxis": "x",
         "y": [
          2.8096730709075928
         ],
         "yaxis": "y"
        },
        {
         "hovertemplate": "model=NeuralNetTorch/T12<br>hidden_size=%{x}<br>fit_time=%{y}<extra></extra>",
         "legendgroup": "NeuralNetTorch/T12",
         "marker": {
          "color": "#B6E880",
          "symbol": "circle"
         },
         "mode": "markers",
         "name": "NeuralNetTorch/T12",
         "orientation": "v",
         "showlegend": true,
         "type": "scatter",
         "x": [
          128
         ],
         "xaxis": "x",
         "y": [
          3.0574231147766113
         ],
         "yaxis": "y"
        },
        {
         "hovertemplate": "model=NeuralNetTorch/T23<br>hidden_size=%{x}<br>fit_time=%{y}<extra></extra>",
         "legendgroup": "NeuralNetTorch/T23",
         "marker": {
          "color": "#FF97FF",
          "symbol": "circle"
         },
         "mode": "markers",
         "name": "NeuralNetTorch/T23",
         "orientation": "v",
         "showlegend": true,
         "type": "scatter",
         "x": [
          128
         ],
         "xaxis": "x",
         "y": [
          3.0205729007720947
         ],
         "yaxis": "y"
        },
        {
         "hovertemplate": "model=NeuralNetTorch/T22<br>hidden_size=%{x}<br>fit_time=%{y}<extra></extra>",
         "legendgroup": "NeuralNetTorch/T22",
         "marker": {
          "color": "#FECB52",
          "symbol": "circle"
         },
         "mode": "markers",
         "name": "NeuralNetTorch/T22",
         "orientation": "v",
         "showlegend": true,
         "type": "scatter",
         "x": [
          64
         ],
         "xaxis": "x",
         "y": [
          3.4159748554229736
         ],
         "yaxis": "y"
        },
        {
         "hovertemplate": "model=NeuralNetTorch/T14<br>hidden_size=%{x}<br>fit_time=%{y}<extra></extra>",
         "legendgroup": "NeuralNetTorch/T14",
         "marker": {
          "color": "#636efa",
          "symbol": "circle"
         },
         "mode": "markers",
         "name": "NeuralNetTorch/T14",
         "orientation": "v",
         "showlegend": true,
         "type": "scatter",
         "x": [
          64
         ],
         "xaxis": "x",
         "y": [
          3.3177878856658936
         ],
         "yaxis": "y"
        },
        {
         "hovertemplate": "model=NeuralNetTorch/T16<br>hidden_size=%{x}<br>fit_time=%{y}<extra></extra>",
         "legendgroup": "NeuralNetTorch/T16",
         "marker": {
          "color": "#EF553B",
          "symbol": "circle"
         },
         "mode": "markers",
         "name": "NeuralNetTorch/T16",
         "orientation": "v",
         "showlegend": true,
         "type": "scatter",
         "x": [
          32
         ],
         "xaxis": "x",
         "y": [
          6.747899055480957
         ],
         "yaxis": "y"
        },
        {
         "hovertemplate": "model=NeuralNetTorch/T7<br>hidden_size=%{x}<br>fit_time=%{y}<extra></extra>",
         "legendgroup": "NeuralNetTorch/T7",
         "marker": {
          "color": "#00cc96",
          "symbol": "circle"
         },
         "mode": "markers",
         "name": "NeuralNetTorch/T7",
         "orientation": "v",
         "showlegend": true,
         "type": "scatter",
         "x": [
          32
         ],
         "xaxis": "x",
         "y": [
          6.794891119003296
         ],
         "yaxis": "y"
        },
        {
         "hovertemplate": "model=NeuralNetTorch/T17<br>hidden_size=%{x}<br>fit_time=%{y}<extra></extra>",
         "legendgroup": "NeuralNetTorch/T17",
         "marker": {
          "color": "#ab63fa",
          "symbol": "circle"
         },
         "mode": "markers",
         "name": "NeuralNetTorch/T17",
         "orientation": "v",
         "showlegend": true,
         "type": "scatter",
         "x": [
          128
         ],
         "xaxis": "x",
         "y": [
          5.708688974380493
         ],
         "yaxis": "y"
        },
        {
         "hovertemplate": "model=NeuralNetTorch/T24<br>hidden_size=%{x}<br>fit_time=%{y}<extra></extra>",
         "legendgroup": "NeuralNetTorch/T24",
         "marker": {
          "color": "#FFA15A",
          "symbol": "circle"
         },
         "mode": "markers",
         "name": "NeuralNetTorch/T24",
         "orientation": "v",
         "showlegend": true,
         "type": "scatter",
         "x": [
          128
         ],
         "xaxis": "x",
         "y": [
          5.772013187408447
         ],
         "yaxis": "y"
        },
        {
         "hovertemplate": "model=NeuralNetTorch/T9<br>hidden_size=%{x}<br>fit_time=%{y}<extra></extra>",
         "legendgroup": "NeuralNetTorch/T9",
         "marker": {
          "color": "#19d3f3",
          "symbol": "circle"
         },
         "mode": "markers",
         "name": "NeuralNetTorch/T9",
         "orientation": "v",
         "showlegend": true,
         "type": "scatter",
         "x": [
          64
         ],
         "xaxis": "x",
         "y": [
          9.720787048339844
         ],
         "yaxis": "y"
        },
        {
         "hovertemplate": "model=NeuralNetTorch/T6<br>hidden_size=%{x}<br>fit_time=%{y}<extra></extra>",
         "legendgroup": "NeuralNetTorch/T6",
         "marker": {
          "color": "#FF6692",
          "symbol": "circle"
         },
         "mode": "markers",
         "name": "NeuralNetTorch/T6",
         "orientation": "v",
         "showlegend": true,
         "type": "scatter",
         "x": [
          64
         ],
         "xaxis": "x",
         "y": [
          9.848424196243286
         ],
         "yaxis": "y"
        },
        {
         "hovertemplate": "model=NeuralNetTorch/T13<br>hidden_size=%{x}<br>fit_time=%{y}<extra></extra>",
         "legendgroup": "NeuralNetTorch/T13",
         "marker": {
          "color": "#B6E880",
          "symbol": "circle"
         },
         "mode": "markers",
         "name": "NeuralNetTorch/T13",
         "orientation": "v",
         "showlegend": true,
         "type": "scatter",
         "x": [
          64
         ],
         "xaxis": "x",
         "y": [
          2.456372022628784
         ],
         "yaxis": "y"
        },
        {
         "hovertemplate": "model=NeuralNetTorch/T20<br>hidden_size=%{x}<br>fit_time=%{y}<extra></extra>",
         "legendgroup": "NeuralNetTorch/T20",
         "marker": {
          "color": "#FF97FF",
          "symbol": "circle"
         },
         "mode": "markers",
         "name": "NeuralNetTorch/T20",
         "orientation": "v",
         "showlegend": true,
         "type": "scatter",
         "x": [
          64
         ],
         "xaxis": "x",
         "y": [
          2.4334919452667236
         ],
         "yaxis": "y"
        },
        {
         "hovertemplate": "model=NeuralNetTorch/T19<br>hidden_size=%{x}<br>fit_time=%{y}<extra></extra>",
         "legendgroup": "NeuralNetTorch/T19",
         "marker": {
          "color": "#FECB52",
          "symbol": "circle"
         },
         "mode": "markers",
         "name": "NeuralNetTorch/T19",
         "orientation": "v",
         "showlegend": true,
         "type": "scatter",
         "x": [
          32
         ],
         "xaxis": "x",
         "y": [
          3.4849750995635986
         ],
         "yaxis": "y"
        },
        {
         "hovertemplate": "model=NeuralNetTorch/T8<br>hidden_size=%{x}<br>fit_time=%{y}<extra></extra>",
         "legendgroup": "NeuralNetTorch/T8",
         "marker": {
          "color": "#636efa",
          "symbol": "circle"
         },
         "mode": "markers",
         "name": "NeuralNetTorch/T8",
         "orientation": "v",
         "showlegend": true,
         "type": "scatter",
         "x": [
          32
         ],
         "xaxis": "x",
         "y": [
          3.617314100265503
         ],
         "yaxis": "y"
        },
        {
         "hovertemplate": "model=NeuralNetTorch/T21<br>hidden_size=%{x}<br>fit_time=%{y}<extra></extra>",
         "legendgroup": "NeuralNetTorch/T21",
         "marker": {
          "color": "#EF553B",
          "symbol": "circle"
         },
         "mode": "markers",
         "name": "NeuralNetTorch/T21",
         "orientation": "v",
         "showlegend": true,
         "type": "scatter",
         "x": [
          32
         ],
         "xaxis": "x",
         "y": [
          1.3957393169403076
         ],
         "yaxis": "y"
        },
        {
         "hovertemplate": "model=NeuralNetTorch/T1<br>hidden_size=%{x}<br>fit_time=%{y}<extra></extra>",
         "legendgroup": "NeuralNetTorch/T1",
         "marker": {
          "color": "#00cc96",
          "symbol": "circle"
         },
         "mode": "markers",
         "name": "NeuralNetTorch/T1",
         "orientation": "v",
         "showlegend": true,
         "type": "scatter",
         "x": [
          32
         ],
         "xaxis": "x",
         "y": [
          1.4611179828643799
         ],
         "yaxis": "y"
        },
        {
         "hovertemplate": "model=NeuralNetTorch/T11<br>hidden_size=%{x}<br>fit_time=%{y}<extra></extra>",
         "legendgroup": "NeuralNetTorch/T11",
         "marker": {
          "color": "#ab63fa",
          "symbol": "circle"
         },
         "mode": "markers",
         "name": "NeuralNetTorch/T11",
         "orientation": "v",
         "showlegend": true,
         "type": "scatter",
         "x": [
          32
         ],
         "xaxis": "x",
         "y": [
          2.874695062637329
         ],
         "yaxis": "y"
        },
        {
         "hovertemplate": "model=NeuralNetTorch/T10<br>hidden_size=%{x}<br>fit_time=%{y}<extra></extra>",
         "legendgroup": "NeuralNetTorch/T10",
         "marker": {
          "color": "#FFA15A",
          "symbol": "circle"
         },
         "mode": "markers",
         "name": "NeuralNetTorch/T10",
         "orientation": "v",
         "showlegend": true,
         "type": "scatter",
         "x": [
          32
         ],
         "xaxis": "x",
         "y": [
          2.8843531608581543
         ],
         "yaxis": "y"
        }
       ],
       "layout": {
        "legend": {
         "title": {
          "text": "model"
         },
         "tracegroupgap": 0
        },
        "template": {
         "data": {
          "bar": [
           {
            "error_x": {
             "color": "#2a3f5f"
            },
            "error_y": {
             "color": "#2a3f5f"
            },
            "marker": {
             "line": {
              "color": "#E5ECF6",
              "width": 0.5
             },
             "pattern": {
              "fillmode": "overlay",
              "size": 10,
              "solidity": 0.2
             }
            },
            "type": "bar"
           }
          ],
          "barpolar": [
           {
            "marker": {
             "line": {
              "color": "#E5ECF6",
              "width": 0.5
             },
             "pattern": {
              "fillmode": "overlay",
              "size": 10,
              "solidity": 0.2
             }
            },
            "type": "barpolar"
           }
          ],
          "carpet": [
           {
            "aaxis": {
             "endlinecolor": "#2a3f5f",
             "gridcolor": "white",
             "linecolor": "white",
             "minorgridcolor": "white",
             "startlinecolor": "#2a3f5f"
            },
            "baxis": {
             "endlinecolor": "#2a3f5f",
             "gridcolor": "white",
             "linecolor": "white",
             "minorgridcolor": "white",
             "startlinecolor": "#2a3f5f"
            },
            "type": "carpet"
           }
          ],
          "choropleth": [
           {
            "colorbar": {
             "outlinewidth": 0,
             "ticks": ""
            },
            "type": "choropleth"
           }
          ],
          "contour": [
           {
            "colorbar": {
             "outlinewidth": 0,
             "ticks": ""
            },
            "colorscale": [
             [
              0,
              "#0d0887"
             ],
             [
              0.1111111111111111,
              "#46039f"
             ],
             [
              0.2222222222222222,
              "#7201a8"
             ],
             [
              0.3333333333333333,
              "#9c179e"
             ],
             [
              0.4444444444444444,
              "#bd3786"
             ],
             [
              0.5555555555555556,
              "#d8576b"
             ],
             [
              0.6666666666666666,
              "#ed7953"
             ],
             [
              0.7777777777777778,
              "#fb9f3a"
             ],
             [
              0.8888888888888888,
              "#fdca26"
             ],
             [
              1,
              "#f0f921"
             ]
            ],
            "type": "contour"
           }
          ],
          "contourcarpet": [
           {
            "colorbar": {
             "outlinewidth": 0,
             "ticks": ""
            },
            "type": "contourcarpet"
           }
          ],
          "heatmap": [
           {
            "colorbar": {
             "outlinewidth": 0,
             "ticks": ""
            },
            "colorscale": [
             [
              0,
              "#0d0887"
             ],
             [
              0.1111111111111111,
              "#46039f"
             ],
             [
              0.2222222222222222,
              "#7201a8"
             ],
             [
              0.3333333333333333,
              "#9c179e"
             ],
             [
              0.4444444444444444,
              "#bd3786"
             ],
             [
              0.5555555555555556,
              "#d8576b"
             ],
             [
              0.6666666666666666,
              "#ed7953"
             ],
             [
              0.7777777777777778,
              "#fb9f3a"
             ],
             [
              0.8888888888888888,
              "#fdca26"
             ],
             [
              1,
              "#f0f921"
             ]
            ],
            "type": "heatmap"
           }
          ],
          "heatmapgl": [
           {
            "colorbar": {
             "outlinewidth": 0,
             "ticks": ""
            },
            "colorscale": [
             [
              0,
              "#0d0887"
             ],
             [
              0.1111111111111111,
              "#46039f"
             ],
             [
              0.2222222222222222,
              "#7201a8"
             ],
             [
              0.3333333333333333,
              "#9c179e"
             ],
             [
              0.4444444444444444,
              "#bd3786"
             ],
             [
              0.5555555555555556,
              "#d8576b"
             ],
             [
              0.6666666666666666,
              "#ed7953"
             ],
             [
              0.7777777777777778,
              "#fb9f3a"
             ],
             [
              0.8888888888888888,
              "#fdca26"
             ],
             [
              1,
              "#f0f921"
             ]
            ],
            "type": "heatmapgl"
           }
          ],
          "histogram": [
           {
            "marker": {
             "pattern": {
              "fillmode": "overlay",
              "size": 10,
              "solidity": 0.2
             }
            },
            "type": "histogram"
           }
          ],
          "histogram2d": [
           {
            "colorbar": {
             "outlinewidth": 0,
             "ticks": ""
            },
            "colorscale": [
             [
              0,
              "#0d0887"
             ],
             [
              0.1111111111111111,
              "#46039f"
             ],
             [
              0.2222222222222222,
              "#7201a8"
             ],
             [
              0.3333333333333333,
              "#9c179e"
             ],
             [
              0.4444444444444444,
              "#bd3786"
             ],
             [
              0.5555555555555556,
              "#d8576b"
             ],
             [
              0.6666666666666666,
              "#ed7953"
             ],
             [
              0.7777777777777778,
              "#fb9f3a"
             ],
             [
              0.8888888888888888,
              "#fdca26"
             ],
             [
              1,
              "#f0f921"
             ]
            ],
            "type": "histogram2d"
           }
          ],
          "histogram2dcontour": [
           {
            "colorbar": {
             "outlinewidth": 0,
             "ticks": ""
            },
            "colorscale": [
             [
              0,
              "#0d0887"
             ],
             [
              0.1111111111111111,
              "#46039f"
             ],
             [
              0.2222222222222222,
              "#7201a8"
             ],
             [
              0.3333333333333333,
              "#9c179e"
             ],
             [
              0.4444444444444444,
              "#bd3786"
             ],
             [
              0.5555555555555556,
              "#d8576b"
             ],
             [
              0.6666666666666666,
              "#ed7953"
             ],
             [
              0.7777777777777778,
              "#fb9f3a"
             ],
             [
              0.8888888888888888,
              "#fdca26"
             ],
             [
              1,
              "#f0f921"
             ]
            ],
            "type": "histogram2dcontour"
           }
          ],
          "mesh3d": [
           {
            "colorbar": {
             "outlinewidth": 0,
             "ticks": ""
            },
            "type": "mesh3d"
           }
          ],
          "parcoords": [
           {
            "line": {
             "colorbar": {
              "outlinewidth": 0,
              "ticks": ""
             }
            },
            "type": "parcoords"
           }
          ],
          "pie": [
           {
            "automargin": true,
            "type": "pie"
           }
          ],
          "scatter": [
           {
            "fillpattern": {
             "fillmode": "overlay",
             "size": 10,
             "solidity": 0.2
            },
            "type": "scatter"
           }
          ],
          "scatter3d": [
           {
            "line": {
             "colorbar": {
              "outlinewidth": 0,
              "ticks": ""
             }
            },
            "marker": {
             "colorbar": {
              "outlinewidth": 0,
              "ticks": ""
             }
            },
            "type": "scatter3d"
           }
          ],
          "scattercarpet": [
           {
            "marker": {
             "colorbar": {
              "outlinewidth": 0,
              "ticks": ""
             }
            },
            "type": "scattercarpet"
           }
          ],
          "scattergeo": [
           {
            "marker": {
             "colorbar": {
              "outlinewidth": 0,
              "ticks": ""
             }
            },
            "type": "scattergeo"
           }
          ],
          "scattergl": [
           {
            "marker": {
             "colorbar": {
              "outlinewidth": 0,
              "ticks": ""
             }
            },
            "type": "scattergl"
           }
          ],
          "scattermapbox": [
           {
            "marker": {
             "colorbar": {
              "outlinewidth": 0,
              "ticks": ""
             }
            },
            "type": "scattermapbox"
           }
          ],
          "scatterpolar": [
           {
            "marker": {
             "colorbar": {
              "outlinewidth": 0,
              "ticks": ""
             }
            },
            "type": "scatterpolar"
           }
          ],
          "scatterpolargl": [
           {
            "marker": {
             "colorbar": {
              "outlinewidth": 0,
              "ticks": ""
             }
            },
            "type": "scatterpolargl"
           }
          ],
          "scatterternary": [
           {
            "marker": {
             "colorbar": {
              "outlinewidth": 0,
              "ticks": ""
             }
            },
            "type": "scatterternary"
           }
          ],
          "surface": [
           {
            "colorbar": {
             "outlinewidth": 0,
             "ticks": ""
            },
            "colorscale": [
             [
              0,
              "#0d0887"
             ],
             [
              0.1111111111111111,
              "#46039f"
             ],
             [
              0.2222222222222222,
              "#7201a8"
             ],
             [
              0.3333333333333333,
              "#9c179e"
             ],
             [
              0.4444444444444444,
              "#bd3786"
             ],
             [
              0.5555555555555556,
              "#d8576b"
             ],
             [
              0.6666666666666666,
              "#ed7953"
             ],
             [
              0.7777777777777778,
              "#fb9f3a"
             ],
             [
              0.8888888888888888,
              "#fdca26"
             ],
             [
              1,
              "#f0f921"
             ]
            ],
            "type": "surface"
           }
          ],
          "table": [
           {
            "cells": {
             "fill": {
              "color": "#EBF0F8"
             },
             "line": {
              "color": "white"
             }
            },
            "header": {
             "fill": {
              "color": "#C8D4E3"
             },
             "line": {
              "color": "white"
             }
            },
            "type": "table"
           }
          ]
         },
         "layout": {
          "annotationdefaults": {
           "arrowcolor": "#2a3f5f",
           "arrowhead": 0,
           "arrowwidth": 1
          },
          "autotypenumbers": "strict",
          "coloraxis": {
           "colorbar": {
            "outlinewidth": 0,
            "ticks": ""
           }
          },
          "colorscale": {
           "diverging": [
            [
             0,
             "#8e0152"
            ],
            [
             0.1,
             "#c51b7d"
            ],
            [
             0.2,
             "#de77ae"
            ],
            [
             0.3,
             "#f1b6da"
            ],
            [
             0.4,
             "#fde0ef"
            ],
            [
             0.5,
             "#f7f7f7"
            ],
            [
             0.6,
             "#e6f5d0"
            ],
            [
             0.7,
             "#b8e186"
            ],
            [
             0.8,
             "#7fbc41"
            ],
            [
             0.9,
             "#4d9221"
            ],
            [
             1,
             "#276419"
            ]
           ],
           "sequential": [
            [
             0,
             "#0d0887"
            ],
            [
             0.1111111111111111,
             "#46039f"
            ],
            [
             0.2222222222222222,
             "#7201a8"
            ],
            [
             0.3333333333333333,
             "#9c179e"
            ],
            [
             0.4444444444444444,
             "#bd3786"
            ],
            [
             0.5555555555555556,
             "#d8576b"
            ],
            [
             0.6666666666666666,
             "#ed7953"
            ],
            [
             0.7777777777777778,
             "#fb9f3a"
            ],
            [
             0.8888888888888888,
             "#fdca26"
            ],
            [
             1,
             "#f0f921"
            ]
           ],
           "sequentialminus": [
            [
             0,
             "#0d0887"
            ],
            [
             0.1111111111111111,
             "#46039f"
            ],
            [
             0.2222222222222222,
             "#7201a8"
            ],
            [
             0.3333333333333333,
             "#9c179e"
            ],
            [
             0.4444444444444444,
             "#bd3786"
            ],
            [
             0.5555555555555556,
             "#d8576b"
            ],
            [
             0.6666666666666666,
             "#ed7953"
            ],
            [
             0.7777777777777778,
             "#fb9f3a"
            ],
            [
             0.8888888888888888,
             "#fdca26"
            ],
            [
             1,
             "#f0f921"
            ]
           ]
          },
          "colorway": [
           "#636efa",
           "#EF553B",
           "#00cc96",
           "#ab63fa",
           "#FFA15A",
           "#19d3f3",
           "#FF6692",
           "#B6E880",
           "#FF97FF",
           "#FECB52"
          ],
          "font": {
           "color": "#2a3f5f"
          },
          "geo": {
           "bgcolor": "white",
           "lakecolor": "white",
           "landcolor": "#E5ECF6",
           "showlakes": true,
           "showland": true,
           "subunitcolor": "white"
          },
          "hoverlabel": {
           "align": "left"
          },
          "hovermode": "closest",
          "mapbox": {
           "style": "light"
          },
          "paper_bgcolor": "white",
          "plot_bgcolor": "#E5ECF6",
          "polar": {
           "angularaxis": {
            "gridcolor": "white",
            "linecolor": "white",
            "ticks": ""
           },
           "bgcolor": "#E5ECF6",
           "radialaxis": {
            "gridcolor": "white",
            "linecolor": "white",
            "ticks": ""
           }
          },
          "scene": {
           "xaxis": {
            "backgroundcolor": "#E5ECF6",
            "gridcolor": "white",
            "gridwidth": 2,
            "linecolor": "white",
            "showbackground": true,
            "ticks": "",
            "zerolinecolor": "white"
           },
           "yaxis": {
            "backgroundcolor": "#E5ECF6",
            "gridcolor": "white",
            "gridwidth": 2,
            "linecolor": "white",
            "showbackground": true,
            "ticks": "",
            "zerolinecolor": "white"
           },
           "zaxis": {
            "backgroundcolor": "#E5ECF6",
            "gridcolor": "white",
            "gridwidth": 2,
            "linecolor": "white",
            "showbackground": true,
            "ticks": "",
            "zerolinecolor": "white"
           }
          },
          "shapedefaults": {
           "line": {
            "color": "#2a3f5f"
           }
          },
          "ternary": {
           "aaxis": {
            "gridcolor": "white",
            "linecolor": "white",
            "ticks": ""
           },
           "baxis": {
            "gridcolor": "white",
            "linecolor": "white",
            "ticks": ""
           },
           "bgcolor": "#E5ECF6",
           "caxis": {
            "gridcolor": "white",
            "linecolor": "white",
            "ticks": ""
           }
          },
          "title": {
           "x": 0.05
          },
          "xaxis": {
           "automargin": true,
           "gridcolor": "white",
           "linecolor": "white",
           "ticks": "",
           "title": {
            "standoff": 15
           },
           "zerolinecolor": "white",
           "zerolinewidth": 2
          },
          "yaxis": {
           "automargin": true,
           "gridcolor": "white",
           "linecolor": "white",
           "ticks": "",
           "title": {
            "standoff": 15
           },
           "zerolinecolor": "white",
           "zerolinewidth": 2
          }
         }
        },
        "title": {
         "text": "Effect of hidden_size on Fit Time"
        },
        "xaxis": {
         "anchor": "y",
         "domain": [
          0,
          1
         ],
         "title": {
          "text": "hidden_size"
         }
        },
        "yaxis": {
         "anchor": "x",
         "domain": [
          0,
          1
         ],
         "title": {
          "text": "fit_time"
         }
        }
       }
      }
     },
     "metadata": {},
     "output_type": "display_data"
    },
    {
     "data": {
      "application/vnd.plotly.v1+json": {
       "config": {
        "plotlyServerURL": "https://plot.ly"
       },
       "data": [
        {
         "hovertemplate": "model=WeightedEnsemble_L2<br>num_layers=%{x}<br>score_val=%{y}<extra></extra>",
         "legendgroup": "WeightedEnsemble_L2",
         "marker": {
          "color": "#636efa",
          "symbol": "circle"
         },
         "mode": "markers",
         "name": "WeightedEnsemble_L2",
         "orientation": "v",
         "showlegend": true,
         "type": "scatter",
         "x": [
          null
         ],
         "xaxis": "x",
         "y": [
          -0.09283762531040665
         ],
         "yaxis": "y"
        },
        {
         "hovertemplate": "model=NeuralNetTorch/T5<br>num_layers=%{x}<br>score_val=%{y}<extra></extra>",
         "legendgroup": "NeuralNetTorch/T5",
         "marker": {
          "color": "#EF553B",
          "symbol": "circle"
         },
         "mode": "markers",
         "name": "NeuralNetTorch/T5",
         "orientation": "v",
         "showlegend": true,
         "type": "scatter",
         "x": [
          3
         ],
         "xaxis": "x",
         "y": [
          -0.09718056049551435
         ],
         "yaxis": "y"
        },
        {
         "hovertemplate": "model=NeuralNetTorch/T4<br>num_layers=%{x}<br>score_val=%{y}<extra></extra>",
         "legendgroup": "NeuralNetTorch/T4",
         "marker": {
          "color": "#00cc96",
          "symbol": "circle"
         },
         "mode": "markers",
         "name": "NeuralNetTorch/T4",
         "orientation": "v",
         "showlegend": true,
         "type": "scatter",
         "x": [
          3
         ],
         "xaxis": "x",
         "y": [
          -0.09718056049551435
         ],
         "yaxis": "y"
        },
        {
         "hovertemplate": "model=NeuralNetTorch/T3<br>num_layers=%{x}<br>score_val=%{y}<extra></extra>",
         "legendgroup": "NeuralNetTorch/T3",
         "marker": {
          "color": "#ab63fa",
          "symbol": "circle"
         },
         "mode": "markers",
         "name": "NeuralNetTorch/T3",
         "orientation": "v",
         "showlegend": true,
         "type": "scatter",
         "x": [
          3
         ],
         "xaxis": "x",
         "y": [
          -0.09772584164848322
         ],
         "yaxis": "y"
        },
        {
         "hovertemplate": "model=NeuralNetTorch/T15<br>num_layers=%{x}<br>score_val=%{y}<extra></extra>",
         "legendgroup": "NeuralNetTorch/T15",
         "marker": {
          "color": "#FFA15A",
          "symbol": "circle"
         },
         "mode": "markers",
         "name": "NeuralNetTorch/T15",
         "orientation": "v",
         "showlegend": true,
         "type": "scatter",
         "x": [
          3
         ],
         "xaxis": "x",
         "y": [
          -0.09772584164848322
         ],
         "yaxis": "y"
        },
        {
         "hovertemplate": "model=NeuralNetTorch/T18<br>num_layers=%{x}<br>score_val=%{y}<extra></extra>",
         "legendgroup": "NeuralNetTorch/T18",
         "marker": {
          "color": "#19d3f3",
          "symbol": "circle"
         },
         "mode": "markers",
         "name": "NeuralNetTorch/T18",
         "orientation": "v",
         "showlegend": true,
         "type": "scatter",
         "x": [
          3
         ],
         "xaxis": "x",
         "y": [
          -0.09854319484382841
         ],
         "yaxis": "y"
        },
        {
         "hovertemplate": "model=NeuralNetTorch/T2<br>num_layers=%{x}<br>score_val=%{y}<extra></extra>",
         "legendgroup": "NeuralNetTorch/T2",
         "marker": {
          "color": "#FF6692",
          "symbol": "circle"
         },
         "mode": "markers",
         "name": "NeuralNetTorch/T2",
         "orientation": "v",
         "showlegend": true,
         "type": "scatter",
         "x": [
          3
         ],
         "xaxis": "x",
         "y": [
          -0.09854319484382841
         ],
         "yaxis": "y"
        },
        {
         "hovertemplate": "model=NeuralNetTorch/T12<br>num_layers=%{x}<br>score_val=%{y}<extra></extra>",
         "legendgroup": "NeuralNetTorch/T12",
         "marker": {
          "color": "#B6E880",
          "symbol": "circle"
         },
         "mode": "markers",
         "name": "NeuralNetTorch/T12",
         "orientation": "v",
         "showlegend": true,
         "type": "scatter",
         "x": [
          2
         ],
         "xaxis": "x",
         "y": [
          -0.09994911260448675
         ],
         "yaxis": "y"
        },
        {
         "hovertemplate": "model=NeuralNetTorch/T23<br>num_layers=%{x}<br>score_val=%{y}<extra></extra>",
         "legendgroup": "NeuralNetTorch/T23",
         "marker": {
          "color": "#FF97FF",
          "symbol": "circle"
         },
         "mode": "markers",
         "name": "NeuralNetTorch/T23",
         "orientation": "v",
         "showlegend": true,
         "type": "scatter",
         "x": [
          2
         ],
         "xaxis": "x",
         "y": [
          -0.09994911260448675
         ],
         "yaxis": "y"
        },
        {
         "hovertemplate": "model=NeuralNetTorch/T22<br>num_layers=%{x}<br>score_val=%{y}<extra></extra>",
         "legendgroup": "NeuralNetTorch/T22",
         "marker": {
          "color": "#FECB52",
          "symbol": "circle"
         },
         "mode": "markers",
         "name": "NeuralNetTorch/T22",
         "orientation": "v",
         "showlegend": true,
         "type": "scatter",
         "x": [
          2
         ],
         "xaxis": "x",
         "y": [
          -0.1005814922850195
         ],
         "yaxis": "y"
        },
        {
         "hovertemplate": "model=NeuralNetTorch/T14<br>num_layers=%{x}<br>score_val=%{y}<extra></extra>",
         "legendgroup": "NeuralNetTorch/T14",
         "marker": {
          "color": "#636efa",
          "symbol": "circle"
         },
         "mode": "markers",
         "name": "NeuralNetTorch/T14",
         "orientation": "v",
         "showlegend": true,
         "type": "scatter",
         "x": [
          2
         ],
         "xaxis": "x",
         "y": [
          -0.1005814922850195
         ],
         "yaxis": "y"
        },
        {
         "hovertemplate": "model=NeuralNetTorch/T16<br>num_layers=%{x}<br>score_val=%{y}<extra></extra>",
         "legendgroup": "NeuralNetTorch/T16",
         "marker": {
          "color": "#EF553B",
          "symbol": "circle"
         },
         "mode": "markers",
         "name": "NeuralNetTorch/T16",
         "orientation": "v",
         "showlegend": true,
         "type": "scatter",
         "x": [
          3
         ],
         "xaxis": "x",
         "y": [
          -0.10081385598733485
         ],
         "yaxis": "y"
        },
        {
         "hovertemplate": "model=NeuralNetTorch/T7<br>num_layers=%{x}<br>score_val=%{y}<extra></extra>",
         "legendgroup": "NeuralNetTorch/T7",
         "marker": {
          "color": "#00cc96",
          "symbol": "circle"
         },
         "mode": "markers",
         "name": "NeuralNetTorch/T7",
         "orientation": "v",
         "showlegend": true,
         "type": "scatter",
         "x": [
          3
         ],
         "xaxis": "x",
         "y": [
          -0.10081385598733485
         ],
         "yaxis": "y"
        },
        {
         "hovertemplate": "model=NeuralNetTorch/T17<br>num_layers=%{x}<br>score_val=%{y}<extra></extra>",
         "legendgroup": "NeuralNetTorch/T17",
         "marker": {
          "color": "#ab63fa",
          "symbol": "circle"
         },
         "mode": "markers",
         "name": "NeuralNetTorch/T17",
         "orientation": "v",
         "showlegend": true,
         "type": "scatter",
         "x": [
          2
         ],
         "xaxis": "x",
         "y": [
          -0.10127511893734274
         ],
         "yaxis": "y"
        },
        {
         "hovertemplate": "model=NeuralNetTorch/T24<br>num_layers=%{x}<br>score_val=%{y}<extra></extra>",
         "legendgroup": "NeuralNetTorch/T24",
         "marker": {
          "color": "#FFA15A",
          "symbol": "circle"
         },
         "mode": "markers",
         "name": "NeuralNetTorch/T24",
         "orientation": "v",
         "showlegend": true,
         "type": "scatter",
         "x": [
          2
         ],
         "xaxis": "x",
         "y": [
          -0.10127511893734274
         ],
         "yaxis": "y"
        },
        {
         "hovertemplate": "model=NeuralNetTorch/T9<br>num_layers=%{x}<br>score_val=%{y}<extra></extra>",
         "legendgroup": "NeuralNetTorch/T9",
         "marker": {
          "color": "#19d3f3",
          "symbol": "circle"
         },
         "mode": "markers",
         "name": "NeuralNetTorch/T9",
         "orientation": "v",
         "showlegend": true,
         "type": "scatter",
         "x": [
          2
         ],
         "xaxis": "x",
         "y": [
          -0.10185399698220117
         ],
         "yaxis": "y"
        },
        {
         "hovertemplate": "model=NeuralNetTorch/T6<br>num_layers=%{x}<br>score_val=%{y}<extra></extra>",
         "legendgroup": "NeuralNetTorch/T6",
         "marker": {
          "color": "#FF6692",
          "symbol": "circle"
         },
         "mode": "markers",
         "name": "NeuralNetTorch/T6",
         "orientation": "v",
         "showlegend": true,
         "type": "scatter",
         "x": [
          2
         ],
         "xaxis": "x",
         "y": [
          -0.10185399698220117
         ],
         "yaxis": "y"
        },
        {
         "hovertemplate": "model=NeuralNetTorch/T13<br>num_layers=%{x}<br>score_val=%{y}<extra></extra>",
         "legendgroup": "NeuralNetTorch/T13",
         "marker": {
          "color": "#B6E880",
          "symbol": "circle"
         },
         "mode": "markers",
         "name": "NeuralNetTorch/T13",
         "orientation": "v",
         "showlegend": true,
         "type": "scatter",
         "x": [
          3
         ],
         "xaxis": "x",
         "y": [
          -0.10471635375983233
         ],
         "yaxis": "y"
        },
        {
         "hovertemplate": "model=NeuralNetTorch/T20<br>num_layers=%{x}<br>score_val=%{y}<extra></extra>",
         "legendgroup": "NeuralNetTorch/T20",
         "marker": {
          "color": "#FF97FF",
          "symbol": "circle"
         },
         "mode": "markers",
         "name": "NeuralNetTorch/T20",
         "orientation": "v",
         "showlegend": true,
         "type": "scatter",
         "x": [
          3
         ],
         "xaxis": "x",
         "y": [
          -0.10471635375983233
         ],
         "yaxis": "y"
        },
        {
         "hovertemplate": "model=NeuralNetTorch/T19<br>num_layers=%{x}<br>score_val=%{y}<extra></extra>",
         "legendgroup": "NeuralNetTorch/T19",
         "marker": {
          "color": "#FECB52",
          "symbol": "circle"
         },
         "mode": "markers",
         "name": "NeuralNetTorch/T19",
         "orientation": "v",
         "showlegend": true,
         "type": "scatter",
         "x": [
          3
         ],
         "xaxis": "x",
         "y": [
          -0.11026117149158733
         ],
         "yaxis": "y"
        },
        {
         "hovertemplate": "model=NeuralNetTorch/T8<br>num_layers=%{x}<br>score_val=%{y}<extra></extra>",
         "legendgroup": "NeuralNetTorch/T8",
         "marker": {
          "color": "#636efa",
          "symbol": "circle"
         },
         "mode": "markers",
         "name": "NeuralNetTorch/T8",
         "orientation": "v",
         "showlegend": true,
         "type": "scatter",
         "x": [
          3
         ],
         "xaxis": "x",
         "y": [
          -0.11026117149158733
         ],
         "yaxis": "y"
        },
        {
         "hovertemplate": "model=NeuralNetTorch/T21<br>num_layers=%{x}<br>score_val=%{y}<extra></extra>",
         "legendgroup": "NeuralNetTorch/T21",
         "marker": {
          "color": "#EF553B",
          "symbol": "circle"
         },
         "mode": "markers",
         "name": "NeuralNetTorch/T21",
         "orientation": "v",
         "showlegend": true,
         "type": "scatter",
         "x": [
          2
         ],
         "xaxis": "x",
         "y": [
          -0.11851347339614503
         ],
         "yaxis": "y"
        },
        {
         "hovertemplate": "model=NeuralNetTorch/T1<br>num_layers=%{x}<br>score_val=%{y}<extra></extra>",
         "legendgroup": "NeuralNetTorch/T1",
         "marker": {
          "color": "#00cc96",
          "symbol": "circle"
         },
         "mode": "markers",
         "name": "NeuralNetTorch/T1",
         "orientation": "v",
         "showlegend": true,
         "type": "scatter",
         "x": [
          2
         ],
         "xaxis": "x",
         "y": [
          -0.11851347339614503
         ],
         "yaxis": "y"
        },
        {
         "hovertemplate": "model=NeuralNetTorch/T11<br>num_layers=%{x}<br>score_val=%{y}<extra></extra>",
         "legendgroup": "NeuralNetTorch/T11",
         "marker": {
          "color": "#ab63fa",
          "symbol": "circle"
         },
         "mode": "markers",
         "name": "NeuralNetTorch/T11",
         "orientation": "v",
         "showlegend": true,
         "type": "scatter",
         "x": [
          2
         ],
         "xaxis": "x",
         "y": [
          -0.12092273679396805
         ],
         "yaxis": "y"
        },
        {
         "hovertemplate": "model=NeuralNetTorch/T10<br>num_layers=%{x}<br>score_val=%{y}<extra></extra>",
         "legendgroup": "NeuralNetTorch/T10",
         "marker": {
          "color": "#FFA15A",
          "symbol": "circle"
         },
         "mode": "markers",
         "name": "NeuralNetTorch/T10",
         "orientation": "v",
         "showlegend": true,
         "type": "scatter",
         "x": [
          2
         ],
         "xaxis": "x",
         "y": [
          -0.12092273679396805
         ],
         "yaxis": "y"
        }
       ],
       "layout": {
        "legend": {
         "title": {
          "text": "model"
         },
         "tracegroupgap": 0
        },
        "template": {
         "data": {
          "bar": [
           {
            "error_x": {
             "color": "#2a3f5f"
            },
            "error_y": {
             "color": "#2a3f5f"
            },
            "marker": {
             "line": {
              "color": "#E5ECF6",
              "width": 0.5
             },
             "pattern": {
              "fillmode": "overlay",
              "size": 10,
              "solidity": 0.2
             }
            },
            "type": "bar"
           }
          ],
          "barpolar": [
           {
            "marker": {
             "line": {
              "color": "#E5ECF6",
              "width": 0.5
             },
             "pattern": {
              "fillmode": "overlay",
              "size": 10,
              "solidity": 0.2
             }
            },
            "type": "barpolar"
           }
          ],
          "carpet": [
           {
            "aaxis": {
             "endlinecolor": "#2a3f5f",
             "gridcolor": "white",
             "linecolor": "white",
             "minorgridcolor": "white",
             "startlinecolor": "#2a3f5f"
            },
            "baxis": {
             "endlinecolor": "#2a3f5f",
             "gridcolor": "white",
             "linecolor": "white",
             "minorgridcolor": "white",
             "startlinecolor": "#2a3f5f"
            },
            "type": "carpet"
           }
          ],
          "choropleth": [
           {
            "colorbar": {
             "outlinewidth": 0,
             "ticks": ""
            },
            "type": "choropleth"
           }
          ],
          "contour": [
           {
            "colorbar": {
             "outlinewidth": 0,
             "ticks": ""
            },
            "colorscale": [
             [
              0,
              "#0d0887"
             ],
             [
              0.1111111111111111,
              "#46039f"
             ],
             [
              0.2222222222222222,
              "#7201a8"
             ],
             [
              0.3333333333333333,
              "#9c179e"
             ],
             [
              0.4444444444444444,
              "#bd3786"
             ],
             [
              0.5555555555555556,
              "#d8576b"
             ],
             [
              0.6666666666666666,
              "#ed7953"
             ],
             [
              0.7777777777777778,
              "#fb9f3a"
             ],
             [
              0.8888888888888888,
              "#fdca26"
             ],
             [
              1,
              "#f0f921"
             ]
            ],
            "type": "contour"
           }
          ],
          "contourcarpet": [
           {
            "colorbar": {
             "outlinewidth": 0,
             "ticks": ""
            },
            "type": "contourcarpet"
           }
          ],
          "heatmap": [
           {
            "colorbar": {
             "outlinewidth": 0,
             "ticks": ""
            },
            "colorscale": [
             [
              0,
              "#0d0887"
             ],
             [
              0.1111111111111111,
              "#46039f"
             ],
             [
              0.2222222222222222,
              "#7201a8"
             ],
             [
              0.3333333333333333,
              "#9c179e"
             ],
             [
              0.4444444444444444,
              "#bd3786"
             ],
             [
              0.5555555555555556,
              "#d8576b"
             ],
             [
              0.6666666666666666,
              "#ed7953"
             ],
             [
              0.7777777777777778,
              "#fb9f3a"
             ],
             [
              0.8888888888888888,
              "#fdca26"
             ],
             [
              1,
              "#f0f921"
             ]
            ],
            "type": "heatmap"
           }
          ],
          "heatmapgl": [
           {
            "colorbar": {
             "outlinewidth": 0,
             "ticks": ""
            },
            "colorscale": [
             [
              0,
              "#0d0887"
             ],
             [
              0.1111111111111111,
              "#46039f"
             ],
             [
              0.2222222222222222,
              "#7201a8"
             ],
             [
              0.3333333333333333,
              "#9c179e"
             ],
             [
              0.4444444444444444,
              "#bd3786"
             ],
             [
              0.5555555555555556,
              "#d8576b"
             ],
             [
              0.6666666666666666,
              "#ed7953"
             ],
             [
              0.7777777777777778,
              "#fb9f3a"
             ],
             [
              0.8888888888888888,
              "#fdca26"
             ],
             [
              1,
              "#f0f921"
             ]
            ],
            "type": "heatmapgl"
           }
          ],
          "histogram": [
           {
            "marker": {
             "pattern": {
              "fillmode": "overlay",
              "size": 10,
              "solidity": 0.2
             }
            },
            "type": "histogram"
           }
          ],
          "histogram2d": [
           {
            "colorbar": {
             "outlinewidth": 0,
             "ticks": ""
            },
            "colorscale": [
             [
              0,
              "#0d0887"
             ],
             [
              0.1111111111111111,
              "#46039f"
             ],
             [
              0.2222222222222222,
              "#7201a8"
             ],
             [
              0.3333333333333333,
              "#9c179e"
             ],
             [
              0.4444444444444444,
              "#bd3786"
             ],
             [
              0.5555555555555556,
              "#d8576b"
             ],
             [
              0.6666666666666666,
              "#ed7953"
             ],
             [
              0.7777777777777778,
              "#fb9f3a"
             ],
             [
              0.8888888888888888,
              "#fdca26"
             ],
             [
              1,
              "#f0f921"
             ]
            ],
            "type": "histogram2d"
           }
          ],
          "histogram2dcontour": [
           {
            "colorbar": {
             "outlinewidth": 0,
             "ticks": ""
            },
            "colorscale": [
             [
              0,
              "#0d0887"
             ],
             [
              0.1111111111111111,
              "#46039f"
             ],
             [
              0.2222222222222222,
              "#7201a8"
             ],
             [
              0.3333333333333333,
              "#9c179e"
             ],
             [
              0.4444444444444444,
              "#bd3786"
             ],
             [
              0.5555555555555556,
              "#d8576b"
             ],
             [
              0.6666666666666666,
              "#ed7953"
             ],
             [
              0.7777777777777778,
              "#fb9f3a"
             ],
             [
              0.8888888888888888,
              "#fdca26"
             ],
             [
              1,
              "#f0f921"
             ]
            ],
            "type": "histogram2dcontour"
           }
          ],
          "mesh3d": [
           {
            "colorbar": {
             "outlinewidth": 0,
             "ticks": ""
            },
            "type": "mesh3d"
           }
          ],
          "parcoords": [
           {
            "line": {
             "colorbar": {
              "outlinewidth": 0,
              "ticks": ""
             }
            },
            "type": "parcoords"
           }
          ],
          "pie": [
           {
            "automargin": true,
            "type": "pie"
           }
          ],
          "scatter": [
           {
            "fillpattern": {
             "fillmode": "overlay",
             "size": 10,
             "solidity": 0.2
            },
            "type": "scatter"
           }
          ],
          "scatter3d": [
           {
            "line": {
             "colorbar": {
              "outlinewidth": 0,
              "ticks": ""
             }
            },
            "marker": {
             "colorbar": {
              "outlinewidth": 0,
              "ticks": ""
             }
            },
            "type": "scatter3d"
           }
          ],
          "scattercarpet": [
           {
            "marker": {
             "colorbar": {
              "outlinewidth": 0,
              "ticks": ""
             }
            },
            "type": "scattercarpet"
           }
          ],
          "scattergeo": [
           {
            "marker": {
             "colorbar": {
              "outlinewidth": 0,
              "ticks": ""
             }
            },
            "type": "scattergeo"
           }
          ],
          "scattergl": [
           {
            "marker": {
             "colorbar": {
              "outlinewidth": 0,
              "ticks": ""
             }
            },
            "type": "scattergl"
           }
          ],
          "scattermapbox": [
           {
            "marker": {
             "colorbar": {
              "outlinewidth": 0,
              "ticks": ""
             }
            },
            "type": "scattermapbox"
           }
          ],
          "scatterpolar": [
           {
            "marker": {
             "colorbar": {
              "outlinewidth": 0,
              "ticks": ""
             }
            },
            "type": "scatterpolar"
           }
          ],
          "scatterpolargl": [
           {
            "marker": {
             "colorbar": {
              "outlinewidth": 0,
              "ticks": ""
             }
            },
            "type": "scatterpolargl"
           }
          ],
          "scatterternary": [
           {
            "marker": {
             "colorbar": {
              "outlinewidth": 0,
              "ticks": ""
             }
            },
            "type": "scatterternary"
           }
          ],
          "surface": [
           {
            "colorbar": {
             "outlinewidth": 0,
             "ticks": ""
            },
            "colorscale": [
             [
              0,
              "#0d0887"
             ],
             [
              0.1111111111111111,
              "#46039f"
             ],
             [
              0.2222222222222222,
              "#7201a8"
             ],
             [
              0.3333333333333333,
              "#9c179e"
             ],
             [
              0.4444444444444444,
              "#bd3786"
             ],
             [
              0.5555555555555556,
              "#d8576b"
             ],
             [
              0.6666666666666666,
              "#ed7953"
             ],
             [
              0.7777777777777778,
              "#fb9f3a"
             ],
             [
              0.8888888888888888,
              "#fdca26"
             ],
             [
              1,
              "#f0f921"
             ]
            ],
            "type": "surface"
           }
          ],
          "table": [
           {
            "cells": {
             "fill": {
              "color": "#EBF0F8"
             },
             "line": {
              "color": "white"
             }
            },
            "header": {
             "fill": {
              "color": "#C8D4E3"
             },
             "line": {
              "color": "white"
             }
            },
            "type": "table"
           }
          ]
         },
         "layout": {
          "annotationdefaults": {
           "arrowcolor": "#2a3f5f",
           "arrowhead": 0,
           "arrowwidth": 1
          },
          "autotypenumbers": "strict",
          "coloraxis": {
           "colorbar": {
            "outlinewidth": 0,
            "ticks": ""
           }
          },
          "colorscale": {
           "diverging": [
            [
             0,
             "#8e0152"
            ],
            [
             0.1,
             "#c51b7d"
            ],
            [
             0.2,
             "#de77ae"
            ],
            [
             0.3,
             "#f1b6da"
            ],
            [
             0.4,
             "#fde0ef"
            ],
            [
             0.5,
             "#f7f7f7"
            ],
            [
             0.6,
             "#e6f5d0"
            ],
            [
             0.7,
             "#b8e186"
            ],
            [
             0.8,
             "#7fbc41"
            ],
            [
             0.9,
             "#4d9221"
            ],
            [
             1,
             "#276419"
            ]
           ],
           "sequential": [
            [
             0,
             "#0d0887"
            ],
            [
             0.1111111111111111,
             "#46039f"
            ],
            [
             0.2222222222222222,
             "#7201a8"
            ],
            [
             0.3333333333333333,
             "#9c179e"
            ],
            [
             0.4444444444444444,
             "#bd3786"
            ],
            [
             0.5555555555555556,
             "#d8576b"
            ],
            [
             0.6666666666666666,
             "#ed7953"
            ],
            [
             0.7777777777777778,
             "#fb9f3a"
            ],
            [
             0.8888888888888888,
             "#fdca26"
            ],
            [
             1,
             "#f0f921"
            ]
           ],
           "sequentialminus": [
            [
             0,
             "#0d0887"
            ],
            [
             0.1111111111111111,
             "#46039f"
            ],
            [
             0.2222222222222222,
             "#7201a8"
            ],
            [
             0.3333333333333333,
             "#9c179e"
            ],
            [
             0.4444444444444444,
             "#bd3786"
            ],
            [
             0.5555555555555556,
             "#d8576b"
            ],
            [
             0.6666666666666666,
             "#ed7953"
            ],
            [
             0.7777777777777778,
             "#fb9f3a"
            ],
            [
             0.8888888888888888,
             "#fdca26"
            ],
            [
             1,
             "#f0f921"
            ]
           ]
          },
          "colorway": [
           "#636efa",
           "#EF553B",
           "#00cc96",
           "#ab63fa",
           "#FFA15A",
           "#19d3f3",
           "#FF6692",
           "#B6E880",
           "#FF97FF",
           "#FECB52"
          ],
          "font": {
           "color": "#2a3f5f"
          },
          "geo": {
           "bgcolor": "white",
           "lakecolor": "white",
           "landcolor": "#E5ECF6",
           "showlakes": true,
           "showland": true,
           "subunitcolor": "white"
          },
          "hoverlabel": {
           "align": "left"
          },
          "hovermode": "closest",
          "mapbox": {
           "style": "light"
          },
          "paper_bgcolor": "white",
          "plot_bgcolor": "#E5ECF6",
          "polar": {
           "angularaxis": {
            "gridcolor": "white",
            "linecolor": "white",
            "ticks": ""
           },
           "bgcolor": "#E5ECF6",
           "radialaxis": {
            "gridcolor": "white",
            "linecolor": "white",
            "ticks": ""
           }
          },
          "scene": {
           "xaxis": {
            "backgroundcolor": "#E5ECF6",
            "gridcolor": "white",
            "gridwidth": 2,
            "linecolor": "white",
            "showbackground": true,
            "ticks": "",
            "zerolinecolor": "white"
           },
           "yaxis": {
            "backgroundcolor": "#E5ECF6",
            "gridcolor": "white",
            "gridwidth": 2,
            "linecolor": "white",
            "showbackground": true,
            "ticks": "",
            "zerolinecolor": "white"
           },
           "zaxis": {
            "backgroundcolor": "#E5ECF6",
            "gridcolor": "white",
            "gridwidth": 2,
            "linecolor": "white",
            "showbackground": true,
            "ticks": "",
            "zerolinecolor": "white"
           }
          },
          "shapedefaults": {
           "line": {
            "color": "#2a3f5f"
           }
          },
          "ternary": {
           "aaxis": {
            "gridcolor": "white",
            "linecolor": "white",
            "ticks": ""
           },
           "baxis": {
            "gridcolor": "white",
            "linecolor": "white",
            "ticks": ""
           },
           "bgcolor": "#E5ECF6",
           "caxis": {
            "gridcolor": "white",
            "linecolor": "white",
            "ticks": ""
           }
          },
          "title": {
           "x": 0.05
          },
          "xaxis": {
           "automargin": true,
           "gridcolor": "white",
           "linecolor": "white",
           "ticks": "",
           "title": {
            "standoff": 15
           },
           "zerolinecolor": "white",
           "zerolinewidth": 2
          },
          "yaxis": {
           "automargin": true,
           "gridcolor": "white",
           "linecolor": "white",
           "ticks": "",
           "title": {
            "standoff": 15
           },
           "zerolinecolor": "white",
           "zerolinewidth": 2
          }
         }
        },
        "title": {
         "text": "Effect of num_layers on Score Validation"
        },
        "xaxis": {
         "anchor": "y",
         "domain": [
          0,
          1
         ],
         "title": {
          "text": "num_layers"
         }
        },
        "yaxis": {
         "anchor": "x",
         "domain": [
          0,
          1
         ],
         "title": {
          "text": "score_val"
         }
        }
       }
      }
     },
     "metadata": {},
     "output_type": "display_data"
    },
    {
     "data": {
      "application/vnd.plotly.v1+json": {
       "config": {
        "plotlyServerURL": "https://plot.ly"
       },
       "data": [
        {
         "hovertemplate": "model=WeightedEnsemble_L2<br>num_layers=%{x}<br>fit_time=%{y}<extra></extra>",
         "legendgroup": "WeightedEnsemble_L2",
         "marker": {
          "color": "#636efa",
          "symbol": "circle"
         },
         "mode": "markers",
         "name": "WeightedEnsemble_L2",
         "orientation": "v",
         "showlegend": true,
         "type": "scatter",
         "x": [
          null
         ],
         "xaxis": "x",
         "y": [
          12.100504159927368
         ],
         "yaxis": "y"
        },
        {
         "hovertemplate": "model=NeuralNetTorch/T5<br>num_layers=%{x}<br>fit_time=%{y}<extra></extra>",
         "legendgroup": "NeuralNetTorch/T5",
         "marker": {
          "color": "#EF553B",
          "symbol": "circle"
         },
         "mode": "markers",
         "name": "NeuralNetTorch/T5",
         "orientation": "v",
         "showlegend": true,
         "type": "scatter",
         "x": [
          3
         ],
         "xaxis": "x",
         "y": [
          6.563594102859497
         ],
         "yaxis": "y"
        },
        {
         "hovertemplate": "model=NeuralNetTorch/T4<br>num_layers=%{x}<br>fit_time=%{y}<extra></extra>",
         "legendgroup": "NeuralNetTorch/T4",
         "marker": {
          "color": "#00cc96",
          "symbol": "circle"
         },
         "mode": "markers",
         "name": "NeuralNetTorch/T4",
         "orientation": "v",
         "showlegend": true,
         "type": "scatter",
         "x": [
          3
         ],
         "xaxis": "x",
         "y": [
          6.620213031768799
         ],
         "yaxis": "y"
        },
        {
         "hovertemplate": "model=NeuralNetTorch/T3<br>num_layers=%{x}<br>fit_time=%{y}<extra></extra>",
         "legendgroup": "NeuralNetTorch/T3",
         "marker": {
          "color": "#ab63fa",
          "symbol": "circle"
         },
         "mode": "markers",
         "name": "NeuralNetTorch/T3",
         "orientation": "v",
         "showlegend": true,
         "type": "scatter",
         "x": [
          3
         ],
         "xaxis": "x",
         "y": [
          2.6324679851531982
         ],
         "yaxis": "y"
        },
        {
         "hovertemplate": "model=NeuralNetTorch/T15<br>num_layers=%{x}<br>fit_time=%{y}<extra></extra>",
         "legendgroup": "NeuralNetTorch/T15",
         "marker": {
          "color": "#FFA15A",
          "symbol": "circle"
         },
         "mode": "markers",
         "name": "NeuralNetTorch/T15",
         "orientation": "v",
         "showlegend": true,
         "type": "scatter",
         "x": [
          3
         ],
         "xaxis": "x",
         "y": [
          2.6552698612213135
         ],
         "yaxis": "y"
        },
        {
         "hovertemplate": "model=NeuralNetTorch/T18<br>num_layers=%{x}<br>fit_time=%{y}<extra></extra>",
         "legendgroup": "NeuralNetTorch/T18",
         "marker": {
          "color": "#19d3f3",
          "symbol": "circle"
         },
         "mode": "markers",
         "name": "NeuralNetTorch/T18",
         "orientation": "v",
         "showlegend": true,
         "type": "scatter",
         "x": [
          3
         ],
         "xaxis": "x",
         "y": [
          2.9213502407073975
         ],
         "yaxis": "y"
        },
        {
         "hovertemplate": "model=NeuralNetTorch/T2<br>num_layers=%{x}<br>fit_time=%{y}<extra></extra>",
         "legendgroup": "NeuralNetTorch/T2",
         "marker": {
          "color": "#FF6692",
          "symbol": "circle"
         },
         "mode": "markers",
         "name": "NeuralNetTorch/T2",
         "orientation": "v",
         "showlegend": true,
         "type": "scatter",
         "x": [
          3
         ],
         "xaxis": "x",
         "y": [
          2.8096730709075928
         ],
         "yaxis": "y"
        },
        {
         "hovertemplate": "model=NeuralNetTorch/T12<br>num_layers=%{x}<br>fit_time=%{y}<extra></extra>",
         "legendgroup": "NeuralNetTorch/T12",
         "marker": {
          "color": "#B6E880",
          "symbol": "circle"
         },
         "mode": "markers",
         "name": "NeuralNetTorch/T12",
         "orientation": "v",
         "showlegend": true,
         "type": "scatter",
         "x": [
          2
         ],
         "xaxis": "x",
         "y": [
          3.0574231147766113
         ],
         "yaxis": "y"
        },
        {
         "hovertemplate": "model=NeuralNetTorch/T23<br>num_layers=%{x}<br>fit_time=%{y}<extra></extra>",
         "legendgroup": "NeuralNetTorch/T23",
         "marker": {
          "color": "#FF97FF",
          "symbol": "circle"
         },
         "mode": "markers",
         "name": "NeuralNetTorch/T23",
         "orientation": "v",
         "showlegend": true,
         "type": "scatter",
         "x": [
          2
         ],
         "xaxis": "x",
         "y": [
          3.0205729007720947
         ],
         "yaxis": "y"
        },
        {
         "hovertemplate": "model=NeuralNetTorch/T22<br>num_layers=%{x}<br>fit_time=%{y}<extra></extra>",
         "legendgroup": "NeuralNetTorch/T22",
         "marker": {
          "color": "#FECB52",
          "symbol": "circle"
         },
         "mode": "markers",
         "name": "NeuralNetTorch/T22",
         "orientation": "v",
         "showlegend": true,
         "type": "scatter",
         "x": [
          2
         ],
         "xaxis": "x",
         "y": [
          3.4159748554229736
         ],
         "yaxis": "y"
        },
        {
         "hovertemplate": "model=NeuralNetTorch/T14<br>num_layers=%{x}<br>fit_time=%{y}<extra></extra>",
         "legendgroup": "NeuralNetTorch/T14",
         "marker": {
          "color": "#636efa",
          "symbol": "circle"
         },
         "mode": "markers",
         "name": "NeuralNetTorch/T14",
         "orientation": "v",
         "showlegend": true,
         "type": "scatter",
         "x": [
          2
         ],
         "xaxis": "x",
         "y": [
          3.3177878856658936
         ],
         "yaxis": "y"
        },
        {
         "hovertemplate": "model=NeuralNetTorch/T16<br>num_layers=%{x}<br>fit_time=%{y}<extra></extra>",
         "legendgroup": "NeuralNetTorch/T16",
         "marker": {
          "color": "#EF553B",
          "symbol": "circle"
         },
         "mode": "markers",
         "name": "NeuralNetTorch/T16",
         "orientation": "v",
         "showlegend": true,
         "type": "scatter",
         "x": [
          3
         ],
         "xaxis": "x",
         "y": [
          6.747899055480957
         ],
         "yaxis": "y"
        },
        {
         "hovertemplate": "model=NeuralNetTorch/T7<br>num_layers=%{x}<br>fit_time=%{y}<extra></extra>",
         "legendgroup": "NeuralNetTorch/T7",
         "marker": {
          "color": "#00cc96",
          "symbol": "circle"
         },
         "mode": "markers",
         "name": "NeuralNetTorch/T7",
         "orientation": "v",
         "showlegend": true,
         "type": "scatter",
         "x": [
          3
         ],
         "xaxis": "x",
         "y": [
          6.794891119003296
         ],
         "yaxis": "y"
        },
        {
         "hovertemplate": "model=NeuralNetTorch/T17<br>num_layers=%{x}<br>fit_time=%{y}<extra></extra>",
         "legendgroup": "NeuralNetTorch/T17",
         "marker": {
          "color": "#ab63fa",
          "symbol": "circle"
         },
         "mode": "markers",
         "name": "NeuralNetTorch/T17",
         "orientation": "v",
         "showlegend": true,
         "type": "scatter",
         "x": [
          2
         ],
         "xaxis": "x",
         "y": [
          5.708688974380493
         ],
         "yaxis": "y"
        },
        {
         "hovertemplate": "model=NeuralNetTorch/T24<br>num_layers=%{x}<br>fit_time=%{y}<extra></extra>",
         "legendgroup": "NeuralNetTorch/T24",
         "marker": {
          "color": "#FFA15A",
          "symbol": "circle"
         },
         "mode": "markers",
         "name": "NeuralNetTorch/T24",
         "orientation": "v",
         "showlegend": true,
         "type": "scatter",
         "x": [
          2
         ],
         "xaxis": "x",
         "y": [
          5.772013187408447
         ],
         "yaxis": "y"
        },
        {
         "hovertemplate": "model=NeuralNetTorch/T9<br>num_layers=%{x}<br>fit_time=%{y}<extra></extra>",
         "legendgroup": "NeuralNetTorch/T9",
         "marker": {
          "color": "#19d3f3",
          "symbol": "circle"
         },
         "mode": "markers",
         "name": "NeuralNetTorch/T9",
         "orientation": "v",
         "showlegend": true,
         "type": "scatter",
         "x": [
          2
         ],
         "xaxis": "x",
         "y": [
          9.720787048339844
         ],
         "yaxis": "y"
        },
        {
         "hovertemplate": "model=NeuralNetTorch/T6<br>num_layers=%{x}<br>fit_time=%{y}<extra></extra>",
         "legendgroup": "NeuralNetTorch/T6",
         "marker": {
          "color": "#FF6692",
          "symbol": "circle"
         },
         "mode": "markers",
         "name": "NeuralNetTorch/T6",
         "orientation": "v",
         "showlegend": true,
         "type": "scatter",
         "x": [
          2
         ],
         "xaxis": "x",
         "y": [
          9.848424196243286
         ],
         "yaxis": "y"
        },
        {
         "hovertemplate": "model=NeuralNetTorch/T13<br>num_layers=%{x}<br>fit_time=%{y}<extra></extra>",
         "legendgroup": "NeuralNetTorch/T13",
         "marker": {
          "color": "#B6E880",
          "symbol": "circle"
         },
         "mode": "markers",
         "name": "NeuralNetTorch/T13",
         "orientation": "v",
         "showlegend": true,
         "type": "scatter",
         "x": [
          3
         ],
         "xaxis": "x",
         "y": [
          2.456372022628784
         ],
         "yaxis": "y"
        },
        {
         "hovertemplate": "model=NeuralNetTorch/T20<br>num_layers=%{x}<br>fit_time=%{y}<extra></extra>",
         "legendgroup": "NeuralNetTorch/T20",
         "marker": {
          "color": "#FF97FF",
          "symbol": "circle"
         },
         "mode": "markers",
         "name": "NeuralNetTorch/T20",
         "orientation": "v",
         "showlegend": true,
         "type": "scatter",
         "x": [
          3
         ],
         "xaxis": "x",
         "y": [
          2.4334919452667236
         ],
         "yaxis": "y"
        },
        {
         "hovertemplate": "model=NeuralNetTorch/T19<br>num_layers=%{x}<br>fit_time=%{y}<extra></extra>",
         "legendgroup": "NeuralNetTorch/T19",
         "marker": {
          "color": "#FECB52",
          "symbol": "circle"
         },
         "mode": "markers",
         "name": "NeuralNetTorch/T19",
         "orientation": "v",
         "showlegend": true,
         "type": "scatter",
         "x": [
          3
         ],
         "xaxis": "x",
         "y": [
          3.4849750995635986
         ],
         "yaxis": "y"
        },
        {
         "hovertemplate": "model=NeuralNetTorch/T8<br>num_layers=%{x}<br>fit_time=%{y}<extra></extra>",
         "legendgroup": "NeuralNetTorch/T8",
         "marker": {
          "color": "#636efa",
          "symbol": "circle"
         },
         "mode": "markers",
         "name": "NeuralNetTorch/T8",
         "orientation": "v",
         "showlegend": true,
         "type": "scatter",
         "x": [
          3
         ],
         "xaxis": "x",
         "y": [
          3.617314100265503
         ],
         "yaxis": "y"
        },
        {
         "hovertemplate": "model=NeuralNetTorch/T21<br>num_layers=%{x}<br>fit_time=%{y}<extra></extra>",
         "legendgroup": "NeuralNetTorch/T21",
         "marker": {
          "color": "#EF553B",
          "symbol": "circle"
         },
         "mode": "markers",
         "name": "NeuralNetTorch/T21",
         "orientation": "v",
         "showlegend": true,
         "type": "scatter",
         "x": [
          2
         ],
         "xaxis": "x",
         "y": [
          1.3957393169403076
         ],
         "yaxis": "y"
        },
        {
         "hovertemplate": "model=NeuralNetTorch/T1<br>num_layers=%{x}<br>fit_time=%{y}<extra></extra>",
         "legendgroup": "NeuralNetTorch/T1",
         "marker": {
          "color": "#00cc96",
          "symbol": "circle"
         },
         "mode": "markers",
         "name": "NeuralNetTorch/T1",
         "orientation": "v",
         "showlegend": true,
         "type": "scatter",
         "x": [
          2
         ],
         "xaxis": "x",
         "y": [
          1.4611179828643799
         ],
         "yaxis": "y"
        },
        {
         "hovertemplate": "model=NeuralNetTorch/T11<br>num_layers=%{x}<br>fit_time=%{y}<extra></extra>",
         "legendgroup": "NeuralNetTorch/T11",
         "marker": {
          "color": "#ab63fa",
          "symbol": "circle"
         },
         "mode": "markers",
         "name": "NeuralNetTorch/T11",
         "orientation": "v",
         "showlegend": true,
         "type": "scatter",
         "x": [
          2
         ],
         "xaxis": "x",
         "y": [
          2.874695062637329
         ],
         "yaxis": "y"
        },
        {
         "hovertemplate": "model=NeuralNetTorch/T10<br>num_layers=%{x}<br>fit_time=%{y}<extra></extra>",
         "legendgroup": "NeuralNetTorch/T10",
         "marker": {
          "color": "#FFA15A",
          "symbol": "circle"
         },
         "mode": "markers",
         "name": "NeuralNetTorch/T10",
         "orientation": "v",
         "showlegend": true,
         "type": "scatter",
         "x": [
          2
         ],
         "xaxis": "x",
         "y": [
          2.8843531608581543
         ],
         "yaxis": "y"
        }
       ],
       "layout": {
        "legend": {
         "title": {
          "text": "model"
         },
         "tracegroupgap": 0
        },
        "template": {
         "data": {
          "bar": [
           {
            "error_x": {
             "color": "#2a3f5f"
            },
            "error_y": {
             "color": "#2a3f5f"
            },
            "marker": {
             "line": {
              "color": "#E5ECF6",
              "width": 0.5
             },
             "pattern": {
              "fillmode": "overlay",
              "size": 10,
              "solidity": 0.2
             }
            },
            "type": "bar"
           }
          ],
          "barpolar": [
           {
            "marker": {
             "line": {
              "color": "#E5ECF6",
              "width": 0.5
             },
             "pattern": {
              "fillmode": "overlay",
              "size": 10,
              "solidity": 0.2
             }
            },
            "type": "barpolar"
           }
          ],
          "carpet": [
           {
            "aaxis": {
             "endlinecolor": "#2a3f5f",
             "gridcolor": "white",
             "linecolor": "white",
             "minorgridcolor": "white",
             "startlinecolor": "#2a3f5f"
            },
            "baxis": {
             "endlinecolor": "#2a3f5f",
             "gridcolor": "white",
             "linecolor": "white",
             "minorgridcolor": "white",
             "startlinecolor": "#2a3f5f"
            },
            "type": "carpet"
           }
          ],
          "choropleth": [
           {
            "colorbar": {
             "outlinewidth": 0,
             "ticks": ""
            },
            "type": "choropleth"
           }
          ],
          "contour": [
           {
            "colorbar": {
             "outlinewidth": 0,
             "ticks": ""
            },
            "colorscale": [
             [
              0,
              "#0d0887"
             ],
             [
              0.1111111111111111,
              "#46039f"
             ],
             [
              0.2222222222222222,
              "#7201a8"
             ],
             [
              0.3333333333333333,
              "#9c179e"
             ],
             [
              0.4444444444444444,
              "#bd3786"
             ],
             [
              0.5555555555555556,
              "#d8576b"
             ],
             [
              0.6666666666666666,
              "#ed7953"
             ],
             [
              0.7777777777777778,
              "#fb9f3a"
             ],
             [
              0.8888888888888888,
              "#fdca26"
             ],
             [
              1,
              "#f0f921"
             ]
            ],
            "type": "contour"
           }
          ],
          "contourcarpet": [
           {
            "colorbar": {
             "outlinewidth": 0,
             "ticks": ""
            },
            "type": "contourcarpet"
           }
          ],
          "heatmap": [
           {
            "colorbar": {
             "outlinewidth": 0,
             "ticks": ""
            },
            "colorscale": [
             [
              0,
              "#0d0887"
             ],
             [
              0.1111111111111111,
              "#46039f"
             ],
             [
              0.2222222222222222,
              "#7201a8"
             ],
             [
              0.3333333333333333,
              "#9c179e"
             ],
             [
              0.4444444444444444,
              "#bd3786"
             ],
             [
              0.5555555555555556,
              "#d8576b"
             ],
             [
              0.6666666666666666,
              "#ed7953"
             ],
             [
              0.7777777777777778,
              "#fb9f3a"
             ],
             [
              0.8888888888888888,
              "#fdca26"
             ],
             [
              1,
              "#f0f921"
             ]
            ],
            "type": "heatmap"
           }
          ],
          "heatmapgl": [
           {
            "colorbar": {
             "outlinewidth": 0,
             "ticks": ""
            },
            "colorscale": [
             [
              0,
              "#0d0887"
             ],
             [
              0.1111111111111111,
              "#46039f"
             ],
             [
              0.2222222222222222,
              "#7201a8"
             ],
             [
              0.3333333333333333,
              "#9c179e"
             ],
             [
              0.4444444444444444,
              "#bd3786"
             ],
             [
              0.5555555555555556,
              "#d8576b"
             ],
             [
              0.6666666666666666,
              "#ed7953"
             ],
             [
              0.7777777777777778,
              "#fb9f3a"
             ],
             [
              0.8888888888888888,
              "#fdca26"
             ],
             [
              1,
              "#f0f921"
             ]
            ],
            "type": "heatmapgl"
           }
          ],
          "histogram": [
           {
            "marker": {
             "pattern": {
              "fillmode": "overlay",
              "size": 10,
              "solidity": 0.2
             }
            },
            "type": "histogram"
           }
          ],
          "histogram2d": [
           {
            "colorbar": {
             "outlinewidth": 0,
             "ticks": ""
            },
            "colorscale": [
             [
              0,
              "#0d0887"
             ],
             [
              0.1111111111111111,
              "#46039f"
             ],
             [
              0.2222222222222222,
              "#7201a8"
             ],
             [
              0.3333333333333333,
              "#9c179e"
             ],
             [
              0.4444444444444444,
              "#bd3786"
             ],
             [
              0.5555555555555556,
              "#d8576b"
             ],
             [
              0.6666666666666666,
              "#ed7953"
             ],
             [
              0.7777777777777778,
              "#fb9f3a"
             ],
             [
              0.8888888888888888,
              "#fdca26"
             ],
             [
              1,
              "#f0f921"
             ]
            ],
            "type": "histogram2d"
           }
          ],
          "histogram2dcontour": [
           {
            "colorbar": {
             "outlinewidth": 0,
             "ticks": ""
            },
            "colorscale": [
             [
              0,
              "#0d0887"
             ],
             [
              0.1111111111111111,
              "#46039f"
             ],
             [
              0.2222222222222222,
              "#7201a8"
             ],
             [
              0.3333333333333333,
              "#9c179e"
             ],
             [
              0.4444444444444444,
              "#bd3786"
             ],
             [
              0.5555555555555556,
              "#d8576b"
             ],
             [
              0.6666666666666666,
              "#ed7953"
             ],
             [
              0.7777777777777778,
              "#fb9f3a"
             ],
             [
              0.8888888888888888,
              "#fdca26"
             ],
             [
              1,
              "#f0f921"
             ]
            ],
            "type": "histogram2dcontour"
           }
          ],
          "mesh3d": [
           {
            "colorbar": {
             "outlinewidth": 0,
             "ticks": ""
            },
            "type": "mesh3d"
           }
          ],
          "parcoords": [
           {
            "line": {
             "colorbar": {
              "outlinewidth": 0,
              "ticks": ""
             }
            },
            "type": "parcoords"
           }
          ],
          "pie": [
           {
            "automargin": true,
            "type": "pie"
           }
          ],
          "scatter": [
           {
            "fillpattern": {
             "fillmode": "overlay",
             "size": 10,
             "solidity": 0.2
            },
            "type": "scatter"
           }
          ],
          "scatter3d": [
           {
            "line": {
             "colorbar": {
              "outlinewidth": 0,
              "ticks": ""
             }
            },
            "marker": {
             "colorbar": {
              "outlinewidth": 0,
              "ticks": ""
             }
            },
            "type": "scatter3d"
           }
          ],
          "scattercarpet": [
           {
            "marker": {
             "colorbar": {
              "outlinewidth": 0,
              "ticks": ""
             }
            },
            "type": "scattercarpet"
           }
          ],
          "scattergeo": [
           {
            "marker": {
             "colorbar": {
              "outlinewidth": 0,
              "ticks": ""
             }
            },
            "type": "scattergeo"
           }
          ],
          "scattergl": [
           {
            "marker": {
             "colorbar": {
              "outlinewidth": 0,
              "ticks": ""
             }
            },
            "type": "scattergl"
           }
          ],
          "scattermapbox": [
           {
            "marker": {
             "colorbar": {
              "outlinewidth": 0,
              "ticks": ""
             }
            },
            "type": "scattermapbox"
           }
          ],
          "scatterpolar": [
           {
            "marker": {
             "colorbar": {
              "outlinewidth": 0,
              "ticks": ""
             }
            },
            "type": "scatterpolar"
           }
          ],
          "scatterpolargl": [
           {
            "marker": {
             "colorbar": {
              "outlinewidth": 0,
              "ticks": ""
             }
            },
            "type": "scatterpolargl"
           }
          ],
          "scatterternary": [
           {
            "marker": {
             "colorbar": {
              "outlinewidth": 0,
              "ticks": ""
             }
            },
            "type": "scatterternary"
           }
          ],
          "surface": [
           {
            "colorbar": {
             "outlinewidth": 0,
             "ticks": ""
            },
            "colorscale": [
             [
              0,
              "#0d0887"
             ],
             [
              0.1111111111111111,
              "#46039f"
             ],
             [
              0.2222222222222222,
              "#7201a8"
             ],
             [
              0.3333333333333333,
              "#9c179e"
             ],
             [
              0.4444444444444444,
              "#bd3786"
             ],
             [
              0.5555555555555556,
              "#d8576b"
             ],
             [
              0.6666666666666666,
              "#ed7953"
             ],
             [
              0.7777777777777778,
              "#fb9f3a"
             ],
             [
              0.8888888888888888,
              "#fdca26"
             ],
             [
              1,
              "#f0f921"
             ]
            ],
            "type": "surface"
           }
          ],
          "table": [
           {
            "cells": {
             "fill": {
              "color": "#EBF0F8"
             },
             "line": {
              "color": "white"
             }
            },
            "header": {
             "fill": {
              "color": "#C8D4E3"
             },
             "line": {
              "color": "white"
             }
            },
            "type": "table"
           }
          ]
         },
         "layout": {
          "annotationdefaults": {
           "arrowcolor": "#2a3f5f",
           "arrowhead": 0,
           "arrowwidth": 1
          },
          "autotypenumbers": "strict",
          "coloraxis": {
           "colorbar": {
            "outlinewidth": 0,
            "ticks": ""
           }
          },
          "colorscale": {
           "diverging": [
            [
             0,
             "#8e0152"
            ],
            [
             0.1,
             "#c51b7d"
            ],
            [
             0.2,
             "#de77ae"
            ],
            [
             0.3,
             "#f1b6da"
            ],
            [
             0.4,
             "#fde0ef"
            ],
            [
             0.5,
             "#f7f7f7"
            ],
            [
             0.6,
             "#e6f5d0"
            ],
            [
             0.7,
             "#b8e186"
            ],
            [
             0.8,
             "#7fbc41"
            ],
            [
             0.9,
             "#4d9221"
            ],
            [
             1,
             "#276419"
            ]
           ],
           "sequential": [
            [
             0,
             "#0d0887"
            ],
            [
             0.1111111111111111,
             "#46039f"
            ],
            [
             0.2222222222222222,
             "#7201a8"
            ],
            [
             0.3333333333333333,
             "#9c179e"
            ],
            [
             0.4444444444444444,
             "#bd3786"
            ],
            [
             0.5555555555555556,
             "#d8576b"
            ],
            [
             0.6666666666666666,
             "#ed7953"
            ],
            [
             0.7777777777777778,
             "#fb9f3a"
            ],
            [
             0.8888888888888888,
             "#fdca26"
            ],
            [
             1,
             "#f0f921"
            ]
           ],
           "sequentialminus": [
            [
             0,
             "#0d0887"
            ],
            [
             0.1111111111111111,
             "#46039f"
            ],
            [
             0.2222222222222222,
             "#7201a8"
            ],
            [
             0.3333333333333333,
             "#9c179e"
            ],
            [
             0.4444444444444444,
             "#bd3786"
            ],
            [
             0.5555555555555556,
             "#d8576b"
            ],
            [
             0.6666666666666666,
             "#ed7953"
            ],
            [
             0.7777777777777778,
             "#fb9f3a"
            ],
            [
             0.8888888888888888,
             "#fdca26"
            ],
            [
             1,
             "#f0f921"
            ]
           ]
          },
          "colorway": [
           "#636efa",
           "#EF553B",
           "#00cc96",
           "#ab63fa",
           "#FFA15A",
           "#19d3f3",
           "#FF6692",
           "#B6E880",
           "#FF97FF",
           "#FECB52"
          ],
          "font": {
           "color": "#2a3f5f"
          },
          "geo": {
           "bgcolor": "white",
           "lakecolor": "white",
           "landcolor": "#E5ECF6",
           "showlakes": true,
           "showland": true,
           "subunitcolor": "white"
          },
          "hoverlabel": {
           "align": "left"
          },
          "hovermode": "closest",
          "mapbox": {
           "style": "light"
          },
          "paper_bgcolor": "white",
          "plot_bgcolor": "#E5ECF6",
          "polar": {
           "angularaxis": {
            "gridcolor": "white",
            "linecolor": "white",
            "ticks": ""
           },
           "bgcolor": "#E5ECF6",
           "radialaxis": {
            "gridcolor": "white",
            "linecolor": "white",
            "ticks": ""
           }
          },
          "scene": {
           "xaxis": {
            "backgroundcolor": "#E5ECF6",
            "gridcolor": "white",
            "gridwidth": 2,
            "linecolor": "white",
            "showbackground": true,
            "ticks": "",
            "zerolinecolor": "white"
           },
           "yaxis": {
            "backgroundcolor": "#E5ECF6",
            "gridcolor": "white",
            "gridwidth": 2,
            "linecolor": "white",
            "showbackground": true,
            "ticks": "",
            "zerolinecolor": "white"
           },
           "zaxis": {
            "backgroundcolor": "#E5ECF6",
            "gridcolor": "white",
            "gridwidth": 2,
            "linecolor": "white",
            "showbackground": true,
            "ticks": "",
            "zerolinecolor": "white"
           }
          },
          "shapedefaults": {
           "line": {
            "color": "#2a3f5f"
           }
          },
          "ternary": {
           "aaxis": {
            "gridcolor": "white",
            "linecolor": "white",
            "ticks": ""
           },
           "baxis": {
            "gridcolor": "white",
            "linecolor": "white",
            "ticks": ""
           },
           "bgcolor": "#E5ECF6",
           "caxis": {
            "gridcolor": "white",
            "linecolor": "white",
            "ticks": ""
           }
          },
          "title": {
           "x": 0.05
          },
          "xaxis": {
           "automargin": true,
           "gridcolor": "white",
           "linecolor": "white",
           "ticks": "",
           "title": {
            "standoff": 15
           },
           "zerolinecolor": "white",
           "zerolinewidth": 2
          },
          "yaxis": {
           "automargin": true,
           "gridcolor": "white",
           "linecolor": "white",
           "ticks": "",
           "title": {
            "standoff": 15
           },
           "zerolinecolor": "white",
           "zerolinewidth": 2
          }
         }
        },
        "title": {
         "text": "Effect of num_layers on Fit Time"
        },
        "xaxis": {
         "anchor": "y",
         "domain": [
          0,
          1
         ],
         "title": {
          "text": "num_layers"
         }
        },
        "yaxis": {
         "anchor": "x",
         "domain": [
          0,
          1
         ],
         "title": {
          "text": "fit_time"
         }
        }
       }
      }
     },
     "metadata": {},
     "output_type": "display_data"
    }
   ],
   "source": [
    "# We identify all unique hyperparameters across models\n",
    "variable_hyperparams = set(df_hyperparams.columns) - {'model', 'score_val', 'fit_time', \"fit_order\"}\n",
    "\n",
    "# Iterate over each hyperparameter\n",
    "for col in variable_hyperparams:\n",
    "    if df[col].dtype == 'object' or df[col].dtype == 'bool':\n",
    "        # Use a box plot for categorical data\n",
    "        fig = px.box(df, x=col, y='score_val', color='model', title=f'Effect of {col} on Score Validation')\n",
    "        fig.show()\n",
    "        fig = px.box(df, x=col, y='fit_time', color='model', title=f'Effect of {col} on Fit Time')\n",
    "        fig.show()\n",
    "    else:\n",
    "        # Use scatter plot for numerical data\n",
    "        fig = px.scatter(df, x=col, y='score_val', color='model', title=f'Effect of {col} on Score Validation')\n",
    "        fig.show()\n",
    "        fig = px.scatter(df, x=col, y='fit_time', color='model', title=f'Effect of {col} on Fit Time')\n",
    "        fig.show()\n"
   ]
  },
  {
   "cell_type": "code",
   "execution_count": null,
   "metadata": {},
   "outputs": [],
   "source": []
  }
 ],
 "metadata": {
  "kernelspec": {
   "display_name": "env_ds",
   "language": "python",
   "name": "python3"
  },
  "language_info": {
   "codemirror_mode": {
    "name": "ipython",
    "version": 3
   },
   "file_extension": ".py",
   "mimetype": "text/x-python",
   "name": "python",
   "nbconvert_exporter": "python",
   "pygments_lexer": "ipython3",
   "version": "3.10.14"
  },
  "orig_nbformat": 4
 },
 "nbformat": 4,
 "nbformat_minor": 2
}
