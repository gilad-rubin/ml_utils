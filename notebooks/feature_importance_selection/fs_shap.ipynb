{
 "cells": [
  {
   "cell_type": "code",
   "execution_count": 183,
   "id": "211756b1-7e91-431f-b057-6932a2ba3208",
   "metadata": {},
   "outputs": [],
   "source": [
    "from sklearn.base import BaseEstimator\n",
    "from sklearn.model_selection import train_test_split\n",
    "import numpy as np\n",
    "import time\n",
    "import warnings"
   ]
  },
  {
   "cell_type": "code",
   "execution_count": 184,
   "id": "e4de4bbd-ae23-43fd-84ec-71bf51fda448",
   "metadata": {},
   "outputs": [],
   "source": [
    "from sklearn.base import BaseEstimator\n",
    "from sklearn.model_selection import train_test_split\n",
    "from sklearn.metrics import mean_absolute_percentage_error\n",
    "import numpy as np"
   ]
  },
  {
   "cell_type": "code",
   "execution_count": 185,
   "id": "3e53da47-9e5c-4308-96dd-2ef2fe9f9c47",
   "metadata": {},
   "outputs": [],
   "source": [
    "import numpy as np\n",
    "import pandas as pd\n",
    "from sklearn.datasets import make_regression\n",
    "from sklearn.linear_model import LinearRegression\n",
    "from sklearn.ensemble import RandomForestRegressor\n",
    "import shap"
   ]
  },
  {
   "attachments": {},
   "cell_type": "markdown",
   "id": "e9309c61-f324-4bab-bbd5-f8b77fd07576",
   "metadata": {
    "tags": []
   },
   "source": [
    "# Load Data"
   ]
  },
  {
   "cell_type": "code",
   "execution_count": 186,
   "id": "70984c49",
   "metadata": {},
   "outputs": [],
   "source": [
    "df = pd.read_csv(\"../../data/AmesHousing.csv\")\n",
    "df.head()\n",
    "df = df.select_dtypes(include=\"number\")\n",
    "df.dropna(inplace=True)\n",
    "df[\"random_feature\"] = np.random.random(df.shape[0])\n",
    "df[\"random_feature2\"] = np.random.random(df.shape[0])\n",
    "df[\"random_feature3\"] = np.random.random(df.shape[0])\n",
    "df[\"random_feature4\"] = np.random.random(df.shape[0])\n",
    "df[\"Overall Qual Noise\"] = df[\"Overall Qual\"] + (df[\"random_feature\"] * 0.0001)\n",
    "df[\"Overall Cond Noise\"] = df[\"Overall Cond\"] + (df[\"random_feature\"] * 0.0001)\n",
    "# Split the data\n",
    "test_size = 0.3\n",
    "X_train, X_test, y_train, y_test = train_test_split(\n",
    "    df.drop(\"SalePrice\", axis=1), df[\"SalePrice\"], test_size=test_size, random_state=42\n",
    ")"
   ]
  },
  {
   "attachments": {},
   "cell_type": "markdown",
   "id": "b1202a48",
   "metadata": {},
   "source": [
    "# Select Features"
   ]
  },
  {
   "cell_type": "code",
   "execution_count": 187,
   "id": "5b47f306-815d-41e0-93d3-83c15c92425b",
   "metadata": {},
   "outputs": [],
   "source": [
    "from sklearn.base import BaseEstimator\n",
    "\n",
    "\n",
    "class SubsetEvaluator:\n",
    "    def evaluate(self, subset):\n",
    "        raise NotImplementedError\n",
    "\n",
    "\n",
    "from sklearn.model_selection import cross_val_score"
   ]
  },
  {
   "cell_type": "code",
   "execution_count": 188,
   "id": "62b7d62b-7d33-4b98-870f-87420a153281",
   "metadata": {},
   "outputs": [],
   "source": [
    "from sklearn.base import BaseEstimator\n",
    "import numpy as np\n",
    "import itertools\n",
    "\n",
    "from sklearn.base import BaseEstimator\n",
    "\n",
    "\n",
    "class SubsetSelector(BaseEstimator):\n",
    "    def __init__(self):\n",
    "        self.subsets_history = []\n",
    "        self.performance_history = []\n",
    "\n",
    "    def update_history(self, subset, performance):\n",
    "        self.subsets_history.append(subset)\n",
    "        self.performance_history.append(performance)\n",
    "\n",
    "    def generate_next_subset(self):\n",
    "        raise NotImplementedError\n",
    "\n",
    "\n",
    "import random\n",
    "\n",
    "\n",
    "class RandomSubsetSelector(SubsetSelector):\n",
    "    def __init__(self, features, random_state=None):\n",
    "        super().__init__()\n",
    "        self.features = list(features)\n",
    "        self.random_state = random_state  # Use a local Random instance\n",
    "        np.random.seed(self.random_state)\n",
    "\n",
    "    def generate_next_subset(self):\n",
    "        max_attempts = 100\n",
    "        for _ in range(max_attempts):\n",
    "            num_features = np.random.randint(1, len(self.features))\n",
    "            subset = np.random.choice(self.features, num_features, replace=False)\n",
    "            subset = sorted(subset)  # Sort the subset\n",
    "            subset_tuple = tuple(subset)  # Convert to tuple\n",
    "            if subset_tuple not in self.subsets_history:\n",
    "                return subset\n",
    "        raise ValueError(\n",
    "            \"Unable to find a new unique subset after {} attempts\".format(max_attempts)\n",
    "        )\n",
    "\n",
    "\n",
    "class SubsetFeatureSelector:\n",
    "    def __init__(self, subset_selector, evaluator, n_steps, greater_is_better=True):\n",
    "        self.subset_selector = subset_selector\n",
    "        self.evaluator = evaluator\n",
    "        self.n_steps = n_steps\n",
    "        self.greater_is_better = greater_is_better\n",
    "        self.subset_history = []\n",
    "        self.score_history = []\n",
    "\n",
    "    def _is_better(self, current_performance, best_performance):\n",
    "        if self.greater_is_better:\n",
    "            return current_performance > best_performance\n",
    "        else:\n",
    "            return current_performance < best_performance\n",
    "\n",
    "    def find_optimal_subset(self):\n",
    "        if self.greater_is_better:\n",
    "            best_performance = float(\"-inf\")\n",
    "        else:\n",
    "            best_performance = float(\"inf\")\n",
    "\n",
    "        best_subset = None\n",
    "\n",
    "        for _ in range(self.n_steps):\n",
    "            subset = self.subset_selector.generate_next_subset()\n",
    "            performance = self.evaluator.evaluate(subset)\n",
    "            self.subset_selector.update_history(subset, performance)\n",
    "\n",
    "            if self._is_better(performance, best_performance):\n",
    "                best_subset, best_performance = subset, performance\n",
    "                print(f\"Best score so far: {performance}\")\n",
    "                self.subset_history.append(best_subset)\n",
    "                self.score_history.append(best_performance)\n",
    "\n",
    "        self.best_subset = best_subset\n",
    "        self.best_score = best_performance  # todo: change to 'score'\n",
    "        return best_subset, best_performance"
   ]
  },
  {
   "cell_type": "code",
   "execution_count": 189,
   "id": "03cdcbd7",
   "metadata": {},
   "outputs": [],
   "source": [
    "from sko.PSO import PSO\n",
    "import numpy as np\n",
    "\n",
    "class PSOSubsetSelector(SubsetSelector):\n",
    "    def __init__(self, features, evaluator, pop_size=30, max_iter=100, w=0.8, c1=0.5, c2=0.5):\n",
    "        super().__init__()\n",
    "        self.features = features\n",
    "        self.evaluator = evaluator\n",
    "        self.pop_size = pop_size\n",
    "        self.max_iter = max_iter\n",
    "        self.subsets_history_set = set()  # Initialize the set to store history of subsets\n",
    "        self.w = w\n",
    "        self.c1 = c1\n",
    "        self.c2 = c2\n",
    "        self.run_pso()  # Initialize and run PSO\n",
    "\n",
    "    def run_pso(self):\n",
    "        # Function to run PSO, allows for re-running PSO in case of repeat solutions\n",
    "        self.pso = PSO(\n",
    "            func=self._pso_func,\n",
    "            n_dim=len(self.features),\n",
    "            pop=self.pop_size,\n",
    "            max_iter=self.max_iter,\n",
    "            lb=[0] * len(self.features),\n",
    "            ub=[1] * len(self.features),\n",
    "            w=self.w, c1=self.c1, c2=self.c2\n",
    "        )\n",
    "        self.pso.run()\n",
    "\n",
    "    def subset_fitness(self, position):\n",
    "        # Convert continuous position values to binary to decide feature inclusion\n",
    "        subset = tuple(self.features[i] for i in range(len(self.features)) if position[i] > 0.5)\n",
    "        if not subset or subset in self.subsets_history_set:\n",
    "            return float(\"inf\")  # Penalize empty subsets or repeats if maximizing\n",
    "        # Calculate fitness for new, unique subsets\n",
    "        fitness = self.evaluator.evaluate(list(subset))\n",
    "        self.update_history(list(subset), fitness)\n",
    "        return fitness\n",
    "\n",
    "    def _pso_func(self, x):\n",
    "        # Wrapper to adjust the fitness function interface\n",
    "        return self.subset_fitness(x)\n",
    "\n",
    "    def generate_next_subset(self):\n",
    "        # Ensure that the best subset hasn't been picked before\n",
    "        for _ in range(10):  # Limit the number of retries to prevent infinite loops\n",
    "            best_position = self.pso.gbest_x\n",
    "            subset = [self.features[i] for i in range(len(self.features)) if best_position[i] > 0.5]\n",
    "            subset_tuple = tuple(subset)\n",
    "            if subset_tuple not in self.subsets_history_set:\n",
    "                self.subsets_history_set.add(subset_tuple)\n",
    "                return subset\n",
    "            else:\n",
    "                # Rerun PSO or modify parameters to explore new areas\n",
    "                self.run_pso()\n",
    "        raise ValueError(\"Unable to find a new unique subset after multiple attempts\")\n",
    "\n",
    "    def update_history(self, subset, performance):\n",
    "        super().update_history(subset, performance)\n",
    "        self.subsets_history_set.add(tuple(subset))  # Store subsets as tuples in a set for fast lookup"
   ]
  },
  {
   "cell_type": "code",
   "execution_count": 190,
   "id": "ba79b10f-1902-416d-9cc2-e255bc6456ab",
   "metadata": {},
   "outputs": [],
   "source": [
    "from sklearn.model_selection import GroupShuffleSplit, GroupKFold"
   ]
  },
  {
   "cell_type": "code",
   "execution_count": 191,
   "id": "b90a55b2-aa00-400b-84df-aeb7a3f4e52c",
   "metadata": {},
   "outputs": [],
   "source": [
    "from sklearn.model_selection import ShuffleSplit\n",
    "\n",
    "\n",
    "class HoldOutSubsetEvaluator(SubsetEvaluator):\n",
    "    def __init__(\n",
    "        self,\n",
    "        X,\n",
    "        y,\n",
    "        estimator,\n",
    "        scorer,\n",
    "        splitter=None,\n",
    "        groups=None,\n",
    "        test_size=0.2,\n",
    "        random_state=43,\n",
    "    ):\n",
    "        self.X = X\n",
    "        self.y = y\n",
    "        self.estimator = estimator\n",
    "        self.scorer = scorer\n",
    "        self.test_size = test_size\n",
    "        self.groups = groups\n",
    "        self.random_state = random_state\n",
    "        self.splitter = ShuffleSplit if splitter is None else splitter\n",
    "        self._split_data()\n",
    "\n",
    "    def _split_data(self):\n",
    "        # Splitting the dataset into training and test sets\n",
    "        self.splitter = self.splitter(\n",
    "            n_splits=1, test_size=self.test_size, random_state=self.random_state\n",
    "        )\n",
    "        for train_index, test_index in self.splitter.split(self.X, groups=self.groups):\n",
    "            self.X_train, self.X_test = (\n",
    "                self.X.iloc[train_index],\n",
    "                self.X.iloc[test_index],\n",
    "            )\n",
    "            self.y_train, self.y_test = (\n",
    "                self.y.iloc[train_index],\n",
    "                self.y.iloc[test_index],\n",
    "            )\n",
    "\n",
    "    def evaluate(self, subset):\n",
    "        if hasattr(self.estimator, \"pre_fit\"):\n",
    "            self.estimator.pre_fit(self.X_train, self.y_train, self.X_test, self.y_test)\n",
    "\n",
    "        # Fit the estimator using only the selected features from the training set\n",
    "        self.estimator.fit(self.X_train[subset], self.y_train)\n",
    "\n",
    "        # Generate predictions for the test set using the same subset of features\n",
    "        y_pred = self.estimator.predict(self.X_test[subset])\n",
    "\n",
    "        # Evaluate the predictions\n",
    "        return self.scorer(self.y_test, y_pred)"
   ]
  },
  {
   "cell_type": "code",
   "execution_count": 192,
   "id": "2975ebed-1b16-4c6a-b8ab-33035b331d20",
   "metadata": {},
   "outputs": [],
   "source": [
    "random_state = 43\n",
    "scorer = mean_absolute_percentage_error"
   ]
  },
  {
   "cell_type": "code",
   "execution_count": 193,
   "id": "3a1a93db-9758-4f93-b2de-fe1944b73ab0",
   "metadata": {},
   "outputs": [],
   "source": [
    "import lightgbm as lgb\n",
    "\n",
    "lgb_model = lgb.LGBMRegressor(n_estimators=100, n_jobs=-1, verbose=-100)"
   ]
  },
  {
   "cell_type": "code",
   "execution_count": 194,
   "id": "a3f98e0e-c9f5-45ba-87b4-d8161c4c2495",
   "metadata": {},
   "outputs": [],
   "source": [
    "from sklearn.pipeline import Pipeline\n",
    "# from category_encoders import MEstimateEncoder"
   ]
  },
  {
   "cell_type": "code",
   "execution_count": 195,
   "id": "877f560a-e3c1-4a79-8659-011ddfffb557",
   "metadata": {},
   "outputs": [],
   "source": [
    "# enc = MEstimateEncoder(cols=cat_cols)"
   ]
  },
  {
   "cell_type": "raw",
   "id": "65bee50a-e4cf-43e9-8a2c-960fc5442b02",
   "metadata": {},
   "source": [
    "pipe = Pipeline([(\"enc\", enc), (\"model\", lgb_model)])                "
   ]
  },
  {
   "cell_type": "code",
   "execution_count": 196,
   "id": "5a0bbcdf-d09b-4c4b-9a16-c23d3e6dc246",
   "metadata": {},
   "outputs": [],
   "source": [
    "import shap\n",
    "from sklearn.base import BaseEstimator\n",
    "\n",
    "import shap\n",
    "from sklearn.base import BaseEstimator\n",
    "from sklearn.ensemble import RandomForestRegressor\n",
    "\n",
    "\n",
    "class SHAPEstimator(BaseEstimator):  # TODO: change to ShapEstimator\n",
    "    def __init__(self, estimator, explainer=None):\n",
    "        self.estimator = estimator\n",
    "        self.shap_values = None\n",
    "        self.explainer = explainer\n",
    "        self.initial_fit = False\n",
    "\n",
    "    def pre_fit(self, X_train, y_train, X_test, y_test=None):\n",
    "        if self.initial_fit is False:\n",
    "            self.estimator.fit(X_train, y_train)\n",
    "            self.explainer = (\n",
    "                shap.Explainer(self.estimator)\n",
    "                if self.explainer is None\n",
    "                else self.explainer(self.estimator)\n",
    "            )\n",
    "            self.feature_names = X_test.columns\n",
    "            self.shap_values = self.explainer.shap_values(X_test)\n",
    "            self.shap_expected_value = self.explainer.expected_value\n",
    "            self.initial_fit = True\n",
    "\n",
    "    def fit(self, X, y):\n",
    "        pass\n",
    "\n",
    "    def predict(self, X):\n",
    "        # Find indices of X's columns in the original feature names\n",
    "        column_indices = [self.feature_names.get_loc(col) for col in X.columns]\n",
    "        # Subset the stored SHAP values using the indices\n",
    "        selected_shap_values = self.shap_values[:, column_indices]\n",
    "        # Sum the SHAP values across rows to get the prediction approximation\n",
    "        return self.shap_expected_value + selected_shap_values.sum(axis=1)\n",
    "\n",
    "\n",
    "from sklearn.base import BaseEstimator\n",
    "import numpy as np"
   ]
  },
  {
   "cell_type": "code",
   "execution_count": 197,
   "id": "99b7ed9e-154f-41da-a5d0-001c6e594d76",
   "metadata": {},
   "outputs": [],
   "source": [
    "class SKLearnEstimator(BaseEstimator):\n",
    "    def __init__(self, estimator):\n",
    "        self.estimator = estimator\n",
    "\n",
    "    def fit(self, X, y):\n",
    "        return self.estimator.fit(X_train, y_train)\n",
    "\n",
    "    def predict(self, X):\n",
    "        return self.estimator.predict(X)"
   ]
  },
  {
   "cell_type": "code",
   "execution_count": 198,
   "id": "9db9da8f-a557-47ac-be05-86acf37c3679",
   "metadata": {},
   "outputs": [],
   "source": [
    "from sklearn.model_selection import cross_val_score\n",
    "\n",
    "\n",
    "class CVSubsetEvaluator(SubsetEvaluator):\n",
    "    def __init__(self, X, y, estimator, scorer, cv, groups=None, random_state=None):\n",
    "        self.X = X\n",
    "        self.y = y\n",
    "        self.estimator = estimator\n",
    "        self.scorer = scorer\n",
    "        self.cv = cv\n",
    "        self.groups = groups\n",
    "        self.random_state = random_state\n",
    "\n",
    "    def evaluate(self, subset):\n",
    "        if hasattr(self.estimator, \"pre_fit\"):\n",
    "            self.estimator.pre_fit(self.X, self.y)\n",
    "\n",
    "        # Evaluate using cross-validation.\n",
    "        # The cross_val_score function takes care of splitting the data.\n",
    "        scores = cross_val_score(\n",
    "            self.estimator,\n",
    "            self.X[subset],\n",
    "            self.y,\n",
    "            scoring=self.scorer,\n",
    "            cv=self.cv,\n",
    "            groups=self.groups,\n",
    "            n_jobs=-1,\n",
    "        )\n",
    "\n",
    "        # You can return the mean score across all folds, or modify this to return a different summary statistic.\n",
    "        return scores.mean()"
   ]
  },
  {
   "cell_type": "code",
   "execution_count": 199,
   "id": "f9478277-a7fb-4bd1-8951-ce13f6b00b29",
   "metadata": {},
   "outputs": [],
   "source": [
    "estimator = SHAPEstimator(lgb_model, shap.TreeExplainer)"
   ]
  },
  {
   "cell_type": "code",
   "execution_count": 200,
   "id": "54ddebe7-806b-4ec0-a888-70e4a3eb009e",
   "metadata": {},
   "outputs": [],
   "source": [
    "from sklearn.metrics import make_scorer, mean_absolute_percentage_error"
   ]
  },
  {
   "cell_type": "code",
   "execution_count": 201,
   "id": "31bb888b-daac-427e-86f3-a9438e8b9032",
   "metadata": {},
   "outputs": [],
   "source": [
    "#mape_scorer = make_scorer(mean_absolute_percentage_error, greater_is_better=False)"
   ]
  },
  {
   "cell_type": "code",
   "execution_count": 202,
   "id": "e9624527-75fb-4bc7-baee-15bcd4c42bee",
   "metadata": {},
   "outputs": [],
   "source": [
    "cv = GroupKFold(n_splits=5)"
   ]
  },
  {
   "cell_type": "code",
   "execution_count": 203,
   "id": "9a4c41b4-9ba5-413b-b464-aef21b43d1ff",
   "metadata": {},
   "outputs": [],
   "source": [
    "evaluator = CVSubsetEvaluator(X_train, y_train, lgb_model, scorer, cv=5)"
   ]
  },
  {
   "cell_type": "code",
   "execution_count": 204,
   "id": "ef119b94",
   "metadata": {},
   "outputs": [],
   "source": [
    "evaluator = CVSubsetEvaluator(X_train, y_train, estimator, scorer, cv=5)"
   ]
  },
  {
   "cell_type": "code",
   "execution_count": 205,
   "id": "ded38c6b-948f-4d44-846a-7f9d36e7ce77",
   "metadata": {},
   "outputs": [],
   "source": [
    "evaluator = HoldOutSubsetEvaluator(\n",
    "    X_train, y_train, estimator, scorer, test_size=0.2, random_state=random_state\n",
    ")"
   ]
  },
  {
   "cell_type": "code",
   "execution_count": 206,
   "id": "0522bcbc-4d0c-416e-b7f0-73af683dfe3b",
   "metadata": {},
   "outputs": [],
   "source": [
    "subset_selector = RandomSubsetSelector(X_train.columns, random_state=random_state)\n",
    "sfs = SubsetFeatureSelector(subset_selector, evaluator, n_steps=10000, greater_is_better=False)"
   ]
  },
  {
   "cell_type": "code",
   "execution_count": 207,
   "id": "c3bcbc24",
   "metadata": {},
   "outputs": [
    {
     "name": "stdout",
     "output_type": "stream",
     "text": [
      "Best score so far: 0.3484956514614597\n",
      "Best score so far: 0.11996897998917146\n",
      "Best score so far: 0.09924650201059733\n",
      "Best score so far: 0.09492870907162729\n",
      "Best score so far: 0.09457382522973737\n",
      "Best score so far: 0.093870993329254\n",
      "Best score so far: 0.0937951964756408\n",
      "CPU times: user 6.14 s, sys: 1.51 s, total: 7.65 s\n",
      "Wall time: 7.12 s\n"
     ]
    },
    {
     "data": {
      "text/plain": [
       "(['1st Flr SF',\n",
       "  '2nd Flr SF',\n",
       "  '3Ssn Porch',\n",
       "  'Bedroom AbvGr',\n",
       "  'Bsmt Full Bath',\n",
       "  'Bsmt Half Bath',\n",
       "  'BsmtFin SF 1',\n",
       "  'BsmtFin SF 2',\n",
       "  'Enclosed Porch',\n",
       "  'Fireplaces',\n",
       "  'Full Bath',\n",
       "  'Garage Area',\n",
       "  'Garage Cars',\n",
       "  'Garage Yr Blt',\n",
       "  'Gr Liv Area',\n",
       "  'Half Bath',\n",
       "  'Kitchen AbvGr',\n",
       "  'Lot Area',\n",
       "  'Lot Frontage',\n",
       "  'Low Qual Fin SF',\n",
       "  'MS SubClass',\n",
       "  'Mas Vnr Area',\n",
       "  'Misc Val',\n",
       "  'Mo Sold',\n",
       "  'Order',\n",
       "  'Overall Cond',\n",
       "  'Overall Cond Noise',\n",
       "  'Overall Qual',\n",
       "  'Overall Qual Noise',\n",
       "  'PID',\n",
       "  'Pool Area',\n",
       "  'Screen Porch',\n",
       "  'TotRms AbvGrd',\n",
       "  'Total Bsmt SF',\n",
       "  'Wood Deck SF',\n",
       "  'Year Built',\n",
       "  'Year Remod/Add',\n",
       "  'Yr Sold',\n",
       "  'random_feature',\n",
       "  'random_feature3',\n",
       "  'random_feature4'],\n",
       " 0.0937951964756408)"
      ]
     },
     "execution_count": 207,
     "metadata": {},
     "output_type": "execute_result"
    }
   ],
   "source": [
    "%%time\n",
    "sfs.find_optimal_subset()"
   ]
  },
  {
   "cell_type": "code",
   "execution_count": 208,
   "id": "9115298b",
   "metadata": {},
   "outputs": [],
   "source": [
    "subset = sfs.best_subset"
   ]
  },
  {
   "cell_type": "code",
   "execution_count": 223,
   "id": "e3ab7f56",
   "metadata": {},
   "outputs": [
    {
     "data": {
      "text/plain": [
       "0.09988693927743557"
      ]
     },
     "execution_count": 223,
     "metadata": {},
     "output_type": "execute_result"
    }
   ],
   "source": [
    "lgb_model.fit(X_train[subset], y_train)\n",
    "y_pred = lgb_model.predict(X_test[subset])\n",
    "scorer(y_test, y_pred)"
   ]
  },
  {
   "cell_type": "code",
   "execution_count": 210,
   "id": "83d0bd1d",
   "metadata": {},
   "outputs": [],
   "source": [
    "import plotly.express as px"
   ]
  },
  {
   "cell_type": "code",
   "execution_count": 211,
   "id": "99502625-c4a7-484d-9b55-9c76becc7fa5",
   "metadata": {},
   "outputs": [],
   "source": [
    "selector = sfs.subset_selector"
   ]
  },
  {
   "cell_type": "code",
   "execution_count": 212,
   "id": "8da28b70",
   "metadata": {},
   "outputs": [
    {
     "data": {
      "image/png": "[encoded data removed]",
      "text/plain": [
       "<Figure size 1000x600 with 1 Axes>"
      ]
     },
     "metadata": {},
     "output_type": "display_data"
    }
   ],
   "source": [
    "import matplotlib.pyplot as plt\n",
    "\n",
    "# Assuming 'selector.performance_history' is a list of scores for each subset evaluated\n",
    "performance_history = selector.performance_history\n",
    "\n",
    "# Compute the best score up to each point in the history\n",
    "best_scores = [min(performance_history[:i+1]) for i in range(len(performance_history))]\n",
    "\n",
    "# Create the plot\n",
    "plt.figure(figsize=(10, 6))\n",
    "plt.plot(best_scores, label='Best Score', marker='o')\n",
    "plt.xlabel('Number of Evaluations')\n",
    "plt.ylabel('Best Score Achieved')\n",
    "plt.title('Improvement of Best Score Over Time')\n",
    "plt.legend()\n",
    "plt.grid(True)\n",
    "plt.show()\n"
   ]
  },
  {
   "cell_type": "code",
   "execution_count": 213,
   "id": "70e9a614",
   "metadata": {},
   "outputs": [],
   "source": [
    "compare_subsample = 100\n",
    "performance_history = selector.performance_history[:compare_subsample]\n",
    "subsets_history = selector.subsets_history[:compare_subsample]\n",
    "subset_sizes = [len(subset) for subset in subsets_history]"
   ]
  },
  {
   "cell_type": "code",
   "execution_count": 214,
   "id": "5f9c22d3-12cb-4c26-9be1-73f7e88988c2",
   "metadata": {},
   "outputs": [
    {
     "name": "stdout",
     "output_type": "stream",
     "text": [
      "CPU times: user 24.3 s, sys: 55.1 s, total: 1min 19s\n",
      "Wall time: 47.2 s\n"
     ]
    }
   ],
   "source": [
    "%%time\n",
    "true_scores = []\n",
    "for subset in subsets_history:\n",
    "    lgb_model.fit(X_train[subset], y_train)\n",
    "    y_pred = lgb_model.predict(X_test[subset])\n",
    "    true_scores.append(scorer(y_test, y_pred))"
   ]
  },
  {
   "cell_type": "code",
   "execution_count": 215,
   "id": "e867f104",
   "metadata": {},
   "outputs": [],
   "source": [
    "df = pd.DataFrame({\"Predicted Score\" : performance_history, \"True Score\" : true_scores, \"Subset Size\" : subset_sizes})"
   ]
  },
  {
   "cell_type": "code",
   "execution_count": 216,
   "id": "8ec499fb",
   "metadata": {},
   "outputs": [],
   "source": [
    "df = pd.DataFrame({\"Predicted Score\" : performance_history, \"True Score\" : true_scores, \"Subset Size\" : subset_sizes})\n",
    "df[\"Predicted Rank\"] = df[\"Predicted Score\"].rank(ascending=True, method='min')\n",
    "df[\"True Rank\"] = df[\"True Score\"].rank(ascending=True, method='min')"
   ]
  },
  {
   "cell_type": "code",
   "execution_count": 217,
   "id": "4c0c1fa1",
   "metadata": {},
   "outputs": [
    {
     "data": {
      "application/vnd.plotly.v1+json": {
       "config": {
        "plotlyServerURL": "https://plot.ly"
       },
       "data": [
        {
         "hovertemplate": "Predicted Rank=%{x}<br>True Rank=%{y}<br>Subset Size=%{marker.size}<extra></extra>",
         "legendgroup": "",
         "marker": {
          "color": "#636efa",
          "size": [
           5,
           26,
           5,
           24,
           7,
           26,
           41,
           7,
           30,
           18,
           7,
           26,
           37,
           29,
           38,
           10,
           37,
           30,
           29,
           17,
           24,
           29,
           1,
           23,
           32,
           4,
           41,
           19,
           28,
           15,
           13,
           6,
           20,
           22,
           40,
           31,
           39,
           27,
           26,
           10,
           37,
           25,
           23,
           39,
           6,
           42,
           17,
           35,
           31,
           33,
           39,
           32,
           2,
           36,
           42,
           7,
           25,
           11,
           9,
           24,
           30,
           29,
           33,
           13,
           29,
           29,
           16,
           5,
           29,
           38,
           33,
           6,
           20,
           16,
           4,
           18,
           3,
           35,
           3,
           1,
           6,
           14,
           14,
           21,
           17,
           20,
           14,
           12,
           10,
           11,
           23,
           10,
           25,
           20,
           7,
           18,
           32,
           2,
           41,
           5
          ],
          "sizemode": "area",
          "sizeref": 0.105,
          "symbol": "circle"
         },
         "mode": "markers",
         "name": "",
         "orientation": "v",
         "showlegend": false,
         "type": "scatter",
         "x": [
          96,
          22,
          89,
          23,
          85,
          56,
          11,
          94,
          28,
          59,
          75,
          39,
          31,
          30,
          26,
          67,
          42,
          13,
          52,
          48,
          44,
          18,
          91,
          43,
          19,
          99,
          2,
          79,
          54,
          80,
          69,
          92,
          65,
          35,
          6,
          5,
          9,
          25,
          53,
          78,
          8,
          46,
          57,
          15,
          90,
          7,
          70,
          12,
          45,
          36,
          4,
          34,
          88,
          10,
          3,
          93,
          24,
          72,
          41,
          29,
          32,
          14,
          33,
          68,
          16,
          20,
          73,
          66,
          21,
          17,
          27,
          95,
          50,
          61,
          97,
          76,
          82,
          40,
          71,
          100,
          87,
          74,
          81,
          38,
          47,
          37,
          62,
          86,
          77,
          64,
          58,
          60,
          51,
          55,
          84,
          63,
          49,
          98,
          1,
          83
         ],
         "xaxis": "x",
         "y": [
          97,
          27,
          96,
          40,
          92,
          42,
          20,
          94,
          35,
          53,
          82,
          51,
          18,
          11,
          13,
          75,
          5,
          10,
          49,
          50,
          26,
          39,
          99,
          56,
          38,
          93,
          12,
          73,
          46,
          72,
          55,
          87,
          63,
          34,
          19,
          9,
          21,
          29,
          36,
          80,
          25,
          33,
          64,
          8,
          77,
          14,
          57,
          7,
          37,
          31,
          1,
          23,
          90,
          17,
          4,
          95,
          28,
          79,
          59,
          41,
          15,
          2,
          43,
          58,
          30,
          24,
          69,
          78,
          32,
          16,
          22,
          91,
          54,
          68,
          88,
          76,
          86,
          3,
          83,
          100,
          89,
          66,
          71,
          47,
          61,
          48,
          60,
          81,
          70,
          65,
          44,
          74,
          45,
          62,
          84,
          67,
          52,
          98,
          6,
          85
         ],
         "yaxis": "y"
        }
       ],
       "layout": {
        "legend": {
         "itemsizing": "constant",
         "tracegroupgap": 0
        },
        "margin": {
         "t": 60
        },
        "template": {
         "data": {
          "bar": [
           {
            "error_x": {
             "color": "#2a3f5f"
            },
            "error_y": {
             "color": "#2a3f5f"
            },
            "marker": {
             "line": {
              "color": "#E5ECF6",
              "width": 0.5
             },
             "pattern": {
              "fillmode": "overlay",
              "size": 10,
              "solidity": 0.2
             }
            },
            "type": "bar"
           }
          ],
          "barpolar": [
           {
            "marker": {
             "line": {
              "color": "#E5ECF6",
              "width": 0.5
             },
             "pattern": {
              "fillmode": "overlay",
              "size": 10,
              "solidity": 0.2
             }
            },
            "type": "barpolar"
           }
          ],
          "carpet": [
           {
            "aaxis": {
             "endlinecolor": "#2a3f5f",
             "gridcolor": "white",
             "linecolor": "white",
             "minorgridcolor": "white",
             "startlinecolor": "#2a3f5f"
            },
            "baxis": {
             "endlinecolor": "#2a3f5f",
             "gridcolor": "white",
             "linecolor": "white",
             "minorgridcolor": "white",
             "startlinecolor": "#2a3f5f"
            },
            "type": "carpet"
           }
          ],
          "choropleth": [
           {
            "colorbar": {
             "outlinewidth": 0,
             "ticks": ""
            },
            "type": "choropleth"
           }
          ],
          "contour": [
           {
            "colorbar": {
             "outlinewidth": 0,
             "ticks": ""
            },
            "colorscale": [
             [
              0,
              "#0d0887"
             ],
             [
              0.1111111111111111,
              "#46039f"
             ],
             [
              0.2222222222222222,
              "#7201a8"
             ],
             [
              0.3333333333333333,
              "#9c179e"
             ],
             [
              0.4444444444444444,
              "#bd3786"
             ],
             [
              0.5555555555555556,
              "#d8576b"
             ],
             [
              0.6666666666666666,
              "#ed7953"
             ],
             [
              0.7777777777777778,
              "#fb9f3a"
             ],
             [
              0.8888888888888888,
              "#fdca26"
             ],
             [
              1,
              "#f0f921"
             ]
            ],
            "type": "contour"
           }
          ],
          "contourcarpet": [
           {
            "colorbar": {
             "outlinewidth": 0,
             "ticks": ""
            },
            "type": "contourcarpet"
           }
          ],
          "heatmap": [
           {
            "colorbar": {
             "outlinewidth": 0,
             "ticks": ""
            },
            "colorscale": [
             [
              0,
              "#0d0887"
             ],
             [
              0.1111111111111111,
              "#46039f"
             ],
             [
              0.2222222222222222,
              "#7201a8"
             ],
             [
              0.3333333333333333,
              "#9c179e"
             ],
             [
              0.4444444444444444,
              "#bd3786"
             ],
             [
              0.5555555555555556,
              "#d8576b"
             ],
             [
              0.6666666666666666,
              "#ed7953"
             ],
             [
              0.7777777777777778,
              "#fb9f3a"
             ],
             [
              0.8888888888888888,
              "#fdca26"
             ],
             [
              1,
              "#f0f921"
             ]
            ],
            "type": "heatmap"
           }
          ],
          "heatmapgl": [
           {
            "colorbar": {
             "outlinewidth": 0,
             "ticks": ""
            },
            "colorscale": [
             [
              0,
              "#0d0887"
             ],
             [
              0.1111111111111111,
              "#46039f"
             ],
             [
              0.2222222222222222,
              "#7201a8"
             ],
             [
              0.3333333333333333,
              "#9c179e"
             ],
             [
              0.4444444444444444,
              "#bd3786"
             ],
             [
              0.5555555555555556,
              "#d8576b"
             ],
             [
              0.6666666666666666,
              "#ed7953"
             ],
             [
              0.7777777777777778,
              "#fb9f3a"
             ],
             [
              0.8888888888888888,
              "#fdca26"
             ],
             [
              1,
              "#f0f921"
             ]
            ],
            "type": "heatmapgl"
           }
          ],
          "histogram": [
           {
            "marker": {
             "pattern": {
              "fillmode": "overlay",
              "size": 10,
              "solidity": 0.2
             }
            },
            "type": "histogram"
           }
          ],
          "histogram2d": [
           {
            "colorbar": {
             "outlinewidth": 0,
             "ticks": ""
            },
            "colorscale": [
             [
              0,
              "#0d0887"
             ],
             [
              0.1111111111111111,
              "#46039f"
             ],
             [
              0.2222222222222222,
              "#7201a8"
             ],
             [
              0.3333333333333333,
              "#9c179e"
             ],
             [
              0.4444444444444444,
              "#bd3786"
             ],
             [
              0.5555555555555556,
              "#d8576b"
             ],
             [
              0.6666666666666666,
              "#ed7953"
             ],
             [
              0.7777777777777778,
              "#fb9f3a"
             ],
             [
              0.8888888888888888,
              "#fdca26"
             ],
             [
              1,
              "#f0f921"
             ]
            ],
            "type": "histogram2d"
           }
          ],
          "histogram2dcontour": [
           {
            "colorbar": {
             "outlinewidth": 0,
             "ticks": ""
            },
            "colorscale": [
             [
              0,
              "#0d0887"
             ],
             [
              0.1111111111111111,
              "#46039f"
             ],
             [
              0.2222222222222222,
              "#7201a8"
             ],
             [
              0.3333333333333333,
              "#9c179e"
             ],
             [
              0.4444444444444444,
              "#bd3786"
             ],
             [
              0.5555555555555556,
              "#d8576b"
             ],
             [
              0.6666666666666666,
              "#ed7953"
             ],
             [
              0.7777777777777778,
              "#fb9f3a"
             ],
             [
              0.8888888888888888,
              "#fdca26"
             ],
             [
              1,
              "#f0f921"
             ]
            ],
            "type": "histogram2dcontour"
           }
          ],
          "mesh3d": [
           {
            "colorbar": {
             "outlinewidth": 0,
             "ticks": ""
            },
            "type": "mesh3d"
           }
          ],
          "parcoords": [
           {
            "line": {
             "colorbar": {
              "outlinewidth": 0,
              "ticks": ""
             }
            },
            "type": "parcoords"
           }
          ],
          "pie": [
           {
            "automargin": true,
            "type": "pie"
           }
          ],
          "scatter": [
           {
            "fillpattern": {
             "fillmode": "overlay",
             "size": 10,
             "solidity": 0.2
            },
            "type": "scatter"
           }
          ],
          "scatter3d": [
           {
            "line": {
             "colorbar": {
              "outlinewidth": 0,
              "ticks": ""
             }
            },
            "marker": {
             "colorbar": {
              "outlinewidth": 0,
              "ticks": ""
             }
            },
            "type": "scatter3d"
           }
          ],
          "scattercarpet": [
           {
            "marker": {
             "colorbar": {
              "outlinewidth": 0,
              "ticks": ""
             }
            },
            "type": "scattercarpet"
           }
          ],
          "scattergeo": [
           {
            "marker": {
             "colorbar": {
              "outlinewidth": 0,
              "ticks": ""
             }
            },
            "type": "scattergeo"
           }
          ],
          "scattergl": [
           {
            "marker": {
             "colorbar": {
              "outlinewidth": 0,
              "ticks": ""
             }
            },
            "type": "scattergl"
           }
          ],
          "scattermapbox": [
           {
            "marker": {
             "colorbar": {
              "outlinewidth": 0,
              "ticks": ""
             }
            },
            "type": "scattermapbox"
           }
          ],
          "scatterpolar": [
           {
            "marker": {
             "colorbar": {
              "outlinewidth": 0,
              "ticks": ""
             }
            },
            "type": "scatterpolar"
           }
          ],
          "scatterpolargl": [
           {
            "marker": {
             "colorbar": {
              "outlinewidth": 0,
              "ticks": ""
             }
            },
            "type": "scatterpolargl"
           }
          ],
          "scatterternary": [
           {
            "marker": {
             "colorbar": {
              "outlinewidth": 0,
              "ticks": ""
             }
            },
            "type": "scatterternary"
           }
          ],
          "surface": [
           {
            "colorbar": {
             "outlinewidth": 0,
             "ticks": ""
            },
            "colorscale": [
             [
              0,
              "#0d0887"
             ],
             [
              0.1111111111111111,
              "#46039f"
             ],
             [
              0.2222222222222222,
              "#7201a8"
             ],
             [
              0.3333333333333333,
              "#9c179e"
             ],
             [
              0.4444444444444444,
              "#bd3786"
             ],
             [
              0.5555555555555556,
              "#d8576b"
             ],
             [
              0.6666666666666666,
              "#ed7953"
             ],
             [
              0.7777777777777778,
              "#fb9f3a"
             ],
             [
              0.8888888888888888,
              "#fdca26"
             ],
             [
              1,
              "#f0f921"
             ]
            ],
            "type": "surface"
           }
          ],
          "table": [
           {
            "cells": {
             "fill": {
              "color": "#EBF0F8"
             },
             "line": {
              "color": "white"
             }
            },
            "header": {
             "fill": {
              "color": "#C8D4E3"
             },
             "line": {
              "color": "white"
             }
            },
            "type": "table"
           }
          ]
         },
         "layout": {
          "annotationdefaults": {
           "arrowcolor": "#2a3f5f",
           "arrowhead": 0,
           "arrowwidth": 1
          },
          "autotypenumbers": "strict",
          "coloraxis": {
           "colorbar": {
            "outlinewidth": 0,
            "ticks": ""
           }
          },
          "colorscale": {
           "diverging": [
            [
             0,
             "#8e0152"
            ],
            [
             0.1,
             "#c51b7d"
            ],
            [
             0.2,
             "#de77ae"
            ],
            [
             0.3,
             "#f1b6da"
            ],
            [
             0.4,
             "#fde0ef"
            ],
            [
             0.5,
             "#f7f7f7"
            ],
            [
             0.6,
             "#e6f5d0"
            ],
            [
             0.7,
             "#b8e186"
            ],
            [
             0.8,
             "#7fbc41"
            ],
            [
             0.9,
             "#4d9221"
            ],
            [
             1,
             "#276419"
            ]
           ],
           "sequential": [
            [
             0,
             "#0d0887"
            ],
            [
             0.1111111111111111,
             "#46039f"
            ],
            [
             0.2222222222222222,
             "#7201a8"
            ],
            [
             0.3333333333333333,
             "#9c179e"
            ],
            [
             0.4444444444444444,
             "#bd3786"
            ],
            [
             0.5555555555555556,
             "#d8576b"
            ],
            [
             0.6666666666666666,
             "#ed7953"
            ],
            [
             0.7777777777777778,
             "#fb9f3a"
            ],
            [
             0.8888888888888888,
             "#fdca26"
            ],
            [
             1,
             "#f0f921"
            ]
           ],
           "sequentialminus": [
            [
             0,
             "#0d0887"
            ],
            [
             0.1111111111111111,
             "#46039f"
            ],
            [
             0.2222222222222222,
             "#7201a8"
            ],
            [
             0.3333333333333333,
             "#9c179e"
            ],
            [
             0.4444444444444444,
             "#bd3786"
            ],
            [
             0.5555555555555556,
             "#d8576b"
            ],
            [
             0.6666666666666666,
             "#ed7953"
            ],
            [
             0.7777777777777778,
             "#fb9f3a"
            ],
            [
             0.8888888888888888,
             "#fdca26"
            ],
            [
             1,
             "#f0f921"
            ]
           ]
          },
          "colorway": [
           "#636efa",
           "#EF553B",
           "#00cc96",
           "#ab63fa",
           "#FFA15A",
           "#19d3f3",
           "#FF6692",
           "#B6E880",
           "#FF97FF",
           "#FECB52"
          ],
          "font": {
           "color": "#2a3f5f"
          },
          "geo": {
           "bgcolor": "white",
           "lakecolor": "white",
           "landcolor": "#E5ECF6",
           "showlakes": true,
           "showland": true,
           "subunitcolor": "white"
          },
          "hoverlabel": {
           "align": "left"
          },
          "hovermode": "closest",
          "mapbox": {
           "style": "light"
          },
          "paper_bgcolor": "white",
          "plot_bgcolor": "#E5ECF6",
          "polar": {
           "angularaxis": {
            "gridcolor": "white",
            "linecolor": "white",
            "ticks": ""
           },
           "bgcolor": "#E5ECF6",
           "radialaxis": {
            "gridcolor": "white",
            "linecolor": "white",
            "ticks": ""
           }
          },
          "scene": {
           "xaxis": {
            "backgroundcolor": "#E5ECF6",
            "gridcolor": "white",
            "gridwidth": 2,
            "linecolor": "white",
            "showbackground": true,
            "ticks": "",
            "zerolinecolor": "white"
           },
           "yaxis": {
            "backgroundcolor": "#E5ECF6",
            "gridcolor": "white",
            "gridwidth": 2,
            "linecolor": "white",
            "showbackground": true,
            "ticks": "",
            "zerolinecolor": "white"
           },
           "zaxis": {
            "backgroundcolor": "#E5ECF6",
            "gridcolor": "white",
            "gridwidth": 2,
            "linecolor": "white",
            "showbackground": true,
            "ticks": "",
            "zerolinecolor": "white"
           }
          },
          "shapedefaults": {
           "line": {
            "color": "#2a3f5f"
           }
          },
          "ternary": {
           "aaxis": {
            "gridcolor": "white",
            "linecolor": "white",
            "ticks": ""
           },
           "baxis": {
            "gridcolor": "white",
            "linecolor": "white",
            "ticks": ""
           },
           "bgcolor": "#E5ECF6",
           "caxis": {
            "gridcolor": "white",
            "linecolor": "white",
            "ticks": ""
           }
          },
          "title": {
           "x": 0.05
          },
          "xaxis": {
           "automargin": true,
           "gridcolor": "white",
           "linecolor": "white",
           "ticks": "",
           "title": {
            "standoff": 15
           },
           "zerolinecolor": "white",
           "zerolinewidth": 2
          },
          "yaxis": {
           "automargin": true,
           "gridcolor": "white",
           "linecolor": "white",
           "ticks": "",
           "title": {
            "standoff": 15
           },
           "zerolinecolor": "white",
           "zerolinewidth": 2
          }
         }
        },
        "xaxis": {
         "anchor": "y",
         "domain": [
          0,
          1
         ],
         "title": {
          "text": "Predicted Rank"
         }
        },
        "yaxis": {
         "anchor": "x",
         "domain": [
          0,
          1
         ],
         "title": {
          "text": "True Rank"
         }
        }
       }
      }
     },
     "metadata": {},
     "output_type": "display_data"
    }
   ],
   "source": [
    "px.scatter(df, x=\"Predicted Rank\", y=\"True Rank\", size=\"Subset Size\")"
   ]
  },
  {
   "cell_type": "code",
   "execution_count": 218,
   "id": "5fbbea84-67cd-4fd8-88f2-d427f5b603e6",
   "metadata": {},
   "outputs": [
    {
     "data": {
      "application/vnd.plotly.v1+json": {
       "config": {
        "plotlyServerURL": "https://plot.ly"
       },
       "data": [
        {
         "hovertemplate": "Predicted Score=%{x}<br>True Score=%{y}<br>Subset Size=%{marker.size}<extra></extra>",
         "legendgroup": "",
         "marker": {
          "color": "#636efa",
          "size": [
           5,
           26,
           5,
           24,
           7,
           26,
           41,
           7,
           30,
           18,
           7,
           26,
           37,
           29,
           38,
           10,
           37,
           30,
           29,
           17,
           24,
           29,
           1,
           23,
           32,
           4,
           41,
           19,
           28,
           15,
           13,
           6,
           20,
           22,
           40,
           31,
           39,
           27,
           26,
           10,
           37,
           25,
           23,
           39,
           6,
           42,
           17,
           35,
           31,
           33,
           39,
           32,
           2,
           36,
           42,
           7,
           25,
           11,
           9,
           24,
           30,
           29,
           33,
           13,
           29,
           29,
           16,
           5,
           29,
           38,
           33,
           6,
           20,
           16,
           4,
           18,
           3,
           35,
           3,
           1,
           6,
           14,
           14,
           21,
           17,
           20,
           14,
           12,
           10,
           11,
           23,
           10,
           25,
           20,
           7,
           18,
           32,
           2,
           41,
           5
          ],
          "sizemode": "area",
          "sizeref": 0.105,
          "symbol": "circle"
         },
         "mode": "markers",
         "name": "",
         "orientation": "v",
         "showlegend": false,
         "type": "scatter",
         "x": [
          0.3484956514614597,
          0.11996897998917146,
          0.332921903415341,
          0.12233238814096924,
          0.3298295212267736,
          0.2550817130058899,
          0.09924650201059733,
          0.347114591898391,
          0.13252144466291543,
          0.2680917926175246,
          0.29921375082958557,
          0.1581439541427809,
          0.13636579460266374,
          0.13404521638949501,
          0.12867899911381817,
          0.2809587071995207,
          0.17316949442977522,
          0.10226071679664066,
          0.23121279649266646,
          0.20755120651890643,
          0.17637643179193316,
          0.10676773009703498,
          0.33924308859810853,
          0.17549301369958475,
          0.11415229047898372,
          0.3508125134357496,
          0.09492870907162729,
          0.3179907040434424,
          0.2403116340789429,
          0.3182669397134375,
          0.28237654243071686,
          0.3416258431739308,
          0.27402167814571815,
          0.1430770470339332,
          0.09718233654038808,
          0.09605086597179313,
          0.09819715217380953,
          0.12697340071897417,
          0.23688902524017605,
          0.3094651038844469,
          0.09813165871650026,
          0.19891987849518847,
          0.26116070304739636,
          0.10340652154577872,
          0.3332480987304603,
          0.09762045309800015,
          0.2833357365915656,
          0.10020251988194448,
          0.18537752084415643,
          0.14571274359606243,
          0.09602736677521297,
          0.13887088655194751,
          0.3323067992592082,
          0.09894663328471182,
          0.09563932483340035,
          0.34572709763191534,
          0.12436994111920872,
          0.29488804352173886,
          0.16701096123688258,
          0.1330656791271454,
          0.13795750038099933,
          0.10248966945918798,
          0.13863074262026978,
          0.281690773052789,
          0.10631745533413,
          0.1177330987365321,
          0.2954591744446004,
          0.27915532811388866,
          0.11935537755974433,
          0.10672254462119983,
          0.1311198447212089,
          0.3482458368016646,
          0.21162138375241427,
          0.26981518813875377,
          0.34869654734482375,
          0.3005550463725593,
          0.3197988155621749,
          0.15948091651322172,
          0.2890483834401934,
          0.35607539649935344,
          0.3318697476986743,
          0.29550818891523095,
          0.3184551504486616,
          0.15566767533182876,
          0.20121797631214763,
          0.15395178764518977,
          0.27040406421998103,
          0.33140523362073065,
          0.30204731212640085,
          0.27225994488454874,
          0.2640052896962152,
          0.2691088363866838,
          0.22883840418286733,
          0.25399131925242047,
          0.32603914760451547,
          0.27216481416223487,
          0.21108267764553518,
          0.3488670449828793,
          0.09457382522973737,
          0.3247701693008634
         ],
         "xaxis": "x",
         "y": [
          0.2617190543298339,
          0.10363936365894653,
          0.24189021293340465,
          0.10612558072804631,
          0.23421022662883903,
          0.10723465290228702,
          0.10191561673086437,
          0.2350256789238202,
          0.10516121090120972,
          0.11408836011757738,
          0.17141583022103513,
          0.11285533319870047,
          0.10170441545241948,
          0.10093233987157538,
          0.10126666509278762,
          0.15004154951563767,
          0.10009504211387774,
          0.10090397937898396,
          0.11069126444033585,
          0.11225153049647538,
          0.10347148252036237,
          0.10548368829554221,
          0.2784147553047482,
          0.11979025116074096,
          0.10529732930150651,
          0.2346139465757663,
          0.10119993076280752,
          0.14648625065731485,
          0.10874103313746708,
          0.1447642911105836,
          0.11644616394829992,
          0.21521374648241545,
          0.1290835384772912,
          0.10507422820452228,
          0.10171240609393456,
          0.10072332899571595,
          0.10257500989483341,
          0.1040750645954265,
          0.10517382686651978,
          0.16000329560566734,
          0.10330410125374659,
          0.10448198475991805,
          0.131582899915187,
          0.1004532088329683,
          0.15367848880328858,
          0.101356731662787,
          0.12015062715140325,
          0.10042121967551053,
          0.10525485017819326,
          0.1041083820947728,
          0.09755407133691107,
          0.10306677506547891,
          0.23168142650157314,
          0.10169248849232929,
          0.09943160645513775,
          0.23526500214168508,
          0.10387250076302273,
          0.15898060968876604,
          0.12292157210968682,
          0.10670256406394706,
          0.10143000146528922,
          0.09926427712344149,
          0.10747825714786359,
          0.1220101175428846,
          0.1040929630005511,
          0.10322482767822505,
          0.14204002103189722,
          0.15531103612076963,
          0.10435887225178547,
          0.10151520760790393,
          0.1029560391491396,
          0.23361831579078654,
          0.11461025318951584,
          0.14189213032833092,
          0.2178740770469553,
          0.15142346260592562,
          0.21153830944025787,
          0.09934230559361491,
          0.17840400231710574,
          0.40039133294257795,
          0.22058315943088586,
          0.13360386526412965,
          0.14318994871101973,
          0.10925236341471739,
          0.1257321555043855,
          0.11053438208667041,
          0.12373657698441175,
          0.16261537331314393,
          0.14229614303854612,
          0.13260624857625927,
          0.1083698754949351,
          0.14780214467651814,
          0.10847842927704655,
          0.12685903781597446,
          0.18267328014188852,
          0.1352732047329979,
          0.11381239035240127,
          0.27416280997317466,
          0.10032323642422705,
          0.18828919678782075
         ],
         "yaxis": "y"
        }
       ],
       "layout": {
        "legend": {
         "itemsizing": "constant",
         "tracegroupgap": 0
        },
        "margin": {
         "t": 60
        },
        "template": {
         "data": {
          "bar": [
           {
            "error_x": {
             "color": "#2a3f5f"
            },
            "error_y": {
             "color": "#2a3f5f"
            },
            "marker": {
             "line": {
              "color": "#E5ECF6",
              "width": 0.5
             },
             "pattern": {
              "fillmode": "overlay",
              "size": 10,
              "solidity": 0.2
             }
            },
            "type": "bar"
           }
          ],
          "barpolar": [
           {
            "marker": {
             "line": {
              "color": "#E5ECF6",
              "width": 0.5
             },
             "pattern": {
              "fillmode": "overlay",
              "size": 10,
              "solidity": 0.2
             }
            },
            "type": "barpolar"
           }
          ],
          "carpet": [
           {
            "aaxis": {
             "endlinecolor": "#2a3f5f",
             "gridcolor": "white",
             "linecolor": "white",
             "minorgridcolor": "white",
             "startlinecolor": "#2a3f5f"
            },
            "baxis": {
             "endlinecolor": "#2a3f5f",
             "gridcolor": "white",
             "linecolor": "white",
             "minorgridcolor": "white",
             "startlinecolor": "#2a3f5f"
            },
            "type": "carpet"
           }
          ],
          "choropleth": [
           {
            "colorbar": {
             "outlinewidth": 0,
             "ticks": ""
            },
            "type": "choropleth"
           }
          ],
          "contour": [
           {
            "colorbar": {
             "outlinewidth": 0,
             "ticks": ""
            },
            "colorscale": [
             [
              0,
              "#0d0887"
             ],
             [
              0.1111111111111111,
              "#46039f"
             ],
             [
              0.2222222222222222,
              "#7201a8"
             ],
             [
              0.3333333333333333,
              "#9c179e"
             ],
             [
              0.4444444444444444,
              "#bd3786"
             ],
             [
              0.5555555555555556,
              "#d8576b"
             ],
             [
              0.6666666666666666,
              "#ed7953"
             ],
             [
              0.7777777777777778,
              "#fb9f3a"
             ],
             [
              0.8888888888888888,
              "#fdca26"
             ],
             [
              1,
              "#f0f921"
             ]
            ],
            "type": "contour"
           }
          ],
          "contourcarpet": [
           {
            "colorbar": {
             "outlinewidth": 0,
             "ticks": ""
            },
            "type": "contourcarpet"
           }
          ],
          "heatmap": [
           {
            "colorbar": {
             "outlinewidth": 0,
             "ticks": ""
            },
            "colorscale": [
             [
              0,
              "#0d0887"
             ],
             [
              0.1111111111111111,
              "#46039f"
             ],
             [
              0.2222222222222222,
              "#7201a8"
             ],
             [
              0.3333333333333333,
              "#9c179e"
             ],
             [
              0.4444444444444444,
              "#bd3786"
             ],
             [
              0.5555555555555556,
              "#d8576b"
             ],
             [
              0.6666666666666666,
              "#ed7953"
             ],
             [
              0.7777777777777778,
              "#fb9f3a"
             ],
             [
              0.8888888888888888,
              "#fdca26"
             ],
             [
              1,
              "#f0f921"
             ]
            ],
            "type": "heatmap"
           }
          ],
          "heatmapgl": [
           {
            "colorbar": {
             "outlinewidth": 0,
             "ticks": ""
            },
            "colorscale": [
             [
              0,
              "#0d0887"
             ],
             [
              0.1111111111111111,
              "#46039f"
             ],
             [
              0.2222222222222222,
              "#7201a8"
             ],
             [
              0.3333333333333333,
              "#9c179e"
             ],
             [
              0.4444444444444444,
              "#bd3786"
             ],
             [
              0.5555555555555556,
              "#d8576b"
             ],
             [
              0.6666666666666666,
              "#ed7953"
             ],
             [
              0.7777777777777778,
              "#fb9f3a"
             ],
             [
              0.8888888888888888,
              "#fdca26"
             ],
             [
              1,
              "#f0f921"
             ]
            ],
            "type": "heatmapgl"
           }
          ],
          "histogram": [
           {
            "marker": {
             "pattern": {
              "fillmode": "overlay",
              "size": 10,
              "solidity": 0.2
             }
            },
            "type": "histogram"
           }
          ],
          "histogram2d": [
           {
            "colorbar": {
             "outlinewidth": 0,
             "ticks": ""
            },
            "colorscale": [
             [
              0,
              "#0d0887"
             ],
             [
              0.1111111111111111,
              "#46039f"
             ],
             [
              0.2222222222222222,
              "#7201a8"
             ],
             [
              0.3333333333333333,
              "#9c179e"
             ],
             [
              0.4444444444444444,
              "#bd3786"
             ],
             [
              0.5555555555555556,
              "#d8576b"
             ],
             [
              0.6666666666666666,
              "#ed7953"
             ],
             [
              0.7777777777777778,
              "#fb9f3a"
             ],
             [
              0.8888888888888888,
              "#fdca26"
             ],
             [
              1,
              "#f0f921"
             ]
            ],
            "type": "histogram2d"
           }
          ],
          "histogram2dcontour": [
           {
            "colorbar": {
             "outlinewidth": 0,
             "ticks": ""
            },
            "colorscale": [
             [
              0,
              "#0d0887"
             ],
             [
              0.1111111111111111,
              "#46039f"
             ],
             [
              0.2222222222222222,
              "#7201a8"
             ],
             [
              0.3333333333333333,
              "#9c179e"
             ],
             [
              0.4444444444444444,
              "#bd3786"
             ],
             [
              0.5555555555555556,
              "#d8576b"
             ],
             [
              0.6666666666666666,
              "#ed7953"
             ],
             [
              0.7777777777777778,
              "#fb9f3a"
             ],
             [
              0.8888888888888888,
              "#fdca26"
             ],
             [
              1,
              "#f0f921"
             ]
            ],
            "type": "histogram2dcontour"
           }
          ],
          "mesh3d": [
           {
            "colorbar": {
             "outlinewidth": 0,
             "ticks": ""
            },
            "type": "mesh3d"
           }
          ],
          "parcoords": [
           {
            "line": {
             "colorbar": {
              "outlinewidth": 0,
              "ticks": ""
             }
            },
            "type": "parcoords"
           }
          ],
          "pie": [
           {
            "automargin": true,
            "type": "pie"
           }
          ],
          "scatter": [
           {
            "fillpattern": {
             "fillmode": "overlay",
             "size": 10,
             "solidity": 0.2
            },
            "type": "scatter"
           }
          ],
          "scatter3d": [
           {
            "line": {
             "colorbar": {
              "outlinewidth": 0,
              "ticks": ""
             }
            },
            "marker": {
             "colorbar": {
              "outlinewidth": 0,
              "ticks": ""
             }
            },
            "type": "scatter3d"
           }
          ],
          "scattercarpet": [
           {
            "marker": {
             "colorbar": {
              "outlinewidth": 0,
              "ticks": ""
             }
            },
            "type": "scattercarpet"
           }
          ],
          "scattergeo": [
           {
            "marker": {
             "colorbar": {
              "outlinewidth": 0,
              "ticks": ""
             }
            },
            "type": "scattergeo"
           }
          ],
          "scattergl": [
           {
            "marker": {
             "colorbar": {
              "outlinewidth": 0,
              "ticks": ""
             }
            },
            "type": "scattergl"
           }
          ],
          "scattermapbox": [
           {
            "marker": {
             "colorbar": {
              "outlinewidth": 0,
              "ticks": ""
             }
            },
            "type": "scattermapbox"
           }
          ],
          "scatterpolar": [
           {
            "marker": {
             "colorbar": {
              "outlinewidth": 0,
              "ticks": ""
             }
            },
            "type": "scatterpolar"
           }
          ],
          "scatterpolargl": [
           {
            "marker": {
             "colorbar": {
              "outlinewidth": 0,
              "ticks": ""
             }
            },
            "type": "scatterpolargl"
           }
          ],
          "scatterternary": [
           {
            "marker": {
             "colorbar": {
              "outlinewidth": 0,
              "ticks": ""
             }
            },
            "type": "scatterternary"
           }
          ],
          "surface": [
           {
            "colorbar": {
             "outlinewidth": 0,
             "ticks": ""
            },
            "colorscale": [
             [
              0,
              "#0d0887"
             ],
             [
              0.1111111111111111,
              "#46039f"
             ],
             [
              0.2222222222222222,
              "#7201a8"
             ],
             [
              0.3333333333333333,
              "#9c179e"
             ],
             [
              0.4444444444444444,
              "#bd3786"
             ],
             [
              0.5555555555555556,
              "#d8576b"
             ],
             [
              0.6666666666666666,
              "#ed7953"
             ],
             [
              0.7777777777777778,
              "#fb9f3a"
             ],
             [
              0.8888888888888888,
              "#fdca26"
             ],
             [
              1,
              "#f0f921"
             ]
            ],
            "type": "surface"
           }
          ],
          "table": [
           {
            "cells": {
             "fill": {
              "color": "#EBF0F8"
             },
             "line": {
              "color": "white"
             }
            },
            "header": {
             "fill": {
              "color": "#C8D4E3"
             },
             "line": {
              "color": "white"
             }
            },
            "type": "table"
           }
          ]
         },
         "layout": {
          "annotationdefaults": {
           "arrowcolor": "#2a3f5f",
           "arrowhead": 0,
           "arrowwidth": 1
          },
          "autotypenumbers": "strict",
          "coloraxis": {
           "colorbar": {
            "outlinewidth": 0,
            "ticks": ""
           }
          },
          "colorscale": {
           "diverging": [
            [
             0,
             "#8e0152"
            ],
            [
             0.1,
             "#c51b7d"
            ],
            [
             0.2,
             "#de77ae"
            ],
            [
             0.3,
             "#f1b6da"
            ],
            [
             0.4,
             "#fde0ef"
            ],
            [
             0.5,
             "#f7f7f7"
            ],
            [
             0.6,
             "#e6f5d0"
            ],
            [
             0.7,
             "#b8e186"
            ],
            [
             0.8,
             "#7fbc41"
            ],
            [
             0.9,
             "#4d9221"
            ],
            [
             1,
             "#276419"
            ]
           ],
           "sequential": [
            [
             0,
             "#0d0887"
            ],
            [
             0.1111111111111111,
             "#46039f"
            ],
            [
             0.2222222222222222,
             "#7201a8"
            ],
            [
             0.3333333333333333,
             "#9c179e"
            ],
            [
             0.4444444444444444,
             "#bd3786"
            ],
            [
             0.5555555555555556,
             "#d8576b"
            ],
            [
             0.6666666666666666,
             "#ed7953"
            ],
            [
             0.7777777777777778,
             "#fb9f3a"
            ],
            [
             0.8888888888888888,
             "#fdca26"
            ],
            [
             1,
             "#f0f921"
            ]
           ],
           "sequentialminus": [
            [
             0,
             "#0d0887"
            ],
            [
             0.1111111111111111,
             "#46039f"
            ],
            [
             0.2222222222222222,
             "#7201a8"
            ],
            [
             0.3333333333333333,
             "#9c179e"
            ],
            [
             0.4444444444444444,
             "#bd3786"
            ],
            [
             0.5555555555555556,
             "#d8576b"
            ],
            [
             0.6666666666666666,
             "#ed7953"
            ],
            [
             0.7777777777777778,
             "#fb9f3a"
            ],
            [
             0.8888888888888888,
             "#fdca26"
            ],
            [
             1,
             "#f0f921"
            ]
           ]
          },
          "colorway": [
           "#636efa",
           "#EF553B",
           "#00cc96",
           "#ab63fa",
           "#FFA15A",
           "#19d3f3",
           "#FF6692",
           "#B6E880",
           "#FF97FF",
           "#FECB52"
          ],
          "font": {
           "color": "#2a3f5f"
          },
          "geo": {
           "bgcolor": "white",
           "lakecolor": "white",
           "landcolor": "#E5ECF6",
           "showlakes": true,
           "showland": true,
           "subunitcolor": "white"
          },
          "hoverlabel": {
           "align": "left"
          },
          "hovermode": "closest",
          "mapbox": {
           "style": "light"
          },
          "paper_bgcolor": "white",
          "plot_bgcolor": "#E5ECF6",
          "polar": {
           "angularaxis": {
            "gridcolor": "white",
            "linecolor": "white",
            "ticks": ""
           },
           "bgcolor": "#E5ECF6",
           "radialaxis": {
            "gridcolor": "white",
            "linecolor": "white",
            "ticks": ""
           }
          },
          "scene": {
           "xaxis": {
            "backgroundcolor": "#E5ECF6",
            "gridcolor": "white",
            "gridwidth": 2,
            "linecolor": "white",
            "showbackground": true,
            "ticks": "",
            "zerolinecolor": "white"
           },
           "yaxis": {
            "backgroundcolor": "#E5ECF6",
            "gridcolor": "white",
            "gridwidth": 2,
            "linecolor": "white",
            "showbackground": true,
            "ticks": "",
            "zerolinecolor": "white"
           },
           "zaxis": {
            "backgroundcolor": "#E5ECF6",
            "gridcolor": "white",
            "gridwidth": 2,
            "linecolor": "white",
            "showbackground": true,
            "ticks": "",
            "zerolinecolor": "white"
           }
          },
          "shapedefaults": {
           "line": {
            "color": "#2a3f5f"
           }
          },
          "ternary": {
           "aaxis": {
            "gridcolor": "white",
            "linecolor": "white",
            "ticks": ""
           },
           "baxis": {
            "gridcolor": "white",
            "linecolor": "white",
            "ticks": ""
           },
           "bgcolor": "#E5ECF6",
           "caxis": {
            "gridcolor": "white",
            "linecolor": "white",
            "ticks": ""
           }
          },
          "title": {
           "x": 0.05
          },
          "xaxis": {
           "automargin": true,
           "gridcolor": "white",
           "linecolor": "white",
           "ticks": "",
           "title": {
            "standoff": 15
           },
           "zerolinecolor": "white",
           "zerolinewidth": 2
          },
          "yaxis": {
           "automargin": true,
           "gridcolor": "white",
           "linecolor": "white",
           "ticks": "",
           "title": {
            "standoff": 15
           },
           "zerolinecolor": "white",
           "zerolinewidth": 2
          }
         }
        },
        "xaxis": {
         "anchor": "y",
         "domain": [
          0,
          1
         ],
         "title": {
          "text": "Predicted Score"
         }
        },
        "yaxis": {
         "anchor": "x",
         "domain": [
          0,
          1
         ],
         "title": {
          "text": "True Score"
         }
        }
       }
      }
     },
     "metadata": {},
     "output_type": "display_data"
    }
   ],
   "source": [
    "px.scatter(df, x=\"Predicted Score\", y=\"True Score\", size=\"Subset Size\")"
   ]
  },
  {
   "cell_type": "code",
   "execution_count": 219,
   "id": "598c32be",
   "metadata": {},
   "outputs": [],
   "source": [
    "import scipy"
   ]
  },
  {
   "cell_type": "code",
   "execution_count": 220,
   "id": "91006385",
   "metadata": {},
   "outputs": [
    {
     "data": {
      "text/plain": [
       "SignificanceResult(statistic=0.9313411341134112, pvalue=8.723164539993612e-45)"
      ]
     },
     "execution_count": 220,
     "metadata": {},
     "output_type": "execute_result"
    }
   ],
   "source": [
    "# correlation: true_scores vs selector.performance_history\n",
    "cor = scipy.stats.spearmanr(true_scores, performance_history)\n",
    "cor"
   ]
  },
  {
   "cell_type": "code",
   "execution_count": 221,
   "id": "8455a2da",
   "metadata": {},
   "outputs": [
    {
     "data": {
      "text/plain": [
       "PearsonRResult(statistic=0.7655648402120474, pvalue=1.7645572148210853e-20)"
      ]
     },
     "execution_count": 221,
     "metadata": {},
     "output_type": "execute_result"
    }
   ],
   "source": [
    "# correlation: true_scores vs selector.performance_history\n",
    "cor = scipy.stats.pearsonr(true_scores, performance_history)\n",
    "cor"
   ]
  },
  {
   "cell_type": "code",
   "execution_count": null,
   "id": "3e465f70",
   "metadata": {},
   "outputs": [],
   "source": []
  }
 ],
 "metadata": {
  "kernelspec": {
   "display_name": "env_ds",
   "language": "python",
   "name": "python3"
  },
  "language_info": {
   "codemirror_mode": {
    "name": "ipython",
    "version": 3
   },
   "file_extension": ".py",
   "mimetype": "text/x-python",
   "name": "python",
   "nbconvert_exporter": "python",
   "pygments_lexer": "ipython3",
   "version": "3.10.13"
  }
 },
 "nbformat": 4,
 "nbformat_minor": 5
}
