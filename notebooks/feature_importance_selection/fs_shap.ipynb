{
 "cells": [
  {
   "cell_type": "code",
   "execution_count": 115,
   "id": "211756b1-7e91-431f-b057-6932a2ba3208",
   "metadata": {},
   "outputs": [],
   "source": [
    "from sklearn.base import BaseEstimator\n",
    "from sklearn.model_selection import train_test_split\n",
    "import numpy as np\n",
    "import time\n",
    "import warnings"
   ]
  },
  {
   "cell_type": "code",
   "execution_count": 116,
   "id": "e4de4bbd-ae23-43fd-84ec-71bf51fda448",
   "metadata": {},
   "outputs": [],
   "source": [
    "from sklearn.base import BaseEstimator\n",
    "from sklearn.model_selection import train_test_split\n",
    "from sklearn.metrics import mean_absolute_percentage_error\n",
    "import numpy as np"
   ]
  },
  {
   "cell_type": "code",
   "execution_count": 117,
   "id": "3e53da47-9e5c-4308-96dd-2ef2fe9f9c47",
   "metadata": {},
   "outputs": [],
   "source": [
    "import numpy as np\n",
    "import pandas as pd\n",
    "from sklearn.datasets import make_regression\n",
    "from sklearn.linear_model import LinearRegression\n",
    "from sklearn.ensemble import RandomForestRegressor\n",
    "import shap"
   ]
  },
  {
   "attachments": {},
   "cell_type": "markdown",
   "id": "e9309c61-f324-4bab-bbd5-f8b77fd07576",
   "metadata": {
    "tags": []
   },
   "source": [
    "# Load Data"
   ]
  },
  {
   "cell_type": "code",
   "execution_count": 118,
   "id": "70984c49",
   "metadata": {},
   "outputs": [],
   "source": [
    "df = pd.read_csv(\"../../data/AmesHousing.csv\")\n",
    "df.head()\n",
    "df = df.select_dtypes(include=\"number\")\n",
    "df.dropna(inplace=True)\n",
    "#df[\"random_feature\"] = np.random.random(df.shape[0])\n",
    "#df[\"Overall Qual Noise\"] = df[\"Overall Qual\"] + (df[\"random_feature\"] * 0.0001)\n",
    "# Split the data\n",
    "test_size = 0.3\n",
    "X_train, X_test, y_train, y_test = train_test_split(\n",
    "    df.drop(\"SalePrice\", axis=1), df[\"SalePrice\"], test_size=test_size, random_state=42\n",
    ")"
   ]
  },
  {
   "attachments": {},
   "cell_type": "markdown",
   "id": "b1202a48",
   "metadata": {},
   "source": [
    "# Select Features"
   ]
  },
  {
   "cell_type": "code",
   "execution_count": 119,
   "id": "5b47f306-815d-41e0-93d3-83c15c92425b",
   "metadata": {},
   "outputs": [],
   "source": [
    "from sklearn.base import BaseEstimator\n",
    "\n",
    "\n",
    "class SubsetEvaluator:\n",
    "    def evaluate(self, subset):\n",
    "        raise NotImplementedError\n",
    "\n",
    "\n",
    "from sklearn.model_selection import cross_val_score"
   ]
  },
  {
   "cell_type": "code",
   "execution_count": 120,
   "id": "62b7d62b-7d33-4b98-870f-87420a153281",
   "metadata": {},
   "outputs": [],
   "source": [
    "from sklearn.base import BaseEstimator\n",
    "import numpy as np\n",
    "import itertools\n",
    "\n",
    "from sklearn.base import BaseEstimator\n",
    "\n",
    "\n",
    "class SubsetSelector(BaseEstimator):\n",
    "    def __init__(self):\n",
    "        self.subsets_history = []\n",
    "        self.performance_history = []\n",
    "\n",
    "    def update_history(self, subset, performance):\n",
    "        self.subsets_history.append(subset)\n",
    "        self.performance_history.append(performance)\n",
    "\n",
    "    def generate_next_subset(self):\n",
    "        raise NotImplementedError\n",
    "\n",
    "\n",
    "import random\n",
    "\n",
    "\n",
    "class RandomSubsetSelector(SubsetSelector):\n",
    "    def __init__(self, features, random_state=None):\n",
    "        super().__init__()\n",
    "        self.features = list(features)\n",
    "        self.random_state = random_state  # Use a local Random instance\n",
    "        np.random.seed(self.random_state)\n",
    "\n",
    "    def generate_next_subset(self):\n",
    "        max_attempts = 100\n",
    "        for _ in range(max_attempts):\n",
    "            num_features = np.random.randint(1, len(self.features))\n",
    "            subset = np.random.choice(self.features, num_features, replace=False)\n",
    "            subset = sorted(subset)  # Sort the subset\n",
    "            subset_tuple = tuple(subset)  # Convert to tuple\n",
    "            if subset_tuple not in self.subsets_history:\n",
    "                return subset\n",
    "        raise ValueError(\n",
    "            \"Unable to find a new unique subset after {} attempts\".format(max_attempts)\n",
    "        )\n",
    "\n",
    "\n",
    "class SubsetFeatureSelector:\n",
    "    def __init__(self, subset_selector, evaluator, n_steps, greater_is_better=True):\n",
    "        self.subset_selector = subset_selector\n",
    "        self.evaluator = evaluator\n",
    "        self.n_steps = n_steps\n",
    "        self.greater_is_better = greater_is_better\n",
    "        self.subset_history = []\n",
    "        self.score_history = []\n",
    "\n",
    "    def _is_better(self, current_performance, best_performance):\n",
    "        if self.greater_is_better:\n",
    "            return current_performance > best_performance\n",
    "        else:\n",
    "            return current_performance < best_performance\n",
    "\n",
    "    def find_optimal_subset(self):\n",
    "        if self.greater_is_better:\n",
    "            best_performance = float(\"-inf\")\n",
    "        else:\n",
    "            best_performance = float(\"inf\")\n",
    "\n",
    "        best_subset = None\n",
    "\n",
    "        for _ in range(self.n_steps):\n",
    "            subset = self.subset_selector.generate_next_subset()\n",
    "            performance = self.evaluator.evaluate(subset)\n",
    "            self.subset_selector.update_history(subset, performance)\n",
    "\n",
    "            if self._is_better(performance, best_performance):\n",
    "                best_subset, best_performance = subset, performance\n",
    "                print(f\"Best score so far: {performance}\")\n",
    "                self.subset_history.append(best_subset)\n",
    "                self.score_history.append(best_performance)\n",
    "\n",
    "        self.best_subset = best_subset\n",
    "        self.best_score = best_performance  # todo: change to 'score'\n",
    "        return best_subset, best_performance"
   ]
  },
  {
   "cell_type": "code",
   "execution_count": 121,
   "id": "03cdcbd7",
   "metadata": {},
   "outputs": [],
   "source": [
    "from sko.PSO import PSO\n",
    "import numpy as np\n",
    "\n",
    "class PSOSubsetSelector(SubsetSelector):\n",
    "    def __init__(self, features, evaluator, pop_size=30, max_iter=100, w=0.8, c1=0.5, c2=0.5):\n",
    "        super().__init__()\n",
    "        self.features = features\n",
    "        self.evaluator = evaluator\n",
    "        self.pop_size = pop_size\n",
    "        self.max_iter = max_iter\n",
    "        self.subsets_history_set = set()  # Initialize the set to store history of subsets\n",
    "        self.w = w\n",
    "        self.c1 = c1\n",
    "        self.c2 = c2\n",
    "        self.run_pso()  # Initialize and run PSO\n",
    "\n",
    "    def run_pso(self):\n",
    "        # Function to run PSO, allows for re-running PSO in case of repeat solutions\n",
    "        self.pso = PSO(\n",
    "            func=self._pso_func,\n",
    "            n_dim=len(self.features),\n",
    "            pop=self.pop_size,\n",
    "            max_iter=self.max_iter,\n",
    "            lb=[0] * len(self.features),\n",
    "            ub=[1] * len(self.features),\n",
    "            w=self.w, c1=self.c1, c2=self.c2\n",
    "        )\n",
    "        self.pso.run()\n",
    "\n",
    "    def subset_fitness(self, position):\n",
    "        # Convert continuous position values to binary to decide feature inclusion\n",
    "        subset = tuple(self.features[i] for i in range(len(self.features)) if position[i] > 0.5)\n",
    "        if not subset or subset in self.subsets_history_set:\n",
    "            return float(\"inf\")  # Penalize empty subsets or repeats if maximizing\n",
    "        # Calculate fitness for new, unique subsets\n",
    "        fitness = self.evaluator.evaluate(list(subset))\n",
    "        self.update_history(list(subset), fitness)\n",
    "        return fitness\n",
    "\n",
    "    def _pso_func(self, x):\n",
    "        # Wrapper to adjust the fitness function interface\n",
    "        return self.subset_fitness(x)\n",
    "\n",
    "    def generate_next_subset(self):\n",
    "        # Ensure that the best subset hasn't been picked before\n",
    "        for _ in range(10):  # Limit the number of retries to prevent infinite loops\n",
    "            best_position = self.pso.gbest_x\n",
    "            subset = [self.features[i] for i in range(len(self.features)) if best_position[i] > 0.5]\n",
    "            subset_tuple = tuple(subset)\n",
    "            if subset_tuple not in self.subsets_history_set:\n",
    "                self.subsets_history_set.add(subset_tuple)\n",
    "                return subset\n",
    "            else:\n",
    "                # Rerun PSO or modify parameters to explore new areas\n",
    "                self.run_pso()\n",
    "        raise ValueError(\"Unable to find a new unique subset after multiple attempts\")\n",
    "\n",
    "    def update_history(self, subset, performance):\n",
    "        super().update_history(subset, performance)\n",
    "        self.subsets_history_set.add(tuple(subset))  # Store subsets as tuples in a set for fast lookup"
   ]
  },
  {
   "cell_type": "code",
   "execution_count": 122,
   "id": "ba79b10f-1902-416d-9cc2-e255bc6456ab",
   "metadata": {},
   "outputs": [],
   "source": [
    "from sklearn.model_selection import GroupShuffleSplit, GroupKFold"
   ]
  },
  {
   "cell_type": "code",
   "execution_count": 123,
   "id": "b90a55b2-aa00-400b-84df-aeb7a3f4e52c",
   "metadata": {},
   "outputs": [],
   "source": [
    "from sklearn.model_selection import ShuffleSplit\n",
    "\n",
    "\n",
    "class HoldOutSubsetEvaluator(SubsetEvaluator):\n",
    "    def __init__(\n",
    "        self,\n",
    "        X,\n",
    "        y,\n",
    "        estimator,\n",
    "        scorer,\n",
    "        splitter=None,\n",
    "        groups=None,\n",
    "        test_size=0.2,\n",
    "        random_state=43,\n",
    "    ):\n",
    "        self.X = X\n",
    "        self.y = y\n",
    "        self.estimator = estimator\n",
    "        self.scorer = scorer\n",
    "        self.test_size = test_size\n",
    "        self.groups = groups\n",
    "        self.random_state = random_state\n",
    "        self.splitter = ShuffleSplit if splitter is None else splitter\n",
    "        self._split_data()\n",
    "\n",
    "    def _split_data(self):\n",
    "        # Splitting the dataset into training and test sets\n",
    "        self.splitter = self.splitter(\n",
    "            n_splits=1, test_size=self.test_size, random_state=self.random_state\n",
    "        )\n",
    "        for train_index, test_index in self.splitter.split(self.X, groups=self.groups):\n",
    "            self.X_train, self.X_test = (\n",
    "                self.X.iloc[train_index],\n",
    "                self.X.iloc[test_index],\n",
    "            )\n",
    "            self.y_train, self.y_test = (\n",
    "                self.y.iloc[train_index],\n",
    "                self.y.iloc[test_index],\n",
    "            )\n",
    "\n",
    "    def evaluate(self, subset):\n",
    "        if hasattr(self.estimator, \"pre_fit\"):\n",
    "            self.estimator.pre_fit(self.X_train, self.y_train, self.X_test, self.y_test)\n",
    "\n",
    "        # Fit the estimator using only the selected features from the training set\n",
    "        self.estimator.fit(self.X_train[subset], self.y_train)\n",
    "\n",
    "        # Generate predictions for the test set using the same subset of features\n",
    "        y_pred = self.estimator.predict(self.X_test[subset])\n",
    "\n",
    "        # Evaluate the predictions\n",
    "        return self.scorer(self.y_test, y_pred)"
   ]
  },
  {
   "cell_type": "code",
   "execution_count": 124,
   "id": "2975ebed-1b16-4c6a-b8ab-33035b331d20",
   "metadata": {},
   "outputs": [],
   "source": [
    "random_state = 43\n",
    "scorer = mean_absolute_percentage_error"
   ]
  },
  {
   "cell_type": "code",
   "execution_count": 125,
   "id": "3a1a93db-9758-4f93-b2de-fe1944b73ab0",
   "metadata": {},
   "outputs": [],
   "source": [
    "import lightgbm as lgb\n",
    "\n",
    "lgb_model = lgb.LGBMRegressor(n_estimators=100, n_jobs=-1, verbose=-100)"
   ]
  },
  {
   "cell_type": "code",
   "execution_count": 126,
   "id": "a3f98e0e-c9f5-45ba-87b4-d8161c4c2495",
   "metadata": {},
   "outputs": [],
   "source": [
    "from sklearn.pipeline import Pipeline\n",
    "# from category_encoders import MEstimateEncoder"
   ]
  },
  {
   "cell_type": "code",
   "execution_count": 127,
   "id": "877f560a-e3c1-4a79-8659-011ddfffb557",
   "metadata": {},
   "outputs": [],
   "source": [
    "# enc = MEstimateEncoder(cols=cat_cols)"
   ]
  },
  {
   "cell_type": "raw",
   "id": "65bee50a-e4cf-43e9-8a2c-960fc5442b02",
   "metadata": {},
   "source": [
    "pipe = Pipeline([(\"enc\", enc), (\"model\", lgb_model)])                "
   ]
  },
  {
   "cell_type": "code",
   "execution_count": 128,
   "id": "5a0bbcdf-d09b-4c4b-9a16-c23d3e6dc246",
   "metadata": {},
   "outputs": [],
   "source": [
    "import shap\n",
    "from sklearn.base import BaseEstimator\n",
    "\n",
    "import shap\n",
    "from sklearn.base import BaseEstimator\n",
    "from sklearn.ensemble import RandomForestRegressor\n",
    "\n",
    "\n",
    "class SHAPEstimator(BaseEstimator):  # TODO: change to ShapEstimator\n",
    "    def __init__(self, estimator, explainer=None):\n",
    "        self.estimator = estimator\n",
    "        self.shap_values = None\n",
    "        self.explainer = explainer\n",
    "        self.initial_fit = False\n",
    "\n",
    "    def pre_fit(self, X_train, y_train, X_test, y_test=None):\n",
    "        if self.initial_fit is False:\n",
    "            self.estimator.fit(X_train, y_train)\n",
    "            self.explainer = (\n",
    "                shap.Explainer(self.estimator)\n",
    "                if self.explainer is None\n",
    "                else self.explainer(self.estimator)\n",
    "            )\n",
    "            self.feature_names = X_test.columns\n",
    "            self.shap_values = self.explainer.shap_values(X_test)\n",
    "            self.shap_expected_value = self.explainer.expected_value\n",
    "            self.initial_fit = True\n",
    "\n",
    "    def fit(self, X, y):\n",
    "        pass\n",
    "\n",
    "    def predict(self, X):\n",
    "        # Find indices of X's columns in the original feature names\n",
    "        column_indices = [self.feature_names.get_loc(col) for col in X.columns]\n",
    "        # Subset the stored SHAP values using the indices\n",
    "        selected_shap_values = self.shap_values[:, column_indices]\n",
    "        # Sum the SHAP values across rows to get the prediction approximation\n",
    "        return self.shap_expected_value + selected_shap_values.sum(axis=1)\n",
    "\n",
    "\n",
    "from sklearn.base import BaseEstimator\n",
    "import numpy as np"
   ]
  },
  {
   "cell_type": "code",
   "execution_count": 129,
   "id": "99b7ed9e-154f-41da-a5d0-001c6e594d76",
   "metadata": {},
   "outputs": [],
   "source": [
    "class SKLearnEstimator(BaseEstimator):\n",
    "    def __init__(self, estimator):\n",
    "        self.estimator = estimator\n",
    "\n",
    "    def fit(self, X, y):\n",
    "        return self.estimator.fit(X_train, y_train)\n",
    "\n",
    "    def predict(self, X):\n",
    "        return self.estimator.predict(X)"
   ]
  },
  {
   "cell_type": "code",
   "execution_count": 130,
   "id": "9db9da8f-a557-47ac-be05-86acf37c3679",
   "metadata": {},
   "outputs": [],
   "source": [
    "from sklearn.model_selection import cross_val_score\n",
    "\n",
    "\n",
    "class CVSubsetEvaluator(SubsetEvaluator):\n",
    "    def __init__(self, X, y, estimator, scorer, cv, groups=None, random_state=None):\n",
    "        self.X = X\n",
    "        self.y = y\n",
    "        self.estimator = estimator\n",
    "        self.scorer = scorer\n",
    "        self.cv = cv\n",
    "        self.groups = groups\n",
    "        self.random_state = random_state\n",
    "\n",
    "    def evaluate(self, subset):\n",
    "        if hasattr(self.estimator, \"pre_fit\"):\n",
    "            self.estimator.pre_fit(self.X, self.y)\n",
    "\n",
    "        # Evaluate using cross-validation.\n",
    "        # The cross_val_score function takes care of splitting the data.\n",
    "        scores = cross_val_score(\n",
    "            self.estimator,\n",
    "            self.X[subset],\n",
    "            self.y,\n",
    "            scoring=self.scorer,\n",
    "            cv=self.cv,\n",
    "            groups=self.groups,\n",
    "            n_jobs=-1,\n",
    "        )\n",
    "\n",
    "        # You can return the mean score across all folds, or modify this to return a different summary statistic.\n",
    "        return scores.mean()"
   ]
  },
  {
   "cell_type": "code",
   "execution_count": 131,
   "id": "f9478277-a7fb-4bd1-8951-ce13f6b00b29",
   "metadata": {},
   "outputs": [],
   "source": [
    "estimator = SHAPEstimator(lgb_model, shap.TreeExplainer)"
   ]
  },
  {
   "cell_type": "code",
   "execution_count": 132,
   "id": "54ddebe7-806b-4ec0-a888-70e4a3eb009e",
   "metadata": {},
   "outputs": [],
   "source": [
    "from sklearn.metrics import make_scorer, mean_absolute_percentage_error"
   ]
  },
  {
   "cell_type": "code",
   "execution_count": 133,
   "id": "31bb888b-daac-427e-86f3-a9438e8b9032",
   "metadata": {},
   "outputs": [],
   "source": [
    "#mape_scorer = make_scorer(mean_absolute_percentage_error, greater_is_better=False)"
   ]
  },
  {
   "cell_type": "code",
   "execution_count": 134,
   "id": "e9624527-75fb-4bc7-baee-15bcd4c42bee",
   "metadata": {},
   "outputs": [],
   "source": [
    "cv = GroupKFold(n_splits=5)"
   ]
  },
  {
   "cell_type": "code",
   "execution_count": 135,
   "id": "9a4c41b4-9ba5-413b-b464-aef21b43d1ff",
   "metadata": {},
   "outputs": [],
   "source": [
    "evaluator = CVSubsetEvaluator(X_train, y_train, lgb_model, scorer, cv=5)"
   ]
  },
  {
   "cell_type": "code",
   "execution_count": 136,
   "id": "ef119b94",
   "metadata": {},
   "outputs": [],
   "source": [
    "evaluator = CVSubsetEvaluator(X_train, y_train, estimator, scorer, cv=5)"
   ]
  },
  {
   "cell_type": "code",
   "execution_count": 137,
   "id": "ded38c6b-948f-4d44-846a-7f9d36e7ce77",
   "metadata": {},
   "outputs": [],
   "source": [
    "evaluator = HoldOutSubsetEvaluator(\n",
    "    X_train, y_train, estimator, scorer, test_size=0.2, random_state=random_state\n",
    ")"
   ]
  },
  {
   "cell_type": "code",
   "execution_count": 138,
   "id": "0522bcbc-4d0c-416e-b7f0-73af683dfe3b",
   "metadata": {},
   "outputs": [],
   "source": [
    "subset_selector = RandomSubsetSelector(X_train.columns, random_state=random_state)\n",
    "sfs = SubsetFeatureSelector(subset_selector, evaluator, n_steps=10000, greater_is_better=False)"
   ]
  },
  {
   "cell_type": "code",
   "execution_count": 139,
   "id": "c3bcbc24",
   "metadata": {},
   "outputs": [
    {
     "name": "stdout",
     "output_type": "stream",
     "text": [
      "Best score so far: 0.3115337057404802\n",
      "Best score so far: 0.12873594177675515\n",
      "Best score so far: 0.10565014116140076\n",
      "Best score so far: 0.100804858610697\n",
      "Best score so far: 0.09516434816704127\n",
      "Best score so far: 0.09363921154461871\n",
      "Best score so far: 0.09121333871924954\n",
      "Best score so far: 0.09095148924394561\n",
      "Best score so far: 0.08999401463573788\n"
     ]
    },
    {
     "name": "stdout",
     "output_type": "stream",
     "text": [
      "Best score so far: 0.08993951441157716\n",
      "Best score so far: 0.08972281775396386\n",
      "Best score so far: 0.08952486318826629\n",
      "Best score so far: 0.08945524254952086\n",
      "Best score so far: 0.0891360520948491\n",
      "CPU times: user 6.04 s, sys: 2.07 s, total: 8.11 s\n",
      "Wall time: 7.76 s\n"
     ]
    },
    {
     "data": {
      "text/plain": [
       "(['1st Flr SF',\n",
       "  '2nd Flr SF',\n",
       "  '3Ssn Porch',\n",
       "  'Bsmt Full Bath',\n",
       "  'Bsmt Half Bath',\n",
       "  'BsmtFin SF 1',\n",
       "  'BsmtFin SF 2',\n",
       "  'Fireplaces',\n",
       "  'Full Bath',\n",
       "  'Garage Area',\n",
       "  'Garage Cars',\n",
       "  'Garage Yr Blt',\n",
       "  'Gr Liv Area',\n",
       "  'Half Bath',\n",
       "  'Kitchen AbvGr',\n",
       "  'Lot Area',\n",
       "  'Lot Frontage',\n",
       "  'Low Qual Fin SF',\n",
       "  'Misc Val',\n",
       "  'Mo Sold',\n",
       "  'Open Porch SF',\n",
       "  'Overall Cond',\n",
       "  'Overall Qual',\n",
       "  'PID',\n",
       "  'Screen Porch',\n",
       "  'TotRms AbvGrd',\n",
       "  'Total Bsmt SF',\n",
       "  'Wood Deck SF',\n",
       "  'Year Built',\n",
       "  'Year Remod/Add',\n",
       "  'Yr Sold'],\n",
       " 0.0891360520948491)"
      ]
     },
     "execution_count": 139,
     "metadata": {},
     "output_type": "execute_result"
    }
   ],
   "source": [
    "%%time\n",
    "sfs.find_optimal_subset()"
   ]
  },
  {
   "cell_type": "code",
   "execution_count": 140,
   "id": "9115298b",
   "metadata": {},
   "outputs": [],
   "source": [
    "subset = sfs.best_subset"
   ]
  },
  {
   "cell_type": "code",
   "execution_count": 141,
   "id": "e3ab7f56",
   "metadata": {},
   "outputs": [
    {
     "data": {
      "text/plain": [
       "0.10212960988732481"
      ]
     },
     "execution_count": 141,
     "metadata": {},
     "output_type": "execute_result"
    }
   ],
   "source": [
    "lgb_model.fit(X_train[subset], y_train)\n",
    "y_pred = lgb_model.predict(X_test[subset])\n",
    "scorer(y_test, y_pred)"
   ]
  },
  {
   "cell_type": "code",
   "execution_count": null,
   "id": "83d0bd1d",
   "metadata": {},
   "outputs": [],
   "source": [
    "import plotly.express as px"
   ]
  },
  {
   "cell_type": "code",
   "execution_count": null,
   "id": "99502625-c4a7-484d-9b55-9c76becc7fa5",
   "metadata": {},
   "outputs": [],
   "source": [
    "selector = sfs.subset_selector"
   ]
  },
  {
   "cell_type": "code",
   "execution_count": null,
   "id": "8da28b70",
   "metadata": {},
   "outputs": [
    {
     "data": {
      "image/png": "[encoded data removed]",
      "text/plain": [
       "<Figure size 1000x600 with 1 Axes>"
      ]
     },
     "metadata": {},
     "output_type": "display_data"
    }
   ],
   "source": [
    "import matplotlib.pyplot as plt\n",
    "\n",
    "# Assuming 'selector.performance_history' is a list of scores for each subset evaluated\n",
    "performance_history = selector.performance_history\n",
    "\n",
    "# Compute the best score up to each point in the history\n",
    "best_scores = [min(performance_history[:i+1]) for i in range(len(performance_history))]\n",
    "\n",
    "# Create the plot\n",
    "plt.figure(figsize=(10, 6))\n",
    "plt.plot(best_scores, label='Best Score', marker='o')\n",
    "plt.xlabel('Number of Evaluations')\n",
    "plt.ylabel('Best Score Achieved')\n",
    "plt.title('Improvement of Best Score Over Time')\n",
    "plt.legend()\n",
    "plt.grid(True)\n",
    "plt.show()\n"
   ]
  },
  {
   "cell_type": "code",
   "execution_count": null,
   "id": "70e9a614",
   "metadata": {},
   "outputs": [],
   "source": [
    "compare_subsample = 100\n",
    "performance_history = selector.performance_history[:compare_subsample]\n",
    "subsets_history = selector.subsets_history[:compare_subsample]\n",
    "subset_sizes = [len(subset) for subset in subsets_history]"
   ]
  },
  {
   "cell_type": "code",
   "execution_count": null,
   "id": "5f9c22d3-12cb-4c26-9be1-73f7e88988c2",
   "metadata": {},
   "outputs": [
    {
     "name": "stdout",
     "output_type": "stream",
     "text": [
      "CPU times: user 18 s, sys: 31.9 s, total: 49.8 s\n",
      "Wall time: 33.6 s\n"
     ]
    }
   ],
   "source": [
    "%%time\n",
    "true_scores = []\n",
    "for subset in subsets_history:\n",
    "    lgb_model.fit(X_train[subset], y_train)\n",
    "    y_pred = lgb_model.predict(X_test[subset])\n",
    "    true_scores.append(scorer(y_test, y_pred))"
   ]
  },
  {
   "cell_type": "code",
   "execution_count": null,
   "id": "e867f104",
   "metadata": {},
   "outputs": [],
   "source": [
    "df = pd.DataFrame({\"Predicted Score\" : performance_history, \"True Score\" : true_scores, \"Subset Size\" : subset_sizes})"
   ]
  },
  {
   "cell_type": "code",
   "execution_count": null,
   "id": "8ec499fb",
   "metadata": {},
   "outputs": [],
   "source": [
    "df = pd.DataFrame({\"Predicted Score\" : performance_history, \"True Score\" : true_scores, \"Subset Size\" : subset_sizes})\n",
    "df[\"Predicted Rank\"] = df[\"Predicted Score\"].rank(ascending=True, method='min')\n",
    "df[\"True Rank\"] = df[\"True Score\"].rank(ascending=True, method='min')"
   ]
  },
  {
   "cell_type": "code",
   "execution_count": null,
   "id": "4c0c1fa1",
   "metadata": {},
   "outputs": [
    {
     "data": {
      "application/vnd.plotly.v1+json": {
       "config": {
        "plotlyServerURL": "https://plot.ly"
       },
       "data": [
        {
         "hovertemplate": "Predicted Rank=%{x}<br>True Rank=%{y}<br>Subset Size=%{marker.size}<extra></extra>",
         "legendgroup": "",
         "marker": {
          "color": "#636efa",
          "size": [
           5,
           21,
           7,
           22,
           31,
           5,
           17,
           28,
           37,
           35,
           19,
           9,
           25,
           17,
           3,
           27,
           29,
           7,
           33,
           5,
           17,
           24,
           32,
           17,
           24,
           18,
           5,
           6,
           18,
           32,
           31,
           25,
           12,
           17,
           11,
           13,
           13,
           29,
           23,
           3,
           31,
           17,
           30,
           14,
           12,
           21,
           32,
           1,
           4,
           12,
           5,
           11,
           18,
           3,
           3,
           35,
           10,
           17,
           15,
           28,
           30,
           36,
           36,
           35,
           21,
           29,
           10,
           36,
           28,
           23,
           8,
           22,
           3,
           24,
           22,
           3,
           26,
           31,
           8,
           5,
           5,
           35,
           33,
           13,
           22,
           33,
           33,
           22,
           5,
           6,
           6,
           1,
           24,
           2,
           11,
           20,
           2,
           29,
           21,
           3
          ],
          "sizemode": "area",
          "sizeref": 0.0925,
          "symbol": "circle"
         },
         "mode": "markers",
         "name": "",
         "orientation": "v",
         "showlegend": false,
         "type": "scatter",
         "x": [
          75,
          30,
          91,
          59,
          19,
          77,
          64,
          14,
          10,
          50,
          35,
          74,
          17,
          41,
          89,
          58,
          16,
          85,
          51,
          94,
          29,
          36,
          25,
          65,
          57,
          38,
          48,
          84,
          39,
          18,
          49,
          66,
          88,
          46,
          70,
          79,
          69,
          32,
          33,
          96,
          8,
          63,
          56,
          73,
          52,
          45,
          13,
          86,
          81,
          67,
          54,
          78,
          31,
          99,
          92,
          11,
          76,
          60,
          43,
          15,
          55,
          2,
          3,
          1,
          44,
          12,
          37,
          5,
          9,
          34,
          72,
          62,
          98,
          42,
          26,
          97,
          28,
          20,
          68,
          87,
          82,
          6,
          7,
          71,
          23,
          24,
          4,
          40,
          93,
          53,
          83,
          100,
          22,
          95,
          61,
          47,
          90,
          27,
          21,
          80
         ],
         "xaxis": "x",
         "y": [
          80,
          41,
          90,
          47,
          33,
          79,
          34,
          27,
          1,
          32,
          29,
          71,
          42,
          63,
          91,
          45,
          10,
          83,
          14,
          87,
          30,
          15,
          12,
          53,
          11,
          54,
          69,
          89,
          52,
          19,
          3,
          31,
          82,
          35,
          78,
          67,
          59,
          26,
          49,
          94,
          6,
          60,
          37,
          74,
          75,
          56,
          38,
          95,
          86,
          66,
          72,
          70,
          20,
          100,
          92,
          9,
          68,
          58,
          61,
          21,
          23,
          7,
          13,
          24,
          57,
          18,
          50,
          5,
          16,
          28,
          77,
          44,
          97,
          51,
          39,
          98,
          48,
          25,
          65,
          88,
          81,
          2,
          22,
          62,
          36,
          8,
          4,
          40,
          85,
          73,
          84,
          96,
          43,
          99,
          64,
          55,
          93,
          17,
          46,
          76
         ],
         "yaxis": "y"
        }
       ],
       "layout": {
        "legend": {
         "itemsizing": "constant",
         "tracegroupgap": 0
        },
        "margin": {
         "t": 60
        },
        "template": {
         "data": {
          "bar": [
           {
            "error_x": {
             "color": "#2a3f5f"
            },
            "error_y": {
             "color": "#2a3f5f"
            },
            "marker": {
             "line": {
              "color": "#E5ECF6",
              "width": 0.5
             },
             "pattern": {
              "fillmode": "overlay",
              "size": 10,
              "solidity": 0.2
             }
            },
            "type": "bar"
           }
          ],
          "barpolar": [
           {
            "marker": {
             "line": {
              "color": "#E5ECF6",
              "width": 0.5
             },
             "pattern": {
              "fillmode": "overlay",
              "size": 10,
              "solidity": 0.2
             }
            },
            "type": "barpolar"
           }
          ],
          "carpet": [
           {
            "aaxis": {
             "endlinecolor": "#2a3f5f",
             "gridcolor": "white",
             "linecolor": "white",
             "minorgridcolor": "white",
             "startlinecolor": "#2a3f5f"
            },
            "baxis": {
             "endlinecolor": "#2a3f5f",
             "gridcolor": "white",
             "linecolor": "white",
             "minorgridcolor": "white",
             "startlinecolor": "#2a3f5f"
            },
            "type": "carpet"
           }
          ],
          "choropleth": [
           {
            "colorbar": {
             "outlinewidth": 0,
             "ticks": ""
            },
            "type": "choropleth"
           }
          ],
          "contour": [
           {
            "colorbar": {
             "outlinewidth": 0,
             "ticks": ""
            },
            "colorscale": [
             [
              0,
              "#0d0887"
             ],
             [
              0.1111111111111111,
              "#46039f"
             ],
             [
              0.2222222222222222,
              "#7201a8"
             ],
             [
              0.3333333333333333,
              "#9c179e"
             ],
             [
              0.4444444444444444,
              "#bd3786"
             ],
             [
              0.5555555555555556,
              "#d8576b"
             ],
             [
              0.6666666666666666,
              "#ed7953"
             ],
             [
              0.7777777777777778,
              "#fb9f3a"
             ],
             [
              0.8888888888888888,
              "#fdca26"
             ],
             [
              1,
              "#f0f921"
             ]
            ],
            "type": "contour"
           }
          ],
          "contourcarpet": [
           {
            "colorbar": {
             "outlinewidth": 0,
             "ticks": ""
            },
            "type": "contourcarpet"
           }
          ],
          "heatmap": [
           {
            "colorbar": {
             "outlinewidth": 0,
             "ticks": ""
            },
            "colorscale": [
             [
              0,
              "#0d0887"
             ],
             [
              0.1111111111111111,
              "#46039f"
             ],
             [
              0.2222222222222222,
              "#7201a8"
             ],
             [
              0.3333333333333333,
              "#9c179e"
             ],
             [
              0.4444444444444444,
              "#bd3786"
             ],
             [
              0.5555555555555556,
              "#d8576b"
             ],
             [
              0.6666666666666666,
              "#ed7953"
             ],
             [
              0.7777777777777778,
              "#fb9f3a"
             ],
             [
              0.8888888888888888,
              "#fdca26"
             ],
             [
              1,
              "#f0f921"
             ]
            ],
            "type": "heatmap"
           }
          ],
          "heatmapgl": [
           {
            "colorbar": {
             "outlinewidth": 0,
             "ticks": ""
            },
            "colorscale": [
             [
              0,
              "#0d0887"
             ],
             [
              0.1111111111111111,
              "#46039f"
             ],
             [
              0.2222222222222222,
              "#7201a8"
             ],
             [
              0.3333333333333333,
              "#9c179e"
             ],
             [
              0.4444444444444444,
              "#bd3786"
             ],
             [
              0.5555555555555556,
              "#d8576b"
             ],
             [
              0.6666666666666666,
              "#ed7953"
             ],
             [
              0.7777777777777778,
              "#fb9f3a"
             ],
             [
              0.8888888888888888,
              "#fdca26"
             ],
             [
              1,
              "#f0f921"
             ]
            ],
            "type": "heatmapgl"
           }
          ],
          "histogram": [
           {
            "marker": {
             "pattern": {
              "fillmode": "overlay",
              "size": 10,
              "solidity": 0.2
             }
            },
            "type": "histogram"
           }
          ],
          "histogram2d": [
           {
            "colorbar": {
             "outlinewidth": 0,
             "ticks": ""
            },
            "colorscale": [
             [
              0,
              "#0d0887"
             ],
             [
              0.1111111111111111,
              "#46039f"
             ],
             [
              0.2222222222222222,
              "#7201a8"
             ],
             [
              0.3333333333333333,
              "#9c179e"
             ],
             [
              0.4444444444444444,
              "#bd3786"
             ],
             [
              0.5555555555555556,
              "#d8576b"
             ],
             [
              0.6666666666666666,
              "#ed7953"
             ],
             [
              0.7777777777777778,
              "#fb9f3a"
             ],
             [
              0.8888888888888888,
              "#fdca26"
             ],
             [
              1,
              "#f0f921"
             ]
            ],
            "type": "histogram2d"
           }
          ],
          "histogram2dcontour": [
           {
            "colorbar": {
             "outlinewidth": 0,
             "ticks": ""
            },
            "colorscale": [
             [
              0,
              "#0d0887"
             ],
             [
              0.1111111111111111,
              "#46039f"
             ],
             [
              0.2222222222222222,
              "#7201a8"
             ],
             [
              0.3333333333333333,
              "#9c179e"
             ],
             [
              0.4444444444444444,
              "#bd3786"
             ],
             [
              0.5555555555555556,
              "#d8576b"
             ],
             [
              0.6666666666666666,
              "#ed7953"
             ],
             [
              0.7777777777777778,
              "#fb9f3a"
             ],
             [
              0.8888888888888888,
              "#fdca26"
             ],
             [
              1,
              "#f0f921"
             ]
            ],
            "type": "histogram2dcontour"
           }
          ],
          "mesh3d": [
           {
            "colorbar": {
             "outlinewidth": 0,
             "ticks": ""
            },
            "type": "mesh3d"
           }
          ],
          "parcoords": [
           {
            "line": {
             "colorbar": {
              "outlinewidth": 0,
              "ticks": ""
             }
            },
            "type": "parcoords"
           }
          ],
          "pie": [
           {
            "automargin": true,
            "type": "pie"
           }
          ],
          "scatter": [
           {
            "fillpattern": {
             "fillmode": "overlay",
             "size": 10,
             "solidity": 0.2
            },
            "type": "scatter"
           }
          ],
          "scatter3d": [
           {
            "line": {
             "colorbar": {
              "outlinewidth": 0,
              "ticks": ""
             }
            },
            "marker": {
             "colorbar": {
              "outlinewidth": 0,
              "ticks": ""
             }
            },
            "type": "scatter3d"
           }
          ],
          "scattercarpet": [
           {
            "marker": {
             "colorbar": {
              "outlinewidth": 0,
              "ticks": ""
             }
            },
            "type": "scattercarpet"
           }
          ],
          "scattergeo": [
           {
            "marker": {
             "colorbar": {
              "outlinewidth": 0,
              "ticks": ""
             }
            },
            "type": "scattergeo"
           }
          ],
          "scattergl": [
           {
            "marker": {
             "colorbar": {
              "outlinewidth": 0,
              "ticks": ""
             }
            },
            "type": "scattergl"
           }
          ],
          "scattermapbox": [
           {
            "marker": {
             "colorbar": {
              "outlinewidth": 0,
              "ticks": ""
             }
            },
            "type": "scattermapbox"
           }
          ],
          "scatterpolar": [
           {
            "marker": {
             "colorbar": {
              "outlinewidth": 0,
              "ticks": ""
             }
            },
            "type": "scatterpolar"
           }
          ],
          "scatterpolargl": [
           {
            "marker": {
             "colorbar": {
              "outlinewidth": 0,
              "ticks": ""
             }
            },
            "type": "scatterpolargl"
           }
          ],
          "scatterternary": [
           {
            "marker": {
             "colorbar": {
              "outlinewidth": 0,
              "ticks": ""
             }
            },
            "type": "scatterternary"
           }
          ],
          "surface": [
           {
            "colorbar": {
             "outlinewidth": 0,
             "ticks": ""
            },
            "colorscale": [
             [
              0,
              "#0d0887"
             ],
             [
              0.1111111111111111,
              "#46039f"
             ],
             [
              0.2222222222222222,
              "#7201a8"
             ],
             [
              0.3333333333333333,
              "#9c179e"
             ],
             [
              0.4444444444444444,
              "#bd3786"
             ],
             [
              0.5555555555555556,
              "#d8576b"
             ],
             [
              0.6666666666666666,
              "#ed7953"
             ],
             [
              0.7777777777777778,
              "#fb9f3a"
             ],
             [
              0.8888888888888888,
              "#fdca26"
             ],
             [
              1,
              "#f0f921"
             ]
            ],
            "type": "surface"
           }
          ],
          "table": [
           {
            "cells": {
             "fill": {
              "color": "#EBF0F8"
             },
             "line": {
              "color": "white"
             }
            },
            "header": {
             "fill": {
              "color": "#C8D4E3"
             },
             "line": {
              "color": "white"
             }
            },
            "type": "table"
           }
          ]
         },
         "layout": {
          "annotationdefaults": {
           "arrowcolor": "#2a3f5f",
           "arrowhead": 0,
           "arrowwidth": 1
          },
          "autotypenumbers": "strict",
          "coloraxis": {
           "colorbar": {
            "outlinewidth": 0,
            "ticks": ""
           }
          },
          "colorscale": {
           "diverging": [
            [
             0,
             "#8e0152"
            ],
            [
             0.1,
             "#c51b7d"
            ],
            [
             0.2,
             "#de77ae"
            ],
            [
             0.3,
             "#f1b6da"
            ],
            [
             0.4,
             "#fde0ef"
            ],
            [
             0.5,
             "#f7f7f7"
            ],
            [
             0.6,
             "#e6f5d0"
            ],
            [
             0.7,
             "#b8e186"
            ],
            [
             0.8,
             "#7fbc41"
            ],
            [
             0.9,
             "#4d9221"
            ],
            [
             1,
             "#276419"
            ]
           ],
           "sequential": [
            [
             0,
             "#0d0887"
            ],
            [
             0.1111111111111111,
             "#46039f"
            ],
            [
             0.2222222222222222,
             "#7201a8"
            ],
            [
             0.3333333333333333,
             "#9c179e"
            ],
            [
             0.4444444444444444,
             "#bd3786"
            ],
            [
             0.5555555555555556,
             "#d8576b"
            ],
            [
             0.6666666666666666,
             "#ed7953"
            ],
            [
             0.7777777777777778,
             "#fb9f3a"
            ],
            [
             0.8888888888888888,
             "#fdca26"
            ],
            [
             1,
             "#f0f921"
            ]
           ],
           "sequentialminus": [
            [
             0,
             "#0d0887"
            ],
            [
             0.1111111111111111,
             "#46039f"
            ],
            [
             0.2222222222222222,
             "#7201a8"
            ],
            [
             0.3333333333333333,
             "#9c179e"
            ],
            [
             0.4444444444444444,
             "#bd3786"
            ],
            [
             0.5555555555555556,
             "#d8576b"
            ],
            [
             0.6666666666666666,
             "#ed7953"
            ],
            [
             0.7777777777777778,
             "#fb9f3a"
            ],
            [
             0.8888888888888888,
             "#fdca26"
            ],
            [
             1,
             "#f0f921"
            ]
           ]
          },
          "colorway": [
           "#636efa",
           "#EF553B",
           "#00cc96",
           "#ab63fa",
           "#FFA15A",
           "#19d3f3",
           "#FF6692",
           "#B6E880",
           "#FF97FF",
           "#FECB52"
          ],
          "font": {
           "color": "#2a3f5f"
          },
          "geo": {
           "bgcolor": "white",
           "lakecolor": "white",
           "landcolor": "#E5ECF6",
           "showlakes": true,
           "showland": true,
           "subunitcolor": "white"
          },
          "hoverlabel": {
           "align": "left"
          },
          "hovermode": "closest",
          "mapbox": {
           "style": "light"
          },
          "paper_bgcolor": "white",
          "plot_bgcolor": "#E5ECF6",
          "polar": {
           "angularaxis": {
            "gridcolor": "white",
            "linecolor": "white",
            "ticks": ""
           },
           "bgcolor": "#E5ECF6",
           "radialaxis": {
            "gridcolor": "white",
            "linecolor": "white",
            "ticks": ""
           }
          },
          "scene": {
           "xaxis": {
            "backgroundcolor": "#E5ECF6",
            "gridcolor": "white",
            "gridwidth": 2,
            "linecolor": "white",
            "showbackground": true,
            "ticks": "",
            "zerolinecolor": "white"
           },
           "yaxis": {
            "backgroundcolor": "#E5ECF6",
            "gridcolor": "white",
            "gridwidth": 2,
            "linecolor": "white",
            "showbackground": true,
            "ticks": "",
            "zerolinecolor": "white"
           },
           "zaxis": {
            "backgroundcolor": "#E5ECF6",
            "gridcolor": "white",
            "gridwidth": 2,
            "linecolor": "white",
            "showbackground": true,
            "ticks": "",
            "zerolinecolor": "white"
           }
          },
          "shapedefaults": {
           "line": {
            "color": "#2a3f5f"
           }
          },
          "ternary": {
           "aaxis": {
            "gridcolor": "white",
            "linecolor": "white",
            "ticks": ""
           },
           "baxis": {
            "gridcolor": "white",
            "linecolor": "white",
            "ticks": ""
           },
           "bgcolor": "#E5ECF6",
           "caxis": {
            "gridcolor": "white",
            "linecolor": "white",
            "ticks": ""
           }
          },
          "title": {
           "x": 0.05
          },
          "xaxis": {
           "automargin": true,
           "gridcolor": "white",
           "linecolor": "white",
           "ticks": "",
           "title": {
            "standoff": 15
           },
           "zerolinecolor": "white",
           "zerolinewidth": 2
          },
          "yaxis": {
           "automargin": true,
           "gridcolor": "white",
           "linecolor": "white",
           "ticks": "",
           "title": {
            "standoff": 15
           },
           "zerolinecolor": "white",
           "zerolinewidth": 2
          }
         }
        },
        "xaxis": {
         "anchor": "y",
         "domain": [
          0,
          1
         ],
         "title": {
          "text": "Predicted Rank"
         }
        },
        "yaxis": {
         "anchor": "x",
         "domain": [
          0,
          1
         ],
         "title": {
          "text": "True Rank"
         }
        }
       }
      }
     },
     "metadata": {},
     "output_type": "display_data"
    }
   ],
   "source": [
    "px.scatter(df, x=\"Predicted Rank\", y=\"True Rank\", size=\"Subset Size\")"
   ]
  },
  {
   "cell_type": "code",
   "execution_count": null,
   "id": "5fbbea84-67cd-4fd8-88f2-d427f5b603e6",
   "metadata": {},
   "outputs": [
    {
     "data": {
      "application/vnd.plotly.v1+json": {
       "config": {
        "plotlyServerURL": "https://plot.ly"
       },
       "data": [
        {
         "hovertemplate": "Predicted Score=%{x}<br>True Score=%{y}<br>Subset Size=%{marker.size}<extra></extra>",
         "legendgroup": "",
         "marker": {
          "color": "#636efa",
          "size": [
           5,
           21,
           7,
           22,
           31,
           5,
           17,
           28,
           37,
           35,
           19,
           9,
           25,
           17,
           3,
           27,
           29,
           7,
           33,
           5,
           17,
           24,
           32,
           17,
           24,
           18,
           5,
           6,
           18,
           32,
           31,
           25,
           12,
           17,
           11,
           13,
           13,
           29,
           23,
           3,
           31,
           17,
           30,
           14,
           12,
           21,
           32,
           1,
           4,
           12,
           5,
           11,
           18,
           3,
           3,
           35,
           10,
           17,
           15,
           28,
           30,
           36,
           36,
           35,
           21,
           29,
           10,
           36,
           28,
           23,
           8,
           22,
           3,
           24,
           22,
           3,
           26,
           31,
           8,
           5,
           5,
           35,
           33,
           13,
           22,
           33,
           33,
           22,
           5,
           6,
           6,
           1,
           24,
           2,
           11,
           20,
           2,
           29,
           21,
           3
          ],
          "sizemode": "area",
          "sizeref": 0.0925,
          "symbol": "circle"
         },
         "mode": "markers",
         "name": "",
         "orientation": "v",
         "showlegend": false,
         "type": "scatter",
         "x": [
          0.3115337057404802,
          0.12873594177675515,
          0.342729260167896,
          0.260973182630909,
          0.10565014116140076,
          0.3142332679478309,
          0.2719612063532996,
          0.100804858610697,
          0.09516434816704127,
          0.19668324406574736,
          0.14803394799081887,
          0.3115045821991179,
          0.1029089464002175,
          0.16489029396725677,
          0.3399414233388699,
          0.24921533507400065,
          0.10269991807762041,
          0.33368333868932953,
          0.19947960963079672,
          0.34540851972469955,
          0.12775473960990322,
          0.15001721594773088,
          0.1207438688357396,
          0.2728116187284476,
          0.24804074135110196,
          0.15757196040206792,
          0.1890252864185712,
          0.32982832317676697,
          0.15849751066123033,
          0.10363609685621455,
          0.19497557303296667,
          0.2733638124708742,
          0.33547118568384965,
          0.17328933634587568,
          0.29591996629153394,
          0.3211069714256397,
          0.28509461354911236,
          0.13821269744061965,
          0.14390865047437956,
          0.3533243182150272,
          0.09363921154461871,
          0.26805540877629963,
          0.2384715805465701,
          0.31060603173146417,
          0.20933372391867927,
          0.17269505645532476,
          0.09682335865049582,
          0.3348608793324093,
          0.32712737761949423,
          0.27940128523654173,
          0.21510862030156663,
          0.3208550437376046,
          0.13019109197670126,
          0.3564407890973244,
          0.3428472140805389,
          0.09551521197821575,
          0.31203244390680257,
          0.26156780183889716,
          0.1689877143205569,
          0.10120747235308673,
          0.22673190686610717,
          0.09121333871924954,
          0.09128490364449093,
          0.09095148924394561,
          0.17258510428153512,
          0.09681682888985055,
          0.15171352379892952,
          0.09162444232378286,
          0.0950065181341097,
          0.14448992906752106,
          0.308905285759018,
          0.2665317458920771,
          0.35642994344596374,
          0.16643380481739586,
          0.12079051766330044,
          0.35603446121859417,
          0.12466220224277462,
          0.10785941836340028,
          0.284694708631295,
          0.3353659501790681,
          0.3292502566997306,
          0.09185060852316455,
          0.09304215957253661,
          0.304569070873507,
          0.1179156915252943,
          0.11932575834399639,
          0.09152309321071715,
          0.15963431144587692,
          0.3453529036929556,
          0.2099995450501915,
          0.3294655199991636,
          0.35647589556764486,
          0.1144667796930938,
          0.3519212140140612,
          0.2648883226415528,
          0.18372754452686696,
          0.3418933714423273,
          0.12207232313426997,
          0.11189011114542687,
          0.32242120408280023
         ],
         "xaxis": "x",
         "y": [
          0.15992356308390443,
          0.10794804681603536,
          0.2376292642846652,
          0.11216434442817239,
          0.10602516063221946,
          0.15947106358868968,
          0.10602905572854182,
          0.10414958305238606,
          0.09903057332830546,
          0.10500897777791306,
          0.10454645768471257,
          0.15004623418434493,
          0.10826307582951353,
          0.12929012554161376,
          0.2376896537818558,
          0.11047572871290298,
          0.10102111906105832,
          0.17875072917777868,
          0.10152695474349586,
          0.2056151123088634,
          0.10477680978693248,
          0.10179299126232498,
          0.10114255094906588,
          0.11742084228358422,
          0.1011279188483565,
          0.11991955079957557,
          0.14639297513677715,
          0.21612399783347758,
          0.11582007594498589,
          0.10237624709458785,
          0.0997776071713949,
          0.10482858025606938,
          0.1782660026103796,
          0.10629193543687708,
          0.15782144185771266,
          0.13648749291230172,
          0.12735723590637188,
          0.10388932095817383,
          0.11450380084481745,
          0.2589500904835921,
          0.10074010808527376,
          0.12787343003613397,
          0.10716665853598072,
          0.15388858244496573,
          0.15541441338092948,
          0.12354016981659433,
          0.10733191194154842,
          0.26643368830159825,
          0.20066576427867305,
          0.13479659675504466,
          0.15206834047341616,
          0.1479042675690226,
          0.10267647321429976,
          0.37237689595405987,
          0.23864037034164826,
          0.10090744101199826,
          0.1437447439664606,
          0.12678552972207904,
          0.12853849572553677,
          0.10284475256428892,
          0.10307228708589673,
          0.10083698323803995,
          0.10131345211127415,
          0.10309829759207448,
          0.1259531067459547,
          0.1021805392526587,
          0.11477469240658073,
          0.1006932587939211,
          0.10180479063243006,
          0.10442504007009183,
          0.1575114386895681,
          0.10992596771816161,
          0.31129989627774424,
          0.1153923739831647,
          0.10741147663097395,
          0.3294595473964504,
          0.11225454511202095,
          0.10335800639400983,
          0.13377265599411506,
          0.20670712376117212,
          0.166294243419769,
          0.09957433348203014,
          0.10307082982569236,
          0.1288147737985308,
          0.1070216304969339,
          0.10086746016163597,
          0.10037597169319736,
          0.10746120326221803,
          0.1985628488595304,
          0.1536609475856142,
          0.18947237017670038,
          0.3059864489201685,
          0.1084584756723548,
          0.32992933871354835,
          0.1308959160047385,
          0.12291735885199273,
          0.25675223044569806,
          0.1019987061111871,
          0.11177101859835702,
          0.15682691156748255
         ],
         "yaxis": "y"
        }
       ],
       "layout": {
        "legend": {
         "itemsizing": "constant",
         "tracegroupgap": 0
        },
        "margin": {
         "t": 60
        },
        "template": {
         "data": {
          "bar": [
           {
            "error_x": {
             "color": "#2a3f5f"
            },
            "error_y": {
             "color": "#2a3f5f"
            },
            "marker": {
             "line": {
              "color": "#E5ECF6",
              "width": 0.5
             },
             "pattern": {
              "fillmode": "overlay",
              "size": 10,
              "solidity": 0.2
             }
            },
            "type": "bar"
           }
          ],
          "barpolar": [
           {
            "marker": {
             "line": {
              "color": "#E5ECF6",
              "width": 0.5
             },
             "pattern": {
              "fillmode": "overlay",
              "size": 10,
              "solidity": 0.2
             }
            },
            "type": "barpolar"
           }
          ],
          "carpet": [
           {
            "aaxis": {
             "endlinecolor": "#2a3f5f",
             "gridcolor": "white",
             "linecolor": "white",
             "minorgridcolor": "white",
             "startlinecolor": "#2a3f5f"
            },
            "baxis": {
             "endlinecolor": "#2a3f5f",
             "gridcolor": "white",
             "linecolor": "white",
             "minorgridcolor": "white",
             "startlinecolor": "#2a3f5f"
            },
            "type": "carpet"
           }
          ],
          "choropleth": [
           {
            "colorbar": {
             "outlinewidth": 0,
             "ticks": ""
            },
            "type": "choropleth"
           }
          ],
          "contour": [
           {
            "colorbar": {
             "outlinewidth": 0,
             "ticks": ""
            },
            "colorscale": [
             [
              0,
              "#0d0887"
             ],
             [
              0.1111111111111111,
              "#46039f"
             ],
             [
              0.2222222222222222,
              "#7201a8"
             ],
             [
              0.3333333333333333,
              "#9c179e"
             ],
             [
              0.4444444444444444,
              "#bd3786"
             ],
             [
              0.5555555555555556,
              "#d8576b"
             ],
             [
              0.6666666666666666,
              "#ed7953"
             ],
             [
              0.7777777777777778,
              "#fb9f3a"
             ],
             [
              0.8888888888888888,
              "#fdca26"
             ],
             [
              1,
              "#f0f921"
             ]
            ],
            "type": "contour"
           }
          ],
          "contourcarpet": [
           {
            "colorbar": {
             "outlinewidth": 0,
             "ticks": ""
            },
            "type": "contourcarpet"
           }
          ],
          "heatmap": [
           {
            "colorbar": {
             "outlinewidth": 0,
             "ticks": ""
            },
            "colorscale": [
             [
              0,
              "#0d0887"
             ],
             [
              0.1111111111111111,
              "#46039f"
             ],
             [
              0.2222222222222222,
              "#7201a8"
             ],
             [
              0.3333333333333333,
              "#9c179e"
             ],
             [
              0.4444444444444444,
              "#bd3786"
             ],
             [
              0.5555555555555556,
              "#d8576b"
             ],
             [
              0.6666666666666666,
              "#ed7953"
             ],
             [
              0.7777777777777778,
              "#fb9f3a"
             ],
             [
              0.8888888888888888,
              "#fdca26"
             ],
             [
              1,
              "#f0f921"
             ]
            ],
            "type": "heatmap"
           }
          ],
          "heatmapgl": [
           {
            "colorbar": {
             "outlinewidth": 0,
             "ticks": ""
            },
            "colorscale": [
             [
              0,
              "#0d0887"
             ],
             [
              0.1111111111111111,
              "#46039f"
             ],
             [
              0.2222222222222222,
              "#7201a8"
             ],
             [
              0.3333333333333333,
              "#9c179e"
             ],
             [
              0.4444444444444444,
              "#bd3786"
             ],
             [
              0.5555555555555556,
              "#d8576b"
             ],
             [
              0.6666666666666666,
              "#ed7953"
             ],
             [
              0.7777777777777778,
              "#fb9f3a"
             ],
             [
              0.8888888888888888,
              "#fdca26"
             ],
             [
              1,
              "#f0f921"
             ]
            ],
            "type": "heatmapgl"
           }
          ],
          "histogram": [
           {
            "marker": {
             "pattern": {
              "fillmode": "overlay",
              "size": 10,
              "solidity": 0.2
             }
            },
            "type": "histogram"
           }
          ],
          "histogram2d": [
           {
            "colorbar": {
             "outlinewidth": 0,
             "ticks": ""
            },
            "colorscale": [
             [
              0,
              "#0d0887"
             ],
             [
              0.1111111111111111,
              "#46039f"
             ],
             [
              0.2222222222222222,
              "#7201a8"
             ],
             [
              0.3333333333333333,
              "#9c179e"
             ],
             [
              0.4444444444444444,
              "#bd3786"
             ],
             [
              0.5555555555555556,
              "#d8576b"
             ],
             [
              0.6666666666666666,
              "#ed7953"
             ],
             [
              0.7777777777777778,
              "#fb9f3a"
             ],
             [
              0.8888888888888888,
              "#fdca26"
             ],
             [
              1,
              "#f0f921"
             ]
            ],
            "type": "histogram2d"
           }
          ],
          "histogram2dcontour": [
           {
            "colorbar": {
             "outlinewidth": 0,
             "ticks": ""
            },
            "colorscale": [
             [
              0,
              "#0d0887"
             ],
             [
              0.1111111111111111,
              "#46039f"
             ],
             [
              0.2222222222222222,
              "#7201a8"
             ],
             [
              0.3333333333333333,
              "#9c179e"
             ],
             [
              0.4444444444444444,
              "#bd3786"
             ],
             [
              0.5555555555555556,
              "#d8576b"
             ],
             [
              0.6666666666666666,
              "#ed7953"
             ],
             [
              0.7777777777777778,
              "#fb9f3a"
             ],
             [
              0.8888888888888888,
              "#fdca26"
             ],
             [
              1,
              "#f0f921"
             ]
            ],
            "type": "histogram2dcontour"
           }
          ],
          "mesh3d": [
           {
            "colorbar": {
             "outlinewidth": 0,
             "ticks": ""
            },
            "type": "mesh3d"
           }
          ],
          "parcoords": [
           {
            "line": {
             "colorbar": {
              "outlinewidth": 0,
              "ticks": ""
             }
            },
            "type": "parcoords"
           }
          ],
          "pie": [
           {
            "automargin": true,
            "type": "pie"
           }
          ],
          "scatter": [
           {
            "fillpattern": {
             "fillmode": "overlay",
             "size": 10,
             "solidity": 0.2
            },
            "type": "scatter"
           }
          ],
          "scatter3d": [
           {
            "line": {
             "colorbar": {
              "outlinewidth": 0,
              "ticks": ""
             }
            },
            "marker": {
             "colorbar": {
              "outlinewidth": 0,
              "ticks": ""
             }
            },
            "type": "scatter3d"
           }
          ],
          "scattercarpet": [
           {
            "marker": {
             "colorbar": {
              "outlinewidth": 0,
              "ticks": ""
             }
            },
            "type": "scattercarpet"
           }
          ],
          "scattergeo": [
           {
            "marker": {
             "colorbar": {
              "outlinewidth": 0,
              "ticks": ""
             }
            },
            "type": "scattergeo"
           }
          ],
          "scattergl": [
           {
            "marker": {
             "colorbar": {
              "outlinewidth": 0,
              "ticks": ""
             }
            },
            "type": "scattergl"
           }
          ],
          "scattermapbox": [
           {
            "marker": {
             "colorbar": {
              "outlinewidth": 0,
              "ticks": ""
             }
            },
            "type": "scattermapbox"
           }
          ],
          "scatterpolar": [
           {
            "marker": {
             "colorbar": {
              "outlinewidth": 0,
              "ticks": ""
             }
            },
            "type": "scatterpolar"
           }
          ],
          "scatterpolargl": [
           {
            "marker": {
             "colorbar": {
              "outlinewidth": 0,
              "ticks": ""
             }
            },
            "type": "scatterpolargl"
           }
          ],
          "scatterternary": [
           {
            "marker": {
             "colorbar": {
              "outlinewidth": 0,
              "ticks": ""
             }
            },
            "type": "scatterternary"
           }
          ],
          "surface": [
           {
            "colorbar": {
             "outlinewidth": 0,
             "ticks": ""
            },
            "colorscale": [
             [
              0,
              "#0d0887"
             ],
             [
              0.1111111111111111,
              "#46039f"
             ],
             [
              0.2222222222222222,
              "#7201a8"
             ],
             [
              0.3333333333333333,
              "#9c179e"
             ],
             [
              0.4444444444444444,
              "#bd3786"
             ],
             [
              0.5555555555555556,
              "#d8576b"
             ],
             [
              0.6666666666666666,
              "#ed7953"
             ],
             [
              0.7777777777777778,
              "#fb9f3a"
             ],
             [
              0.8888888888888888,
              "#fdca26"
             ],
             [
              1,
              "#f0f921"
             ]
            ],
            "type": "surface"
           }
          ],
          "table": [
           {
            "cells": {
             "fill": {
              "color": "#EBF0F8"
             },
             "line": {
              "color": "white"
             }
            },
            "header": {
             "fill": {
              "color": "#C8D4E3"
             },
             "line": {
              "color": "white"
             }
            },
            "type": "table"
           }
          ]
         },
         "layout": {
          "annotationdefaults": {
           "arrowcolor": "#2a3f5f",
           "arrowhead": 0,
           "arrowwidth": 1
          },
          "autotypenumbers": "strict",
          "coloraxis": {
           "colorbar": {
            "outlinewidth": 0,
            "ticks": ""
           }
          },
          "colorscale": {
           "diverging": [
            [
             0,
             "#8e0152"
            ],
            [
             0.1,
             "#c51b7d"
            ],
            [
             0.2,
             "#de77ae"
            ],
            [
             0.3,
             "#f1b6da"
            ],
            [
             0.4,
             "#fde0ef"
            ],
            [
             0.5,
             "#f7f7f7"
            ],
            [
             0.6,
             "#e6f5d0"
            ],
            [
             0.7,
             "#b8e186"
            ],
            [
             0.8,
             "#7fbc41"
            ],
            [
             0.9,
             "#4d9221"
            ],
            [
             1,
             "#276419"
            ]
           ],
           "sequential": [
            [
             0,
             "#0d0887"
            ],
            [
             0.1111111111111111,
             "#46039f"
            ],
            [
             0.2222222222222222,
             "#7201a8"
            ],
            [
             0.3333333333333333,
             "#9c179e"
            ],
            [
             0.4444444444444444,
             "#bd3786"
            ],
            [
             0.5555555555555556,
             "#d8576b"
            ],
            [
             0.6666666666666666,
             "#ed7953"
            ],
            [
             0.7777777777777778,
             "#fb9f3a"
            ],
            [
             0.8888888888888888,
             "#fdca26"
            ],
            [
             1,
             "#f0f921"
            ]
           ],
           "sequentialminus": [
            [
             0,
             "#0d0887"
            ],
            [
             0.1111111111111111,
             "#46039f"
            ],
            [
             0.2222222222222222,
             "#7201a8"
            ],
            [
             0.3333333333333333,
             "#9c179e"
            ],
            [
             0.4444444444444444,
             "#bd3786"
            ],
            [
             0.5555555555555556,
             "#d8576b"
            ],
            [
             0.6666666666666666,
             "#ed7953"
            ],
            [
             0.7777777777777778,
             "#fb9f3a"
            ],
            [
             0.8888888888888888,
             "#fdca26"
            ],
            [
             1,
             "#f0f921"
            ]
           ]
          },
          "colorway": [
           "#636efa",
           "#EF553B",
           "#00cc96",
           "#ab63fa",
           "#FFA15A",
           "#19d3f3",
           "#FF6692",
           "#B6E880",
           "#FF97FF",
           "#FECB52"
          ],
          "font": {
           "color": "#2a3f5f"
          },
          "geo": {
           "bgcolor": "white",
           "lakecolor": "white",
           "landcolor": "#E5ECF6",
           "showlakes": true,
           "showland": true,
           "subunitcolor": "white"
          },
          "hoverlabel": {
           "align": "left"
          },
          "hovermode": "closest",
          "mapbox": {
           "style": "light"
          },
          "paper_bgcolor": "white",
          "plot_bgcolor": "#E5ECF6",
          "polar": {
           "angularaxis": {
            "gridcolor": "white",
            "linecolor": "white",
            "ticks": ""
           },
           "bgcolor": "#E5ECF6",
           "radialaxis": {
            "gridcolor": "white",
            "linecolor": "white",
            "ticks": ""
           }
          },
          "scene": {
           "xaxis": {
            "backgroundcolor": "#E5ECF6",
            "gridcolor": "white",
            "gridwidth": 2,
            "linecolor": "white",
            "showbackground": true,
            "ticks": "",
            "zerolinecolor": "white"
           },
           "yaxis": {
            "backgroundcolor": "#E5ECF6",
            "gridcolor": "white",
            "gridwidth": 2,
            "linecolor": "white",
            "showbackground": true,
            "ticks": "",
            "zerolinecolor": "white"
           },
           "zaxis": {
            "backgroundcolor": "#E5ECF6",
            "gridcolor": "white",
            "gridwidth": 2,
            "linecolor": "white",
            "showbackground": true,
            "ticks": "",
            "zerolinecolor": "white"
           }
          },
          "shapedefaults": {
           "line": {
            "color": "#2a3f5f"
           }
          },
          "ternary": {
           "aaxis": {
            "gridcolor": "white",
            "linecolor": "white",
            "ticks": ""
           },
           "baxis": {
            "gridcolor": "white",
            "linecolor": "white",
            "ticks": ""
           },
           "bgcolor": "#E5ECF6",
           "caxis": {
            "gridcolor": "white",
            "linecolor": "white",
            "ticks": ""
           }
          },
          "title": {
           "x": 0.05
          },
          "xaxis": {
           "automargin": true,
           "gridcolor": "white",
           "linecolor": "white",
           "ticks": "",
           "title": {
            "standoff": 15
           },
           "zerolinecolor": "white",
           "zerolinewidth": 2
          },
          "yaxis": {
           "automargin": true,
           "gridcolor": "white",
           "linecolor": "white",
           "ticks": "",
           "title": {
            "standoff": 15
           },
           "zerolinecolor": "white",
           "zerolinewidth": 2
          }
         }
        },
        "xaxis": {
         "anchor": "y",
         "domain": [
          0,
          1
         ],
         "title": {
          "text": "Predicted Score"
         }
        },
        "yaxis": {
         "anchor": "x",
         "domain": [
          0,
          1
         ],
         "title": {
          "text": "True Score"
         }
        }
       }
      }
     },
     "metadata": {},
     "output_type": "display_data"
    }
   ],
   "source": [
    "px.scatter(df, x=\"Predicted Score\", y=\"True Score\", size=\"Subset Size\")"
   ]
  },
  {
   "cell_type": "code",
   "execution_count": null,
   "id": "598c32be",
   "metadata": {},
   "outputs": [],
   "source": [
    "import scipy"
   ]
  },
  {
   "cell_type": "code",
   "execution_count": null,
   "id": "91006385",
   "metadata": {},
   "outputs": [
    {
     "data": {
      "text/plain": [
       "SignificanceResult(statistic=0.8964437123686827, pvalue=2.0622728430601633e-36)"
      ]
     },
     "execution_count": 212,
     "metadata": {},
     "output_type": "execute_result"
    }
   ],
   "source": [
    "# correlation: true_scores vs selector.performance_history\n",
    "cor = scipy.stats.spearmanr(true_scores, selector.performance_history)\n",
    "cor"
   ]
  },
  {
   "cell_type": "code",
   "execution_count": null,
   "id": "8455a2da",
   "metadata": {},
   "outputs": [
    {
     "data": {
      "text/plain": [
       "PearsonRResult(statistic=0.6532925095481648, pvalue=1.744985832823457e-13)"
      ]
     },
     "execution_count": 213,
     "metadata": {},
     "output_type": "execute_result"
    }
   ],
   "source": [
    "# correlation: true_scores vs selector.performance_history\n",
    "cor = scipy.stats.pearsonr(true_scores, selector.performance_history)\n",
    "cor"
   ]
  }
 ],
 "metadata": {
  "kernelspec": {
   "display_name": "env_ds",
   "language": "python",
   "name": "python3"
  },
  "language_info": {
   "codemirror_mode": {
    "name": "ipython",
    "version": 3
   },
   "file_extension": ".py",
   "mimetype": "text/x-python",
   "name": "python",
   "nbconvert_exporter": "python",
   "pygments_lexer": "ipython3",
   "version": "3.10.13"
  }
 },
 "nbformat": 4,
 "nbformat_minor": 5
}
