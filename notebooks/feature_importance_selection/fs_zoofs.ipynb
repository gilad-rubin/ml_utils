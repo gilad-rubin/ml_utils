{
 "cells": [
  {
   "cell_type": "code",
   "execution_count": 4,
   "id": "7112eeef",
   "metadata": {},
   "outputs": [],
   "source": [
    "from sklearn.base import BaseEstimator\n",
    "from sklearn.model_selection import train_test_split\n",
    "import numpy as np\n",
    "import time\n",
    "import warnings"
   ]
  },
  {
   "cell_type": "code",
   "execution_count": 7,
   "id": "d115488c",
   "metadata": {},
   "outputs": [],
   "source": [
    "from sklearn.base import BaseEstimator\n",
    "from sklearn.model_selection import train_test_split\n",
    "from sklearn.metrics import mean_absolute_percentage_error\n",
    "import numpy as np"
   ]
  },
  {
   "cell_type": "code",
   "execution_count": 6,
   "id": "155daf33",
   "metadata": {},
   "outputs": [],
   "source": [
    "import numpy as np\n",
    "import pandas as pd\n",
    "from sklearn.datasets import make_regression\n",
    "from sklearn.linear_model import LinearRegression\n",
    "from sklearn.ensemble import RandomForestRegressor\n",
    "import shap"
   ]
  },
  {
   "attachments": {},
   "cell_type": "markdown",
   "id": "a301ce9c",
   "metadata": {},
   "source": [
    "# Load Data"
   ]
  },
  {
   "cell_type": "code",
   "execution_count": 23,
   "id": "610b8077",
   "metadata": {},
   "outputs": [],
   "source": [
    "df = pd.read_csv(\"../../data/AmesHousing.csv\")\n",
    "df.head()\n",
    "df = df.select_dtypes(include=\"number\")\n",
    "df.dropna(inplace=True)\n",
    "df[\"random_feature\"] = np.random.random(df.shape[0])\n",
    "df[\"Overall Qual Noise\"] = df[\"Overall Qual\"] + (df[\"random_feature\"] * 0.0001)\n",
    "# Split the data\n",
    "test_size = 0.3\n",
    "raw_X_train, X_test, raw_y_train, y_test = train_test_split(df.drop(\"SalePrice\", axis=1), df[\"SalePrice\"], test_size=test_size, random_state=42)"
   ]
  },
  {
   "cell_type": "code",
   "execution_count": 25,
   "id": "4694a695",
   "metadata": {},
   "outputs": [],
   "source": [
    "X_train, X_valid, y_train, y_valid = train_test_split(raw_X_train, raw_y_train, test_size=test_size, random_state=42)"
   ]
  },
  {
   "attachments": {},
   "cell_type": "markdown",
   "id": "1646fc82",
   "metadata": {},
   "source": [
    "# Feature Selection"
   ]
  },
  {
   "cell_type": "code",
   "execution_count": 26,
   "id": "e0d8c9f8-0a83-45b9-89d9-6969f11b1a25",
   "metadata": {},
   "outputs": [],
   "source": [
    "from sklearn.metrics import mean_absolute_percentage_error"
   ]
  },
  {
   "cell_type": "code",
   "execution_count": 46,
   "id": "41c55346-9010-472f-a8a0-55ec7041b2ec",
   "metadata": {},
   "outputs": [],
   "source": [
    "# define your own objective function, make sure the function receives four parameters,\n",
    "#  fit your model and return the objective value !\n",
    "def objective_function_topass(model, X_train, y_train, X_test, y_test):\n",
    "    model.fit(X_train, y_train)\n",
    "    P = mean_absolute_percentage_error(y_test, model.predict(X_test))\n",
    "    return P"
   ]
  },
  {
   "cell_type": "code",
   "execution_count": 47,
   "id": "155e17b7-a05a-4e68-87f8-e24e3a53e90f",
   "metadata": {},
   "outputs": [],
   "source": [
    "# import an algorithm !\n",
    "from zoofs import ParticleSwarmOptimization\n",
    "\n",
    "# create object of algorithm\n",
    "algo_object = ParticleSwarmOptimization(\n",
    "    objective_function_topass, n_iteration=20, population_size=5, minimize=True\n",
    ")"
   ]
  },
  {
   "cell_type": "code",
   "execution_count": 48,
   "id": "fcc60e9c-89af-4f33-b4a6-3016b17d12c0",
   "metadata": {},
   "outputs": [],
   "source": [
    "import lightgbm as lgb\n",
    "\n",
    "lgb_model = lgb.LGBMRegressor(n_estimators=50, n_jobs=-1)"
   ]
  },
  {
   "cell_type": "code",
   "execution_count": 49,
   "id": "cb230206-0ac6-4f13-9af3-0da703d797f3",
   "metadata": {},
   "outputs": [],
   "source": [
    "from category_encoders import MEstimateEncoder\n",
    "from sklearn.pipeline import Pipeline"
   ]
  },
  {
   "cell_type": "code",
   "execution_count": 50,
   "id": "bb19e5ba-4556-4dec-927c-0dd12a12078e",
   "metadata": {},
   "outputs": [
    {
     "name": "stdout",
     "output_type": "stream",
     "text": [
      "CPU times: user 9.8 s, sys: 18.3 s, total: 28.1 s\n",
      "Wall time: 18.9 s\n"
     ]
    },
    {
     "data": {
      "text/plain": [
       "['Order',\n",
       " 'PID',\n",
       " 'MS SubClass',\n",
       " 'Lot Area',\n",
       " 'Overall Qual',\n",
       " 'Overall Cond',\n",
       " 'Year Built',\n",
       " 'Year Remod/Add',\n",
       " 'Mas Vnr Area',\n",
       " 'BsmtFin SF 1',\n",
       " 'BsmtFin SF 2',\n",
       " '1st Flr SF',\n",
       " 'Gr Liv Area',\n",
       " 'Bsmt Half Bath',\n",
       " 'Kitchen AbvGr',\n",
       " 'Fireplaces',\n",
       " 'Garage Cars',\n",
       " 'Wood Deck SF',\n",
       " 'Open Porch SF',\n",
       " 'Enclosed Porch',\n",
       " 'Pool Area',\n",
       " 'Mo Sold',\n",
       " 'Yr Sold',\n",
       " 'random_feature',\n",
       " 'Overall Qual Noise']"
      ]
     },
     "execution_count": 50,
     "metadata": {},
     "output_type": "execute_result"
    }
   ],
   "source": [
    "%%time\n",
    "# fit the algorithm\n",
    "algo_object.fit(lgb_model, X_train, y_train, X_valid, y_valid, verbose=False)"
   ]
  },
  {
   "cell_type": "code",
   "execution_count": 51,
   "id": "995ddaca-b352-4d7f-b0d9-cac0a7028663",
   "metadata": {},
   "outputs": [
    {
     "data": {
      "application/vnd.plotly.v1+json": {
       "config": {
        "plotlyServerURL": "https://plot.ly"
       },
       "data": [
        {
         "mode": "markers",
         "name": "objective_score",
         "type": "scatter",
         "x": [
          0,
          1,
          2,
          3,
          4,
          5,
          6,
          7,
          8,
          9,
          10,
          11,
          12,
          13,
          14,
          15,
          16,
          17,
          18,
          19
         ],
         "y": [
          0.09104185030141083,
          0.08875987992694559,
          0.0947430997125234,
          0.09140041395631175,
          0.08691316294814042,
          0.08854271467958413,
          0.08820279127797487,
          0.08892446839463786,
          0.08881975198911712,
          0.08677854035998012,
          0.08644069015695607,
          0.08614137683747564,
          0.08577454064215163,
          0.08679317189027097,
          0.08764633258404515,
          0.08884687664069384,
          0.08735958666799601,
          0.0868552387510385,
          0.08639334588008772,
          0.08897625909257635
         ]
        },
        {
         "mode": "lines+markers",
         "name": "best_score",
         "type": "scatter",
         "x": [
          0,
          1,
          2,
          3,
          4,
          5,
          6,
          7,
          8,
          9,
          10,
          11,
          12,
          13,
          14,
          15,
          16,
          17,
          18,
          19
         ],
         "y": [
          0.09104185030141083,
          0.08875987992694559,
          0.08875987992694559,
          0.08875987992694559,
          0.08691316294814042,
          0.08691316294814042,
          0.08691316294814042,
          0.08691316294814042,
          0.08691316294814042,
          0.08677854035998012,
          0.08644069015695607,
          0.08614137683747564,
          0.08577454064215163,
          0.08577454064215163,
          0.08577454064215163,
          0.08577454064215163,
          0.08577454064215163,
          0.08577454064215163,
          0.08577454064215163,
          0.08577454064215163
         ]
        }
       ],
       "layout": {
        "template": {
         "data": {
          "bar": [
           {
            "error_x": {
             "color": "#2a3f5f"
            },
            "error_y": {
             "color": "#2a3f5f"
            },
            "marker": {
             "line": {
              "color": "#E5ECF6",
              "width": 0.5
             },
             "pattern": {
              "fillmode": "overlay",
              "size": 10,
              "solidity": 0.2
             }
            },
            "type": "bar"
           }
          ],
          "barpolar": [
           {
            "marker": {
             "line": {
              "color": "#E5ECF6",
              "width": 0.5
             },
             "pattern": {
              "fillmode": "overlay",
              "size": 10,
              "solidity": 0.2
             }
            },
            "type": "barpolar"
           }
          ],
          "carpet": [
           {
            "aaxis": {
             "endlinecolor": "#2a3f5f",
             "gridcolor": "white",
             "linecolor": "white",
             "minorgridcolor": "white",
             "startlinecolor": "#2a3f5f"
            },
            "baxis": {
             "endlinecolor": "#2a3f5f",
             "gridcolor": "white",
             "linecolor": "white",
             "minorgridcolor": "white",
             "startlinecolor": "#2a3f5f"
            },
            "type": "carpet"
           }
          ],
          "choropleth": [
           {
            "colorbar": {
             "outlinewidth": 0,
             "ticks": ""
            },
            "type": "choropleth"
           }
          ],
          "contour": [
           {
            "colorbar": {
             "outlinewidth": 0,
             "ticks": ""
            },
            "colorscale": [
             [
              0,
              "#0d0887"
             ],
             [
              0.1111111111111111,
              "#46039f"
             ],
             [
              0.2222222222222222,
              "#7201a8"
             ],
             [
              0.3333333333333333,
              "#9c179e"
             ],
             [
              0.4444444444444444,
              "#bd3786"
             ],
             [
              0.5555555555555556,
              "#d8576b"
             ],
             [
              0.6666666666666666,
              "#ed7953"
             ],
             [
              0.7777777777777778,
              "#fb9f3a"
             ],
             [
              0.8888888888888888,
              "#fdca26"
             ],
             [
              1,
              "#f0f921"
             ]
            ],
            "type": "contour"
           }
          ],
          "contourcarpet": [
           {
            "colorbar": {
             "outlinewidth": 0,
             "ticks": ""
            },
            "type": "contourcarpet"
           }
          ],
          "heatmap": [
           {
            "colorbar": {
             "outlinewidth": 0,
             "ticks": ""
            },
            "colorscale": [
             [
              0,
              "#0d0887"
             ],
             [
              0.1111111111111111,
              "#46039f"
             ],
             [
              0.2222222222222222,
              "#7201a8"
             ],
             [
              0.3333333333333333,
              "#9c179e"
             ],
             [
              0.4444444444444444,
              "#bd3786"
             ],
             [
              0.5555555555555556,
              "#d8576b"
             ],
             [
              0.6666666666666666,
              "#ed7953"
             ],
             [
              0.7777777777777778,
              "#fb9f3a"
             ],
             [
              0.8888888888888888,
              "#fdca26"
             ],
             [
              1,
              "#f0f921"
             ]
            ],
            "type": "heatmap"
           }
          ],
          "heatmapgl": [
           {
            "colorbar": {
             "outlinewidth": 0,
             "ticks": ""
            },
            "colorscale": [
             [
              0,
              "#0d0887"
             ],
             [
              0.1111111111111111,
              "#46039f"
             ],
             [
              0.2222222222222222,
              "#7201a8"
             ],
             [
              0.3333333333333333,
              "#9c179e"
             ],
             [
              0.4444444444444444,
              "#bd3786"
             ],
             [
              0.5555555555555556,
              "#d8576b"
             ],
             [
              0.6666666666666666,
              "#ed7953"
             ],
             [
              0.7777777777777778,
              "#fb9f3a"
             ],
             [
              0.8888888888888888,
              "#fdca26"
             ],
             [
              1,
              "#f0f921"
             ]
            ],
            "type": "heatmapgl"
           }
          ],
          "histogram": [
           {
            "marker": {
             "pattern": {
              "fillmode": "overlay",
              "size": 10,
              "solidity": 0.2
             }
            },
            "type": "histogram"
           }
          ],
          "histogram2d": [
           {
            "colorbar": {
             "outlinewidth": 0,
             "ticks": ""
            },
            "colorscale": [
             [
              0,
              "#0d0887"
             ],
             [
              0.1111111111111111,
              "#46039f"
             ],
             [
              0.2222222222222222,
              "#7201a8"
             ],
             [
              0.3333333333333333,
              "#9c179e"
             ],
             [
              0.4444444444444444,
              "#bd3786"
             ],
             [
              0.5555555555555556,
              "#d8576b"
             ],
             [
              0.6666666666666666,
              "#ed7953"
             ],
             [
              0.7777777777777778,
              "#fb9f3a"
             ],
             [
              0.8888888888888888,
              "#fdca26"
             ],
             [
              1,
              "#f0f921"
             ]
            ],
            "type": "histogram2d"
           }
          ],
          "histogram2dcontour": [
           {
            "colorbar": {
             "outlinewidth": 0,
             "ticks": ""
            },
            "colorscale": [
             [
              0,
              "#0d0887"
             ],
             [
              0.1111111111111111,
              "#46039f"
             ],
             [
              0.2222222222222222,
              "#7201a8"
             ],
             [
              0.3333333333333333,
              "#9c179e"
             ],
             [
              0.4444444444444444,
              "#bd3786"
             ],
             [
              0.5555555555555556,
              "#d8576b"
             ],
             [
              0.6666666666666666,
              "#ed7953"
             ],
             [
              0.7777777777777778,
              "#fb9f3a"
             ],
             [
              0.8888888888888888,
              "#fdca26"
             ],
             [
              1,
              "#f0f921"
             ]
            ],
            "type": "histogram2dcontour"
           }
          ],
          "mesh3d": [
           {
            "colorbar": {
             "outlinewidth": 0,
             "ticks": ""
            },
            "type": "mesh3d"
           }
          ],
          "parcoords": [
           {
            "line": {
             "colorbar": {
              "outlinewidth": 0,
              "ticks": ""
             }
            },
            "type": "parcoords"
           }
          ],
          "pie": [
           {
            "automargin": true,
            "type": "pie"
           }
          ],
          "scatter": [
           {
            "fillpattern": {
             "fillmode": "overlay",
             "size": 10,
             "solidity": 0.2
            },
            "type": "scatter"
           }
          ],
          "scatter3d": [
           {
            "line": {
             "colorbar": {
              "outlinewidth": 0,
              "ticks": ""
             }
            },
            "marker": {
             "colorbar": {
              "outlinewidth": 0,
              "ticks": ""
             }
            },
            "type": "scatter3d"
           }
          ],
          "scattercarpet": [
           {
            "marker": {
             "colorbar": {
              "outlinewidth": 0,
              "ticks": ""
             }
            },
            "type": "scattercarpet"
           }
          ],
          "scattergeo": [
           {
            "marker": {
             "colorbar": {
              "outlinewidth": 0,
              "ticks": ""
             }
            },
            "type": "scattergeo"
           }
          ],
          "scattergl": [
           {
            "marker": {
             "colorbar": {
              "outlinewidth": 0,
              "ticks": ""
             }
            },
            "type": "scattergl"
           }
          ],
          "scattermapbox": [
           {
            "marker": {
             "colorbar": {
              "outlinewidth": 0,
              "ticks": ""
             }
            },
            "type": "scattermapbox"
           }
          ],
          "scatterpolar": [
           {
            "marker": {
             "colorbar": {
              "outlinewidth": 0,
              "ticks": ""
             }
            },
            "type": "scatterpolar"
           }
          ],
          "scatterpolargl": [
           {
            "marker": {
             "colorbar": {
              "outlinewidth": 0,
              "ticks": ""
             }
            },
            "type": "scatterpolargl"
           }
          ],
          "scatterternary": [
           {
            "marker": {
             "colorbar": {
              "outlinewidth": 0,
              "ticks": ""
             }
            },
            "type": "scatterternary"
           }
          ],
          "surface": [
           {
            "colorbar": {
             "outlinewidth": 0,
             "ticks": ""
            },
            "colorscale": [
             [
              0,
              "#0d0887"
             ],
             [
              0.1111111111111111,
              "#46039f"
             ],
             [
              0.2222222222222222,
              "#7201a8"
             ],
             [
              0.3333333333333333,
              "#9c179e"
             ],
             [
              0.4444444444444444,
              "#bd3786"
             ],
             [
              0.5555555555555556,
              "#d8576b"
             ],
             [
              0.6666666666666666,
              "#ed7953"
             ],
             [
              0.7777777777777778,
              "#fb9f3a"
             ],
             [
              0.8888888888888888,
              "#fdca26"
             ],
             [
              1,
              "#f0f921"
             ]
            ],
            "type": "surface"
           }
          ],
          "table": [
           {
            "cells": {
             "fill": {
              "color": "#EBF0F8"
             },
             "line": {
              "color": "white"
             }
            },
            "header": {
             "fill": {
              "color": "#C8D4E3"
             },
             "line": {
              "color": "white"
             }
            },
            "type": "table"
           }
          ]
         },
         "layout": {
          "annotationdefaults": {
           "arrowcolor": "#2a3f5f",
           "arrowhead": 0,
           "arrowwidth": 1
          },
          "autotypenumbers": "strict",
          "coloraxis": {
           "colorbar": {
            "outlinewidth": 0,
            "ticks": ""
           }
          },
          "colorscale": {
           "diverging": [
            [
             0,
             "#8e0152"
            ],
            [
             0.1,
             "#c51b7d"
            ],
            [
             0.2,
             "#de77ae"
            ],
            [
             0.3,
             "#f1b6da"
            ],
            [
             0.4,
             "#fde0ef"
            ],
            [
             0.5,
             "#f7f7f7"
            ],
            [
             0.6,
             "#e6f5d0"
            ],
            [
             0.7,
             "#b8e186"
            ],
            [
             0.8,
             "#7fbc41"
            ],
            [
             0.9,
             "#4d9221"
            ],
            [
             1,
             "#276419"
            ]
           ],
           "sequential": [
            [
             0,
             "#0d0887"
            ],
            [
             0.1111111111111111,
             "#46039f"
            ],
            [
             0.2222222222222222,
             "#7201a8"
            ],
            [
             0.3333333333333333,
             "#9c179e"
            ],
            [
             0.4444444444444444,
             "#bd3786"
            ],
            [
             0.5555555555555556,
             "#d8576b"
            ],
            [
             0.6666666666666666,
             "#ed7953"
            ],
            [
             0.7777777777777778,
             "#fb9f3a"
            ],
            [
             0.8888888888888888,
             "#fdca26"
            ],
            [
             1,
             "#f0f921"
            ]
           ],
           "sequentialminus": [
            [
             0,
             "#0d0887"
            ],
            [
             0.1111111111111111,
             "#46039f"
            ],
            [
             0.2222222222222222,
             "#7201a8"
            ],
            [
             0.3333333333333333,
             "#9c179e"
            ],
            [
             0.4444444444444444,
             "#bd3786"
            ],
            [
             0.5555555555555556,
             "#d8576b"
            ],
            [
             0.6666666666666666,
             "#ed7953"
            ],
            [
             0.7777777777777778,
             "#fb9f3a"
            ],
            [
             0.8888888888888888,
             "#fdca26"
            ],
            [
             1,
             "#f0f921"
            ]
           ]
          },
          "colorway": [
           "#636efa",
           "#EF553B",
           "#00cc96",
           "#ab63fa",
           "#FFA15A",
           "#19d3f3",
           "#FF6692",
           "#B6E880",
           "#FF97FF",
           "#FECB52"
          ],
          "font": {
           "color": "#2a3f5f"
          },
          "geo": {
           "bgcolor": "white",
           "lakecolor": "white",
           "landcolor": "#E5ECF6",
           "showlakes": true,
           "showland": true,
           "subunitcolor": "white"
          },
          "hoverlabel": {
           "align": "left"
          },
          "hovermode": "closest",
          "mapbox": {
           "style": "light"
          },
          "paper_bgcolor": "white",
          "plot_bgcolor": "#E5ECF6",
          "polar": {
           "angularaxis": {
            "gridcolor": "white",
            "linecolor": "white",
            "ticks": ""
           },
           "bgcolor": "#E5ECF6",
           "radialaxis": {
            "gridcolor": "white",
            "linecolor": "white",
            "ticks": ""
           }
          },
          "scene": {
           "xaxis": {
            "backgroundcolor": "#E5ECF6",
            "gridcolor": "white",
            "gridwidth": 2,
            "linecolor": "white",
            "showbackground": true,
            "ticks": "",
            "zerolinecolor": "white"
           },
           "yaxis": {
            "backgroundcolor": "#E5ECF6",
            "gridcolor": "white",
            "gridwidth": 2,
            "linecolor": "white",
            "showbackground": true,
            "ticks": "",
            "zerolinecolor": "white"
           },
           "zaxis": {
            "backgroundcolor": "#E5ECF6",
            "gridcolor": "white",
            "gridwidth": 2,
            "linecolor": "white",
            "showbackground": true,
            "ticks": "",
            "zerolinecolor": "white"
           }
          },
          "shapedefaults": {
           "line": {
            "color": "#2a3f5f"
           }
          },
          "ternary": {
           "aaxis": {
            "gridcolor": "white",
            "linecolor": "white",
            "ticks": ""
           },
           "baxis": {
            "gridcolor": "white",
            "linecolor": "white",
            "ticks": ""
           },
           "bgcolor": "#E5ECF6",
           "caxis": {
            "gridcolor": "white",
            "linecolor": "white",
            "ticks": ""
           }
          },
          "title": {
           "x": 0.05
          },
          "xaxis": {
           "automargin": true,
           "gridcolor": "white",
           "linecolor": "white",
           "ticks": "",
           "title": {
            "standoff": 15
           },
           "zerolinecolor": "white",
           "zerolinewidth": 2
          },
          "yaxis": {
           "automargin": true,
           "gridcolor": "white",
           "linecolor": "white",
           "ticks": "",
           "title": {
            "standoff": 15
           },
           "zerolinecolor": "white",
           "zerolinewidth": 2
          }
         }
        },
        "title": {
         "text": "Optimization History Plot"
        },
        "xaxis": {
         "title": {
          "text": "Iteration"
         }
        },
        "yaxis": {
         "title": {
          "text": "objective_score"
         }
        }
       }
      }
     },
     "metadata": {},
     "output_type": "display_data"
    }
   ],
   "source": [
    "# plot your results\n",
    "algo_object.plot_history()"
   ]
  },
  {
   "cell_type": "code",
   "execution_count": 52,
   "id": "63eeddf9-eb16-4b90-921f-b16fa4d018e9",
   "metadata": {},
   "outputs": [
    {
     "data": {
      "text/plain": [
       "0.08577454064215163"
      ]
     },
     "execution_count": 52,
     "metadata": {},
     "output_type": "execute_result"
    }
   ],
   "source": [
    "algo_object.best_score"
   ]
  },
  {
   "cell_type": "code",
   "execution_count": 53,
   "id": "518cb57b-dccb-4e1a-a015-a60e024a91b2",
   "metadata": {},
   "outputs": [],
   "source": [
    "final_cols = algo_object.best_feature_list"
   ]
  },
  {
   "cell_type": "code",
   "execution_count": 54,
   "id": "5e2f8b98-33d7-41eb-9acb-a7343abc5abf",
   "metadata": {},
   "outputs": [
    {
     "data": {
      "text/plain": [
       "['Order',\n",
       " 'PID',\n",
       " 'MS SubClass',\n",
       " 'Lot Area',\n",
       " 'Overall Qual',\n",
       " 'Overall Cond',\n",
       " 'Year Built',\n",
       " 'Year Remod/Add',\n",
       " 'Mas Vnr Area',\n",
       " 'BsmtFin SF 1',\n",
       " 'BsmtFin SF 2',\n",
       " '1st Flr SF',\n",
       " 'Gr Liv Area',\n",
       " 'Bsmt Half Bath',\n",
       " 'Kitchen AbvGr',\n",
       " 'Fireplaces',\n",
       " 'Garage Cars',\n",
       " 'Wood Deck SF',\n",
       " 'Open Porch SF',\n",
       " 'Enclosed Porch',\n",
       " 'Pool Area',\n",
       " 'Mo Sold',\n",
       " 'Yr Sold',\n",
       " 'random_feature',\n",
       " 'Overall Qual Noise']"
      ]
     },
     "execution_count": 54,
     "metadata": {},
     "output_type": "execute_result"
    }
   ],
   "source": [
    "final_cols"
   ]
  },
  {
   "cell_type": "code",
   "execution_count": 83,
   "id": "6acfc5d1-a99e-4b87-85f8-9167642bda31",
   "metadata": {
    "tags": []
   },
   "outputs": [
    {
     "name": "stdout",
     "output_type": "stream",
     "text": [
      "CPU times: user 224 ms, sys: 460 ms, total: 684 ms\n",
      "Wall time: 516 ms\n"
     ]
    },
    {
     "data": {
      "text/html": [
       "<style>#sk-container-id-9 {color: black;background-color: white;}#sk-container-id-9 pre{padding: 0;}#sk-container-id-9 div.sk-toggleable {background-color: white;}#sk-container-id-9 label.sk-toggleable__label {cursor: pointer;display: block;width: 100%;margin-bottom: 0;padding: 0.3em;box-sizing: border-box;text-align: center;}#sk-container-id-9 label.sk-toggleable__label-arrow:before {content: \"▸\";float: left;margin-right: 0.25em;color: #696969;}#sk-container-id-9 label.sk-toggleable__label-arrow:hover:before {color: black;}#sk-container-id-9 div.sk-estimator:hover label.sk-toggleable__label-arrow:before {color: black;}#sk-container-id-9 div.sk-toggleable__content {max-height: 0;max-width: 0;overflow: hidden;text-align: left;background-color: #f0f8ff;}#sk-container-id-9 div.sk-toggleable__content pre {margin: 0.2em;color: black;border-radius: 0.25em;background-color: #f0f8ff;}#sk-container-id-9 input.sk-toggleable__control:checked~div.sk-toggleable__content {max-height: 200px;max-width: 100%;overflow: auto;}#sk-container-id-9 input.sk-toggleable__control:checked~label.sk-toggleable__label-arrow:before {content: \"▾\";}#sk-container-id-9 div.sk-estimator input.sk-toggleable__control:checked~label.sk-toggleable__label {background-color: #d4ebff;}#sk-container-id-9 div.sk-label input.sk-toggleable__control:checked~label.sk-toggleable__label {background-color: #d4ebff;}#sk-container-id-9 input.sk-hidden--visually {border: 0;clip: rect(1px 1px 1px 1px);clip: rect(1px, 1px, 1px, 1px);height: 1px;margin: -1px;overflow: hidden;padding: 0;position: absolute;width: 1px;}#sk-container-id-9 div.sk-estimator {font-family: monospace;background-color: #f0f8ff;border: 1px dotted black;border-radius: 0.25em;box-sizing: border-box;margin-bottom: 0.5em;}#sk-container-id-9 div.sk-estimator:hover {background-color: #d4ebff;}#sk-container-id-9 div.sk-parallel-item::after {content: \"\";width: 100%;border-bottom: 1px solid gray;flex-grow: 1;}#sk-container-id-9 div.sk-label:hover label.sk-toggleable__label {background-color: #d4ebff;}#sk-container-id-9 div.sk-serial::before {content: \"\";position: absolute;border-left: 1px solid gray;box-sizing: border-box;top: 0;bottom: 0;left: 50%;z-index: 0;}#sk-container-id-9 div.sk-serial {display: flex;flex-direction: column;align-items: center;background-color: white;padding-right: 0.2em;padding-left: 0.2em;position: relative;}#sk-container-id-9 div.sk-item {position: relative;z-index: 1;}#sk-container-id-9 div.sk-parallel {display: flex;align-items: stretch;justify-content: center;background-color: white;position: relative;}#sk-container-id-9 div.sk-item::before, #sk-container-id-9 div.sk-parallel-item::before {content: \"\";position: absolute;border-left: 1px solid gray;box-sizing: border-box;top: 0;bottom: 0;left: 50%;z-index: -1;}#sk-container-id-9 div.sk-parallel-item {display: flex;flex-direction: column;z-index: 1;position: relative;background-color: white;}#sk-container-id-9 div.sk-parallel-item:first-child::after {align-self: flex-end;width: 50%;}#sk-container-id-9 div.sk-parallel-item:last-child::after {align-self: flex-start;width: 50%;}#sk-container-id-9 div.sk-parallel-item:only-child::after {width: 0;}#sk-container-id-9 div.sk-dashed-wrapped {border: 1px dashed gray;margin: 0 0.4em 0.5em 0.4em;box-sizing: border-box;padding-bottom: 0.4em;background-color: white;}#sk-container-id-9 div.sk-label label {font-family: monospace;font-weight: bold;display: inline-block;line-height: 1.2em;}#sk-container-id-9 div.sk-label-container {text-align: center;}#sk-container-id-9 div.sk-container {/* jupyter's `normalize.less` sets `[hidden] { display: none; }` but bootstrap.min.css set `[hidden] { display: none !important; }` so we also need the `!important` here to be able to override the default hidden behavior on the sphinx rendered scikit-learn.org. See: https://github.com/scikit-learn/scikit-learn/issues/21755 */display: inline-block !important;position: relative;}#sk-container-id-9 div.sk-text-repr-fallback {display: none;}</style><div id=\"sk-container-id-9\" class=\"sk-top-container\"><div class=\"sk-text-repr-fallback\"><pre>LGBMRegressor()</pre><b>In a Jupyter environment, please rerun this cell to show the HTML representation or trust the notebook. <br />On GitHub, the HTML representation is unable to render, please try loading this page with nbviewer.org.</b></div><div class=\"sk-container\" hidden><div class=\"sk-item\"><div class=\"sk-estimator sk-toggleable\"><input class=\"sk-toggleable__control sk-hidden--visually\" id=\"sk-estimator-id-9\" type=\"checkbox\" checked><label for=\"sk-estimator-id-9\" class=\"sk-toggleable__label sk-toggleable__label-arrow\">LGBMRegressor</label><div class=\"sk-toggleable__content\"><pre>LGBMRegressor()</pre></div></div></div></div></div>"
      ],
      "text/plain": [
       "LGBMRegressor()"
      ]
     },
     "execution_count": 83,
     "metadata": {},
     "output_type": "execute_result"
    }
   ],
   "source": [
    "%%time\n",
    "full_lgb_model = lgb.LGBMRegressor(n_estimators=100, n_jobs=-1)\n",
    "full_lgb_model.fit(\n",
    "    raw_X_train[final_cols], raw_y_train\n",
    ")"
   ]
  },
  {
   "cell_type": "code",
   "execution_count": 84,
   "id": "0a2252f3-b491-45fe-8731-84b9a05a6580",
   "metadata": {},
   "outputs": [],
   "source": [
    "y_pred = full_lgb_model.predict(X_test[final_cols])"
   ]
  },
  {
   "cell_type": "code",
   "execution_count": 85,
   "id": "fdd0c8d0-355f-41a7-a5d5-e1c6035c62e8",
   "metadata": {},
   "outputs": [
    {
     "data": {
      "text/plain": [
       "0.1021026084734843"
      ]
     },
     "execution_count": 85,
     "metadata": {},
     "output_type": "execute_result"
    }
   ],
   "source": [
    "mean_absolute_percentage_error(y_test, y_pred)"
   ]
  },
  {
   "cell_type": "code",
   "execution_count": 86,
   "id": "cd743a91-71b0-4283-a1e1-b6b8cd6ecb83",
   "metadata": {},
   "outputs": [],
   "source": [
    "import numpy as np"
   ]
  },
  {
   "cell_type": "code",
   "execution_count": 69,
   "id": "ab7859f0-b588-42a5-98a5-2e8617aba04f",
   "metadata": {},
   "outputs": [
    {
     "data": {
      "application/vnd.plotly.v1+json": {
       "config": {
        "linkText": "Export to plot.ly",
        "plotlyServerURL": "https://plot.ly",
        "showLink": false
       },
       "data": [
        {
         "name": "Actual",
         "opacity": 0.75,
         "type": "histogram",
         "x": [
          79000,
          204000,
          185900,
          229800,
          147983,
          173500,
          153000,
          146000,
          202900,
          228500,
          176500,
          204000,
          125000,
          350000,
          76500,
          178750,
          178000,
          180000,
          160000,
          384500,
          179665,
          194000,
          135000,
          124500,
          214000,
          187500,
          183850,
          148000,
          155000,
          119900,
          141000,
          131900,
          410000,
          175000,
          116000,
          170000,
          119000,
          213000,
          122500,
          300000,
          168500,
          226750,
          220000,
          312500,
          163000,
          194000,
          145000,
          85000,
          205000,
          181000,
          207000,
          260000,
          125000,
          189000,
          142125,
          316000,
          127000,
          142250,
          143000,
          245000,
          179400,
          87550,
          63000,
          117000,
          320000,
          335000,
          233170,
          328000,
          127000,
          253000,
          224500,
          148000,
          146500,
          130000,
          129900,
          239000,
          120000,
          64000,
          394617,
          224500,
          424870,
          146000,
          140000,
          129500,
          140200,
          113500,
          250000,
          137000,
          170000,
          165500,
          245350,
          138000,
          186000,
          64000,
          215000,
          109500,
          176000,
          128500,
          240000,
          120000,
          124500,
          137000,
          175500,
          159000,
          252000,
          160000,
          130000,
          132000,
          410000,
          380000,
          140000,
          132000,
          375000,
          164500,
          159000,
          187000,
          206900,
          171000,
          133000,
          139950,
          92900,
          172785,
          115000,
          145000,
          203000,
          153500,
          89000,
          154204,
          157900,
          140000,
          242500,
          110000,
          66500,
          123000,
          355000,
          184000,
          174000,
          105500,
          158900,
          166000,
          213000,
          224900,
          141000,
          236500,
          270000,
          234500,
          220000,
          293200,
          131750,
          190000,
          127000,
          155000,
          180000,
          255900,
          203000,
          102000,
          110000,
          152000,
          178000,
          129000,
          231000,
          335000,
          147400,
          110000,
          159500,
          120000,
          176432,
          128900,
          124900,
          174190,
          415000,
          142500,
          142600,
          149500,
          257000,
          117500,
          145100,
          148000,
          135000,
          173000,
          109500,
          263435,
          212700,
          193500,
          184500,
          370878,
          312500,
          109500,
          132000,
          174000,
          190000,
          119900,
          115000,
          169000,
          156500,
          150000,
          93000,
          183500,
          119000,
          146000,
          212900,
          130500,
          132500,
          202500,
          187500,
          190000,
          125000,
          160500,
          219000,
          239000,
          106000,
          99500,
          50000,
          167000,
          147000,
          137000,
          129000,
          217000,
          153500,
          140000,
          235000,
          125000,
          95000,
          208300,
          185000,
          115000,
          170000,
          135500,
          124500,
          220000,
          392500,
          290000,
          318000,
          188500,
          105000,
          279700,
          126500,
          181000,
          100000,
          172500,
          125000,
          117000,
          176000,
          64000,
          755000,
          166000,
          215000,
          205000,
          192000,
          88000,
          190550,
          315000,
          115000,
          310090,
          201490,
          130000,
          115000,
          260000,
          270000,
          387000,
          129500,
          94900,
          287500,
          219500,
          242000,
          228000,
          335000,
          99500,
          325000,
          105000,
          208900,
          209000,
          152000,
          144500,
          144152,
          149000,
          130000,
          264561,
          126000,
          140000,
          123500,
          159000,
          90000,
          152500,
          139000,
          212109,
          55000,
          281000,
          132000,
          171500,
          122900,
          131500,
          235000,
          79400,
          322500,
          173000,
          158000,
          336860,
          184000,
          159900,
          168675,
          133900,
          106900,
          130000,
          125000,
          95541,
          119000,
          120000,
          154000,
          190000,
          103400,
          175500,
          278000,
          155000,
          159500,
          163500,
          197000,
          140000,
          124000,
          165000,
          135000,
          157000,
          196500,
          151500,
          183000,
          109500,
          189000,
          105500,
          142953,
          173000,
          178900,
          197000,
          188000,
          104900,
          230000,
          76000,
          257500,
          144000,
          385000,
          227875,
          200825,
          155000,
          337500,
          87500,
          142100,
          119200,
          297000,
          240900,
          251000,
          82000,
          137500,
          200000,
          178000,
          110000,
          372397,
          124000,
          135000,
          98300,
          200000,
          144000,
          144900,
          140000,
          129000,
          207000,
          130000,
          113000,
          156000,
          143000,
          188700,
          290000,
          295493,
          421250,
          172000,
          157000,
          129500,
          185088,
          120000,
          135000,
          135000,
          125200,
          108000,
          228500,
          96000,
          285000,
          232000,
          450000,
          187687,
          276000,
          142500,
          233230,
          157500,
          182000,
          132000,
          170000,
          100500,
          136870,
          552000,
          178000,
          386250,
          282000,
          175900,
          240000,
          122000,
          83000,
          167900,
          97000,
          370967,
          94500,
          322400,
          135000,
          107000,
          64500,
          139000,
          118858,
          289000,
          129250,
          180500,
          107900,
          257000,
          127500,
          230348,
          75000,
          153575,
          209200,
          274300,
          538000,
          382500,
          117600,
          152000,
          210000,
          230000,
          135000,
          250000,
          265979,
          187000,
          60000,
          168000,
          105000,
          200141,
          156932,
          207500,
          102000,
          350000,
          164500,
          98000,
          140000,
          109900,
          137250,
          178000,
          135000,
          159000,
          230500,
          154900,
          222500,
          108000,
          89500,
          239900,
          150000,
          236500,
          140000,
          170000,
          172500,
          123000,
          332200,
          89500,
          158000,
          153000,
          192500,
          132000,
          150000,
          109000,
          131500,
          135000,
          131250,
          164000,
          405749,
          127000,
          146000,
          345000,
          108538,
          169000,
          264500,
          113000,
          120000,
          121500,
          170000,
          170000,
          149900,
          231500,
          114000,
          108500,
          152000,
          163000,
          119500,
          129500,
          179900,
          175000,
          137000,
          199500,
          107000,
          137500,
          395000,
          143000,
          119000,
          90350,
          139000,
          267916,
          163000,
          282922,
          98000,
          130000,
          319500,
          500067,
          99500,
          158500,
          131000,
          144000,
          128500,
          126175,
          329900,
          181000,
          67500,
          233000,
          210400,
          102000,
          13100,
          423000,
          298236,
          100000,
          268000,
          195000,
          138000,
          150000,
          184000,
          124500,
          144000,
          139000,
          170000,
          129500,
          198900,
          112900,
          106000,
          111000,
          475000,
          215200,
          81400,
          127000,
          112500,
          185485,
          116000,
          138400,
          153500,
          185850,
          169000,
          190000,
          255000,
          125500,
          133000,
          745000,
          142000,
          173000,
          195500,
          132500,
          165150,
          121600,
          151000,
          135000,
          139000,
          40000,
          345000,
          290000,
          455000,
          162500,
          118000,
          319000,
          136000,
          220000,
          187000,
          177000,
          184900,
          167900,
          362500,
          395192,
          266000,
          136900,
          111500,
          189500,
          81000,
          145000,
          130500,
          124500,
          237000,
          248328,
          196000,
          359900,
          143000,
          125000,
          156500,
          100000,
          139500,
          106500,
          256000,
          120000,
          235000,
          250000,
          140000,
          412500,
          119000,
          238500,
          79900,
          316600,
          105000,
          168500,
          325000,
          142000,
          178900,
          202500,
          172500,
          165500,
          201000,
          301500,
          194700,
          200000,
          199500,
          146500,
          179200,
          278000,
          264132,
          126500,
          274725,
          250000,
          130000,
          162900,
          160000,
          139000,
          260000,
          147000,
          128000,
          376162,
          237000,
          176000,
          110000,
          204750,
          145250,
          176000,
          107000,
          300000,
          93000,
          145000,
          143000,
          130000,
          445000,
          230000,
          129900,
          176500,
          239000,
          138000,
          130000,
          120000,
          184000,
          133500,
          168000,
          85000,
          170440,
          205000,
          143450,
          140000,
          158000,
          182000,
          127500,
          122600,
          148500,
          188000,
          180500,
          139000,
          137900,
          355000,
          123000,
          146000,
          107500,
          180000,
          260000,
          46500
         ]
        },
        {
         "name": "Predicted",
         "opacity": 0.75,
         "type": "histogram",
         "x": [
          112588.63826191868,
          190577.52266720234,
          187327.90827199764,
          202759.97977094032,
          142855.93116665338,
          182308.64790394116,
          153497.12408595535,
          147688.33591057043,
          220135.9664284911,
          194252.7506500158,
          176407.5429288495,
          191804.389703863,
          121670.44996529841,
          321142.9512306664,
          119591.12247880778,
          185912.94265364896,
          195850.1758260445,
          175860.8773707376,
          148092.78182427605,
          388739.4815388698,
          204433.4155084167,
          185396.65577245233,
          155926.81657243773,
          132032.07454047044,
          220024.65744678618,
          175588.37823060268,
          450800.1773341171,
          140909.5109997265,
          157557.3976399602,
          135839.8777104107,
          137498.19410736536,
          129812.66589799848,
          382634.40329818224,
          172517.11884054358,
          119191.72674409112,
          182734.87332747853,
          115181.42076011024,
          217853.76210835914,
          134405.0551856829,
          288175.5489334578,
          207318.19548857212,
          211145.34719982286,
          205174.61812992062,
          305012.37073954864,
          161526.9281126871,
          211730.59266481412,
          141193.86090250852,
          103082.85229642132,
          219839.55315366678,
          206939.57846804726,
          203637.07848869383,
          252240.35490117923,
          138210.62363328904,
          150137.89970714526,
          131528.551899991,
          298615.05481561326,
          140388.8463061292,
          145585.73716775214,
          150261.16002149458,
          212853.76086825028,
          182454.4370042218,
          91504.18863655147,
          99624.0245266929,
          118278.79609706659,
          268575.43552761193,
          316181.9682867198,
          213765.40461272266,
          254887.30395612158,
          138743.19762731166,
          225451.12804019017,
          174919.06485279885,
          152877.37020526573,
          152687.99361900106,
          120987.21527195431,
          130551.04633735822,
          214796.46361193786,
          140121.58638529002,
          73044.7769616931,
          344885.75850042625,
          194371.9782475308,
          349937.7317830113,
          164966.6463371404,
          140069.4728383535,
          169414.05411026103,
          135141.86596091307,
          142636.68718742311,
          250611.8400125295,
          115679.87137272858,
          189474.0569089373,
          167596.53610223593,
          251632.7410334577,
          148321.63830783567,
          167653.6735557899,
          100736.59761174221,
          194140.38653723424,
          118793.69467770717,
          170721.56712151432,
          129904.89059500906,
          225557.0132173311,
          130287.78635364892,
          129896.07029306133,
          151959.37385491913,
          159618.90462092625,
          138996.0105887798,
          258146.80944831052,
          164727.5723965506,
          130055.54833559561,
          125780.66779097641,
          431496.9034599968,
          498574.19771804754,
          157623.27286884945,
          139146.07826380964,
          231633.0075379033,
          155032.4943990471,
          173606.59626079458,
          187457.201410708,
          200614.92773446618,
          147327.6427131531,
          137439.2066460978,
          141828.6231541308,
          103320.96087777911,
          171836.61635083935,
          124953.07926145836,
          129261.14379396602,
          195675.06200939245,
          147973.51309556526,
          110655.04118121564,
          167443.96983729766,
          156281.93448469607,
          147302.67419297126,
          199914.06723804207,
          139935.04711311578,
          110725.48446723216,
          128113.56852612238,
          350065.71209686407,
          174304.5595918564,
          167223.380242942,
          112743.6432590235,
          167094.00172593867,
          161744.58923204665,
          216608.00458593396,
          209504.3695641177,
          148151.60850939478,
          190830.27725805744,
          240717.53656344925,
          220442.91531560651,
          247062.10884383082,
          281583.8115295783,
          134605.49908391168,
          171564.1473495283,
          118555.87884836306,
          134417.19326509346,
          184504.94925382012,
          239510.5143953424,
          207352.34531471183,
          112191.67336906225,
          128761.25192747788,
          149709.960072959,
          173597.9920788106,
          128598.03023480588,
          198255.98455807284,
          348286.09576944273,
          156010.8171002243,
          121782.10318567845,
          156861.74977803518,
          138671.04877693733,
          172688.06524352747,
          135386.44730135874,
          127397.72364152766,
          173408.0803794015,
          376277.9092165267,
          150478.70718755128,
          140532.0801321229,
          159983.30946536202,
          280810.6453296125,
          124928.79373414087,
          161938.05157522787,
          147593.24250911645,
          129004.74898310562,
          133617.6202755347,
          111548.99500722699,
          244507.94106213973,
          216295.10845805085,
          209519.54403984043,
          177084.87048744655,
          339685.1493698465,
          267556.21062154206,
          114429.59009096578,
          123084.04287695266,
          187241.0699642702,
          200913.08751360947,
          131145.9795709925,
          131332.08368813625,
          138091.070890016,
          145225.46423062694,
          154008.4460501992,
          99678.6196499289,
          187519.8135165497,
          124182.17787528779,
          133930.64451137034,
          210817.73488849204,
          130348.65582028453,
          121727.95152448695,
          178878.29836453326,
          182344.30250314384,
          187763.05966545682,
          132288.97814527812,
          167647.91653243048,
          242519.96209277073,
          310019.15599602007,
          110737.25993372298,
          120401.29930549805,
          99410.60216583985,
          175144.40777052005,
          142546.19407552909,
          138182.75808617548,
          127773.22959223027,
          227770.90309796992,
          134244.85158475625,
          148409.83314327282,
          212848.42338551383,
          131212.89961126592,
          115044.85077844135,
          173070.65304958582,
          164551.27914779066,
          148922.0273221738,
          163721.94733240028,
          128469.21456693979,
          138375.9718359169,
          226621.34852522166,
          285176.30327582924,
          319612.92290591495,
          259969.2855923694,
          193766.4109435077,
          134804.41157541817,
          240717.53656344925,
          125964.20857322682,
          184180.86583011065,
          124012.45185502832,
          155456.74340761412,
          133860.62209493545,
          142879.8350039572,
          184814.31954775826,
          105553.51924468677,
          490348.86462902266,
          177163.43488177875,
          182481.0093390616,
          174521.1850811869,
          167351.296176107,
          109192.27684504354,
          185014.19609315982,
          344618.0847213544,
          172250.10513796617,
          296713.1780437975,
          185168.75865646702,
          176381.32327823385,
          117179.66328671179,
          241011.06203501782,
          219915.77059147923,
          349721.06286350754,
          118515.28527166149,
          103838.94563142597,
          261919.4515315359,
          202387.81230530108,
          239948.740653996,
          238310.509351505,
          244716.53070710407,
          112789.4793656234,
          354012.13613157504,
          122849.66495158248,
          194849.15362833443,
          213238.24073646538,
          151134.61947395798,
          138379.84051437842,
          156010.8171002243,
          125964.70637635584,
          122960.27882382474,
          272920.575646212,
          130796.98664104471,
          153607.8190534716,
          125185.41926700786,
          185737.29109159057,
          107975.78396831265,
          184480.07749304557,
          134133.9437713666,
          166355.91982379562,
          78636.24554822072,
          305518.4258757585,
          131343.1736424207,
          187724.8784464535,
          126216.47583146777,
          135385.0871556952,
          308562.84459998267,
          83102.24522663085,
          336628.25920320954,
          190217.24618138565,
          185204.57638983766,
          337075.2693957084,
          175957.76718384062,
          152576.7914999917,
          175369.5896733448,
          131717.3205139562,
          123432.92195472558,
          122812.3150526094,
          124844.14063116722,
          120557.91524553641,
          128324.73497770423,
          121787.07715464053,
          157477.24231506023,
          167231.60681450553,
          110726.29411759744,
          166581.91734496708,
          287307.9196264922,
          171942.48207678055,
          209475.08876752688,
          162745.47808929614,
          200853.91438098374,
          139519.85310145642,
          124876.2199837144,
          130521.92618123052,
          130329.66309620441,
          155500.67254381208,
          192345.70443537273,
          165145.14251824905,
          181330.43973574805,
          121412.41284720687,
          184644.41014207434,
          119260.63732504188,
          142855.93116665338,
          165309.15028321743,
          174512.10454999757,
          231440.3631819692,
          180450.6155703618,
          120161.73203858531,
          248260.81565748688,
          107247.2083417814,
          241561.194099326,
          144078.77533035036,
          422007.2625012769,
          210237.085524353,
          182058.78036852044,
          148138.74211468507,
          333550.3736212126,
          106689.41529454282,
          139601.53558085565,
          129563.98046166444,
          301909.21401863673,
          204156.73444532673,
          282570.9540431946,
          81460.36948069624,
          146244.49733595055,
          223572.43945675463,
          172240.88080898323,
          160785.95191040586,
          342315.22802654083,
          136441.32520551773,
          128047.19140463942,
          118276.76401914051,
          173280.79028448436,
          144623.54351474677,
          141722.09023653922,
          128012.54839592094,
          139961.39337446942,
          205411.89453323634,
          132913.6329310263,
          148404.6112241348,
          142363.33859580365,
          131487.79180608902,
          167027.71475757606,
          294239.3535899376,
          248690.95057601007,
          380210.6397949185,
          188513.1210007883,
          144541.41812604107,
          130969.42413467808,
          197999.05163006776,
          123004.12724582272,
          121020.94584910308,
          134712.55104762877,
          139094.6717615721,
          113958.49770070719,
          192674.00368587967,
          112021.87027532917,
          301011.3184893982,
          235855.00807183562,
          395129.440320481,
          172093.46897785508,
          352267.1674576556,
          138389.7953053821,
          217904.8129586021,
          144635.74101251338,
          157253.97135454734,
          148159.04705809377,
          174193.70937771554,
          110466.76317248029,
          129930.8128688146,
          491392.3393932736,
          164533.9781670381,
          488645.10329158907,
          299533.25598226895,
          177107.32596825864,
          226213.85454085458,
          140735.28040312216,
          110655.04118121564,
          157424.2393637283,
          120361.46791330203,
          361627.7109276224,
          114281.08151390545,
          250328.0933783584,
          128875.91910981364,
          149822.74541076118,
          102932.91386874503,
          128793.4024711308,
          126716.90281031914,
          241720.6802835992,
          130417.3453974364,
          173462.4022636835,
          113463.61529493218,
          228033.93949501065,
          129773.71648186493,
          190689.137710451,
          76830.32084595964,
          142912.7164606488,
          203497.72051492854,
          247670.07164811392,
          390076.5354604824,
          338821.04172446055,
          117574.76585293465,
          160009.19086249798,
          206917.7792456856,
          244402.91402810847,
          136893.00177347235,
          309795.89699129865,
          242596.68465207846,
          196729.84055693477,
          120938.52462254773,
          174620.43114485877,
          95547.83073024795,
          185985.23230649324,
          171542.36369267537,
          199104.71840700269,
          111452.5738476089,
          307054.52247332566,
          157976.1989502525,
          125007.22116099948,
          147175.6023845042,
          108490.02603774497,
          127283.24524083493,
          179769.06029651596,
          144057.87126423934,
          148191.65869080633,
          245238.29512056388,
          118342.57618402102,
          223116.4258301802,
          122723.45708262031,
          116023.13264550343,
          244438.3736412355,
          145441.71726220724,
          271264.1938069299,
          152206.112811874,
          166207.88704820018,
          205738.53992832502,
          141905.23144533514,
          316709.3938144106,
          110515.7574847073,
          174340.49500810195,
          162291.8257698699,
          196491.41649726787,
          137765.11619647482,
          161559.32779444908,
          141615.2057244415,
          139153.72237666312,
          140376.15799247893,
          148183.89601568563,
          165230.04819777183,
          449283.36766057735,
          141127.6502439286,
          162643.57464405173,
          395808.1605385373,
          137600.32866683434,
          172742.49269619957,
          253427.76261689412,
          90874.67715300721,
          130746.50762490615,
          130251.58002787404,
          158596.09867214662,
          152336.1116679657,
          150652.78922380696,
          217746.38972122179,
          115170.79131316849,
          127385.10870560269,
          174642.23825626244,
          155161.57884607246,
          133098.27764341372,
          131586.19414135447,
          206370.5759670097,
          169069.22432398843,
          144162.01966066565,
          172821.06204668016,
          113463.2154734973,
          105746.29301558572,
          316181.57441827777,
          161460.30472963757,
          118361.2616016548,
          108549.28981341881,
          148964.6533879727,
          274918.2789528002,
          148709.8071202397,
          264370.2999800079,
          104682.39902286106,
          162801.74546300745,
          290067.5906874675,
          477208.67089220334,
          120398.34914842669,
          154654.0653849153,
          131320.63120142499,
          127889.41383670874,
          129708.833868422,
          118766.65656218816,
          331688.3785167341,
          171591.23680245873,
          108261.33334716297,
          224489.779267077,
          192008.22136000398,
          122988.55230418136,
          94292.67875231382,
          342461.403742351,
          294558.69935092673,
          105385.82852685738,
          300035.58477015275,
          210564.57873941847,
          139108.54244796722,
          145046.74434975255,
          203018.14655855525,
          126255.83072577359,
          123429.16072747881,
          146241.26926300008,
          215016.69535484994,
          133238.96782876586,
          200293.24043225986,
          126899.09264872086,
          104854.22406974756,
          110655.04118121564,
          442432.1701012527,
          183690.56788096658,
          101529.92366261924,
          131209.8100741278,
          125440.64515780802,
          172414.66993717704,
          145198.95498041398,
          136493.0742126993,
          146536.91300705317,
          215263.87997158355,
          141528.99957840182,
          174352.80323929887,
          236844.97047746842,
          142748.46937443415,
          153311.7688707037,
          463777.86910559714,
          136744.77819531644,
          174760.27160900287,
          182800.00011758125,
          137833.7148602272,
          152321.06225511228,
          109323.45449962854,
          156519.0196704273,
          136207.51645015884,
          130531.2239721356,
          88591.73199042851,
          347156.4070198689,
          285799.53152225586,
          388952.84443411394,
          149741.20688404338,
          119110.32588126109,
          309370.76619848236,
          159579.27174671233,
          248033.51930537604,
          185080.99086780622,
          167837.9661036241,
          185737.1189500212,
          166161.0193401907,
          298794.919873723,
          373923.49180130154,
          278272.3225633048,
          154295.34770182564,
          128763.82606498657,
          184246.21043859996,
          97929.30533580501,
          144699.2923729726,
          132001.2406597274,
          118011.39779136315,
          211995.965444804,
          218935.1560870376,
          207604.12657410183,
          352233.1380238584,
          137907.19896406116,
          116536.11179015694,
          156061.13991432014,
          102681.55814750641,
          140282.0473639882,
          102041.14135307305,
          217872.3658525327,
          123322.39493878956,
          188484.1862876948,
          237054.93849217793,
          148371.73262907044,
          459008.06800747046,
          133136.18371296977,
          223264.9358824773,
          89672.54676454094,
          300141.3792195325,
          119304.60742212259,
          160820.1287821631,
          395480.5141650189,
          134310.69658083288,
          172009.20014521916,
          215500.7110236325,
          167389.55521464348,
          147065.96929492117,
          187061.32750060817,
          323557.9498869537,
          190560.18308819752,
          198750.63730884585,
          173949.51647814986,
          151016.25805494902,
          181653.03745694732,
          339368.35154901707,
          278516.90894344106,
          126417.68589981174,
          222324.16399165397,
          229593.51721067273,
          129661.66162663793,
          162708.69880969488,
          158313.9489944115,
          135096.1721261631,
          287515.66707628575,
          151191.8758029786,
          126474.93945635098,
          415211.91058730386,
          232579.92979347013,
          170241.87420555658,
          125079.49463631203,
          204226.32340722284,
          156682.88108893362,
          163619.70007053768,
          112480.40462499637,
          300119.2691926407,
          125200.53046686474,
          132431.27994187764,
          150425.44375438069,
          133635.5183541282,
          498124.18475421635,
          228608.11444575418,
          139293.91453419768,
          185187.1723217047,
          186840.27666441168,
          125872.03152237803,
          127088.32091534052,
          134090.30948480437,
          193484.03494503844,
          132947.66138465653,
          215438.65370528048,
          110304.436237213,
          172422.7941399948,
          187369.0049527756,
          154358.814196502,
          136639.11806355664,
          158757.1493373945,
          177106.7435901949,
          122609.1080507052,
          131347.67924854637,
          149916.63147168444,
          139992.06506719548,
          286685.94012533955,
          143314.69691884675,
          132366.98838131997,
          309721.714848672,
          99488.91057549677,
          133977.15725281736,
          120116.36969970337,
          168718.74157808893,
          245309.28805372695,
          80509.93623900547
         ]
        }
       ],
       "layout": {
        "barmode": "overlay",
        "template": {
         "data": {
          "bar": [
           {
            "error_x": {
             "color": "#2a3f5f"
            },
            "error_y": {
             "color": "#2a3f5f"
            },
            "marker": {
             "line": {
              "color": "#E5ECF6",
              "width": 0.5
             },
             "pattern": {
              "fillmode": "overlay",
              "size": 10,
              "solidity": 0.2
             }
            },
            "type": "bar"
           }
          ],
          "barpolar": [
           {
            "marker": {
             "line": {
              "color": "#E5ECF6",
              "width": 0.5
             },
             "pattern": {
              "fillmode": "overlay",
              "size": 10,
              "solidity": 0.2
             }
            },
            "type": "barpolar"
           }
          ],
          "carpet": [
           {
            "aaxis": {
             "endlinecolor": "#2a3f5f",
             "gridcolor": "white",
             "linecolor": "white",
             "minorgridcolor": "white",
             "startlinecolor": "#2a3f5f"
            },
            "baxis": {
             "endlinecolor": "#2a3f5f",
             "gridcolor": "white",
             "linecolor": "white",
             "minorgridcolor": "white",
             "startlinecolor": "#2a3f5f"
            },
            "type": "carpet"
           }
          ],
          "choropleth": [
           {
            "colorbar": {
             "outlinewidth": 0,
             "ticks": ""
            },
            "type": "choropleth"
           }
          ],
          "contour": [
           {
            "colorbar": {
             "outlinewidth": 0,
             "ticks": ""
            },
            "colorscale": [
             [
              0,
              "#0d0887"
             ],
             [
              0.1111111111111111,
              "#46039f"
             ],
             [
              0.2222222222222222,
              "#7201a8"
             ],
             [
              0.3333333333333333,
              "#9c179e"
             ],
             [
              0.4444444444444444,
              "#bd3786"
             ],
             [
              0.5555555555555556,
              "#d8576b"
             ],
             [
              0.6666666666666666,
              "#ed7953"
             ],
             [
              0.7777777777777778,
              "#fb9f3a"
             ],
             [
              0.8888888888888888,
              "#fdca26"
             ],
             [
              1,
              "#f0f921"
             ]
            ],
            "type": "contour"
           }
          ],
          "contourcarpet": [
           {
            "colorbar": {
             "outlinewidth": 0,
             "ticks": ""
            },
            "type": "contourcarpet"
           }
          ],
          "heatmap": [
           {
            "colorbar": {
             "outlinewidth": 0,
             "ticks": ""
            },
            "colorscale": [
             [
              0,
              "#0d0887"
             ],
             [
              0.1111111111111111,
              "#46039f"
             ],
             [
              0.2222222222222222,
              "#7201a8"
             ],
             [
              0.3333333333333333,
              "#9c179e"
             ],
             [
              0.4444444444444444,
              "#bd3786"
             ],
             [
              0.5555555555555556,
              "#d8576b"
             ],
             [
              0.6666666666666666,
              "#ed7953"
             ],
             [
              0.7777777777777778,
              "#fb9f3a"
             ],
             [
              0.8888888888888888,
              "#fdca26"
             ],
             [
              1,
              "#f0f921"
             ]
            ],
            "type": "heatmap"
           }
          ],
          "heatmapgl": [
           {
            "colorbar": {
             "outlinewidth": 0,
             "ticks": ""
            },
            "colorscale": [
             [
              0,
              "#0d0887"
             ],
             [
              0.1111111111111111,
              "#46039f"
             ],
             [
              0.2222222222222222,
              "#7201a8"
             ],
             [
              0.3333333333333333,
              "#9c179e"
             ],
             [
              0.4444444444444444,
              "#bd3786"
             ],
             [
              0.5555555555555556,
              "#d8576b"
             ],
             [
              0.6666666666666666,
              "#ed7953"
             ],
             [
              0.7777777777777778,
              "#fb9f3a"
             ],
             [
              0.8888888888888888,
              "#fdca26"
             ],
             [
              1,
              "#f0f921"
             ]
            ],
            "type": "heatmapgl"
           }
          ],
          "histogram": [
           {
            "marker": {
             "pattern": {
              "fillmode": "overlay",
              "size": 10,
              "solidity": 0.2
             }
            },
            "type": "histogram"
           }
          ],
          "histogram2d": [
           {
            "colorbar": {
             "outlinewidth": 0,
             "ticks": ""
            },
            "colorscale": [
             [
              0,
              "#0d0887"
             ],
             [
              0.1111111111111111,
              "#46039f"
             ],
             [
              0.2222222222222222,
              "#7201a8"
             ],
             [
              0.3333333333333333,
              "#9c179e"
             ],
             [
              0.4444444444444444,
              "#bd3786"
             ],
             [
              0.5555555555555556,
              "#d8576b"
             ],
             [
              0.6666666666666666,
              "#ed7953"
             ],
             [
              0.7777777777777778,
              "#fb9f3a"
             ],
             [
              0.8888888888888888,
              "#fdca26"
             ],
             [
              1,
              "#f0f921"
             ]
            ],
            "type": "histogram2d"
           }
          ],
          "histogram2dcontour": [
           {
            "colorbar": {
             "outlinewidth": 0,
             "ticks": ""
            },
            "colorscale": [
             [
              0,
              "#0d0887"
             ],
             [
              0.1111111111111111,
              "#46039f"
             ],
             [
              0.2222222222222222,
              "#7201a8"
             ],
             [
              0.3333333333333333,
              "#9c179e"
             ],
             [
              0.4444444444444444,
              "#bd3786"
             ],
             [
              0.5555555555555556,
              "#d8576b"
             ],
             [
              0.6666666666666666,
              "#ed7953"
             ],
             [
              0.7777777777777778,
              "#fb9f3a"
             ],
             [
              0.8888888888888888,
              "#fdca26"
             ],
             [
              1,
              "#f0f921"
             ]
            ],
            "type": "histogram2dcontour"
           }
          ],
          "mesh3d": [
           {
            "colorbar": {
             "outlinewidth": 0,
             "ticks": ""
            },
            "type": "mesh3d"
           }
          ],
          "parcoords": [
           {
            "line": {
             "colorbar": {
              "outlinewidth": 0,
              "ticks": ""
             }
            },
            "type": "parcoords"
           }
          ],
          "pie": [
           {
            "automargin": true,
            "type": "pie"
           }
          ],
          "scatter": [
           {
            "fillpattern": {
             "fillmode": "overlay",
             "size": 10,
             "solidity": 0.2
            },
            "type": "scatter"
           }
          ],
          "scatter3d": [
           {
            "line": {
             "colorbar": {
              "outlinewidth": 0,
              "ticks": ""
             }
            },
            "marker": {
             "colorbar": {
              "outlinewidth": 0,
              "ticks": ""
             }
            },
            "type": "scatter3d"
           }
          ],
          "scattercarpet": [
           {
            "marker": {
             "colorbar": {
              "outlinewidth": 0,
              "ticks": ""
             }
            },
            "type": "scattercarpet"
           }
          ],
          "scattergeo": [
           {
            "marker": {
             "colorbar": {
              "outlinewidth": 0,
              "ticks": ""
             }
            },
            "type": "scattergeo"
           }
          ],
          "scattergl": [
           {
            "marker": {
             "colorbar": {
              "outlinewidth": 0,
              "ticks": ""
             }
            },
            "type": "scattergl"
           }
          ],
          "scattermapbox": [
           {
            "marker": {
             "colorbar": {
              "outlinewidth": 0,
              "ticks": ""
             }
            },
            "type": "scattermapbox"
           }
          ],
          "scatterpolar": [
           {
            "marker": {
             "colorbar": {
              "outlinewidth": 0,
              "ticks": ""
             }
            },
            "type": "scatterpolar"
           }
          ],
          "scatterpolargl": [
           {
            "marker": {
             "colorbar": {
              "outlinewidth": 0,
              "ticks": ""
             }
            },
            "type": "scatterpolargl"
           }
          ],
          "scatterternary": [
           {
            "marker": {
             "colorbar": {
              "outlinewidth": 0,
              "ticks": ""
             }
            },
            "type": "scatterternary"
           }
          ],
          "surface": [
           {
            "colorbar": {
             "outlinewidth": 0,
             "ticks": ""
            },
            "colorscale": [
             [
              0,
              "#0d0887"
             ],
             [
              0.1111111111111111,
              "#46039f"
             ],
             [
              0.2222222222222222,
              "#7201a8"
             ],
             [
              0.3333333333333333,
              "#9c179e"
             ],
             [
              0.4444444444444444,
              "#bd3786"
             ],
             [
              0.5555555555555556,
              "#d8576b"
             ],
             [
              0.6666666666666666,
              "#ed7953"
             ],
             [
              0.7777777777777778,
              "#fb9f3a"
             ],
             [
              0.8888888888888888,
              "#fdca26"
             ],
             [
              1,
              "#f0f921"
             ]
            ],
            "type": "surface"
           }
          ],
          "table": [
           {
            "cells": {
             "fill": {
              "color": "#EBF0F8"
             },
             "line": {
              "color": "white"
             }
            },
            "header": {
             "fill": {
              "color": "#C8D4E3"
             },
             "line": {
              "color": "white"
             }
            },
            "type": "table"
           }
          ]
         },
         "layout": {
          "annotationdefaults": {
           "arrowcolor": "#2a3f5f",
           "arrowhead": 0,
           "arrowwidth": 1
          },
          "autotypenumbers": "strict",
          "coloraxis": {
           "colorbar": {
            "outlinewidth": 0,
            "ticks": ""
           }
          },
          "colorscale": {
           "diverging": [
            [
             0,
             "#8e0152"
            ],
            [
             0.1,
             "#c51b7d"
            ],
            [
             0.2,
             "#de77ae"
            ],
            [
             0.3,
             "#f1b6da"
            ],
            [
             0.4,
             "#fde0ef"
            ],
            [
             0.5,
             "#f7f7f7"
            ],
            [
             0.6,
             "#e6f5d0"
            ],
            [
             0.7,
             "#b8e186"
            ],
            [
             0.8,
             "#7fbc41"
            ],
            [
             0.9,
             "#4d9221"
            ],
            [
             1,
             "#276419"
            ]
           ],
           "sequential": [
            [
             0,
             "#0d0887"
            ],
            [
             0.1111111111111111,
             "#46039f"
            ],
            [
             0.2222222222222222,
             "#7201a8"
            ],
            [
             0.3333333333333333,
             "#9c179e"
            ],
            [
             0.4444444444444444,
             "#bd3786"
            ],
            [
             0.5555555555555556,
             "#d8576b"
            ],
            [
             0.6666666666666666,
             "#ed7953"
            ],
            [
             0.7777777777777778,
             "#fb9f3a"
            ],
            [
             0.8888888888888888,
             "#fdca26"
            ],
            [
             1,
             "#f0f921"
            ]
           ],
           "sequentialminus": [
            [
             0,
             "#0d0887"
            ],
            [
             0.1111111111111111,
             "#46039f"
            ],
            [
             0.2222222222222222,
             "#7201a8"
            ],
            [
             0.3333333333333333,
             "#9c179e"
            ],
            [
             0.4444444444444444,
             "#bd3786"
            ],
            [
             0.5555555555555556,
             "#d8576b"
            ],
            [
             0.6666666666666666,
             "#ed7953"
            ],
            [
             0.7777777777777778,
             "#fb9f3a"
            ],
            [
             0.8888888888888888,
             "#fdca26"
            ],
            [
             1,
             "#f0f921"
            ]
           ]
          },
          "colorway": [
           "#636efa",
           "#EF553B",
           "#00cc96",
           "#ab63fa",
           "#FFA15A",
           "#19d3f3",
           "#FF6692",
           "#B6E880",
           "#FF97FF",
           "#FECB52"
          ],
          "font": {
           "color": "#2a3f5f"
          },
          "geo": {
           "bgcolor": "white",
           "lakecolor": "white",
           "landcolor": "#E5ECF6",
           "showlakes": true,
           "showland": true,
           "subunitcolor": "white"
          },
          "hoverlabel": {
           "align": "left"
          },
          "hovermode": "closest",
          "mapbox": {
           "style": "light"
          },
          "paper_bgcolor": "white",
          "plot_bgcolor": "#E5ECF6",
          "polar": {
           "angularaxis": {
            "gridcolor": "white",
            "linecolor": "white",
            "ticks": ""
           },
           "bgcolor": "#E5ECF6",
           "radialaxis": {
            "gridcolor": "white",
            "linecolor": "white",
            "ticks": ""
           }
          },
          "scene": {
           "xaxis": {
            "backgroundcolor": "#E5ECF6",
            "gridcolor": "white",
            "gridwidth": 2,
            "linecolor": "white",
            "showbackground": true,
            "ticks": "",
            "zerolinecolor": "white"
           },
           "yaxis": {
            "backgroundcolor": "#E5ECF6",
            "gridcolor": "white",
            "gridwidth": 2,
            "linecolor": "white",
            "showbackground": true,
            "ticks": "",
            "zerolinecolor": "white"
           },
           "zaxis": {
            "backgroundcolor": "#E5ECF6",
            "gridcolor": "white",
            "gridwidth": 2,
            "linecolor": "white",
            "showbackground": true,
            "ticks": "",
            "zerolinecolor": "white"
           }
          },
          "shapedefaults": {
           "line": {
            "color": "#2a3f5f"
           }
          },
          "ternary": {
           "aaxis": {
            "gridcolor": "white",
            "linecolor": "white",
            "ticks": ""
           },
           "baxis": {
            "gridcolor": "white",
            "linecolor": "white",
            "ticks": ""
           },
           "bgcolor": "#E5ECF6",
           "caxis": {
            "gridcolor": "white",
            "linecolor": "white",
            "ticks": ""
           }
          },
          "title": {
           "x": 0.05
          },
          "xaxis": {
           "automargin": true,
           "gridcolor": "white",
           "linecolor": "white",
           "ticks": "",
           "title": {
            "standoff": 15
           },
           "zerolinecolor": "white",
           "zerolinewidth": 2
          },
          "yaxis": {
           "automargin": true,
           "gridcolor": "white",
           "linecolor": "white",
           "ticks": "",
           "title": {
            "standoff": 15
           },
           "zerolinecolor": "white",
           "zerolinewidth": 2
          }
         }
        },
        "title": {
         "text": "Overlay of Actual and Predicted Values"
        },
        "xaxis": {
         "title": {
          "text": "Values"
         }
        },
        "yaxis": {
         "title": {
          "text": "Count"
         }
        }
       }
      }
     },
     "metadata": {},
     "output_type": "display_data"
    }
   ],
   "source": [
    "import plotly.graph_objs as go\n",
    "import plotly.offline as pyo\n",
    "\n",
    "# Creating the histograms\n",
    "trace1 = go.Histogram(x=y_test, opacity=0.75, name=\"Actual\")\n",
    "trace2 = go.Histogram(x=y_pred, opacity=0.75, name=\"Predicted\")\n",
    "\n",
    "data = [trace1, trace2]\n",
    "\n",
    "layout = go.Layout(\n",
    "    title=\"Overlay of Actual and Predicted Values\",\n",
    "    xaxis=dict(title=\"Values\"),\n",
    "    yaxis=dict(title=\"Count\"),\n",
    "    barmode=\"overlay\",\n",
    ")\n",
    "\n",
    "fig = go.Figure(data=data, layout=layout)\n",
    "\n",
    "# Show the plot\n",
    "pyo.iplot(fig)"
   ]
  },
  {
   "cell_type": "code",
   "execution_count": null,
   "id": "84fd0e7f",
   "metadata": {},
   "outputs": [],
   "source": []
  }
 ],
 "metadata": {
  "kernelspec": {
   "display_name": "env_ds",
   "language": "python",
   "name": "python3"
  },
  "language_info": {
   "codemirror_mode": {
    "name": "ipython",
    "version": 3
   },
   "file_extension": ".py",
   "mimetype": "text/x-python",
   "name": "python",
   "nbconvert_exporter": "python",
   "pygments_lexer": "ipython3",
   "version": "3.10.13"
  }
 },
 "nbformat": 4,
 "nbformat_minor": 5
}
